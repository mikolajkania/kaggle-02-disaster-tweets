{
 "cells": [
  {
   "cell_type": "markdown",
   "metadata": {
    "pycharm": {
     "name": "#%% md\n"
    }
   },
   "source": [
    "## BERT\n",
    "\n",
    "Based on findings from LSTM notebook. Small bert with Tensorflow preprocessing & encoding layers used.\n",
    "As it was trained on Windows, nightly builds were used (look into requirements_bert.txt).\n",
    "\n",
    "Due to small dataset only two sets are present (train & test, no validation set)."
   ]
  },
  {
   "cell_type": "code",
   "execution_count": 16,
   "metadata": {
    "pycharm": {
     "name": "#%%\n"
    }
   },
   "outputs": [
    {
     "name": "stdout",
     "output_type": "stream",
     "text": [
      "The autoreload extension is already loaded. To reload it, use:\n",
      "  %reload_ext autoreload\n"
     ]
    }
   ],
   "source": [
    "%load_ext autoreload\n",
    "%autoreload 2\n",
    "\n",
    "import itertools\n",
    "\n",
    "import numpy as np\n",
    "import pandas as pd\n",
    "import tensorflow as tf\n",
    "import matplotlib.pyplot as plt\n",
    "\n",
    "# text must be loaded for hub to work!\n",
    "import tensorflow_text as text\n",
    "import tensorflow_hub as hub\n",
    "from sklearn.model_selection import train_test_split, StratifiedKFold\n",
    "from sklearn.metrics import confusion_matrix, classification_report\n",
    "from tensorflow.keras import layers\n",
    "from official.nlp import optimization\n",
    "\n",
    "np.random.seed(42)\n",
    "\n",
    "physical_devices = tf.config.list_physical_devices('GPU')"
   ]
  },
  {
   "cell_type": "markdown",
   "metadata": {
    "pycharm": {
     "name": "#%% md\n"
    }
   },
   "source": [
    "## Loading data"
   ]
  },
  {
   "cell_type": "code",
   "execution_count": 17,
   "metadata": {
    "pycharm": {
     "name": "#%%\n"
    }
   },
   "outputs": [
    {
     "data": {
      "text/html": [
       "<div>\n",
       "<style scoped>\n",
       "    .dataframe tbody tr th:only-of-type {\n",
       "        vertical-align: middle;\n",
       "    }\n",
       "\n",
       "    .dataframe tbody tr th {\n",
       "        vertical-align: top;\n",
       "    }\n",
       "\n",
       "    .dataframe thead th {\n",
       "        text-align: right;\n",
       "    }\n",
       "</style>\n",
       "<table border=\"1\" class=\"dataframe\">\n",
       "  <thead>\n",
       "    <tr style=\"text-align: right;\">\n",
       "      <th></th>\n",
       "      <th>id</th>\n",
       "      <th>keyword</th>\n",
       "      <th>location</th>\n",
       "      <th>text</th>\n",
       "      <th>target</th>\n",
       "    </tr>\n",
       "  </thead>\n",
       "  <tbody>\n",
       "    <tr>\n",
       "      <th>0</th>\n",
       "      <td>1</td>\n",
       "      <td>NaN</td>\n",
       "      <td>NaN</td>\n",
       "      <td>Our Deeds are the Reason of this #earthquake M...</td>\n",
       "      <td>1</td>\n",
       "    </tr>\n",
       "    <tr>\n",
       "      <th>1</th>\n",
       "      <td>4</td>\n",
       "      <td>NaN</td>\n",
       "      <td>NaN</td>\n",
       "      <td>Forest fire near La Ronge Sask. Canada</td>\n",
       "      <td>1</td>\n",
       "    </tr>\n",
       "    <tr>\n",
       "      <th>2</th>\n",
       "      <td>5</td>\n",
       "      <td>NaN</td>\n",
       "      <td>NaN</td>\n",
       "      <td>All residents asked to 'shelter in place' are ...</td>\n",
       "      <td>1</td>\n",
       "    </tr>\n",
       "  </tbody>\n",
       "</table>\n",
       "</div>"
      ],
      "text/plain": [
       "   id keyword location                                               text  \\\n",
       "0   1     NaN      NaN  Our Deeds are the Reason of this #earthquake M...   \n",
       "1   4     NaN      NaN             Forest fire near La Ronge Sask. Canada   \n",
       "2   5     NaN      NaN  All residents asked to 'shelter in place' are ...   \n",
       "\n",
       "   target  \n",
       "0       1  \n",
       "1       1  \n",
       "2       1  "
      ]
     },
     "execution_count": 17,
     "metadata": {},
     "output_type": "execute_result"
    }
   ],
   "source": [
    "train_df = pd.read_csv('../data/train.csv', encoding='utf-8', warn_bad_lines=True, error_bad_lines=False)\n",
    "test_df = pd.read_csv('../data/test.csv', encoding='utf-8', warn_bad_lines=True, error_bad_lines=False)\n",
    "\n",
    "train_df[:3]"
   ]
  },
  {
   "cell_type": "markdown",
   "metadata": {
    "pycharm": {
     "name": "#%% md\n"
    }
   },
   "source": [
    "## Data split"
   ]
  },
  {
   "cell_type": "code",
   "execution_count": 18,
   "metadata": {
    "pycharm": {
     "name": "#%%\n"
    }
   },
   "outputs": [
    {
     "data": {
      "text/plain": [
       "0    Our Deeds are the Reason of this #earthquake M...\n",
       "1               Forest fire near La Ronge Sask. Canada\n",
       "2    All residents asked to 'shelter in place' are ...\n",
       "Name: text, dtype: object"
      ]
     },
     "execution_count": 18,
     "metadata": {},
     "output_type": "execute_result"
    }
   ],
   "source": [
    "X_all = train_df['text']\n",
    "y_all = train_df['target']\n",
    "\n",
    "X_all[:3]"
   ]
  },
  {
   "cell_type": "code",
   "execution_count": 19,
   "metadata": {
    "pycharm": {
     "name": "#%%\n"
    }
   },
   "outputs": [
    {
     "data": {
      "text/plain": [
       "array(['Our Deeds are the Reason of this #earthquake May ALLAH Forgive us all',\n",
       "       'Forest fire near La Ronge Sask. Canada',\n",
       "       \"All residents asked to 'shelter in place' are being notified by officers. No other evacuation or shelter in place orders are expected\"],\n",
       "      dtype=object)"
      ]
     },
     "execution_count": 19,
     "metadata": {},
     "output_type": "execute_result"
    }
   ],
   "source": [
    "X = X_all.to_numpy()\n",
    "y = y_all.to_numpy()\n",
    "\n",
    "X[:3]"
   ]
  },
  {
   "cell_type": "code",
   "execution_count": 20,
   "metadata": {
    "pycharm": {
     "name": "#%%\n"
    }
   },
   "outputs": [
    {
     "data": {
      "text/plain": [
       "array(['Courageous and honest analysis of need to use Atomic Bomb in 1945. #Hiroshima70 Japanese military refused surrender. https://t.co/VhmtyTptGR',\n",
       "       '@ZachZaidman @670TheScore wld b a shame if that golf cart became engulfed in flames. #boycottBears',\n",
       "       \"Tell @BarackObama to rescind medals of 'honor' given to US soldiers at the Massacre of Wounded Knee. SIGN NOW &amp; RT! https://t.co/u4r8dRiuAc\"],\n",
       "      dtype=object)"
      ]
     },
     "execution_count": 20,
     "metadata": {},
     "output_type": "execute_result"
    }
   ],
   "source": [
    "X_train, X_test, y_train, y_test = train_test_split(X, y, test_size=0.2, random_state=42)\n",
    "\n",
    "X_train[:3]"
   ]
  },
  {
   "cell_type": "code",
   "execution_count": 21,
   "metadata": {},
   "outputs": [
    {
     "data": {
      "text/plain": [
       "<TakeDataset shapes: ((), ()), types: (tf.string, tf.int64)>"
      ]
     },
     "execution_count": 21,
     "metadata": {},
     "output_type": "execute_result"
    }
   ],
   "source": [
    "train_dataset = tf.data.Dataset.from_tensor_slices((X_train, y_train))\n",
    "test_dataset = tf.data.Dataset.from_tensor_slices((X_test, y_test))\n",
    "\n",
    "train_dataset.take(1)"
   ]
  },
  {
   "cell_type": "markdown",
   "metadata": {
    "pycharm": {
     "name": "#%% md\n"
    }
   },
   "source": [
    "## Building model"
   ]
  },
  {
   "cell_type": "code",
   "execution_count": 35,
   "metadata": {},
   "outputs": [],
   "source": [
    "preproces_url = \"https://tfhub.dev/tensorflow/bert_en_uncased_preprocess/3\"\n",
    "preprocessor = hub.KerasLayer(preproces_url, name='preprocessing')\n",
    "\n",
    "encoder_url = \"https://tfhub.dev/tensorflow/small_bert/bert_en_uncased_L-4_H-512_A-8/2\"\n",
    "encoder = hub.KerasLayer(encoder_url, trainable=True, name='BERT_encoder')"
   ]
  },
  {
   "cell_type": "code",
   "execution_count": 37,
   "metadata": {
    "pycharm": {
     "name": "#%%\n"
    },
    "scrolled": false
   },
   "outputs": [
    {
     "name": "stdout",
     "output_type": "stream",
     "text": [
      "Model: \"model_4\"\n",
      "__________________________________________________________________________________________________\n",
      "Layer (type)                    Output Shape         Param #     Connected to                     \n",
      "==================================================================================================\n",
      "text (InputLayer)               [(None,)]            0                                            \n",
      "__________________________________________________________________________________________________\n",
      "preprocessing (KerasLayer)      {'input_mask': (None 0           text[0][0]                       \n",
      "__________________________________________________________________________________________________\n",
      "BERT_encoder (KerasLayer)       {'default': (None, 5 28763649    preprocessing[0][0]              \n",
      "                                                                 preprocessing[0][1]              \n",
      "                                                                 preprocessing[0][2]              \n",
      "__________________________________________________________________________________________________\n",
      "dropout_4 (Dropout)             (None, 512)          0           BERT_encoder[0][5]               \n",
      "__________________________________________________________________________________________________\n",
      "classifier (Dense)              (None, 1)            513         dropout_4[0][0]                  \n",
      "==================================================================================================\n",
      "Total params: 28,764,162\n",
      "Trainable params: 28,764,161\n",
      "Non-trainable params: 1\n",
      "__________________________________________________________________________________________________\n"
     ]
    }
   ],
   "source": [
    "def build_model(preprocessor, encoder):\n",
    "    text_input = tf.keras.layers.Input(shape=(), dtype=tf.string, name='text')    \n",
    "    encoder_inputs = preprocessor(text_input)    \n",
    "    outputs = encoder(encoder_inputs)\n",
    "    net = outputs['pooled_output']\n",
    "    net = tf.keras.layers.Dropout(0.1)(net)\n",
    "    net = tf.keras.layers.Dense(1, activation=None, name='classifier')(net)\n",
    "    return tf.keras.Model(text_input, net)\n",
    "\n",
    "model = build_model(preprocessor, encoder)\n",
    "model.summary()"
   ]
  },
  {
   "cell_type": "code",
   "execution_count": 31,
   "metadata": {},
   "outputs": [],
   "source": [
    "BATCH_SIZE = 32\n",
    "epochs = 10\n",
    "\n",
    "def prepare_training_data(train_dataset, test_dataset, epochs):\n",
    "    train_dataset_batched = train_dataset.shuffle(100).batch(BATCH_SIZE)\n",
    "    test_dataset_batched = test_dataset.batch(BATCH_SIZE)\n",
    "\n",
    "    loss = tf.keras.losses.BinaryCrossentropy(from_logits=True)\n",
    "    metrics = tf.metrics.BinaryAccuracy()\n",
    "    \n",
    "    steps_per_epoch = tf.data.experimental.cardinality(train_dataset_batched).numpy()\n",
    "    num_train_steps = steps_per_epoch * epochs\n",
    "    num_warmup_steps = int(0.1*num_train_steps)\n",
    "\n",
    "    init_lr = 3e-5\n",
    "    optimizer = optimization.create_optimizer(init_lr=init_lr,\n",
    "                                              num_train_steps=num_train_steps,\n",
    "                                              num_warmup_steps=num_warmup_steps,\n",
    "                                              optimizer_type='adamw')\n",
    "    \n",
    "    return train_dataset_batched, test_dataset_batched, optimizer, loss, metrics\n",
    "\n",
    "\n",
    "train_dataset_batched, test_dataset_batched, optimizer, loss, metrics = prepare_training_data(train_dataset, test_dataset, epochs)"
   ]
  },
  {
   "cell_type": "code",
   "execution_count": 24,
   "metadata": {
    "pycharm": {
     "name": "#%%\n"
    },
    "scrolled": false
   },
   "outputs": [
    {
     "name": "stdout",
     "output_type": "stream",
     "text": [
      "Epoch 1/10\n",
      "191/191 [==============================] - 458s 2s/step - loss: 0.6226 - binary_accuracy: 0.6472 - val_loss: 0.4230 - val_binary_accuracy: 0.8227\n",
      "Epoch 2/10\n",
      "191/191 [==============================] - 450s 2s/step - loss: 0.4225 - binary_accuracy: 0.8175 - val_loss: 0.3955 - val_binary_accuracy: 0.8378\n",
      "Epoch 3/10\n",
      "191/191 [==============================] - 440s 2s/step - loss: 0.3333 - binary_accuracy: 0.8592 - val_loss: 0.4208 - val_binary_accuracy: 0.8339\n",
      "Epoch 4/10\n",
      "191/191 [==============================] - 430s 2s/step - loss: 0.2776 - binary_accuracy: 0.8904 - val_loss: 0.4736 - val_binary_accuracy: 0.8293\n",
      "Epoch 5/10\n",
      "191/191 [==============================] - 429s 2s/step - loss: 0.2145 - binary_accuracy: 0.9161 - val_loss: 0.5627 - val_binary_accuracy: 0.8234\n",
      "Epoch 6/10\n",
      "191/191 [==============================] - 431s 2s/step - loss: 0.1798 - binary_accuracy: 0.9298 - val_loss: 0.6099 - val_binary_accuracy: 0.8260\n",
      "Epoch 7/10\n",
      "191/191 [==============================] - 431s 2s/step - loss: 0.1448 - binary_accuracy: 0.9416 - val_loss: 0.6518 - val_binary_accuracy: 0.8253\n",
      "Epoch 8/10\n",
      "191/191 [==============================] - 429s 2s/step - loss: 0.1169 - binary_accuracy: 0.9532 - val_loss: 0.7670 - val_binary_accuracy: 0.7971\n",
      "Epoch 9/10\n",
      "191/191 [==============================] - 430s 2s/step - loss: 0.1061 - binary_accuracy: 0.9560 - val_loss: 0.7693 - val_binary_accuracy: 0.8089\n",
      "Epoch 10/10\n",
      "191/191 [==============================] - 429s 2s/step - loss: 0.0910 - binary_accuracy: 0.9630 - val_loss: 0.7528 - val_binary_accuracy: 0.8194\n"
     ]
    }
   ],
   "source": [
    "model.compile(optimizer=optimizer,\n",
    "              loss=loss,\n",
    "              metrics=metrics)\n",
    "\n",
    "history = model.fit(x=train_dataset_batched,\n",
    "                    validation_data=test_dataset_batched,\n",
    "                    epochs=epochs)"
   ]
  },
  {
   "cell_type": "code",
   "execution_count": 26,
   "metadata": {
    "pycharm": {
     "name": "#%%\n"
    }
   },
   "outputs": [
    {
     "name": "stdout",
     "output_type": "stream",
     "text": [
      "48/48 [==============================] - 32s 666ms/step - loss: 0.7528 - binary_accuracy: 0.8194\n",
      "Loss:  0.7528133988380432\n",
      "Accuracy:  0.8194352984428406\n"
     ]
    },
    {
     "data": {
      "image/png": "[encoded data removed]",
      "text/plain": [
       "<Figure size 432x288 with 1 Axes>"
      ]
     },
     "metadata": {
      "needs_background": "light"
     },
     "output_type": "display_data"
    },
    {
     "data": {
      "image/png": "[encoded data removed]",
      "text/plain": [
       "<Figure size 432x288 with 1 Axes>"
      ]
     },
     "metadata": {
      "needs_background": "light"
     },
     "output_type": "display_data"
    }
   ],
   "source": [
    "loss, accuracy = model.evaluate(X_test, y_test) # TODO replace\n",
    "print('Loss: ', loss)\n",
    "print('Accuracy: ', accuracy)\n",
    "\n",
    "history_dict = history.history\n",
    "\n",
    "acc = history_dict['binary_accuracy']\n",
    "val_acc = history_dict['val_binary_accuracy']\n",
    "loss = history_dict['loss']\n",
    "val_loss = history_dict['val_loss']\n",
    "\n",
    "epochs = range(1, len(acc) + 1)\n",
    "\n",
    "# \"bo\" is for \"blue dot\"\n",
    "plt.plot(epochs, loss, 'r', label='Training loss')\n",
    "# b is for \"solid blue line\"\n",
    "plt.plot(epochs, val_loss, 'b', label='Validation loss')\n",
    "plt.title('Training and validation loss')\n",
    "plt.xlabel('Epochs')\n",
    "plt.ylabel('Loss')\n",
    "plt.legend()\n",
    "\n",
    "plt.show()\n",
    "\n",
    "plt.clf()\n",
    "plt.plot(epochs, acc, 'r', label='Training acc')\n",
    "plt.plot(epochs, val_acc, 'b', label='Validation acc')\n",
    "plt.title('Training and validation accuracy')\n",
    "plt.xlabel('Epochs')\n",
    "plt.ylabel('Accuracy')\n",
    "plt.legend(loc='lower right')\n",
    "\n",
    "axes = plt.gca()\n",
    "axes.set_ylim([0.5, 1])\n",
    "\n",
    "max_val_acc = f'{np.max(history_dict[\"val_binary_accuracy\"]):.3f}'\n",
    "mean_val_acc = f'{np.mean(history_dict[\"val_binary_accuracy\"]):.3f}'\n",
    "\n",
    "# plt.savefig(f'lstm_max{max_val_acc}_mean{mean_val_acc}_embdim{embedding_dim}_lstm{lstm_layer_units}'\n",
    "#             f'_dense{hidden_layer_units}_drop{dropout_rate}_batch{batch_size}_{iter_count}.png')\n",
    "\n",
    "plt.show()"
   ]
  },
  {
   "cell_type": "code",
   "execution_count": 27,
   "metadata": {},
   "outputs": [
    {
     "data": {
      "text/plain": [
       "dict_keys(['loss', 'binary_accuracy', 'val_loss', 'val_binary_accuracy'])"
      ]
     },
     "execution_count": 27,
     "metadata": {},
     "output_type": "execute_result"
    }
   ],
   "source": [
    "history_dict.keys()"
   ]
  },
  {
   "cell_type": "code",
   "execution_count": 28,
   "metadata": {
    "pycharm": {
     "name": "#%%\n"
    }
   },
   "outputs": [
    {
     "name": "stdout",
     "output_type": "stream",
     "text": [
      "[[730 144]\n",
      " [131 518]]\n",
      "Normalized confusion matrix\n"
     ]
    },
    {
     "data": {
      "image/png": "[encoded data removed]",
      "text/plain": [
       "<Figure size 432x288 with 2 Axes>"
      ]
     },
     "metadata": {
      "needs_background": "light"
     },
     "output_type": "display_data"
    }
   ],
   "source": [
    "def plot_confusion_matrix(cm, classes,\n",
    "                          normalize=True,\n",
    "                          title='Confusion matrix for test set',\n",
    "                          cmap=plt.cm.Blues):\n",
    "    \"\"\"\n",
    "    This function prints and plots the confusion matrix.\n",
    "    Normalization can be applied by setting `normalize=True`.print(classification_report(y_test, y_pred_test))\n",
    "    \"\"\"\n",
    "    print(cm)\n",
    "    if normalize:\n",
    "        cm = cm.astype('float') / cm.sum(axis=1)[:, np.newaxis]\n",
    "        print(\"Normalized confusion matrix\")\n",
    "    else:\n",
    "        print('Confusion matrix, without normalization')\n",
    "\n",
    "    plt.imshow(cm, interpolation='nearest', cmap=cmap)\n",
    "    plt.title(title)\n",
    "    plt.colorbar()\n",
    "    tick_marks = np.arange(len(classes))\n",
    "    plt.xticks(tick_marks, classes, rotation=45)\n",
    "    plt.yticks(tick_marks, classes)\n",
    "\n",
    "    fmt = '.2f' if normalize else 'd'\n",
    "    thresh = cm.max() / 2.\n",
    "    for i, j in itertools.product(range(cm.shape[0]), range(cm.shape[1])):\n",
    "        plt.text(j, i, format(cm[i, j], fmt),\n",
    "                 horizontalalignment=\"center\",\n",
    "                 color=\"white\" if cm[i, j] > thresh else \"black\")\n",
    "\n",
    "    plt.ylabel('True label')\n",
    "    plt.xlabel('Predicted label')\n",
    "    plt.tight_layout()\n",
    "\n",
    "\n",
    "y_pred_test = np.array(model.predict(X_test) > 0.5).astype('int32')\n",
    "cm = confusion_matrix(y_test, y_pred_test)\n",
    "\n",
    "plot_confusion_matrix(cm, [0, 1])"
   ]
  },
  {
   "cell_type": "code",
   "execution_count": 29,
   "metadata": {
    "pycharm": {
     "name": "#%%\n"
    }
   },
   "outputs": [
    {
     "name": "stdout",
     "output_type": "stream",
     "text": [
      "              precision    recall  f1-score   support\n",
      "\n",
      "           0       0.85      0.84      0.84       874\n",
      "           1       0.78      0.80      0.79       649\n",
      "\n",
      "    accuracy                           0.82      1523\n",
      "   macro avg       0.82      0.82      0.82      1523\n",
      "weighted avg       0.82      0.82      0.82      1523\n",
      "\n"
     ]
    }
   ],
   "source": [
    "print(classification_report(y_test, y_pred_test))"
   ]
  },
  {
   "cell_type": "markdown",
   "metadata": {},
   "source": [
    "## Cross validation"
   ]
  },
  {
   "cell_type": "code",
   "execution_count": 45,
   "metadata": {
    "pycharm": {
     "name": "#%%\n"
    }
   },
   "outputs": [
    {
     "name": "stdout",
     "output_type": "stream",
     "text": [
      "TRAIN: 5709 TEST: 1904\n",
      "Epoch 1/4\n",
      "179/179 [==============================] - 563s 3s/step - loss: 0.6663 - binary_accuracy: 0.6490 - val_loss: 0.4454 - val_binary_accuracy: 0.8036\n",
      "Epoch 2/4\n",
      "179/179 [==============================] - 551s 3s/step - loss: 0.4059 - binary_accuracy: 0.8322 - val_loss: 0.4786 - val_binary_accuracy: 0.8104\n",
      "Epoch 3/4\n",
      "179/179 [==============================] - 550s 3s/step - loss: 0.3471 - binary_accuracy: 0.8638 - val_loss: 0.4962 - val_binary_accuracy: 0.8088\n",
      "Epoch 4/4\n",
      "179/179 [==============================] - 551s 3s/step - loss: 0.2971 - binary_accuracy: 0.8860 - val_loss: 0.4836 - val_binary_accuracy: 0.7988\n",
      "\n",
      "\n",
      "60/60 [==============================] - 51s 855ms/step - loss: 0.4836 - binary_accuracy: 0.7988\n",
      "TRAIN LOSS: 0.4835743010044098 / TEST ACCURACY: 0.7988445162773132\n",
      "\n",
      "\n",
      "TRAIN: 5710 TEST: 1903\n",
      "Epoch 1/4\n",
      "179/179 [==============================] - 544s 3s/step - loss: 0.6674 - binary_accuracy: 0.6613 - val_loss: 0.4328 - val_binary_accuracy: 0.8171\n",
      "Epoch 2/4\n",
      "179/179 [==============================] - 534s 3s/step - loss: 0.4102 - binary_accuracy: 0.8178 - val_loss: 0.4929 - val_binary_accuracy: 0.8098\n",
      "Epoch 3/4\n",
      "179/179 [==============================] - 534s 3s/step - loss: 0.3446 - binary_accuracy: 0.8522 - val_loss: 0.5664 - val_binary_accuracy: 0.7940\n",
      "Epoch 4/4\n",
      "179/179 [==============================] - 534s 3s/step - loss: 0.2903 - binary_accuracy: 0.8761 - val_loss: 0.5382 - val_binary_accuracy: 0.8024\n",
      "\n",
      "\n",
      "60/60 [==============================] - 51s 846ms/step - loss: 0.5382 - binary_accuracy: 0.8024\n",
      "TRAIN LOSS: 0.5382218360900879 / TEST ACCURACY: 0.8024172186851501\n",
      "\n",
      "\n",
      "TRAIN: 5710 TEST: 1903\n",
      "Epoch 1/4\n",
      "179/179 [==============================] - 557s 3s/step - loss: 0.6285 - binary_accuracy: 0.6816 - val_loss: 0.4749 - val_binary_accuracy: 0.7888\n",
      "Epoch 2/4\n",
      "179/179 [==============================] - 548s 3s/step - loss: 0.4000 - binary_accuracy: 0.8227 - val_loss: 0.4921 - val_binary_accuracy: 0.7919\n",
      "Epoch 3/4\n",
      "179/179 [==============================] - 575s 3s/step - loss: 0.3269 - binary_accuracy: 0.8673 - val_loss: 0.5846 - val_binary_accuracy: 0.7893\n",
      "Epoch 4/4\n",
      "179/179 [==============================] - 549s 3s/step - loss: 0.2875 - binary_accuracy: 0.8786 - val_loss: 0.5423 - val_binary_accuracy: 0.7893\n",
      "\n",
      "\n",
      "60/60 [==============================] - 54s 897ms/step - loss: 0.5423 - binary_accuracy: 0.7893\n",
      "TRAIN LOSS: 0.5422607064247131 / TEST ACCURACY: 0.7892800569534302\n",
      "\n",
      "\n",
      "TRAIN: 5710 TEST: 1903\n",
      "Epoch 1/4\n",
      "179/179 [==============================] - 571s 3s/step - loss: 0.6325 - binary_accuracy: 0.6603 - val_loss: 0.4792 - val_binary_accuracy: 0.8119\n",
      "Epoch 2/4\n",
      "179/179 [==============================] - 543s 3s/step - loss: 0.4067 - binary_accuracy: 0.8274 - val_loss: 0.4119 - val_binary_accuracy: 0.8276\n",
      "Epoch 3/4\n",
      "179/179 [==============================] - 538s 3s/step - loss: 0.3326 - binary_accuracy: 0.8633 - val_loss: 0.4330 - val_binary_accuracy: 0.8255\n",
      "Epoch 4/4\n",
      "179/179 [==============================] - 539s 3s/step - loss: 0.2935 - binary_accuracy: 0.8806 - val_loss: 0.4367 - val_binary_accuracy: 0.8203\n",
      "\n",
      "\n",
      "60/60 [==============================] - 52s 859ms/step - loss: 0.4367 - binary_accuracy: 0.8203\n",
      "TRAIN LOSS: 0.4366648495197296 / TEST ACCURACY: 0.8202837705612183\n",
      "\n",
      "\n",
      "[[3693  649]\n",
      " [ 853 2418]]\n",
      "Normalized confusion matrix\n"
     ]
    },
    {
     "data": {
      "image/png": "[encoded data removed]",
      "text/plain": [
       "<Figure size 432x288 with 2 Axes>"
      ]
     },
     "metadata": {
      "needs_background": "light"
     },
     "output_type": "display_data"
    }
   ],
   "source": [
    "X_cv = X_all.copy()\n",
    "y_cv = y_all.copy()\n",
    "\n",
    "CONF_MATRIXES = []\n",
    "\n",
    "epochs_cv = 4\n",
    "\n",
    "skf = StratifiedKFold(n_splits=4)\n",
    "for train_idx, test_idx in skf.split(X_cv, y_cv):\n",
    "    print('TRAIN:', len(train_idx), 'TEST:', len(test_idx))            \n",
    "    \n",
    "    X_train_cv, X_test_cv = X_cv.iloc[train_idx].to_numpy(), X_cv.iloc[test_idx].to_numpy()\n",
    "    y_train_cv, y_test_cv = y_cv.iloc[train_idx].to_numpy(), y_cv.iloc[test_idx].to_numpy()\n",
    "    \n",
    "    train_dataset_cv = tf.data.Dataset.from_tensor_slices((X_train_cv, y_train_cv))\n",
    "    test_dataset_cv = tf.data.Dataset.from_tensor_slices((X_test_cv, y_test_cv))    \n",
    "    \n",
    "    train_dataset_batched_cv, test_dataset_batched_cv, optimizer_cv, loss_cv, metrics_cv = prepare_training_data(\n",
    "        train_dataset_cv, test_dataset_cv, epochs_cv)     \n",
    "    \n",
    "    preprocessor_cv = hub.KerasLayer(preproces_url, name='preprocessing')    \n",
    "    encoder_cv = hub.KerasLayer(encoder_url, trainable=True, name='BERT_encoder')\n",
    "    \n",
    "    model_cv = build_model(preprocessor_cv, encoder_cv)\n",
    "    model_cv.compile(optimizer=optimizer_cv, loss=loss_cv, metrics=metrics_cv)    \n",
    "    \n",
    "    history_cv = model_cv.fit(x=train_dataset_batched_cv,\n",
    "                              validation_data=test_dataset_batched_cv,\n",
    "                              epochs=epochs_cv)\n",
    "\n",
    "    print('\\n')\n",
    "    loss_cv, accuracy_cv = model_cv.evaluate(X_test_cv, y_test_cv)\n",
    "    print(f'TRAIN LOSS: {loss_cv} / TEST ACCURACY: {accuracy_cv}')\n",
    "    y_pred_test_cv = np.array(model_cv.predict(X_test_cv) > 0.5).astype('int32')    \n",
    "    cm = confusion_matrix(y_test_cv, y_pred_test_cv)\n",
    "    CONF_MATRIXES.append(cm)\n",
    "    print('\\n')\n",
    "\n",
    "    tf.keras.backend.clear_session()\n",
    "\n",
    "# overall results\n",
    "cm = np.array(CONF_MATRIXES).sum(axis=0)\n",
    "plot_confusion_matrix(cm, [0, 1])"
   ]
  }
 ],
 "metadata": {
  "celltoolbar": "Tags",
  "kernelspec": {
   "display_name": "Python 3",
   "language": "python",
   "name": "python3"
  },
  "language_info": {
   "codemirror_mode": {
    "name": "ipython",
    "version": 3
   },
   "file_extension": ".py",
   "mimetype": "text/x-python",
   "name": "python",
   "nbconvert_exporter": "python",
   "pygments_lexer": "ipython3",
   "version": "3.8.8"
  }
 },
 "nbformat": 4,
 "nbformat_minor": 1
}
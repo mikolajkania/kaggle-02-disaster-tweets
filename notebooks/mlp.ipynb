{
 "cells": [
  {
   "cell_type": "markdown",
   "metadata": {
    "pycharm": {
     "name": "#%% md\n"
    }
   },
   "source": [
    "## MLP\n",
    "\n",
    "Based on findings in svm notebook.\n",
    "\n",
    "In most cases the results were worse than in SVM, but by averaging tweets the achieved result was superior (0.81029)."
   ]
  },
  {
   "cell_type": "code",
   "execution_count": 1,
   "metadata": {
    "collapsed": true
   },
   "outputs": [],
   "source": [
    "%load_ext autoreload\n",
    "%autoreload 2\n",
    "\n",
    "import re\n",
    "import itertools\n",
    "import spacy\n",
    "\n",
    "import pandas as pd\n",
    "import numpy as np\n",
    "import matplotlib.pyplot as plt\n",
    "import tensorflow as tf\n",
    "\n",
    "from sklearn.model_selection import train_test_split\n",
    "from sklearn.metrics import confusion_matrix, classification_report\n",
    "from sklearn.model_selection import StratifiedKFold\n",
    "from tensorflow.keras import layers, callbacks"
   ]
  },
  {
   "cell_type": "markdown",
   "metadata": {
    "pycharm": {
     "name": "#%% md\n"
    }
   },
   "source": [
    "## Loading data"
   ]
  },
  {
   "cell_type": "code",
   "execution_count": 2,
   "metadata": {
    "pycharm": {
     "name": "#%%\n"
    }
   },
   "outputs": [
    {
     "data": {
      "text/plain": "   id keyword location                                               text  \\\n0   1     NaN      NaN  Our Deeds are the Reason of this #earthquake M...   \n1   4     NaN      NaN             Forest fire near La Ronge Sask. Canada   \n2   5     NaN      NaN  All residents asked to 'shelter in place' are ...   \n\n   target  \n0       1  \n1       1  \n2       1  ",
      "text/html": "<div>\n<style scoped>\n    .dataframe tbody tr th:only-of-type {\n        vertical-align: middle;\n    }\n\n    .dataframe tbody tr th {\n        vertical-align: top;\n    }\n\n    .dataframe thead th {\n        text-align: right;\n    }\n</style>\n<table border=\"1\" class=\"dataframe\">\n  <thead>\n    <tr style=\"text-align: right;\">\n      <th></th>\n      <th>id</th>\n      <th>keyword</th>\n      <th>location</th>\n      <th>text</th>\n      <th>target</th>\n    </tr>\n  </thead>\n  <tbody>\n    <tr>\n      <th>0</th>\n      <td>1</td>\n      <td>NaN</td>\n      <td>NaN</td>\n      <td>Our Deeds are the Reason of this #earthquake M...</td>\n      <td>1</td>\n    </tr>\n    <tr>\n      <th>1</th>\n      <td>4</td>\n      <td>NaN</td>\n      <td>NaN</td>\n      <td>Forest fire near La Ronge Sask. Canada</td>\n      <td>1</td>\n    </tr>\n    <tr>\n      <th>2</th>\n      <td>5</td>\n      <td>NaN</td>\n      <td>NaN</td>\n      <td>All residents asked to 'shelter in place' are ...</td>\n      <td>1</td>\n    </tr>\n  </tbody>\n</table>\n</div>"
     },
     "execution_count": 2,
     "metadata": {},
     "output_type": "execute_result"
    }
   ],
   "source": [
    "train_df = pd.read_csv('../data/train.csv', encoding='utf-8', warn_bad_lines=True, error_bad_lines=False)\n",
    "test_df = pd.read_csv('../data/test.csv', encoding='utf-8', warn_bad_lines=True, error_bad_lines=False)\n",
    "\n",
    "train_df[:3]\n"
   ]
  },
  {
   "cell_type": "code",
   "execution_count": 3,
   "metadata": {
    "pycharm": {
     "name": "#%%\n"
    }
   },
   "outputs": [
    {
     "name": "stdout",
     "output_type": "stream",
     "text": [
      "7613\n"
     ]
    }
   ],
   "source": [
    "print(len(train_df))\n",
    "\n",
    "targets_df = train_df.groupby('text').nunique().sort_values(by='target', ascending=False)\n",
    "mismatched_texts = list(targets_df[targets_df['target'] > 1].index)"
   ]
  },
  {
   "cell_type": "code",
   "execution_count": 4,
   "metadata": {
    "pycharm": {
     "name": "#%%\n"
    }
   },
   "outputs": [
    {
     "data": {
      "text/plain": "        id              keyword                    location  \\\n610    881         bioterrorism                         NaN   \n624    898         bioterrorism                         NaN   \n630    907         bioterrorism                         NaN   \n634    916         bioterrorism                         NaN   \n1197  1723  buildings%20burning      Mackay, QLD, Australia   \n1214  1752  buildings%20burning              Epic City, BB.   \n1221  1760  buildings%20burning                      dallas   \n1331  1922  burning%20buildings      Mackay, QLD, Australia   \n1349  1950  burning%20buildings                      dallas   \n1365  1968  burning%20buildings              Epic City, BB.   \n2830  4068            displaced    Pedophile hunting ground   \n2831  4072            displaced    Pedophile hunting ground   \n2832  4076            displaced    Pedophile hunting ground   \n2833  4077            displaced    Pedophile hunting ground   \n3240  4656             engulfed                         NaN   \n3243  4659             engulfed                     Kuwait    \n3248  4669             engulfed                     Bahrain   \n3251  4672             engulfed                         NaN   \n3261  4684             engulfed                         NaN   \n3266  4691             engulfed                         NaN   \n3985  5662               floods                         NaN   \n4013  5699               floods                         NaN   \n4019  5710               floods                         NaN   \n4221  5996            hazardous                         NaN   \n4232  6012            hazardous                         NaN   \n4235  6017            hazardous                         NaN   \n4239  6023            hazardous           Mysore, Karnataka   \n4244  6031            hazardous            New Delhi, Delhi   \n4284  6087             hellfire                         NaN   \n4285  6088             hellfire                         NaN   \n4286  6090             hellfire                      Riyadh   \n4290  6094             hellfire    Jubail IC, Saudi Arabia.   \n4292  6097             hellfire                         NaN   \n4299  6105             hellfire  ?????? ??? ?????? ????????   \n4304  6111             hellfire                         NaN   \n4305  6112             hellfire                         NaN   \n4306  6113             hellfire                         NaN   \n4309  6118             hellfire                         NaN   \n4312  6123             hellfire          ?????? ???? ??????   \n4313  6125             hellfire                         NaN   \n4318  6132             hellfire                         NaN   \n4320  6134             hellfire                   Riyadh ')   \n4379  6220             hijacker                   worldwide   \n4381  6223             hijacker                   worldwide   \n4597  6537               injury                         NaN   \n4605  6548               injury                         NaN   \n4618  6566               injury                         NaN   \n5620  8018             refugees                         NaN   \n5641  8044             refugees                         NaN   \n6091  8698              sinking    Every Where in the World   \n6094  8702              sinking                         NaN   \n6103  8714              sinking                         NaN   \n6123  8739              sinking                          MA   \n6614  9470            terrorism        Jeddah_Saudi Arabia.   \n6616  9472            terrorism                      Riyadh   \n\n                                                   text  target  \n610                          To fight bioterrorism sir.       1  \n624                          To fight bioterrorism sir.       0  \n630                          To fight bioterrorism sir.       1  \n634                          To fight bioterrorism sir.       0  \n1197  Mmmmmm I'm burning.... I'm burning buildings I...       1  \n1214  I Pledge Allegiance To The P.O.P.E. And The Bu...       0  \n1221  like for the music video I want some real acti...       1  \n1331  Mmmmmm I'm burning.... I'm burning buildings I...       0  \n1349  like for the music video I want some real acti...       0  \n1365  I Pledge Allegiance To The P.O.P.E. And The Bu...       1  \n2830  .POTUS #StrategicPatience is a strategy for #G...       1  \n2831  .POTUS #StrategicPatience is a strategy for #G...       1  \n2832  .POTUS #StrategicPatience is a strategy for #G...       0  \n2833  .POTUS #StrategicPatience is a strategy for #G...       1  \n3240  He came to a land which was engulfed in tribal...       0  \n3243  He came to a land which was engulfed in tribal...       1  \n3248  He came to a land which was engulfed in tribal...       1  \n3251  He came to a land which was engulfed in tribal...       0  \n3261  He came to a land which was engulfed in tribal...       0  \n3266  He came to a land which was engulfed in tribal...       0  \n3985  Who is bringing the tornadoes and floods. Who ...       1  \n4013  Who is bringing the tornadoes and floods. Who ...       0  \n4019  Who is bringing the tornadoes and floods. Who ...       0  \n4221  #foodscare #offers2go #NestleIndia slips into ...       1  \n4232  Caution: breathing may be hazardous to your he...       1  \n4235  Caution: breathing may be hazardous to your he...       0  \n4239  #foodscare #offers2go #NestleIndia slips into ...       1  \n4244  #foodscare #offers2go #NestleIndia slips into ...       0  \n4284  The Prophet (peace be upon him) said 'Save you...       0  \n4285  Hellfire is surrounded by desires so be carefu...       0  \n4286  The Prophet (peace be upon him) said 'Save you...       0  \n4290  #Allah describes piling up #wealth thinking it...       0  \n4292  The Prophet (peace be upon him) said 'Save you...       1  \n4299  #Allah describes piling up #wealth thinking it...       0  \n4304  The Prophet (peace be upon him) said 'Save you...       0  \n4305  Hellfire is surrounded by desires so be carefu...       1  \n4306  Hellfire! We donÛªt even want to think about ...       0  \n4309  The Prophet (peace be upon him) said 'Save you...       0  \n4312  #Allah describes piling up #wealth thinking it...       1  \n4313  Hellfire is surrounded by desires so be carefu...       0  \n4318  The Prophet (peace be upon him) said 'Save you...       1  \n4320  Hellfire! We donÛªt even want to think about ...       1  \n4379  RT NotExplained: The only known image of infam...       0  \n4381  RT NotExplained: The only known image of infam...       1  \n4597  CLEARED:incident with injury:I-495  inner loop...       1  \n4605  CLEARED:incident with injury:I-495  inner loop...       1  \n4618  CLEARED:incident with injury:I-495  inner loop...       0  \n5620  wowo--=== 12000 Nigerian refugees repatriated ...       1  \n5641  wowo--=== 12000 Nigerian refugees repatriated ...       0  \n6091  that horrible sinking feeling when youÛªve be...       1  \n6094  that horrible sinking feeling when youÛªve be...       0  \n6103  that horrible sinking feeling when youÛªve be...       0  \n6123  that horrible sinking feeling when youÛªve be...       1  \n6614  In #islam saving a person is equal in reward t...       0  \n6616  In #islam saving a person is equal in reward t...       1  ",
      "text/html": "<div>\n<style scoped>\n    .dataframe tbody tr th:only-of-type {\n        vertical-align: middle;\n    }\n\n    .dataframe tbody tr th {\n        vertical-align: top;\n    }\n\n    .dataframe thead th {\n        text-align: right;\n    }\n</style>\n<table border=\"1\" class=\"dataframe\">\n  <thead>\n    <tr style=\"text-align: right;\">\n      <th></th>\n      <th>id</th>\n      <th>keyword</th>\n      <th>location</th>\n      <th>text</th>\n      <th>target</th>\n    </tr>\n  </thead>\n  <tbody>\n    <tr>\n      <th>610</th>\n      <td>881</td>\n      <td>bioterrorism</td>\n      <td>NaN</td>\n      <td>To fight bioterrorism sir.</td>\n      <td>1</td>\n    </tr>\n    <tr>\n      <th>624</th>\n      <td>898</td>\n      <td>bioterrorism</td>\n      <td>NaN</td>\n      <td>To fight bioterrorism sir.</td>\n      <td>0</td>\n    </tr>\n    <tr>\n      <th>630</th>\n      <td>907</td>\n      <td>bioterrorism</td>\n      <td>NaN</td>\n      <td>To fight bioterrorism sir.</td>\n      <td>1</td>\n    </tr>\n    <tr>\n      <th>634</th>\n      <td>916</td>\n      <td>bioterrorism</td>\n      <td>NaN</td>\n      <td>To fight bioterrorism sir.</td>\n      <td>0</td>\n    </tr>\n    <tr>\n      <th>1197</th>\n      <td>1723</td>\n      <td>buildings%20burning</td>\n      <td>Mackay, QLD, Australia</td>\n      <td>Mmmmmm I'm burning.... I'm burning buildings I...</td>\n      <td>1</td>\n    </tr>\n    <tr>\n      <th>1214</th>\n      <td>1752</td>\n      <td>buildings%20burning</td>\n      <td>Epic City, BB.</td>\n      <td>I Pledge Allegiance To The P.O.P.E. And The Bu...</td>\n      <td>0</td>\n    </tr>\n    <tr>\n      <th>1221</th>\n      <td>1760</td>\n      <td>buildings%20burning</td>\n      <td>dallas</td>\n      <td>like for the music video I want some real acti...</td>\n      <td>1</td>\n    </tr>\n    <tr>\n      <th>1331</th>\n      <td>1922</td>\n      <td>burning%20buildings</td>\n      <td>Mackay, QLD, Australia</td>\n      <td>Mmmmmm I'm burning.... I'm burning buildings I...</td>\n      <td>0</td>\n    </tr>\n    <tr>\n      <th>1349</th>\n      <td>1950</td>\n      <td>burning%20buildings</td>\n      <td>dallas</td>\n      <td>like for the music video I want some real acti...</td>\n      <td>0</td>\n    </tr>\n    <tr>\n      <th>1365</th>\n      <td>1968</td>\n      <td>burning%20buildings</td>\n      <td>Epic City, BB.</td>\n      <td>I Pledge Allegiance To The P.O.P.E. And The Bu...</td>\n      <td>1</td>\n    </tr>\n    <tr>\n      <th>2830</th>\n      <td>4068</td>\n      <td>displaced</td>\n      <td>Pedophile hunting ground</td>\n      <td>.POTUS #StrategicPatience is a strategy for #G...</td>\n      <td>1</td>\n    </tr>\n    <tr>\n      <th>2831</th>\n      <td>4072</td>\n      <td>displaced</td>\n      <td>Pedophile hunting ground</td>\n      <td>.POTUS #StrategicPatience is a strategy for #G...</td>\n      <td>1</td>\n    </tr>\n    <tr>\n      <th>2832</th>\n      <td>4076</td>\n      <td>displaced</td>\n      <td>Pedophile hunting ground</td>\n      <td>.POTUS #StrategicPatience is a strategy for #G...</td>\n      <td>0</td>\n    </tr>\n    <tr>\n      <th>2833</th>\n      <td>4077</td>\n      <td>displaced</td>\n      <td>Pedophile hunting ground</td>\n      <td>.POTUS #StrategicPatience is a strategy for #G...</td>\n      <td>1</td>\n    </tr>\n    <tr>\n      <th>3240</th>\n      <td>4656</td>\n      <td>engulfed</td>\n      <td>NaN</td>\n      <td>He came to a land which was engulfed in tribal...</td>\n      <td>0</td>\n    </tr>\n    <tr>\n      <th>3243</th>\n      <td>4659</td>\n      <td>engulfed</td>\n      <td>Kuwait</td>\n      <td>He came to a land which was engulfed in tribal...</td>\n      <td>1</td>\n    </tr>\n    <tr>\n      <th>3248</th>\n      <td>4669</td>\n      <td>engulfed</td>\n      <td>Bahrain</td>\n      <td>He came to a land which was engulfed in tribal...</td>\n      <td>1</td>\n    </tr>\n    <tr>\n      <th>3251</th>\n      <td>4672</td>\n      <td>engulfed</td>\n      <td>NaN</td>\n      <td>He came to a land which was engulfed in tribal...</td>\n      <td>0</td>\n    </tr>\n    <tr>\n      <th>3261</th>\n      <td>4684</td>\n      <td>engulfed</td>\n      <td>NaN</td>\n      <td>He came to a land which was engulfed in tribal...</td>\n      <td>0</td>\n    </tr>\n    <tr>\n      <th>3266</th>\n      <td>4691</td>\n      <td>engulfed</td>\n      <td>NaN</td>\n      <td>He came to a land which was engulfed in tribal...</td>\n      <td>0</td>\n    </tr>\n    <tr>\n      <th>3985</th>\n      <td>5662</td>\n      <td>floods</td>\n      <td>NaN</td>\n      <td>Who is bringing the tornadoes and floods. Who ...</td>\n      <td>1</td>\n    </tr>\n    <tr>\n      <th>4013</th>\n      <td>5699</td>\n      <td>floods</td>\n      <td>NaN</td>\n      <td>Who is bringing the tornadoes and floods. Who ...</td>\n      <td>0</td>\n    </tr>\n    <tr>\n      <th>4019</th>\n      <td>5710</td>\n      <td>floods</td>\n      <td>NaN</td>\n      <td>Who is bringing the tornadoes and floods. Who ...</td>\n      <td>0</td>\n    </tr>\n    <tr>\n      <th>4221</th>\n      <td>5996</td>\n      <td>hazardous</td>\n      <td>NaN</td>\n      <td>#foodscare #offers2go #NestleIndia slips into ...</td>\n      <td>1</td>\n    </tr>\n    <tr>\n      <th>4232</th>\n      <td>6012</td>\n      <td>hazardous</td>\n      <td>NaN</td>\n      <td>Caution: breathing may be hazardous to your he...</td>\n      <td>1</td>\n    </tr>\n    <tr>\n      <th>4235</th>\n      <td>6017</td>\n      <td>hazardous</td>\n      <td>NaN</td>\n      <td>Caution: breathing may be hazardous to your he...</td>\n      <td>0</td>\n    </tr>\n    <tr>\n      <th>4239</th>\n      <td>6023</td>\n      <td>hazardous</td>\n      <td>Mysore, Karnataka</td>\n      <td>#foodscare #offers2go #NestleIndia slips into ...</td>\n      <td>1</td>\n    </tr>\n    <tr>\n      <th>4244</th>\n      <td>6031</td>\n      <td>hazardous</td>\n      <td>New Delhi, Delhi</td>\n      <td>#foodscare #offers2go #NestleIndia slips into ...</td>\n      <td>0</td>\n    </tr>\n    <tr>\n      <th>4284</th>\n      <td>6087</td>\n      <td>hellfire</td>\n      <td>NaN</td>\n      <td>The Prophet (peace be upon him) said 'Save you...</td>\n      <td>0</td>\n    </tr>\n    <tr>\n      <th>4285</th>\n      <td>6088</td>\n      <td>hellfire</td>\n      <td>NaN</td>\n      <td>Hellfire is surrounded by desires so be carefu...</td>\n      <td>0</td>\n    </tr>\n    <tr>\n      <th>4286</th>\n      <td>6090</td>\n      <td>hellfire</td>\n      <td>Riyadh</td>\n      <td>The Prophet (peace be upon him) said 'Save you...</td>\n      <td>0</td>\n    </tr>\n    <tr>\n      <th>4290</th>\n      <td>6094</td>\n      <td>hellfire</td>\n      <td>Jubail IC, Saudi Arabia.</td>\n      <td>#Allah describes piling up #wealth thinking it...</td>\n      <td>0</td>\n    </tr>\n    <tr>\n      <th>4292</th>\n      <td>6097</td>\n      <td>hellfire</td>\n      <td>NaN</td>\n      <td>The Prophet (peace be upon him) said 'Save you...</td>\n      <td>1</td>\n    </tr>\n    <tr>\n      <th>4299</th>\n      <td>6105</td>\n      <td>hellfire</td>\n      <td>?????? ??? ?????? ????????</td>\n      <td>#Allah describes piling up #wealth thinking it...</td>\n      <td>0</td>\n    </tr>\n    <tr>\n      <th>4304</th>\n      <td>6111</td>\n      <td>hellfire</td>\n      <td>NaN</td>\n      <td>The Prophet (peace be upon him) said 'Save you...</td>\n      <td>0</td>\n    </tr>\n    <tr>\n      <th>4305</th>\n      <td>6112</td>\n      <td>hellfire</td>\n      <td>NaN</td>\n      <td>Hellfire is surrounded by desires so be carefu...</td>\n      <td>1</td>\n    </tr>\n    <tr>\n      <th>4306</th>\n      <td>6113</td>\n      <td>hellfire</td>\n      <td>NaN</td>\n      <td>Hellfire! We donÛªt even want to think about ...</td>\n      <td>0</td>\n    </tr>\n    <tr>\n      <th>4309</th>\n      <td>6118</td>\n      <td>hellfire</td>\n      <td>NaN</td>\n      <td>The Prophet (peace be upon him) said 'Save you...</td>\n      <td>0</td>\n    </tr>\n    <tr>\n      <th>4312</th>\n      <td>6123</td>\n      <td>hellfire</td>\n      <td>?????? ???? ??????</td>\n      <td>#Allah describes piling up #wealth thinking it...</td>\n      <td>1</td>\n    </tr>\n    <tr>\n      <th>4313</th>\n      <td>6125</td>\n      <td>hellfire</td>\n      <td>NaN</td>\n      <td>Hellfire is surrounded by desires so be carefu...</td>\n      <td>0</td>\n    </tr>\n    <tr>\n      <th>4318</th>\n      <td>6132</td>\n      <td>hellfire</td>\n      <td>NaN</td>\n      <td>The Prophet (peace be upon him) said 'Save you...</td>\n      <td>1</td>\n    </tr>\n    <tr>\n      <th>4320</th>\n      <td>6134</td>\n      <td>hellfire</td>\n      <td>Riyadh ')</td>\n      <td>Hellfire! We donÛªt even want to think about ...</td>\n      <td>1</td>\n    </tr>\n    <tr>\n      <th>4379</th>\n      <td>6220</td>\n      <td>hijacker</td>\n      <td>worldwide</td>\n      <td>RT NotExplained: The only known image of infam...</td>\n      <td>0</td>\n    </tr>\n    <tr>\n      <th>4381</th>\n      <td>6223</td>\n      <td>hijacker</td>\n      <td>worldwide</td>\n      <td>RT NotExplained: The only known image of infam...</td>\n      <td>1</td>\n    </tr>\n    <tr>\n      <th>4597</th>\n      <td>6537</td>\n      <td>injury</td>\n      <td>NaN</td>\n      <td>CLEARED:incident with injury:I-495  inner loop...</td>\n      <td>1</td>\n    </tr>\n    <tr>\n      <th>4605</th>\n      <td>6548</td>\n      <td>injury</td>\n      <td>NaN</td>\n      <td>CLEARED:incident with injury:I-495  inner loop...</td>\n      <td>1</td>\n    </tr>\n    <tr>\n      <th>4618</th>\n      <td>6566</td>\n      <td>injury</td>\n      <td>NaN</td>\n      <td>CLEARED:incident with injury:I-495  inner loop...</td>\n      <td>0</td>\n    </tr>\n    <tr>\n      <th>5620</th>\n      <td>8018</td>\n      <td>refugees</td>\n      <td>NaN</td>\n      <td>wowo--=== 12000 Nigerian refugees repatriated ...</td>\n      <td>1</td>\n    </tr>\n    <tr>\n      <th>5641</th>\n      <td>8044</td>\n      <td>refugees</td>\n      <td>NaN</td>\n      <td>wowo--=== 12000 Nigerian refugees repatriated ...</td>\n      <td>0</td>\n    </tr>\n    <tr>\n      <th>6091</th>\n      <td>8698</td>\n      <td>sinking</td>\n      <td>Every Where in the World</td>\n      <td>that horrible sinking feeling when youÛªve be...</td>\n      <td>1</td>\n    </tr>\n    <tr>\n      <th>6094</th>\n      <td>8702</td>\n      <td>sinking</td>\n      <td>NaN</td>\n      <td>that horrible sinking feeling when youÛªve be...</td>\n      <td>0</td>\n    </tr>\n    <tr>\n      <th>6103</th>\n      <td>8714</td>\n      <td>sinking</td>\n      <td>NaN</td>\n      <td>that horrible sinking feeling when youÛªve be...</td>\n      <td>0</td>\n    </tr>\n    <tr>\n      <th>6123</th>\n      <td>8739</td>\n      <td>sinking</td>\n      <td>MA</td>\n      <td>that horrible sinking feeling when youÛªve be...</td>\n      <td>1</td>\n    </tr>\n    <tr>\n      <th>6614</th>\n      <td>9470</td>\n      <td>terrorism</td>\n      <td>Jeddah_Saudi Arabia.</td>\n      <td>In #islam saving a person is equal in reward t...</td>\n      <td>0</td>\n    </tr>\n    <tr>\n      <th>6616</th>\n      <td>9472</td>\n      <td>terrorism</td>\n      <td>Riyadh</td>\n      <td>In #islam saving a person is equal in reward t...</td>\n      <td>1</td>\n    </tr>\n  </tbody>\n</table>\n</div>"
     },
     "execution_count": 4,
     "metadata": {},
     "output_type": "execute_result"
    }
   ],
   "source": [
    "# FIXING duplicates\n",
    "\n",
    "duplicates_df = train_df[train_df['text'].isin(mismatched_texts) == True]\n",
    "duplicates_df"
   ]
  },
  {
   "cell_type": "code",
   "execution_count": 5,
   "metadata": {
    "pycharm": {
     "name": "#%%\n"
    }
   },
   "outputs": [
    {
     "name": "stdout",
     "output_type": "stream",
     "text": [
      "7558\n"
     ]
    },
    {
     "data": {
      "text/plain": "Empty DataFrame\nColumns: [id, keyword, location, text, target, target_relabeled]\nIndex: []",
      "text/html": "<div>\n<style scoped>\n    .dataframe tbody tr th:only-of-type {\n        vertical-align: middle;\n    }\n\n    .dataframe tbody tr th {\n        vertical-align: top;\n    }\n\n    .dataframe thead th {\n        text-align: right;\n    }\n</style>\n<table border=\"1\" class=\"dataframe\">\n  <thead>\n    <tr style=\"text-align: right;\">\n      <th></th>\n      <th>id</th>\n      <th>keyword</th>\n      <th>location</th>\n      <th>text</th>\n      <th>target</th>\n      <th>target_relabeled</th>\n    </tr>\n  </thead>\n  <tbody>\n  </tbody>\n</table>\n</div>"
     },
     "execution_count": 5,
     "metadata": {},
     "output_type": "execute_result"
    }
   ],
   "source": [
    "train_df.loc[train_df['text'] == 'To fight bioterrorism sir.', 'target_relabeled'] = 0\n",
    "train_df.loc[train_df['text'] == \"Mmmmmm I'm burning.... I'm burning buildings I'm building.... Oooooohhhh oooh ooh...\", 'target_relabeled'] = 0\n",
    "train_df.loc[train_df['text'] == \"I Pledge Allegiance To The P.O.P.E. And The Burning Buildings of Epic City. ??????\", 'target_relabeled'] = 0\n",
    "train_df.loc[train_df['text'] == 'like for the music video I want some real action shit like burning buildings and police chases not some weak ben winston shit', 'target_relabeled'] = 0\n",
    "train_df.loc[train_df['text'] == '.POTUS #StrategicPatience is a strategy for #Genocide; refugees; IDP Internally displaced people; horror; etc. https://t.co/rqWuoy1fm4', 'target_relabeled'] = 1\n",
    "train_df.loc[train_df['text'] == \"He came to a land which was engulfed in tribal war and turned it into a land of peace i.e. Madinah. #ProphetMuhammad #islam\", 'target_relabeled'] = 0\n",
    "train_df.loc[train_df['text'] == 'Who is bringing the tornadoes and floods. Who is bringing the climate change. God is after America He is plaguing her\\n \\n#FARRAKHAN #QUOTE', 'target_relabeled'] = 0\n",
    "train_df.loc[train_df['text'] == '#foodscare #offers2go #NestleIndia slips into loss after #Magginoodle #ban unsafe and hazardous for #humanconsumption', 'target_relabeled'] = 0\n",
    "train_df.loc[train_df['text'] == \"Caution: breathing may be hazardous to your health.\", 'target_relabeled'] = 1\n",
    "train_df.loc[train_df['text'] == 'Hellfire is surrounded by desires so be careful and donÛªt let your desires control you! #Afterlife', 'target_relabeled'] = 0\n",
    "train_df.loc[train_df['text'] == \"The Prophet (peace be upon him) said 'Save yourself from Hellfire even if it is by giving half a date in charity.'\", 'target_relabeled'] = 0\n",
    "train_df.loc[train_df['text'] == \"#Allah describes piling up #wealth thinking it would last #forever as the description of the people of #Hellfire in Surah Humaza. #Reflect\", 'target_relabeled'] = 0\n",
    "train_df.loc[train_df['text'] == \"Hellfire! We donÛªt even want to think about it or mention it so letÛªs not do anything that leads to it #islam!\", 'target_relabeled'] = 0\n",
    "train_df.loc[train_df['text'] == 'RT NotExplained: The only known image of infamous hijacker D.B. Cooper. http://t.co/JlzK2HdeTG', 'target_relabeled'] = 1\n",
    "train_df.loc[train_df['text'] == 'CLEARED:incident with injury:I-495  inner loop Exit 31 - MD 97/Georgia Ave Silver Spring', 'target_relabeled'] = 1\n",
    "train_df.loc[train_df['text'] == \"wowo--=== 12000 Nigerian refugees repatriated from Cameroon\", 'target_relabeled'] = 0\n",
    "train_df.loc[train_df['text'] == \"that horrible sinking feeling when youÛªve been at home on your phone for a while and you realise its been on 3G this whole time\", 'target_relabeled'] = 0\n",
    "train_df.loc[train_df['text'] == 'In #islam saving a person is equal in reward to saving all humans! Islam is the opposite of terrorism!', 'target_relabeled'] = 0\n",
    "\n",
    "train_df = train_df[train_df['text'].isin(mismatched_texts) == False]\n",
    "train_df.reset_index(drop=False)\n",
    "print(len(train_df))\n",
    "duplicates_df = train_df[train_df['text'].isin(mismatched_texts) == True]\n",
    "duplicates_df"
   ]
  },
  {
   "cell_type": "code",
   "execution_count": 6,
   "metadata": {
    "pycharm": {
     "name": "#%%\n"
    }
   },
   "outputs": [
    {
     "data": {
      "text/plain": "False"
     },
     "execution_count": 6,
     "metadata": {},
     "output_type": "execute_result"
    }
   ],
   "source": [
    "train_df['text'].isnull().values.any()"
   ]
  },
  {
   "cell_type": "markdown",
   "metadata": {
    "pycharm": {
     "name": "#%% md\n"
    }
   },
   "source": [
    "## Preprocessing"
   ]
  },
  {
   "cell_type": "code",
   "execution_count": 7,
   "metadata": {
    "pycharm": {
     "name": "#%%\n"
    }
   },
   "outputs": [
    {
     "data": {
      "text/plain": "   id keyword location                                               text  \\\n0   1     NaN      NaN  Our Deeds are the Reason of this #earthquake M...   \n1   4     NaN      NaN             Forest fire near La Ronge Sask. Canada   \n2   5     NaN      NaN  All residents asked to 'shelter in place' are ...   \n\n   target  target_relabeled                                       text_preproc  \n0       1               NaN  our deeds are the reason of this earthquake ma...  \n1       1               NaN              forest fire near la ronge sask canada  \n2       1               NaN  all residents asked to shelter in place are be...  ",
      "text/html": "<div>\n<style scoped>\n    .dataframe tbody tr th:only-of-type {\n        vertical-align: middle;\n    }\n\n    .dataframe tbody tr th {\n        vertical-align: top;\n    }\n\n    .dataframe thead th {\n        text-align: right;\n    }\n</style>\n<table border=\"1\" class=\"dataframe\">\n  <thead>\n    <tr style=\"text-align: right;\">\n      <th></th>\n      <th>id</th>\n      <th>keyword</th>\n      <th>location</th>\n      <th>text</th>\n      <th>target</th>\n      <th>target_relabeled</th>\n      <th>text_preproc</th>\n    </tr>\n  </thead>\n  <tbody>\n    <tr>\n      <th>0</th>\n      <td>1</td>\n      <td>NaN</td>\n      <td>NaN</td>\n      <td>Our Deeds are the Reason of this #earthquake M...</td>\n      <td>1</td>\n      <td>NaN</td>\n      <td>our deeds are the reason of this earthquake ma...</td>\n    </tr>\n    <tr>\n      <th>1</th>\n      <td>4</td>\n      <td>NaN</td>\n      <td>NaN</td>\n      <td>Forest fire near La Ronge Sask. Canada</td>\n      <td>1</td>\n      <td>NaN</td>\n      <td>forest fire near la ronge sask canada</td>\n    </tr>\n    <tr>\n      <th>2</th>\n      <td>5</td>\n      <td>NaN</td>\n      <td>NaN</td>\n      <td>All residents asked to 'shelter in place' are ...</td>\n      <td>1</td>\n      <td>NaN</td>\n      <td>all residents asked to shelter in place are be...</td>\n    </tr>\n  </tbody>\n</table>\n</div>"
     },
     "execution_count": 7,
     "metadata": {},
     "output_type": "execute_result"
    }
   ],
   "source": [
    "\n",
    "EXTENDED_STRIP_REGEX = r'[!\"#$%&()\\*\\+,-\\./:;„”<=>?@\\[\\\\\\]^_`{|}~\\']'\n",
    "REMOVE_NUMERICAL = r'[0-9]'\n",
    "\n",
    "def _preprocessing(txt: str) -> str:\n",
    "    txt = txt.lower()\n",
    "    txt = re.sub(r'http?:\\/\\/t.co\\/[A-Za-z0-9]+', '', txt)\n",
    "    txt = re.sub(r'@[A-Za-z0-9]+', '', txt)\n",
    "    txt = re.sub(EXTENDED_STRIP_REGEX, '', txt)\n",
    "    txt = re.sub(REMOVE_NUMERICAL, '', txt)\n",
    "    return txt\n",
    "\n",
    "train_df['text_preproc'] = train_df['text'].apply(_preprocessing)\n",
    "test_df['text_preproc'] = test_df['text'].apply(_preprocessing)\n",
    "\n",
    "nlp = spacy.load('en_core_web_sm')\n",
    "\n",
    "# disable not used parts of pipeline\n",
    "def _lemma(txt: str) -> str:\n",
    "    return ' '.join([d.lemma_ for d in nlp(txt)])\n",
    "\n",
    "# train_df['text_preproc'] = train_df['text_preproc'].apply(_lemma)\n",
    "train_df[:3]"
   ]
  },
  {
   "cell_type": "markdown",
   "metadata": {
    "pycharm": {
     "name": "#%% md\n"
    }
   },
   "source": [
    "## Data split"
   ]
  },
  {
   "cell_type": "code",
   "execution_count": 8,
   "metadata": {
    "pycharm": {
     "name": "#%%\n"
    }
   },
   "outputs": [
    {
     "data": {
      "text/plain": "0    our deeds are the reason of this earthquake ma...\n1                forest fire near la ronge sask canada\n2    all residents asked to shelter in place are be...\nName: text_preproc, dtype: object"
     },
     "execution_count": 8,
     "metadata": {},
     "output_type": "execute_result"
    }
   ],
   "source": [
    "X_all = train_df['text_preproc']\n",
    "y_all = train_df['target']\n",
    "\n",
    "X_all[:3]"
   ]
  },
  {
   "cell_type": "code",
   "execution_count": 9,
   "metadata": {
    "pycharm": {
     "name": "#%%\n"
    }
   },
   "outputs": [
    {
     "data": {
      "text/plain": "array(['our deeds are the reason of this earthquake may allah forgive us all',\n       'forest fire near la ronge sask canada',\n       'all residents asked to shelter in place are being notified by officers no other evacuation or shelter in place orders are expected'],\n      dtype=object)"
     },
     "execution_count": 9,
     "metadata": {},
     "output_type": "execute_result"
    }
   ],
   "source": [
    "X = X_all.to_numpy()\n",
    "y = y_all.to_numpy()\n",
    "\n",
    "X[:3]"
   ]
  },
  {
   "cell_type": "code",
   "execution_count": 10,
   "metadata": {
    "pycharm": {
     "name": "#%%\n"
    }
   },
   "outputs": [
    {
     "data": {
      "text/plain": "array([' i see that crazy how this line blew up',\n       'panic attacks are the worst ',\n       'retweeted sarah silverman \\n\\nsoundtrack of my walk starts w tracey ullman they dont know  perfect'],\n      dtype=object)"
     },
     "execution_count": 10,
     "metadata": {},
     "output_type": "execute_result"
    }
   ],
   "source": [
    "X_train, X_test, y_train, y_test = train_test_split(X, y, test_size=0.2, random_state=42)\n",
    "\n",
    "X_train[:3]"
   ]
  },
  {
   "cell_type": "markdown",
   "metadata": {
    "pycharm": {
     "name": "#%% md\n"
    }
   },
   "source": [
    "## Experiments center"
   ]
  },
  {
   "cell_type": "code",
   "execution_count": 11,
   "metadata": {
    "pycharm": {
     "name": "#%%\n"
    },
    "tags": [
     "parameters"
    ]
   },
   "outputs": [],
   "source": [
    "hidden_layers_number = 2\n",
    "hidden_layer_units = 128\n",
    "dropout_rate = 0.5\n",
    "batch_size = 128\n",
    "iter_count = 1\n",
    "training_epochs = 30"
   ]
  },
  {
   "cell_type": "markdown",
   "metadata": {
    "pycharm": {
     "name": "#%% md\n"
    }
   },
   "source": [
    "## Vectorization"
   ]
  },
  {
   "cell_type": "code",
   "execution_count": 12,
   "metadata": {
    "pycharm": {
     "name": "#%%\n"
    }
   },
   "outputs": [
    {
     "data": {
      "text/plain": "array([[-3.21389805e-03,  1.62547499e-01, -2.03680485e-01,\n        -4.14065160e-02,  1.36496812e-01,  3.01672965e-02,\n         2.40606014e-02, -4.88891006e-02,  9.65607017e-02,\n         1.97369003e+00, -1.47679985e-01, -7.12687988e-03,\n         9.60905552e-02, -8.94457325e-02, -1.24496900e-01,\n         5.00745187e-03, -4.59452979e-02,  9.34645057e-01,\n        -1.85388416e-01, -1.45993829e-01,  2.27752805e-01,\n        -2.43380964e-02,  6.19754978e-02,  3.56358998e-02,\n        -8.64070952e-02,  3.21332887e-02, -1.82625979e-01,\n        -1.08486414e-01,  1.00467969e-02, -1.64426491e-01,\n        -1.39493629e-01,  1.80215999e-01, -8.44712630e-02,\n         2.79437006e-02,  7.09737092e-02,  1.50484052e-02,\n         1.50462436e-02,  3.28647010e-02, -1.46054298e-01,\n        -5.41765802e-02, -1.09109700e-01, -1.39834033e-02,\n         8.38214904e-02, -1.20545235e-02,  7.47731030e-02,\n         8.97453949e-02, -2.22895712e-01, -2.98594944e-02,\n        -6.79967999e-02,  3.60605977e-02, -1.32573873e-01,\n         1.09428205e-01, -8.56962949e-02,  6.47676364e-02,\n        -4.06987965e-05,  4.63455990e-02, -6.82469457e-04,\n        -1.57923013e-01,  6.45757988e-02, -1.42411590e-01,\n        -8.95783901e-02, -3.22350189e-02, -1.34962410e-01,\n         1.61010504e-01,  1.10931993e-01, -1.13974214e-01,\n         3.05316988e-02,  1.12579390e-01,  1.27576381e-01,\n         1.54115617e-01,  1.41061127e-01,  2.74467710e-02,\n         2.87791997e-01, -3.60196009e-02,  1.14879295e-01,\n         9.52107906e-02,  5.36525026e-02, -9.57868993e-02,\n        -1.54978186e-01,  1.92516550e-01,  4.90712896e-02,\n         6.29634932e-02, -4.98384014e-02,  1.64696568e-04,\n         8.98851976e-02, -1.11636177e-01,  1.76033005e-01,\n        -3.32418263e-01,  2.07080990e-01,  1.07899800e-01,\n        -1.32266998e-01,  1.02778792e-01, -1.68882295e-01,\n         4.03934009e-02,  1.61243200e-01,  4.26659826e-03,\n        -1.71848945e-02, -6.91539049e-02,  6.66591013e-03,\n         3.12433988e-02, -7.97087029e-02,  2.49993000e-02,\n        -6.25113994e-02, -9.01731104e-02,  3.68694589e-02,\n        -6.75230980e-01,  9.67904255e-02, -7.66899213e-02,\n        -5.28038517e-02, -5.05395308e-02,  2.86682006e-02,\n        -3.17351997e-01,  1.15694188e-01, -9.74222943e-02,\n         4.51410338e-02,  3.08913980e-02, -4.85367738e-02,\n        -4.82223928e-02,  1.28755989e-02, -2.12011058e-02,\n         9.78657007e-02, -7.56206065e-02, -5.15498978e-04,\n        -8.16329047e-02,  6.71527982e-02,  1.11527801e-01,\n        -1.07824102e-01, -2.24232316e-01,  2.00165994e-02,\n        -1.05454206e-01, -9.47687924e-02,  9.22024027e-02,\n        -9.45305005e-02,  1.86394200e-01,  2.47889310e-01,\n        -1.47542087e-02,  1.63235068e-02, -1.59104969e-02,\n        -2.22560018e-02, -7.30621591e-02, -1.83693004e+00,\n         1.10511303e-01,  8.07409063e-02, -3.54319997e-02,\n        -3.67173110e-03, -1.09551989e-01, -2.14470819e-01,\n         4.88144942e-02, -4.97818999e-02, -8.64204019e-02,\n        -9.82926935e-02,  6.58700019e-02,  9.46715325e-02,\n        -8.36331993e-02,  6.25520051e-02, -5.58067970e-02,\n        -1.02061808e-01, -2.71323975e-02, -2.75200009e-02,\n        -4.98621054e-02, -9.12584960e-02,  1.41249999e-01,\n        -1.35701597e-01,  2.18083970e-02, -9.62577909e-02,\n        -4.11982983e-02,  8.29438940e-02, -4.30516414e-02,\n         3.98760624e-02,  6.19194992e-02, -9.25818980e-02,\n        -3.33902612e-02,  8.20719730e-03, -3.10033977e-01,\n        -7.91902021e-02, -1.45123024e-02, -1.12361297e-01,\n         1.05910584e-01, -6.21400885e-02, -2.87480024e-03,\n         4.57278974e-02,  2.39417963e-02, -1.10344291e-01,\n         1.50905997e-02,  2.89182998e-02, -6.16846606e-02,\n        -1.27883211e-01, -7.45202005e-02,  2.94087473e-02,\n         1.53265148e-01,  2.17244893e-01, -3.96839902e-03,\n        -1.63736790e-01,  4.87359092e-02, -9.63070430e-03,\n         1.29435092e-01,  4.66944948e-02, -2.04992726e-01,\n        -9.82424021e-02,  7.18362778e-02, -7.27484003e-02,\n        -1.66994795e-01, -7.18306005e-02, -8.65397006e-02,\n         1.18194200e-01,  4.09220979e-02,  8.42925981e-02,\n         3.90863046e-03, -2.23925281e-02,  1.10440012e-02,\n        -1.12576403e-01, -3.71209010e-02,  7.53820166e-02,\n        -7.59679899e-02, -1.70661081e-02,  2.06652194e-01,\n        -8.51543024e-02,  2.04354823e-02, -1.18820406e-01,\n        -8.39761943e-02, -1.15907053e-02,  2.31796205e-02,\n        -2.66412999e-02, -2.03343015e-02, -1.11324433e-02,\n        -1.81808800e-01,  6.18960010e-03,  1.87631205e-01,\n         6.38133055e-03,  7.17519876e-03, -8.41518119e-02,\n         5.84579036e-02,  1.14799738e-01,  5.75845018e-02,\n        -3.07777170e-02, -1.04735136e-01,  5.00560477e-02,\n         5.04833572e-02, -2.33487990e-02,  1.70423001e-01,\n         8.12028870e-02,  8.48744065e-02,  4.75092977e-03,\n         2.12068111e-01,  5.70555106e-02, -2.16721103e-01,\n        -1.57322399e-02, -3.16429958e-02, -8.67094696e-02,\n         1.87469497e-01, -7.45967031e-02, -1.58779502e-01,\n        -2.99804658e-02, -1.34976907e-02,  7.14107975e-02,\n         1.09334804e-01,  5.88613972e-02,  2.69249827e-03,\n        -7.41388947e-02, -5.02272956e-02,  2.19138533e-01,\n         1.58531591e-01,  2.92433053e-02, -7.32942224e-02,\n         2.72314399e-01, -7.13717043e-02,  6.19889656e-03,\n         1.50070995e-01,  4.06457990e-01,  1.77486584e-01,\n         2.49161432e-03,  8.29269439e-02, -1.20937601e-01,\n        -1.53233990e-01, -6.65654019e-02,  6.42290432e-03,\n        -1.87202189e-02,  1.48909842e-03,  2.58454122e-02,\n         1.10024095e-01,  3.74009982e-02,  3.81204474e-04,\n        -1.42664552e-01,  7.72994012e-02, -9.16824788e-02,\n         7.85092935e-02,  2.43965983e-01, -3.41602005e-02,\n         1.71997398e-01, -5.31963892e-02, -1.20746747e-01,\n         6.13766015e-02,  9.38185081e-02, -6.80887923e-02,\n         7.95418769e-02, -8.44889060e-02, -5.24630919e-02,\n         1.20664500e-01,  1.01410091e-01,  1.41869396e-01]], dtype=float32)"
     },
     "execution_count": 12,
     "metadata": {},
     "output_type": "execute_result"
    }
   ],
   "source": [
    "nlp = spacy.load('en_core_web_lg')\n",
    "\n",
    "def vectorize_one_vector(df: pd.DataFrame) -> pd.DataFrame:\n",
    "    return np.array([nlp(text).vector for text in df])\n",
    "\n",
    "# here we are doing averaging tokens from tweets\n",
    "with nlp.disable_pipes():\n",
    "    X_train_vec = vectorize_one_vector(X_train)\n",
    "    X_test_vec = vectorize_one_vector(X_test)\n",
    "\n",
    "X_train_vec[:1]"
   ]
  },
  {
   "cell_type": "code",
   "execution_count": 13,
   "outputs": [
    {
     "name": "stdout",
     "output_type": "stream",
     "text": [
      "6046\n",
      "6046\n"
     ]
    }
   ],
   "source": [
    "print(len(X_train))\n",
    "print(len(X_train_vec))"
   ],
   "metadata": {
    "collapsed": false,
    "pycharm": {
     "name": "#%%\n"
    }
   }
  },
  {
   "cell_type": "markdown",
   "metadata": {
    "pycharm": {
     "name": "#%% md\n"
    }
   },
   "source": [
    "## Model"
   ]
  },
  {
   "cell_type": "code",
   "execution_count": 14,
   "metadata": {
    "pycharm": {
     "name": "#%%\n"
    }
   },
   "outputs": [
    {
     "name": "stdout",
     "output_type": "stream",
     "text": [
      "Model: \"sequential\"\n",
      "_________________________________________________________________\n",
      "Layer (type)                 Output Shape              Param #   \n",
      "=================================================================\n",
      "dense (Dense)                (None, 128)               38528     \n",
      "_________________________________________________________________\n",
      "dropout (Dropout)            (None, 128)               0         \n",
      "_________________________________________________________________\n",
      "dense_1 (Dense)              (None, 128)               16512     \n",
      "_________________________________________________________________\n",
      "dropout_1 (Dropout)          (None, 128)               0         \n",
      "_________________________________________________________________\n",
      "dense_2 (Dense)              (None, 1)                 129       \n",
      "=================================================================\n",
      "Total params: 55,169\n",
      "Trainable params: 55,169\n",
      "Non-trainable params: 0\n",
      "_________________________________________________________________\n"
     ]
    }
   ],
   "source": [
    "def create_model(input_shape: int, hidden_layers_number: int, hidden_layer_units: int, dropout_rate: float) -> str:\n",
    "    m = tf.keras.models.Sequential()\n",
    "    m.add(tf.keras.Input(shape=(input_shape,)))\n",
    "    for i in range(0, hidden_layers_number):\n",
    "        m.add(layers.Dense(units=hidden_layer_units, activation='relu'))\n",
    "        m.add(layers.Dropout(rate=dropout_rate))\n",
    "    m.add(layers.Dense(units=1, activation='sigmoid'))\n",
    "\n",
    "    return m\n",
    "\n",
    "model = create_model(X_train_vec.shape[1], hidden_layers_number, hidden_layer_units, dropout_rate)\n",
    "\n",
    "# first `None` is the batch dimension\n",
    "model.summary()"
   ]
  },
  {
   "cell_type": "code",
   "execution_count": 15,
   "metadata": {
    "pycharm": {
     "name": "#%%\n"
    }
   },
   "outputs": [],
   "source": [
    "model.compile(optimizer=tf.keras.optimizers.Adam(), loss='binary_crossentropy', metrics=['accuracy'])"
   ]
  },
  {
   "cell_type": "code",
   "execution_count": 16,
   "metadata": {
    "pycharm": {
     "name": "#%%\n"
    }
   },
   "outputs": [
    {
     "name": "stdout",
     "output_type": "stream",
     "text": [
      "Epoch 1/30\n",
      "48/48 [==============================] - 3s 39ms/step - loss: 0.6073 - accuracy: 0.6760 - val_loss: 0.4502 - val_accuracy: 0.8009\b\b\b\b\b\b\b\b\b\b\b\b\b\b\b\b\b\b\b\b\b\b\b\b\b\b\b\b\b\b\b\b\b\b\b\b\b\b\b\b\b\b\b\b\b\b\b\b\b\b\b\b\b\b\b\b\b\b\b\b\b\b\b\b\b\b\b\b\b\b\b\b\b\b\b\b\b\b\b\b\b\b\b\b\b\b\b\b\b\b\b\b\b\b\b\b\b\b\b\b\b\b\b\b\b\b\b\b\b\b\b\b\b\b\b\b\b\b\b\b\b\b\b\b\b\b\b\b\b\b\b\b\b\b\b\b\b\b\b\b\b\b\b\b\b\b\b\b\b\b\b\b\b\b\b\b\b\b\b\b\b\b\b\b\b\b\b\b\b\b\b\b\b\b\b\b\b\b\b\b\b\b\b\b\b\b\b\b\b\b\b\b\b\b\b\b\b\b\b\b\b\b\b\b\b\b\b\b\b\b\b\b\b\b\b\b\b\b\b\b\b\b\b\b\b\b\b\b\b\b\b\b\b\b\b\b\b\b\b\b\b\b\b\b\b\b\b\b\b\b\b\b\b\b\b\b\b\b\b\b\b\b\b\b\b\b\b\b\b\b\b\b\b\b\b\b\b\b\b\b\b\b\b\n",
      "Epoch 2/30\n",
      "48/48 [==============================] - 0s 6ms/step - loss: 0.4776 - accuracy: 0.7929 - val_loss: 0.4163 - val_accuracy: 0.8234\b\b\b\b\b\b\b\b\b\b\b\b\b\b\b\b\b\b\b\b\b\b\b\b\b\b\b\b\b\b\b\b\b\b\b\b\b\b\b\b\b\b\b\b\b\b\b\b\b\b\b\b\b\b\b\b\b\b\b\b\b\b\b\b\b\b\b\b\b\b\b\b\b\b\b\b\b\b\b\b\b\b\b\b\b\b\b\b\b\b\b\b\b\b\b\b\b\b\b\b\b\b\b\b\b\b\b\b\b\b\b\b\b\b\b\b\b\b\b\b\b\b\b\b\b\b\b\b\b\b\b\b\b\b\b\b\b\b\b\b\b\b\b\b\b\b\b\b\b\b\b\b\b\b\b\b\b\b\b\b\b\b\b\b\b\b\b\b\b\b\b\b\b\b\b\b\b\b\b\b\b\b\b\b\b\b\b\b\b\b\b\b\b\b\b\b\b\b\b\b\b\b\b\b\b\b\b\b\b\b\b\b\b\b\b\b\b\b\b\b\b\b\b\b\b\b\b\b\b\b\b\b\b\b\b\b\b\b\b\b\b\b\b\b\b\b\b\b\b\b\b\b\b\b\b\b\b\b\b\b\b\b\b\b\b\b\b\b\b\b\b\b\b\b\b\b\b\b\b\b\b\b\n",
      "Epoch 3/30\n",
      "48/48 [==============================] - 0s 6ms/step - loss: 0.4481 - accuracy: 0.7951 - val_loss: 0.4061 - val_accuracy: 0.8261\b\b\b\b\b\b\b\b\b\b\b\b\b\b\b\b\b\b\b\b\b\b\b\b\b\b\b\b\b\b\b\b\b\b\b\b\b\b\b\b\b\b\b\b\b\b\b\b\b\b\b\b\b\b\b\b\b\b\b\b\b\b\b\b\b\b\b\b\b\b\b\b\b\b\b\b\b\b\b\b\b\b\b\b\b\b\b\b\b\b\b\b\b\b\b\b\b\b\b\b\b\b\b\b\b\b\b\b\b\b\b\b\b\b\b\b\b\b\b\b\b\b\b\b\b\b\b\b\b\b\b\b\b\b\b\b\b\b\b\b\b\b\b\b\b\b\b\b\b\b\b\b\b\b\b\b\b\b\b\b\b\b\b\b\b\b\b\b\b\b\b\b\b\b\b\b\b\b\b\b\b\b\b\b\b\b\b\b\b\b\b\b\b\b\b\b\b\b\b\b\b\b\b\b\b\b\b\b\b\b\b\b\b\b\b\b\b\b\b\b\b\b\b\b\b\b\b\b\b\b\b\b\b\b\b\b\b\b\b\b\b\b\b\b\b\b\b\b\b\b\b\b\b\b\b\b\b\b\b\b\b\b\b\b\b\b\b\b\b\b\b\b\b\b\b\b\b\b\b\b\b\b\n",
      "Epoch 4/30\n",
      "48/48 [==============================] - 0s 6ms/step - loss: 0.4156 - accuracy: 0.8168 - val_loss: 0.4069 - val_accuracy: 0.8353\b\b\b\b\b\b\b\b\b\b\b\b\b\b\b\b\b\b\b\b\b\b\b\b\b\b\b\b\b\b\b\b\b\b\b\b\b\b\b\b\b\b\b\b\b\b\b\b\b\b\b\b\b\b\b\b\b\b\b\b\b\b\b\b\b\b\b\b\b\b\b\b\b\b\b\b\b\b\b\b\b\b\b\b\b\b\b\b\b\b\b\b\b\b\b\b\b\b\b\b\b\b\b\b\b\b\b\b\b\b\b\b\b\b\b\b\b\b\b\b\b\b\b\b\b\b\b\b\b\b\b\b\b\b\b\b\b\b\b\b\b\b\b\b\b\b\b\b\b\b\b\b\b\b\b\b\b\b\b\b\b\b\b\b\b\b\b\b\b\b\b\b\b\b\b\b\b\b\b\b\b\b\b\b\b\b\b\b\b\b\b\b\b\b\b\b\b\b\b\b\b\b\b\b\b\b\b\b\b\b\b\b\b\b\b\b\b\b\b\b\b\b\b\b\b\b\b\b\b\b\b\b\b\b\b\b\b\b\b\b\b\b\b\b\b\b\b\b\b\b\b\b\b\b\b\b\b\b\b\b\b\b\b\b\b\b\b\b\b\b\b\b\b\b\b\b\b\b\b\b\b\b\n",
      "Epoch 5/30\n",
      "48/48 [==============================] - 0s 5ms/step - loss: 0.4012 - accuracy: 0.8257 - val_loss: 0.4038 - val_accuracy: 0.8353\b\b\b\b\b\b\b\b\b\b\b\b\b\b\b\b\b\b\b\b\b\b\b\b\b\b\b\b\b\b\b\b\b\b\b\b\b\b\b\b\b\b\b\b\b\b\b\b\b\b\b\b\b\b\b\b\b\b\b\b\b\b\b\b\b\b\b\b\b\b\b\b\b\b\b\b\b\b\b\b\b\b\b\b\b\b\b\b\b\b\b\b\b\b\b\b\b\b\b\b\b\b\b\b\b\b\b\b\b\b\b\b\b\b\b\b\b\b\b\b\b\b\b\b\b\b\b\b\b\b\b\b\b\b\b\b\b\b\b\b\b\b\b\b\b\b\b\b\b\b\b\b\b\b\b\b\b\b\b\b\b\b\b\b\b\b\b\b\b\b\b\b\b\b\b\b\b\b\b\b\b\b\b\b\b\b\b\b\b\b\b\b\b\b\b\b\b\b\b\b\b\b\b\b\b\b\b\b\b\b\b\b\b\b\b\b\b\b\b\b\b\b\b\b\b\b\b\b\b\b\b\b\b\b\b\b\b\b\b\b\b\b\b\b\b\b\b\b\b\b\b\b\b\b\b\b\b\b\b\b\b\b\b\b\b\b\b\b\b\b\b\b\b\b\b\b\b\b\b\b\b\b\n",
      "Epoch 6/30\n",
      "48/48 [==============================] - 0s 5ms/step - loss: 0.3926 - accuracy: 0.8267 - val_loss: 0.4061 - val_accuracy: 0.8360\b\b\b\b\b\b\b\b\b\b\b\b\b\b\b\b\b\b\b\b\b\b\b\b\b\b\b\b\b\b\b\b\b\b\b\b\b\b\b\b\b\b\b\b\b\b\b\b\b\b\b\b\b\b\b\b\b\b\b\b\b\b\b\b\b\b\b\b\b\b\b\b\b\b\b\b\b\b\b\b\b\b\b\b\b\b\b\b\b\b\b\b\b\b\b\b\b\b\b\b\b\b\b\b\b\b\b\b\b\b\b\b\b\b\b\b\b\b\b\b\b\b\b\b\b\b\b\b\b\b\b\b\b\b\b\b\b\b\b\b\b\b\b\b\b\b\b\b\b\b\b\b\b\b\b\b\b\b\b\b\b\b\b\b\b\b\b\b\b\b\b\b\b\b\b\b\b\b\b\b\b\b\b\b\b\b\b\b\b\b\b\b\b\b\b\b\b\b\b\b\b\b\b\b\b\b\b\b\b\b\b\b\b\b\b\b\b\b\b\b\b\b\b\b\b\b\b\b\b\b\b\b\b\b\b\b\b\b\b\b\b\b\b\b\b\b\b\b\b\b\b\b\b\b\b\b\b\b\b\b\b\b\b\b\b\b\b\b\b\b\b\b\b\b\b\b\b\b\b\b\b\b\n",
      "Epoch 7/30\n",
      "48/48 [==============================] - 0s 5ms/step - loss: 0.3691 - accuracy: 0.8413 - val_loss: 0.4056 - val_accuracy: 0.8360\b\b\b\b\b\b\b\b\b\b\b\b\b\b\b\b\b\b\b\b\b\b\b\b\b\b\b\b\b\b\b\b\b\b\b\b\b\b\b\b\b\b\b\b\b\b\b\b\b\b\b\b\b\b\b\b\b\b\b\b\b\b\b\b\b\b\b\b\b\b\b\b\b\b\b\b\b\b\b\b\b\b\b\b\b\b\b\b\b\b\b\b\b\b\b\b\b\b\b\b\b\b\b\b\b\b\b\b\b\b\b\b\b\b\b\b\b\b\b\b\b\b\b\b\b\b\b\b\b\b\b\b\b\b\b\b\b\b\b\b\b\b\b\b\b\b\b\b\b\b\b\b\b\b\b\b\b\b\b\b\b\b\b\b\b\b\b\b\b\b\b\b\b\b\b\b\b\b\b\b\b\b\b\b\b\b\b\b\b\b\b\b\b\b\b\b\b\b\b\b\b\b\b\b\b\b\b\b\b\b\b\b\b\b\b\b\b\b\b\b\b\b\b\b\b\b\b\b\b\b\b\b\b\b\b\b\b\b\b\b\b\b\b\b\b\b\b\b\b\b\b\b\b\b\b\b\b\b\b\b\b\b\b\b\b\b\b\b\b\b\b\b\b\b\b\b\b\b\b\b\b\b\n",
      "Epoch 8/30\n",
      "48/48 [==============================] - 0s 4ms/step - loss: 0.3596 - accuracy: 0.8473 - val_loss: 0.4118 - val_accuracy: 0.8366\b\b\b\b\b\b\b\b\b\b\b\b\b\b\b\b\b\b\b\b\b\b\b\b\b\b\b\b\b\b\b\b\b\b\b\b\b\b\b\b\b\b\b\b\b\b\b\b\b\b\b\b\b\b\b\b\b\b\b\b\b\b\b\b\b\b\b\b\b\b\b\b\b\b\b\b\b\b\b\b\b\b\b\b\b\b\b\b\b\b\b\b\b\b\b\b\b\b\b\b\b\b\b\b\b\b\b\b\b\b\b\b\b\b\b\b\b\b\b\b\b\b\b\b\b\b\b\b\b\b\b\b\b\b\b\b\b\b\b\b\b\b\b\b\b\b\b\b\b\b\b\b\b\b\b\b\b\b\b\b\b\b\b\b\b\b\b\b\b\b\b\b\b\b\b\b\b\b\b\b\b\b\b\b\b\b\b\b\b\b\b\b\b\b\b\b\b\b\b\b\n"
     ]
    }
   ],
   "source": [
    "history = model.fit(x=X_train_vec, y=y_train, epochs=training_epochs, callbacks=[callbacks.EarlyStopping(patience=3)],\n",
    "                    batch_size=batch_size, validation_data=(X_test_vec, y_test))"
   ]
  },
  {
   "cell_type": "code",
   "execution_count": 17,
   "metadata": {
    "pycharm": {
     "name": "#%%\n"
    }
   },
   "outputs": [
    {
     "name": "stdout",
     "output_type": "stream",
     "text": [
      "48/48 [==============================] - 0s 1ms/step - loss: 0.4118 - accuracy: 0.8366\b\b\b\b\b\b\b\b\b\b\b\b\b\b\b\b\b\b\b\b\b\b\b\b\b\b\b\b\b\b\b\b\b\b\b\b\b\b\b\b\b\b\b\b\b\b\b\b\b\b\b\b\b\b\b\b\b\b\b\b\b\b\b\b\b\b\b\b\b\b\b\b\b\b\b\b\b\b\b\b\b\b\b\b\b\b\b\b\b\b\b\b\b\b\b\b\b\b\b\b\b\b\b\b\b\b\b\b\b\b\b\b\b\b\b\b\b\b\b\b\b\b\b\b\b\b\b\b\b\b\b\b\b\b\b\b\b\b\b\b\b\b\b\b\b\b\b\b\b\b\b\b\b\b\b\b\b\b\b\b\n",
      "Loss:  0.4117971658706665\n",
      "Accuracy:  0.8366402387619019\n"
     ]
    },
    {
     "data": {
      "text/plain": "<Figure size 432x288 with 1 Axes>",
      "image/png": "[encoded data removed]"
     },
     "metadata": {
      "needs_background": "light"
     },
     "output_type": "display_data"
    },
    {
     "data": {
      "text/plain": "<Figure size 432x288 with 1 Axes>",
      "image/png": "[encoded data removed]"
     },
     "metadata": {
      "needs_background": "light"
     },
     "output_type": "display_data"
    }
   ],
   "source": [
    "loss, accuracy = model.evaluate(X_test_vec, y_test)\n",
    "print('Loss: ', loss)\n",
    "print('Accuracy: ', accuracy)\n",
    "\n",
    "history_dict = history.history\n",
    "\n",
    "acc = history_dict['accuracy']\n",
    "val_acc = history_dict['val_accuracy']\n",
    "loss = history_dict['loss']\n",
    "val_loss = history_dict['val_loss']\n",
    "\n",
    "epochs = range(1, len(acc) + 1)\n",
    "\n",
    "# \"bo\" is for \"blue dot\"\n",
    "plt.plot(epochs, loss, 'r', label='Training loss')\n",
    "# b is for \"solid blue line\"\n",
    "plt.plot(epochs, val_loss, 'b', label='Validation loss')\n",
    "plt.title('Training and validation loss')\n",
    "plt.xlabel('Epochs')\n",
    "plt.ylabel('Loss')\n",
    "plt.legend()\n",
    "\n",
    "plt.show()\n",
    "\n",
    "plt.clf()\n",
    "plt.plot(epochs, acc, 'r', label='Training acc')\n",
    "plt.plot(epochs, val_acc, 'b', label='Validation acc')\n",
    "plt.title('Training and validation accuracy')\n",
    "plt.xlabel('Epochs')\n",
    "plt.ylabel('Accuracy')\n",
    "plt.legend(loc='lower right')\n",
    "\n",
    "axes = plt.gca()\n",
    "axes.set_ylim([0.5, 1])\n",
    "\n",
    "max_val_acc = f'{np.max(history_dict[\"val_accuracy\"]):.3f}'\n",
    "mean_val_acc = f'{np.mean(history_dict[\"val_accuracy\"]):.3f}'\n",
    "\n",
    "plt.savefig(f'mlp_max{max_val_acc}_mean{mean_val_acc}_layers{hidden_layers_number}_units{hidden_layer_units}'\n",
    "            f'_drop{dropout_rate}_batch{batch_size}_{iter_count}.png')\n",
    "\n",
    "plt.show()"
   ]
  },
  {
   "cell_type": "code",
   "execution_count": 18,
   "metadata": {
    "pycharm": {
     "name": "#%%\n"
    }
   },
   "outputs": [
    {
     "name": "stderr",
     "output_type": "stream",
     "text": [
      "c:\\users\\mikol\\miniconda3\\envs\\kaggle02\\lib\\site-packages\\tensorflow\\python\\keras\\engine\\sequential.py:450: UserWarning: `model.predict_classes()` is deprecated and will be removed after 2021-01-01. Please use instead:* `np.argmax(model.predict(x), axis=-1)`,   if your model does multi-class classification   (e.g. if it uses a `softmax` last-layer activation).* `(model.predict(x) > 0.5).astype(\"int32\")`,   if your model does binary classification   (e.g. if it uses a `sigmoid` last-layer activation).\n",
      "  warnings.warn('`model.predict_classes()` is deprecated and '\n"
     ]
    },
    {
     "name": "stdout",
     "output_type": "stream",
     "text": [
      "[[762 105]\n",
      " [142 503]]\n",
      "Normalized confusion matrix\n"
     ]
    },
    {
     "data": {
      "text/plain": "<Figure size 432x288 with 2 Axes>",
      "image/png": "[encoded data removed]"
     },
     "metadata": {
      "needs_background": "light"
     },
     "output_type": "display_data"
    }
   ],
   "source": [
    "def plot_confusion_matrix(cm, classes,\n",
    "                          normalize=True,\n",
    "                          title='Confusion matrix for test set',\n",
    "                          cmap=plt.cm.Blues):\n",
    "\n",
    "    \"\"\"\n",
    "    This function prints and plots the confusion matrix.\n",
    "    Normalization can be applied by setting `normalize=True`.print(classification_report(y_test, y_pred_test))\n",
    "    \"\"\"\n",
    "    print(cm)\n",
    "    if normalize:\n",
    "        cm = cm.astype('float') / cm.sum(axis=1)[:, np.newaxis]\n",
    "        print(\"Normalized confusion matrix\")\n",
    "    else:\n",
    "        print('Confusion matrix, without normalization')\n",
    "\n",
    "    plt.imshow(cm, interpolation='nearest', cmap=cmap)\n",
    "    plt.title(title)\n",
    "    plt.colorbar()\n",
    "    tick_marks = np.arange(len(classes))\n",
    "    plt.xticks(tick_marks, classes, rotation=45)\n",
    "    plt.yticks(tick_marks, classes)\n",
    "\n",
    "    fmt = '.2f' if normalize else 'd'\n",
    "    thresh = cm.max() / 2.\n",
    "    for i, j in itertools.product(range(cm.shape[0]), range(cm.shape[1])):\n",
    "        plt.text(j, i, format(cm[i, j], fmt),\n",
    "                 horizontalalignment=\"center\",\n",
    "                 color=\"white\" if cm[i, j] > thresh else \"black\")\n",
    "\n",
    "    plt.ylabel('True label')\n",
    "    plt.xlabel('Predicted label')\n",
    "    plt.tight_layout()\n",
    "\n",
    "y_pred_test = model.predict_classes(X_test_vec)\n",
    "cm = confusion_matrix(y_test, y_pred_test)\n",
    "plot_confusion_matrix(cm, [0, 1])"
   ]
  },
  {
   "cell_type": "code",
   "execution_count": 19,
   "metadata": {
    "pycharm": {
     "name": "#%%\n"
    }
   },
   "outputs": [
    {
     "name": "stdout",
     "output_type": "stream",
     "text": [
      "              precision    recall  f1-score   support\n",
      "\n",
      "           0       0.84      0.88      0.86       867\n",
      "           1       0.83      0.78      0.80       645\n",
      "\n",
      "    accuracy                           0.84      1512\n",
      "   macro avg       0.84      0.83      0.83      1512\n",
      "weighted avg       0.84      0.84      0.84      1512\n",
      "\n"
     ]
    }
   ],
   "source": [
    "print(classification_report(y_test, y_pred_test))"
   ]
  },
  {
   "cell_type": "code",
   "execution_count": 20,
   "outputs": [],
   "source": [
    "plt.ioff()"
   ],
   "metadata": {
    "collapsed": false,
    "pycharm": {
     "name": "#%%\n"
    }
   }
  },
  {
   "cell_type": "code",
   "execution_count": 21,
   "outputs": [],
   "source": [
    "# TODO redo those vectors with SVM"
   ],
   "metadata": {
    "collapsed": false,
    "pycharm": {
     "name": "#%%\n"
    }
   }
  },
  {
   "cell_type": "markdown",
   "source": [
    "## Cross validation"
   ],
   "metadata": {
    "collapsed": false
   }
  },
  {
   "cell_type": "code",
   "execution_count": 25,
   "outputs": [
    {
     "name": "stdout",
     "output_type": "stream",
     "text": [
      "TRAIN: 5668 TEST: 1890\n",
      "Epoch 1/8\n",
      "45/45 [==============================] - 1s 6ms/step - loss: 0.6204 - accuracy: 0.6466 - val_loss: 0.4863 - val_accuracy: 0.7767\b\b\b\b\b\b\b\b\b\b\b\b\b\b\b\b\b\b\b\b\b\b\b\b\b\b\b\b\b\b\b\b\b\b\b\b\b\b\b\b\b\b\b\b\b\b\b\b\b\b\b\b\b\b\b\b\b\b\b\b\b\b\b\b\b\b\b\b\b\b\b\b\b\b\b\b\b\b\b\b\b\b\b\b\b\b\b\b\b\b\b\b\b\b\b\b\b\b\b\b\b\b\b\b\b\b\b\b\b\b\b\b\b\b\b\b\b\b\b\b\b\b\b\b\b\b\b\b\b\b\b\b\b\b\b\b\b\b\b\b\b\b\b\b\b\b\b\b\b\b\b\b\b\b\b\b\b\b\b\b\b\b\b\b\b\b\b\b\b\b\b\b\b\b\b\b\b\b\b\b\b\b\b\b\b\b\b\b\b\b\b\b\b\b\b\b\b\b\b\b\b\b\n",
      "Epoch 2/8\n",
      "45/45 [==============================] - 0s 6ms/step - loss: 0.4712 - accuracy: 0.7830 - val_loss: 0.4682 - val_accuracy: 0.7847\b\b\b\b\b\b\b\b\b\b\b\b\b\b\b\b\b\b\b\b\b\b\b\b\b\b\b\b\b\b\b\b\b\b\b\b\b\b\b\b\b\b\b\b\b\b\b\b\b\b\b\b\b\b\b\b\b\b\b\b\b\b\b\b\b\b\b\b\b\b\b\b\b\b\b\b\b\b\b\b\b\b\b\b\b\b\b\b\b\b\b\b\b\b\b\b\b\b\b\b\b\b\b\b\b\b\b\b\b\b\b\b\b\b\b\b\b\b\b\b\b\b\b\b\b\b\b\b\b\b\b\b\b\b\b\b\b\b\b\b\b\b\b\b\b\b\b\b\b\b\b\b\b\b\b\b\b\b\b\b\b\b\b\b\b\b\b\b\b\b\b\b\b\b\b\b\b\b\b\b\b\b\b\b\b\b\b\b\b\b\b\b\b\b\b\b\b\b\b\b\n",
      "Epoch 3/8\n",
      "45/45 [==============================] - 0s 3ms/step - loss: 0.4309 - accuracy: 0.8101 - val_loss: 0.4482 - val_accuracy: 0.7974\b\b\b\b\b\b\b\b\b\b\b\b\b\b\b\b\b\b\b\b\b\b\b\b\b\b\b\b\b\b\b\b\b\b\b\b\b\b\b\b\b\b\b\b\b\b\b\b\b\b\b\b\b\b\b\b\b\b\b\b\b\b\b\b\b\b\b\b\b\b\b\b\b\b\b\b\b\b\b\b\b\b\b\b\b\b\b\b\b\b\b\b\b\b\b\b\b\b\b\b\b\b\b\b\b\b\b\b\b\b\b\b\b\b\b\b\b\b\n",
      "Epoch 4/8\n",
      "45/45 [==============================] - 0s 2ms/step - loss: 0.4242 - accuracy: 0.8098 - val_loss: 0.4682 - val_accuracy: 0.7937\b\b\b\b\b\b\b\b\b\b\b\b\b\b\b\b\b\b\b\b\b\b\b\b\b\b\b\b\b\b\b\b\b\b\b\b\b\b\b\b\b\b\b\b\b\b\b\b\b\b\b\b\b\b\b\b\b\b\b\b\b\b\b\b\b\b\b\b\b\b\b\b\b\b\b\b\b\b\b\b\b\b\b\b\b\b\b\b\b\b\b\b\b\b\b\b\b\b\b\b\b\b\b\b\b\b\b\b\b\b\b\b\b\b\b\b\b\b\n",
      "Epoch 5/8\n",
      "45/45 [==============================] - 0s 2ms/step - loss: 0.4190 - accuracy: 0.8237 - val_loss: 0.4560 - val_accuracy: 0.7942\b\b\b\b\b\b\b\b\b\b\b\b\b\b\b\b\b\b\b\b\b\b\b\b\b\b\b\b\b\b\b\b\b\b\b\b\b\b\b\b\b\b\b\b\b\b\b\b\b\b\b\b\b\b\b\b\b\b\b\b\b\b\b\b\b\b\b\b\b\b\b\b\b\b\b\b\b\b\b\b\b\b\b\b\b\b\b\b\b\b\b\b\b\b\b\b\b\b\b\b\b\b\b\b\b\b\b\b\b\b\b\b\b\b\b\b\b\b\n",
      "Epoch 6/8\n",
      "45/45 [==============================] - 0s 4ms/step - loss: 0.4044 - accuracy: 0.8202 - val_loss: 0.4562 - val_accuracy: 0.7989\b\b\b\b\b\b\b\b\b\b\b\b\b\b\b\b\b\b\b\b\b\b\b\b\b\b\b\b\b\b\b\b\b\b\b\b\b\b\b\b\b\b\b\b\b\b\b\b\b\b\b\b\b\b\b\b\b\b\b\b\b\b\b\b\b\b\b\b\b\b\b\b\b\b\b\b\b\b\b\b\b\b\b\b\b\b\b\b\b\b\b\b\b\b\b\b\b\b\b\b\b\b\b\b\b\b\b\b\b\b\b\b\b\b\b\b\b\b\n",
      "Epoch 7/8\n",
      "45/45 [==============================] - 0s 6ms/step - loss: 0.3607 - accuracy: 0.8478 - val_loss: 0.4556 - val_accuracy: 0.7921\b\b\b\b\b\b\b\b\b\b\b\b\b\b\b\b\b\b\b\b\b\b\b\b\b\b\b\b\b\b\b\b\b\b\b\b\b\b\b\b\b\b\b\b\b\b\b\b\b\b\b\b\b\b\b\b\b\b\b\b\b\b\b\b\b\b\b\b\b\b\b\b\b\b\b\b\b\b\b\b\b\b\b\b\b\b\b\b\b\b\b\b\b\b\b\b\b\b\b\b\b\b\b\b\b\b\b\b\b\b\b\b\b\b\b\b\b\b\b\b\b\b\b\b\b\b\b\b\b\b\b\b\b\b\b\b\b\b\b\b\b\b\b\b\b\b\b\b\b\b\b\b\b\b\b\b\b\b\b\b\b\b\b\b\b\b\b\b\b\b\b\b\b\b\b\b\b\b\b\b\b\b\b\b\b\b\b\b\b\b\b\b\b\b\b\b\b\b\b\b\b\b\b\b\b\b\b\b\b\b\b\b\b\b\b\b\b\b\b\b\b\b\b\b\b\b\b\b\b\b\b\b\b\b\b\b\b\b\b\b\b\b\b\b\b\b\b\b\b\b\b\b\b\b\b\b\b\b\b\b\b\b\b\b\b\b\b\b\b\b\b\b\b\b\b\b\b\b\b\b\b\b\n",
      "Epoch 8/8\n",
      "45/45 [==============================] - 0s 4ms/step - loss: 0.3608 - accuracy: 0.8521 - val_loss: 0.4618 - val_accuracy: 0.7937\b\b\b\b\b\b\b\b\b\b\b\b\b\b\b\b\b\b\b\b\b\b\b\b\b\b\b\b\b\b\b\b\b\b\b\b\b\b\b\b\b\b\b\b\b\b\b\b\b\b\b\b\b\b\b\b\b\b\b\b\b\b\b\b\b\b\b\b\b\b\b\b\b\b\b\b\b\b\b\b\b\b\b\b\b\b\b\b\b\b\b\b\b\b\b\b\b\b\b\b\b\b\b\b\b\b\b\b\b\b\b\b\b\b\b\b\b\b\b\b\b\b\b\b\b\b\b\b\b\b\b\b\b\b\b\b\b\b\b\b\b\b\b\b\b\b\b\b\b\b\b\b\b\b\b\b\b\b\b\b\b\b\b\b\b\b\b\b\b\b\b\b\b\b\b\b\b\b\b\b\b\b\b\b\b\b\b\b\b\b\b\b\b\b\b\b\b\b\b\b\n",
      "\n",
      "\n",
      "60/60 [==============================] - 0s 913us/step - loss: 0.4618 - accuracy: 0.7937\b\b\b\b\b\b\b\b\b\b\b\b\b\b\b\b\b\b\b\b\b\b\b\b\b\b\b\b\b\b\b\b\b\b\b\b\b\b\b\b\b\b\b\b\b\b\b\b\b\b\b\b\b\b\b\b\b\b\b\b\b\b\b\b\b\b\b\b\b\b\b\b\b\b\b\b\b\b\b\b\b\b\b\b\b\b\b\b\b\b\b\b\b\b\b\b\b\b\b\b\b\b\b\b\b\b\b\b\b\b\b\b\b\b\b\b\b\b\b\b\b\b\b\b\b\b\b\b\b\b\b\b\b\b\b\b\b\b\b\b\b\b\b\b\b\b\b\b\b\b\b\b\b\b\b\b\b\b\n",
      "TRAIN LOSS: 0.461848646402359 / TEST ACCURACY: 0.7936508059501648\n",
      "\n",
      "\n",
      "TRAIN: 5668 TEST: 1890\n",
      "Epoch 1/8\n",
      "45/45 [==============================] - 1s 6ms/step - loss: 0.6120 - accuracy: 0.6667 - val_loss: 0.4926 - val_accuracy: 0.7704\b\b\b\b\b\b\b\b\b\b\b\b\b\b\b\b\b\b\b\b\b\b\b\b\b\b\b\b\b\b\b\b\b\b\b\b\b\b\b\b\b\b\b\b\b\b\b\b\b\b\b\b\b\b\b\b\b\b\b\b\b\b\b\b\b\b\b\b\b\b\b\b\b\b\b\b\b\b\b\b\b\b\b\b\b\b\b\b\b\b\b\b\b\b\b\b\b\b\b\b\b\b\b\b\b\b\b\b\b\b\b\b\b\b\b\b\b\b\b\b\n",
      "Epoch 2/8\n",
      "45/45 [==============================] - 0s 3ms/step - loss: 0.4549 - accuracy: 0.7983 - val_loss: 0.4703 - val_accuracy: 0.7841\b\b\b\b\b\b\b\b\b\b\b\b\b\b\b\b\b\b\b\b\b\b\b\b\b\b\b\b\b\b\b\b\b\b\b\b\b\b\b\b\b\b\b\b\b\b\b\b\b\b\b\b\b\b\b\b\b\b\b\b\b\b\b\b\b\b\b\b\b\b\b\b\b\b\b\b\b\b\b\b\b\b\b\b\b\b\b\b\b\b\b\b\b\b\b\b\b\b\b\b\b\b\b\b\b\b\b\b\b\b\b\b\b\b\b\b\b\b\n",
      "Epoch 3/8\n",
      "45/45 [==============================] - 0s 3ms/step - loss: 0.4309 - accuracy: 0.8120 - val_loss: 0.4577 - val_accuracy: 0.7836\b\b\b\b\b\b\b\b\b\b\b\b\b\b\b\b\b\b\b\b\b\b\b\b\b\b\b\b\b\b\b\b\b\b\b\b\b\b\b\b\b\b\b\b\b\b\b\b\b\b\b\b\b\b\b\b\b\b\b\b\b\b\b\b\b\b\b\b\b\b\b\b\b\b\b\b\b\b\b\b\b\b\b\b\b\b\b\b\b\b\b\b\b\b\b\b\b\b\b\b\b\b\b\b\b\b\b\b\b\b\b\b\b\b\b\b\b\b\n",
      "Epoch 4/8\n",
      "45/45 [==============================] - 0s 4ms/step - loss: 0.4042 - accuracy: 0.8238 - val_loss: 0.4719 - val_accuracy: 0.7915\b\b\b\b\b\b\b\b\b\b\b\b\b\b\b\b\b\b\b\b\b\b\b\b\b\b\b\b\b\b\b\b\b\b\b\b\b\b\b\b\b\b\b\b\b\b\b\b\b\b\b\b\b\b\b\b\b\b\b\b\b\b\b\b\b\b\b\b\b\b\b\b\b\b\b\b\b\b\b\b\b\b\b\b\b\b\b\b\b\b\b\b\b\b\b\b\b\b\b\b\b\b\b\b\b\b\b\b\b\b\b\b\b\b\b\b\b\b\b\b\b\b\b\b\b\b\b\b\b\b\b\b\b\b\b\b\b\b\b\b\b\b\b\b\b\b\b\b\b\b\b\b\b\b\b\b\b\b\b\b\b\b\b\b\b\b\b\b\b\b\b\b\b\b\b\b\b\b\b\b\b\b\b\b\b\b\b\b\b\b\b\b\b\b\b\b\b\b\b\b\n",
      "Epoch 5/8\n",
      "45/45 [==============================] - 0s 5ms/step - loss: 0.4051 - accuracy: 0.8248 - val_loss: 0.4719 - val_accuracy: 0.7884\b\b\b\b\b\b\b\b\b\b\b\b\b\b\b\b\b\b\b\b\b\b\b\b\b\b\b\b\b\b\b\b\b\b\b\b\b\b\b\b\b\b\b\b\b\b\b\b\b\b\b\b\b\b\b\b\b\b\b\b\b\b\b\b\b\b\b\b\b\b\b\b\b\b\b\b\b\b\b\b\b\b\b\b\b\b\b\b\b\b\b\b\b\b\b\b\b\b\b\b\b\b\b\b\b\b\b\b\b\b\b\b\b\b\b\b\b\b\b\b\b\b\b\b\b\b\b\b\b\b\b\b\b\b\b\b\b\b\b\b\b\b\b\b\b\b\b\b\b\b\b\b\b\b\b\b\b\b\b\b\b\b\b\b\b\b\b\b\b\b\b\b\b\b\b\b\b\b\b\b\b\b\b\b\b\b\b\b\b\b\b\b\b\b\b\b\b\b\b\b\b\b\b\b\b\b\b\b\b\b\b\b\b\b\b\b\b\b\b\b\b\b\b\b\b\b\b\b\b\b\b\b\b\b\b\b\b\b\b\b\b\b\b\b\b\b\b\b\b\b\b\b\b\b\b\b\b\b\b\b\b\b\b\b\b\b\b\b\b\b\b\b\b\b\b\b\b\b\b\b\b\b\n",
      "Epoch 6/8\n",
      "45/45 [==============================] - 0s 5ms/step - loss: 0.3830 - accuracy: 0.8317 - val_loss: 0.4689 - val_accuracy: 0.7921\b\b\b\b\b\b\b\b\b\b\b\b\b\b\b\b\b\b\b\b\b\b\b\b\b\b\b\b\b\b\b\b\b\b\b\b\b\b\b\b\b\b\b\b\b\b\b\b\b\b\b\b\b\b\b\b\b\b\b\b\b\b\b\b\b\b\b\b\b\b\b\b\b\b\b\b\b\b\b\b\b\b\b\b\b\b\b\b\b\b\b\b\b\b\b\b\b\b\b\b\b\b\b\b\b\b\b\b\b\b\b\b\b\b\b\b\b\b\b\b\b\b\b\b\b\b\b\b\b\b\b\b\b\b\b\b\b\b\b\b\b\b\b\b\b\b\b\b\b\b\b\b\b\b\b\b\b\b\b\b\b\b\b\b\b\b\b\b\b\b\b\b\b\b\b\b\b\b\b\b\b\b\b\b\b\b\b\b\b\b\b\b\b\b\b\b\b\b\b\b\n",
      "Epoch 7/8\n",
      "45/45 [==============================] - 0s 5ms/step - loss: 0.3684 - accuracy: 0.8466 - val_loss: 0.4739 - val_accuracy: 0.7931\b\b\b\b\b\b\b\b\b\b\b\b\b\b\b\b\b\b\b\b\b\b\b\b\b\b\b\b\b\b\b\b\b\b\b\b\b\b\b\b\b\b\b\b\b\b\b\b\b\b\b\b\b\b\b\b\b\b\b\b\b\b\b\b\b\b\b\b\b\b\b\b\b\b\b\b\b\b\b\b\b\b\b\b\b\b\b\b\b\b\b\b\b\b\b\b\b\b\b\b\b\b\b\b\b\b\b\b\b\b\b\b\b\b\b\b\b\b\b\b\b\b\b\b\b\b\b\b\b\b\b\b\b\b\b\b\b\b\b\b\b\b\b\b\b\b\b\b\b\b\b\b\b\b\b\b\b\b\b\b\b\b\b\b\b\b\b\b\b\b\b\b\b\b\b\b\b\b\b\b\b\b\b\b\b\b\b\b\b\b\b\b\b\b\b\b\b\b\b\b\n",
      "Epoch 8/8\n",
      "45/45 [==============================] - 0s 5ms/step - loss: 0.3505 - accuracy: 0.8552 - val_loss: 0.4866 - val_accuracy: 0.7931\b\b\b\b\b\b\b\b\b\b\b\b\b\b\b\b\b\b\b\b\b\b\b\b\b\b\b\b\b\b\b\b\b\b\b\b\b\b\b\b\b\b\b\b\b\b\b\b\b\b\b\b\b\b\b\b\b\b\b\b\b\b\b\b\b\b\b\b\b\b\b\b\b\b\b\b\b\b\b\b\b\b\b\b\b\b\b\b\b\b\b\b\b\b\b\b\b\b\b\b\b\b\b\b\b\b\b\b\b\b\b\b\b\b\b\b\b\b\b\b\b\b\b\b\b\b\b\b\b\b\b\b\b\b\b\b\b\b\b\b\b\b\b\b\b\b\b\b\b\b\b\b\b\b\b\b\b\b\b\b\b\b\b\b\b\b\b\b\b\b\b\b\b\b\b\b\b\b\b\b\b\b\b\b\b\b\b\b\b\b\b\b\b\b\b\b\b\b\b\b\n",
      "\n",
      "\n",
      "60/60 [==============================] - 0s 621us/step - loss: 0.4866 - accuracy: 0.7931\b\b\b\b\b\b\b\b\b\b\b\b\b\b\b\b\b\b\b\b\b\b\b\b\b\b\b\b\b\b\b\b\b\b\b\b\b\b\b\b\b\b\b\b\b\b\b\b\b\b\b\b\b\b\b\b\b\b\b\b\b\b\b\b\b\b\b\b\b\b\b\b\b\b\b\b\n",
      "TRAIN LOSS: 0.4866112172603607 / TEST ACCURACY: 0.7931216955184937\n",
      "\n",
      "\n",
      "TRAIN: 5669 TEST: 1889\n",
      "Epoch 1/8\n",
      "45/45 [==============================] - 1s 7ms/step - loss: 0.6347 - accuracy: 0.6220 - val_loss: 0.5007 - val_accuracy: 0.7734\b\b\b\b\b\b\b\b\b\b\b\b\b\b\b\b\b\b\b\b\b\b\b\b\b\b\b\b\b\b\b\b\b\b\b\b\b\b\b\b\b\b\b\b\b\b\b\b\b\b\b\b\b\b\b\b\b\b\b\b\b\b\b\b\b\b\b\b\b\b\b\b\b\b\b\b\b\b\b\b\b\b\b\b\b\b\b\b\b\b\b\b\b\b\b\b\b\b\b\b\b\b\b\b\b\b\b\b\b\b\b\b\b\b\b\b\b\b\b\b\b\b\b\b\b\b\b\b\b\b\b\b\b\b\b\b\b\b\b\b\b\b\b\b\b\b\b\b\b\b\b\b\b\b\b\b\b\b\b\b\b\b\b\b\b\b\b\b\b\b\b\b\b\b\b\b\b\b\b\b\b\b\b\b\b\b\b\b\b\b\b\b\b\b\b\b\b\b\b\b\b\b\n",
      "Epoch 2/8\n",
      "45/45 [==============================] - 0s 3ms/step - loss: 0.4699 - accuracy: 0.7859 - val_loss: 0.4642 - val_accuracy: 0.7957\b\b\b\b\b\b\b\b\b\b\b\b\b\b\b\b\b\b\b\b\b\b\b\b\b\b\b\b\b\b\b\b\b\b\b\b\b\b\b\b\b\b\b\b\b\b\b\b\b\b\b\b\b\b\b\b\b\b\b\b\b\b\b\b\b\b\b\b\b\b\b\b\b\b\b\b\b\b\b\b\b\b\b\b\b\b\b\b\b\b\b\b\b\b\b\b\b\b\b\b\b\b\b\b\b\b\b\b\b\b\b\b\b\b\b\b\b\b\n",
      "Epoch 3/8\n",
      "45/45 [==============================] - 0s 3ms/step - loss: 0.4349 - accuracy: 0.8058 - val_loss: 0.4552 - val_accuracy: 0.7951\b\b\b\b\b\b\b\b\b\b\b\b\b\b\b\b\b\b\b\b\b\b\b\b\b\b\b\b\b\b\b\b\b\b\b\b\b\b\b\b\b\b\b\b\b\b\b\b\b\b\b\b\b\b\b\b\b\b\b\b\b\b\b\b\b\b\b\b\b\b\b\b\b\b\b\b\b\b\b\b\b\b\b\b\b\b\b\b\b\b\b\b\b\b\b\b\b\b\b\b\b\b\b\b\b\b\b\b\b\b\b\b\b\b\b\b\b\b\n",
      "Epoch 4/8\n",
      "45/45 [==============================] - 0s 3ms/step - loss: 0.4130 - accuracy: 0.8147 - val_loss: 0.4564 - val_accuracy: 0.7951\b\b\b\b\b\b\b\b\b\b\b\b\b\b\b\b\b\b\b\b\b\b\b\b\b\b\b\b\b\b\b\b\b\b\b\b\b\b\b\b\b\b\b\b\b\b\b\b\b\b\b\b\b\b\b\b\b\b\b\b\b\b\b\b\b\b\b\b\b\b\b\b\b\b\b\b\b\b\b\b\b\b\b\b\b\b\b\b\b\b\b\b\b\b\b\b\b\b\b\b\b\b\b\b\b\b\b\b\b\b\b\b\b\b\b\b\b\b\n",
      "Epoch 5/8\n",
      "45/45 [==============================] - 0s 3ms/step - loss: 0.3991 - accuracy: 0.8268 - val_loss: 0.4573 - val_accuracy: 0.7935\b\b\b\b\b\b\b\b\b\b\b\b\b\b\b\b\b\b\b\b\b\b\b\b\b\b\b\b\b\b\b\b\b\b\b\b\b\b\b\b\b\b\b\b\b\b\b\b\b\b\b\b\b\b\b\b\b\b\b\b\b\b\b\b\b\b\b\b\b\b\b\b\b\b\b\b\b\b\b\b\b\b\b\b\b\b\b\b\b\b\b\b\b\b\b\b\b\b\b\b\b\b\b\b\b\b\b\b\b\b\b\b\b\b\b\b\b\b\n",
      "Epoch 6/8\n",
      "45/45 [==============================] - 0s 3ms/step - loss: 0.3789 - accuracy: 0.8366 - val_loss: 0.4645 - val_accuracy: 0.7930\b\b\b\b\b\b\b\b\b\b\b\b\b\b\b\b\b\b\b\b\b\b\b\b\b\b\b\b\b\b\b\b\b\b\b\b\b\b\b\b\b\b\b\b\b\b\b\b\b\b\b\b\b\b\b\b\b\b\b\b\b\b\b\b\b\b\b\b\b\b\b\b\b\b\b\b\b\b\b\b\b\b\b\b\b\b\b\b\b\b\b\b\b\b\b\b\b\b\b\b\b\b\b\b\b\b\b\b\b\b\b\b\b\b\b\b\b\b\n",
      "Epoch 7/8\n",
      "45/45 [==============================] - 0s 3ms/step - loss: 0.3819 - accuracy: 0.8418 - val_loss: 0.4668 - val_accuracy: 0.7946\b\b\b\b\b\b\b\b\b\b\b\b\b\b\b\b\b\b\b\b\b\b\b\b\b\b\b\b\b\b\b\b\b\b\b\b\b\b\b\b\b\b\b\b\b\b\b\b\b\b\b\b\b\b\b\b\b\b\b\b\b\b\b\b\b\b\b\b\b\b\b\b\b\b\b\b\b\b\b\b\b\b\b\b\b\b\b\b\b\b\b\b\b\b\b\b\b\b\b\b\b\b\b\b\b\b\b\b\b\b\b\b\b\b\b\b\b\b\n",
      "Epoch 8/8\n",
      "45/45 [==============================] - 0s 3ms/step - loss: 0.3539 - accuracy: 0.8476 - val_loss: 0.4701 - val_accuracy: 0.7888\b\b\b\b\b\b\b\b\b\b\b\b\b\b\b\b\b\b\b\b\b\b\b\b\b\b\b\b\b\b\b\b\b\b\b\b\b\b\b\b\b\b\b\b\b\b\b\b\b\b\b\b\b\b\b\b\b\b\b\b\b\b\b\b\b\b\b\b\b\b\b\b\b\b\b\b\b\b\b\b\b\b\b\b\b\b\b\b\b\b\b\b\b\b\b\b\b\b\b\b\b\b\b\b\b\b\b\b\b\b\b\b\b\b\b\b\b\b\n",
      "\n",
      "\n",
      "60/60 [==============================] - 0s 1ms/step - loss: 0.4701 - accuracy: 0.7888\b\b\b\b\b\b\b\b\b\b\b\b\b\b\b\b\b\b\b\b\b\b\b\b\b\b\b\b\b\b\b\b\b\b\b\b\b\b\b\b\b\b\b\b\b\b\b\b\b\b\b\b\b\b\b\b\b\b\b\b\b\b\b\b\b\b\b\b\b\b\b\b\b\b\b\b\b\b\b\b\b\b\b\b\b\b\b\b\b\b\b\b\b\b\b\b\b\b\b\b\b\b\b\b\b\b\b\b\b\b\b\b\b\b\b\b\b\b\b\b\b\b\b\b\b\b\b\b\b\b\b\b\b\b\b\b\b\b\b\b\b\b\b\b\b\b\b\b\b\b\b\b\b\b\b\b\b\b\b\b\n",
      "TRAIN LOSS: 0.47009211778640747 / TEST ACCURACY: 0.7887771129608154\n",
      "\n",
      "\n",
      "TRAIN: 5669 TEST: 1889\n",
      "Epoch 1/8\n",
      "45/45 [==============================] - 1s 6ms/step - loss: 0.6137 - accuracy: 0.6515 - val_loss: 0.4772 - val_accuracy: 0.7660\b\b\b\b\b\b\b\b\b\b\b\b\b\b\b\b\b\b\b\b\b\b\b\b\b\b\b\b\b\b\b\b\b\b\b\b\b\b\b\b\b\b\b\b\b\b\b\b\b\b\b\b\b\b\b\b\b\b\b\b\b\b\b\b\b\b\b\b\b\b\b\b\b\b\b\b\b\b\b\b\b\b\b\b\b\b\b\b\b\b\b\b\b\b\b\b\b\b\b\b\b\b\b\b\b\b\b\b\b\b\b\b\b\b\b\b\b\b\b\b\n",
      "Epoch 2/8\n",
      "45/45 [==============================] - 0s 2ms/step - loss: 0.4726 - accuracy: 0.7888 - val_loss: 0.4537 - val_accuracy: 0.7830\b\b\b\b\b\b\b\b\b\b\b\b\b\b\b\b\b\b\b\b\b\b\b\b\b\b\b\b\b\b\b\b\b\b\b\b\b\b\b\b\b\b\b\b\b\b\b\b\b\b\b\b\b\b\b\b\b\b\b\b\b\b\b\b\b\b\b\b\b\b\b\b\b\b\b\b\b\b\b\b\b\b\b\b\b\b\b\b\b\b\b\b\b\b\b\b\b\b\b\b\b\b\b\b\b\b\b\b\b\b\b\b\b\b\b\b\b\b\n",
      "Epoch 3/8\n",
      "45/45 [==============================] - 0s 3ms/step - loss: 0.4439 - accuracy: 0.8066 - val_loss: 0.4575 - val_accuracy: 0.7830\b\b\b\b\b\b\b\b\b\b\b\b\b\b\b\b\b\b\b\b\b\b\b\b\b\b\b\b\b\b\b\b\b\b\b\b\b\b\b\b\b\b\b\b\b\b\b\b\b\b\b\b\b\b\b\b\b\b\b\b\b\b\b\b\b\b\b\b\b\b\b\b\b\b\b\b\b\b\b\b\b\b\b\b\b\b\b\b\b\b\b\b\b\b\b\b\b\b\b\b\b\b\b\b\b\b\b\b\b\b\b\b\b\b\b\b\b\b\n",
      "Epoch 4/8\n",
      "45/45 [==============================] - 0s 3ms/step - loss: 0.4118 - accuracy: 0.8207 - val_loss: 0.4533 - val_accuracy: 0.7882\b\b\b\b\b\b\b\b\b\b\b\b\b\b\b\b\b\b\b\b\b\b\b\b\b\b\b\b\b\b\b\b\b\b\b\b\b\b\b\b\b\b\b\b\b\b\b\b\b\b\b\b\b\b\b\b\b\b\b\b\b\b\b\b\b\b\b\b\b\b\b\b\b\b\b\b\b\b\b\b\b\b\b\b\b\b\b\b\b\b\b\b\b\b\b\b\b\b\b\b\b\b\b\b\b\b\b\b\b\b\b\b\b\b\b\b\b\b\n",
      "Epoch 5/8\n",
      "45/45 [==============================] - 0s 3ms/step - loss: 0.4133 - accuracy: 0.8261 - val_loss: 0.4574 - val_accuracy: 0.7872\b\b\b\b\b\b\b\b\b\b\b\b\b\b\b\b\b\b\b\b\b\b\b\b\b\b\b\b\b\b\b\b\b\b\b\b\b\b\b\b\b\b\b\b\b\b\b\b\b\b\b\b\b\b\b\b\b\b\b\b\b\b\b\b\b\b\b\b\b\b\b\b\b\b\b\b\b\b\b\b\b\b\b\b\b\b\b\b\b\b\b\b\b\b\b\b\b\b\b\b\b\b\b\b\b\b\b\b\b\b\b\b\b\b\b\b\b\b\n",
      "Epoch 6/8\n",
      "45/45 [==============================] - 0s 3ms/step - loss: 0.3876 - accuracy: 0.8373 - val_loss: 0.4571 - val_accuracy: 0.7930\b\b\b\b\b\b\b\b\b\b\b\b\b\b\b\b\b\b\b\b\b\b\b\b\b\b\b\b\b\b\b\b\b\b\b\b\b\b\b\b\b\b\b\b\b\b\b\b\b\b\b\b\b\b\b\b\b\b\b\b\b\b\b\b\b\b\b\b\b\b\b\b\b\b\b\b\b\b\b\b\b\b\b\b\b\b\b\b\b\b\b\b\b\b\b\b\b\b\b\b\b\b\b\b\b\b\b\b\b\b\b\b\b\b\b\b\b\b\n",
      "Epoch 7/8\n",
      "45/45 [==============================] - 0s 2ms/step - loss: 0.3841 - accuracy: 0.8382 - val_loss: 0.4740 - val_accuracy: 0.7851\b\b\b\b\b\b\b\b\b\b\b\b\b\b\b\b\b\b\b\b\b\b\b\b\b\b\b\b\b\b\b\b\b\b\b\b\b\b\b\b\b\b\b\b\b\b\b\b\b\b\b\b\b\b\b\b\b\b\b\b\b\b\b\b\b\b\b\b\b\b\b\b\b\b\b\b\b\b\b\b\b\b\b\b\b\b\b\b\b\b\b\b\b\b\b\b\b\b\b\b\b\b\b\b\b\b\b\b\b\b\b\b\b\b\b\b\b\b\n",
      "Epoch 8/8\n",
      "45/45 [==============================] - 0s 3ms/step - loss: 0.3670 - accuracy: 0.8465 - val_loss: 0.4667 - val_accuracy: 0.7951\b\b\b\b\b\b\b\b\b\b\b\b\b\b\b\b\b\b\b\b\b\b\b\b\b\b\b\b\b\b\b\b\b\b\b\b\b\b\b\b\b\b\b\b\b\b\b\b\b\b\b\b\b\b\b\b\b\b\b\b\b\b\b\b\b\b\b\b\b\b\b\b\b\b\b\b\b\b\b\b\b\b\b\b\b\b\b\b\b\b\b\b\b\b\b\b\b\b\b\b\b\b\b\b\b\b\b\b\b\b\b\b\b\b\b\b\b\b\n",
      "\n",
      "\n",
      "60/60 [==============================] - 0s 797us/step - loss: 0.4667 - accuracy: 0.7951\b\b\b\b\b\b\b\b\b\b\b\b\b\b\b\b\b\b\b\b\b\b\b\b\b\b\b\b\b\b\b\b\b\b\b\b\b\b\b\b\b\b\b\b\b\b\b\b\b\b\b\b\b\b\b\b\b\b\b\b\b\b\b\b\b\b\b\b\b\b\b\b\b\b\b\b\n",
      "TRAIN LOSS: 0.46674609184265137 / TEST ACCURACY: 0.7951297163963318\n",
      "\n",
      "\n",
      "[[3715  598]\n",
      " [ 969 2276]]\n",
      "Normalized confusion matrix\n"
     ]
    },
    {
     "name": "stderr",
     "output_type": "stream",
     "text": [
      "c:\\users\\mikol\\miniconda3\\envs\\kaggle02\\lib\\site-packages\\tensorflow\\python\\keras\\engine\\sequential.py:450: UserWarning: `model.predict_classes()` is deprecated and will be removed after 2021-01-01. Please use instead:* `np.argmax(model.predict(x), axis=-1)`,   if your model does multi-class classification   (e.g. if it uses a `softmax` last-layer activation).* `(model.predict(x) > 0.5).astype(\"int32\")`,   if your model does binary classification   (e.g. if it uses a `sigmoid` last-layer activation).\n",
      "  warnings.warn('`model.predict_classes()` is deprecated and '\n",
      "c:\\users\\mikol\\miniconda3\\envs\\kaggle02\\lib\\site-packages\\tensorflow\\python\\keras\\engine\\sequential.py:450: UserWarning: `model.predict_classes()` is deprecated and will be removed after 2021-01-01. Please use instead:* `np.argmax(model.predict(x), axis=-1)`,   if your model does multi-class classification   (e.g. if it uses a `softmax` last-layer activation).* `(model.predict(x) > 0.5).astype(\"int32\")`,   if your model does binary classification   (e.g. if it uses a `sigmoid` last-layer activation).\n",
      "  warnings.warn('`model.predict_classes()` is deprecated and '\n",
      "c:\\users\\mikol\\miniconda3\\envs\\kaggle02\\lib\\site-packages\\tensorflow\\python\\keras\\engine\\sequential.py:450: UserWarning: `model.predict_classes()` is deprecated and will be removed after 2021-01-01. Please use instead:* `np.argmax(model.predict(x), axis=-1)`,   if your model does multi-class classification   (e.g. if it uses a `softmax` last-layer activation).* `(model.predict(x) > 0.5).astype(\"int32\")`,   if your model does binary classification   (e.g. if it uses a `sigmoid` last-layer activation).\n",
      "  warnings.warn('`model.predict_classes()` is deprecated and '\n",
      "c:\\users\\mikol\\miniconda3\\envs\\kaggle02\\lib\\site-packages\\tensorflow\\python\\keras\\engine\\sequential.py:450: UserWarning: `model.predict_classes()` is deprecated and will be removed after 2021-01-01. Please use instead:* `np.argmax(model.predict(x), axis=-1)`,   if your model does multi-class classification   (e.g. if it uses a `softmax` last-layer activation).* `(model.predict(x) > 0.5).astype(\"int32\")`,   if your model does binary classification   (e.g. if it uses a `sigmoid` last-layer activation).\n",
      "  warnings.warn('`model.predict_classes()` is deprecated and '\n"
     ]
    },
    {
     "data": {
      "text/plain": "<Figure size 432x288 with 2 Axes>",
      "image/png": "[encoded data removed]"
     },
     "metadata": {
      "needs_background": "light"
     },
     "output_type": "display_data"
    }
   ],
   "source": [
    "final_training_epochs = 8\n",
    "\n",
    "X_cv = X_all.copy()\n",
    "y_cv = y_all.copy()\n",
    "\n",
    "CONF_MATRIXES = []\n",
    "\n",
    "skf = StratifiedKFold(n_splits=4)\n",
    "for train_idx, test_idx in skf.split(X_cv, y_cv):\n",
    "    print('TRAIN:', len(train_idx), 'TEST:', len(test_idx))\n",
    "    X_train_cv, X_test_cv = X_cv.iloc[train_idx].to_numpy(), X_cv.iloc[test_idx].to_numpy()\n",
    "    y_train_cv, y_test_cv = y_cv.iloc[train_idx].to_numpy(), y_cv.iloc[test_idx].to_numpy()\n",
    "\n",
    "    X_train_vec_cv = vectorize_one_vector(X_train_cv)\n",
    "    X_test_vec_cv = vectorize_one_vector(X_test_cv)\n",
    "\n",
    "    model_cv = create_model(X_train_vec_cv.shape[1], hidden_layers_number, hidden_layer_units, dropout_rate)\n",
    "    model_cv.compile(optimizer=tf.keras.optimizers.Adam(), loss='binary_crossentropy', metrics=['accuracy'])\n",
    "    history_cv = model_cv.fit(x=X_train_vec_cv, y=y_train_cv, epochs=final_training_epochs,\n",
    "                           batch_size=batch_size, validation_data=(X_test_vec_cv, y_test_cv))\n",
    "\n",
    "    print('\\n')\n",
    "    loss_cv, accuracy_cv = model_cv.evaluate(X_test_vec_cv, y_test_cv)\n",
    "    print(f'TRAIN LOSS: {loss_cv} / TEST ACCURACY: {accuracy_cv}')\n",
    "    y_pred_test_cv = model_cv.predict_classes(X_test_vec_cv)\n",
    "    cm = confusion_matrix(y_test_cv, y_pred_test_cv)\n",
    "    CONF_MATRIXES.append(cm)\n",
    "    print('\\n')\n",
    "\n",
    "    tf.keras.backend.clear_session()\n",
    "\n",
    "# overall results\n",
    "cm = np.array(CONF_MATRIXES).sum(axis=0)\n",
    "plot_confusion_matrix(cm, [0, 1])"
   ],
   "metadata": {
    "collapsed": false,
    "pycharm": {
     "name": "#%%\n"
    }
   }
  },
  {
   "cell_type": "markdown",
   "source": [
    "## Final model training"
   ],
   "metadata": {
    "collapsed": false,
    "pycharm": {
     "name": "#%% md\n"
    }
   }
  },
  {
   "cell_type": "code",
   "execution_count": 26,
   "outputs": [
    {
     "name": "stdout",
     "output_type": "stream",
     "text": [
      "Epoch 1/8\n",
      "60/60 [==============================] - 1s 2ms/step - loss: 0.6188 - accuracy: 0.6366\b\b\b\b\b\b\b\b\b\b\b\b\b\b\b\b\b\b\b\b\b\b\b\b\b\b\b\b\b\b\b\b\b\b\b\b\b\b\b\b\b\b\b\b\b\b\b\b\b\b\b\b\b\b\b\b\b\b\b\b\b\b\b\b\b\b\b\b\b\b\b\b\b\b\b\b\b\b\b\b\b\b\b\b\b\b\b\b\b\b\b\b\b\b\b\b\b\b\b\b\b\b\b\b\b\b\b\b\b\b\b\b\b\b\b\b\b\b\b\b\b\b\b\b\b\b\b\b\b\b\b\b\b\b\b\b\b\b\b\b\b\b\b\b\b\b\b\b\b\b\b\b\b\b\b\b\b\b\b\b\b\b\b\b\b\b\b\b\b\b\b\b\b\b\b\b\b\b\b\b\b\b\b\b\b\b\b\b\b\b\b\b\b\b\b\b\b\b\b\b\b\b\b\b\b\b\b\b\b\b\b\b\b\b\b\b\b\b\b\b\b\b\b\b\b\b\b\b\b\b\b\b\b\b\b\b\b\b\b\b\b\b\b\b\n",
      "Epoch 2/8\n",
      "60/60 [==============================] - 0s 2ms/step - loss: 0.4617 - accuracy: 0.7965\b\b\b\b\b\b\b\b\b\b\b\b\b\b\b\b\b\b\b\b\b\b\b\b\b\b\b\b\b\b\b\b\b\b\b\b\b\b\b\b\b\b\b\b\b\b\b\b\b\b\b\b\b\b\b\b\b\b\b\b\b\b\b\b\b\b\b\b\b\b\b\b\b\b\b\b\b\b\b\b\b\b\b\b\b\b\b\b\b\b\b\b\b\b\b\b\b\b\b\b\b\b\b\b\b\b\b\b\b\b\b\b\b\b\b\b\b\b\b\b\b\b\b\b\b\b\b\b\b\b\b\b\b\b\b\b\b\b\b\b\b\b\b\b\b\b\b\b\b\b\b\b\b\b\b\b\b\b\b\b\n",
      "Epoch 3/8\n",
      "60/60 [==============================] - 0s 2ms/step - loss: 0.4369 - accuracy: 0.8072\b\b\b\b\b\b\b\b\b\b\b\b\b\b\b\b\b\b\b\b\b\b\b\b\b\b\b\b\b\b\b\b\b\b\b\b\b\b\b\b\b\b\b\b\b\b\b\b\b\b\b\b\b\b\b\b\b\b\b\b\b\b\b\b\b\b\b\b\b\b\b\b\b\b\b\b\b\b\b\b\b\b\b\b\b\b\b\b\b\b\b\b\b\b\b\b\b\b\b\b\b\b\b\b\b\b\b\b\b\b\b\b\b\b\b\b\b\b\b\b\b\b\b\b\b\b\b\b\b\b\b\b\b\b\b\b\b\b\b\b\b\b\b\b\b\b\b\b\b\b\b\b\b\b\b\b\b\b\b\b\n",
      "Epoch 4/8\n",
      "60/60 [==============================] - 0s 1ms/step - loss: 0.4143 - accuracy: 0.8207\b\b\b\b\b\b\b\b\b\b\b\b\b\b\b\b\b\b\b\b\b\b\b\b\b\b\b\b\b\b\b\b\b\b\b\b\b\b\b\b\b\b\b\b\b\b\b\b\b\b\b\b\b\b\b\b\b\b\b\b\b\b\b\b\b\b\b\b\b\b\b\b\b\b\b\b\b\b\b\b\b\b\b\b\b\b\b\b\b\b\b\b\b\b\b\b\b\b\b\b\b\b\b\b\b\b\b\b\b\b\b\b\b\b\b\b\b\b\b\b\b\b\b\b\b\b\b\b\b\b\b\b\b\b\b\b\b\b\b\b\b\b\b\b\b\b\b\b\b\b\b\b\b\b\b\b\b\b\b\b\n",
      "Epoch 5/8\n",
      "60/60 [==============================] - 0s 1ms/step - loss: 0.4145 - accuracy: 0.8171\b\b\b\b\b\b\b\b\b\b\b\b\b\b\b\b\b\b\b\b\b\b\b\b\b\b\b\b\b\b\b\b\b\b\b\b\b\b\b\b\b\b\b\b\b\b\b\b\b\b\b\b\b\b\b\b\b\b\b\b\b\b\b\b\b\b\b\b\b\b\b\b\b\b\b\b\b\b\b\b\b\b\b\b\b\b\b\b\b\b\b\b\b\b\b\b\b\b\b\b\b\b\b\b\b\b\b\b\b\b\b\b\b\b\b\b\b\b\b\b\b\b\b\b\b\b\b\b\b\b\b\b\b\b\b\b\b\b\b\b\b\b\b\b\b\b\b\b\b\b\b\b\b\b\b\b\b\b\b\b\n",
      "Epoch 6/8\n",
      "60/60 [==============================] - 0s 2ms/step - loss: 0.3944 - accuracy: 0.8301\b\b\b\b\b\b\b\b\b\b\b\b\b\b\b\b\b\b\b\b\b\b\b\b\b\b\b\b\b\b\b\b\b\b\b\b\b\b\b\b\b\b\b\b\b\b\b\b\b\b\b\b\b\b\b\b\b\b\b\b\b\b\b\b\b\b\b\b\b\b\b\b\b\b\b\b\b\b\b\b\b\b\b\b\b\b\b\b\b\b\b\b\b\b\b\b\b\b\b\b\b\b\b\b\b\b\b\b\b\b\b\b\b\b\b\b\b\b\b\b\b\b\b\b\b\b\b\b\b\b\b\b\b\b\b\b\b\b\b\b\b\b\b\b\b\b\b\b\b\b\b\b\b\b\b\b\b\b\b\b\n",
      "Epoch 7/8\n",
      "60/60 [==============================] - 0s 1ms/step - loss: 0.3760 - accuracy: 0.8448\b\b\b\b\b\b\b\b\b\b\b\b\b\b\b\b\b\b\b\b\b\b\b\b\b\b\b\b\b\b\b\b\b\b\b\b\b\b\b\b\b\b\b\b\b\b\b\b\b\b\b\b\b\b\b\b\b\b\b\b\b\b\b\b\b\b\b\b\b\b\b\b\b\b\b\b\b\b\b\b\b\b\b\b\b\b\b\b\b\b\b\b\b\b\b\b\b\b\b\b\b\b\b\b\b\b\b\b\b\b\b\b\b\b\b\b\b\b\b\b\b\b\b\b\b\b\b\b\b\b\b\b\b\b\b\b\b\b\b\b\b\b\b\b\b\b\b\b\b\b\b\b\b\b\b\b\b\b\b\b\n",
      "Epoch 8/8\n",
      "60/60 [==============================] - 0s 2ms/step - loss: 0.3699 - accuracy: 0.8416\b\b\b\b\b\b\b\b\b\b\b\b\b\b\b\b\b\b\b\b\b\b\b\b\b\b\b\b\b\b\b\b\b\b\b\b\b\b\b\b\b\b\b\b\b\b\b\b\b\b\b\b\b\b\b\b\b\b\b\b\b\b\b\b\b\b\b\b\b\b\b\b\b\b\b\b\b\b\b\b\b\b\b\b\b\b\b\b\b\b\b\b\b\b\b\b\b\b\b\b\b\b\b\b\b\b\b\b\b\b\b\b\b\b\b\b\b\b\b\b\b\b\b\b\b\b\b\b\b\b\b\b\b\b\b\b\b\b\b\b\b\b\b\b\b\b\b\b\b\b\b\b\b\b\b\b\b\b\b\b\n",
      "237/237 [==============================] - 0s 585us/step - loss: 0.3360 - accuracy: 0.8592\b\b\b\b\b\b\b\b\b\b\b\b\b\b\b\b\b\b\b\b\b\b\b\b\b\b\b\b\b\b\b\b\b\b\b\b\b\b\b\b\b\b\b\b\b\b\b\b\b\b\b\b\b\b\b\b\b\b\b\b\b\b\b\b\b\b\b\b\b\b\b\b\b\b\b\b\b\b\b\b\b\b\b\b\b\b\b\b\b\b\b\b\b\b\b\b\b\b\b\b\b\b\b\b\b\b\b\b\b\b\b\b\b\b\b\b\b\b\b\b\b\b\b\b\b\b\b\b\b\b\b\b\b\b\b\b\b\b\b\b\b\b\b\b\b\b\b\b\b\b\b\b\b\b\b\b\b\b\b\b\b\b\b\b\b\b\b\b\b\b\b\b\b\b\b\b\b\b\b\b\b\b\b\b\b\b\b\b\b\b\b\b\b\b\b\b\b\b\b\b\b\b\b\b\b\b\b\b\b\b\b\b\b\b\b\b\b\b\b\b\b\b\b\b\b\b\b\b\b\b\b\b\b\b\b\b\b\b\b\b\b\b\b\b\b\b\b\b\n",
      "TRAIN LOSS: 0.3360027074813843 / TEST ACCURACY: 0.8592219948768616\n",
      "[[3936  377]\n",
      " [ 687 2558]]\n",
      "Normalized confusion matrix\n"
     ]
    },
    {
     "name": "stderr",
     "output_type": "stream",
     "text": [
      "c:\\users\\mikol\\miniconda3\\envs\\kaggle02\\lib\\site-packages\\tensorflow\\python\\keras\\engine\\sequential.py:450: UserWarning: `model.predict_classes()` is deprecated and will be removed after 2021-01-01. Please use instead:* `np.argmax(model.predict(x), axis=-1)`,   if your model does multi-class classification   (e.g. if it uses a `softmax` last-layer activation).* `(model.predict(x) > 0.5).astype(\"int32\")`,   if your model does binary classification   (e.g. if it uses a `sigmoid` last-layer activation).\n",
      "  warnings.warn('`model.predict_classes()` is deprecated and '\n"
     ]
    },
    {
     "data": {
      "text/plain": "<Figure size 432x288 with 2 Axes>",
      "image/png": "[encoded data removed]"
     },
     "metadata": {
      "needs_background": "light"
     },
     "output_type": "display_data"
    }
   ],
   "source": [
    "X_final = X_all.copy().to_numpy()\n",
    "y_final = y_all.copy().to_numpy()\n",
    "\n",
    "X_final_vec = vectorize_one_vector(X_final)\n",
    "model_final = create_model(X_final_vec.shape[1], hidden_layers_number, hidden_layer_units, dropout_rate)\n",
    "model_final.compile(optimizer=tf.keras.optimizers.Adam(), loss='binary_crossentropy', metrics=['accuracy'])\n",
    "history = model_final.fit(x=X_final_vec, y=y_final, epochs=final_training_epochs, batch_size=batch_size)\n",
    "\n",
    "loss_final, accuracy_final = model_final.evaluate(X_final_vec, y_final)\n",
    "print(f'TRAIN LOSS: {loss_final} / TEST ACCURACY: {accuracy_final}')\n",
    "y_pred_final = model_final.predict_classes(X_final_vec)\n",
    "cm = confusion_matrix(y_final, y_pred_final)\n",
    "plot_confusion_matrix(cm, [0, 1])"
   ],
   "metadata": {
    "collapsed": false,
    "pycharm": {
     "name": "#%%\n"
    }
   }
  },
  {
   "cell_type": "code",
   "execution_count": 27,
   "outputs": [
    {
     "data": {
      "text/plain": "   id keyword location                                               text  \\\n0   0     NaN      NaN                 Just happened a terrible car crash   \n1   2     NaN      NaN  Heard about #earthquake is different cities, s...   \n2   3     NaN      NaN  there is a forest fire at spot pond, geese are...   \n\n                                        text_preproc  \n0                 just happened a terrible car crash  \n1  heard about earthquake is different cities sta...  \n2  there is a forest fire at spot pond geese are ...  ",
      "text/html": "<div>\n<style scoped>\n    .dataframe tbody tr th:only-of-type {\n        vertical-align: middle;\n    }\n\n    .dataframe tbody tr th {\n        vertical-align: top;\n    }\n\n    .dataframe thead th {\n        text-align: right;\n    }\n</style>\n<table border=\"1\" class=\"dataframe\">\n  <thead>\n    <tr style=\"text-align: right;\">\n      <th></th>\n      <th>id</th>\n      <th>keyword</th>\n      <th>location</th>\n      <th>text</th>\n      <th>text_preproc</th>\n    </tr>\n  </thead>\n  <tbody>\n    <tr>\n      <th>0</th>\n      <td>0</td>\n      <td>NaN</td>\n      <td>NaN</td>\n      <td>Just happened a terrible car crash</td>\n      <td>just happened a terrible car crash</td>\n    </tr>\n    <tr>\n      <th>1</th>\n      <td>2</td>\n      <td>NaN</td>\n      <td>NaN</td>\n      <td>Heard about #earthquake is different cities, s...</td>\n      <td>heard about earthquake is different cities sta...</td>\n    </tr>\n    <tr>\n      <th>2</th>\n      <td>3</td>\n      <td>NaN</td>\n      <td>NaN</td>\n      <td>there is a forest fire at spot pond, geese are...</td>\n      <td>there is a forest fire at spot pond geese are ...</td>\n    </tr>\n  </tbody>\n</table>\n</div>"
     },
     "execution_count": 27,
     "metadata": {},
     "output_type": "execute_result"
    }
   ],
   "source": [
    "test_df[:3]"
   ],
   "metadata": {
    "collapsed": false,
    "pycharm": {
     "name": "#%%\n"
    }
   }
  },
  {
   "cell_type": "code",
   "execution_count": 28,
   "outputs": [
    {
     "data": {
      "text/plain": "array(['just happened a terrible car crash',\n       'heard about earthquake is different cities stay safe everyone',\n       'there is a forest fire at spot pond geese are fleeing across the street i cannot save them all',\n       ..., 'green line derailment in chicago ',\n       'meg issues hazardous weather outlook hwo ',\n       'cityofcalgary has activated its municipal emergency plan yycstorm'],\n      dtype=object)"
     },
     "execution_count": 28,
     "metadata": {},
     "output_type": "execute_result"
    }
   ],
   "source": [
    "X_out = test_df['text_preproc'].to_numpy()\n",
    "X_out"
   ],
   "metadata": {
    "collapsed": false,
    "pycharm": {
     "name": "#%%\n"
    }
   }
  },
  {
   "cell_type": "code",
   "execution_count": 30,
   "outputs": [
    {
     "name": "stderr",
     "output_type": "stream",
     "text": [
      "c:\\users\\mikol\\miniconda3\\envs\\kaggle02\\lib\\site-packages\\tensorflow\\python\\keras\\engine\\sequential.py:450: UserWarning: `model.predict_classes()` is deprecated and will be removed after 2021-01-01. Please use instead:* `np.argmax(model.predict(x), axis=-1)`,   if your model does multi-class classification   (e.g. if it uses a `softmax` last-layer activation).* `(model.predict(x) > 0.5).astype(\"int32\")`,   if your model does binary classification   (e.g. if it uses a `sigmoid` last-layer activation).\n",
      "  warnings.warn('`model.predict_classes()` is deprecated and '\n"
     ]
    },
    {
     "data": {
      "text/plain": "array([[1],\n       [1],\n       [1],\n       ...,\n       [1],\n       [1],\n       [1]])"
     },
     "execution_count": 30,
     "metadata": {},
     "output_type": "execute_result"
    }
   ],
   "source": [
    "y_out_pred = model_final.predict_classes(vectorize_one_vector(X_out))\n",
    "y_out_pred"
   ],
   "metadata": {
    "collapsed": false,
    "pycharm": {
     "name": "#%%\n"
    }
   }
  },
  {
   "cell_type": "code",
   "execution_count": 31,
   "outputs": [],
   "source": [
    "file = pd.DataFrame({\n",
    "   'id': test_df['id'],\n",
    "   'target': [v[0] for v in y_out_pred]\n",
    "})\n",
    "\n",
    "file.to_csv('disaster-tweets-mlp-avg-vectors.csv', index=False)"
   ],
   "metadata": {
    "collapsed": false,
    "pycharm": {
     "name": "#%%\n"
    }
   }
  }
 ],
 "metadata": {
  "celltoolbar": "Tags",
  "kernelspec": {
   "display_name": "Python 3",
   "language": "python",
   "name": "python3"
  },
  "language_info": {
   "codemirror_mode": {
    "name": "ipython",
    "version": 3
   },
   "file_extension": ".py",
   "mimetype": "text/x-python",
   "name": "python",
   "nbconvert_exporter": "python",
   "pygments_lexer": "ipython3",
   "version": "3.8.5"
  }
 },
 "nbformat": 4,
 "nbformat_minor": 1
}
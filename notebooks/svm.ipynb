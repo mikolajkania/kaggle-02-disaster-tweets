{
 "cells": [
  {
   "cell_type": "markdown",
   "source": [
    "## SVM\n",
    "\n",
    "Default LinearSVC achieve worse results than logistic regression. SVC, on the other hand, works good for negative class (0.91) and much worse for positive (0.47), based on averaged cross validation."
   ],
   "metadata": {
    "collapsed": false,
    "pycharm": {
     "name": "#%% md\n"
    }
   }
  },
  {
   "cell_type": "code",
   "execution_count": 56,
   "metadata": {
    "collapsed": true
   },
   "outputs": [
    {
     "name": "stdout",
     "output_type": "stream",
     "text": [
      "The autoreload extension is already loaded. To reload it, use:\n",
      "  %reload_ext autoreload\n"
     ]
    }
   ],
   "source": [
    "%load_ext autoreload\n",
    "%autoreload 2\n",
    "\n",
    "import re\n",
    "import itertools\n",
    "\n",
    "import pandas as pd\n",
    "import numpy as np\n",
    "import matplotlib.pyplot as plt\n",
    "\n",
    "from sklearn.feature_extraction.text import CountVectorizer\n",
    "from sklearn.svm import SVC\n",
    "from sklearn.model_selection import train_test_split\n",
    "from sklearn.metrics import confusion_matrix, classification_report\n",
    "from sklearn.model_selection import StratifiedKFold"
   ]
  },
  {
   "cell_type": "markdown",
   "source": [
    "## Loading data"
   ],
   "metadata": {
    "collapsed": false,
    "pycharm": {
     "name": "#%% md\n"
    }
   }
  },
  {
   "cell_type": "code",
   "execution_count": 57,
   "outputs": [
    {
     "data": {
      "text/plain": "   id keyword location                                               text  \\\n0   1     NaN      NaN  Our Deeds are the Reason of this #earthquake M...   \n1   4     NaN      NaN             Forest fire near La Ronge Sask. Canada   \n2   5     NaN      NaN  All residents asked to 'shelter in place' are ...   \n\n   target  \n0       1  \n1       1  \n2       1  ",
      "text/html": "<div>\n<style scoped>\n    .dataframe tbody tr th:only-of-type {\n        vertical-align: middle;\n    }\n\n    .dataframe tbody tr th {\n        vertical-align: top;\n    }\n\n    .dataframe thead th {\n        text-align: right;\n    }\n</style>\n<table border=\"1\" class=\"dataframe\">\n  <thead>\n    <tr style=\"text-align: right;\">\n      <th></th>\n      <th>id</th>\n      <th>keyword</th>\n      <th>location</th>\n      <th>text</th>\n      <th>target</th>\n    </tr>\n  </thead>\n  <tbody>\n    <tr>\n      <th>0</th>\n      <td>1</td>\n      <td>NaN</td>\n      <td>NaN</td>\n      <td>Our Deeds are the Reason of this #earthquake M...</td>\n      <td>1</td>\n    </tr>\n    <tr>\n      <th>1</th>\n      <td>4</td>\n      <td>NaN</td>\n      <td>NaN</td>\n      <td>Forest fire near La Ronge Sask. Canada</td>\n      <td>1</td>\n    </tr>\n    <tr>\n      <th>2</th>\n      <td>5</td>\n      <td>NaN</td>\n      <td>NaN</td>\n      <td>All residents asked to 'shelter in place' are ...</td>\n      <td>1</td>\n    </tr>\n  </tbody>\n</table>\n</div>"
     },
     "execution_count": 57,
     "metadata": {},
     "output_type": "execute_result"
    }
   ],
   "source": [
    "train_df = pd.read_csv('../data/train.csv', encoding='utf-8', warn_bad_lines=True, error_bad_lines=False)\n",
    "test_df = pd.read_csv('../data/test.csv', encoding='utf-8', warn_bad_lines=True, error_bad_lines=False)\n",
    "\n",
    "train_df[:3]"
   ],
   "metadata": {
    "collapsed": false,
    "pycharm": {
     "name": "#%%\n"
    }
   }
  },
  {
   "cell_type": "markdown",
   "source": [
    "## Preprocessing"
   ],
   "metadata": {
    "collapsed": false,
    "pycharm": {
     "name": "#%% md\n"
    }
   }
  },
  {
   "cell_type": "code",
   "execution_count": 58,
   "outputs": [],
   "source": [
    "EXTENDED_STRIP_REGEX = r'[!\"#$%&()\\*\\+,-\\./:;„”<=>?@\\[\\\\\\]^_`{|}~\\']'\n",
    "REMOVE_NUMERICAL = r'[0-9]'\n",
    "\n",
    "def _preprocessing(txt: str) -> str:\n",
    "    txt = txt.lower()\n",
    "    txt = re.sub(EXTENDED_STRIP_REGEX, '', txt)\n",
    "    txt = re.sub(REMOVE_NUMERICAL, '', txt)\n",
    "    return txt\n",
    "\n",
    "train_df['text_preproc'] = train_df['text'].apply(_preprocessing)"
   ],
   "metadata": {
    "collapsed": false,
    "pycharm": {
     "name": "#%%\n"
    }
   }
  },
  {
   "cell_type": "markdown",
   "source": [
    "## Data split"
   ],
   "metadata": {
    "collapsed": false,
    "pycharm": {
     "name": "#%% md\n"
    }
   }
  },
  {
   "cell_type": "code",
   "execution_count": 59,
   "outputs": [
    {
     "data": {
      "text/plain": "0    our deeds are the reason of this earthquake ma...\n1                forest fire near la ronge sask canada\n2    all residents asked to shelter in place are be...\nName: text_preproc, dtype: object"
     },
     "execution_count": 59,
     "metadata": {},
     "output_type": "execute_result"
    }
   ],
   "source": [
    "X = train_df['text_preproc']\n",
    "y = train_df['target']\n",
    "\n",
    "X[:3]"
   ],
   "metadata": {
    "collapsed": false,
    "pycharm": {
     "name": "#%%\n"
    }
   }
  },
  {
   "cell_type": "code",
   "execution_count": 60,
   "outputs": [
    {
     "data": {
      "text/plain": "4996    courageous and honest analysis of need to use ...\n3263    zachzaidman thescore wld b a shame if that gol...\n4907    tell barackobama to rescind medals of honor gi...\nName: text_preproc, dtype: object"
     },
     "execution_count": 60,
     "metadata": {},
     "output_type": "execute_result"
    }
   ],
   "source": [
    "X_train, X_test, y_train, y_test = train_test_split(X, y, test_size=0.2, random_state=42)\n",
    "\n",
    "X_train[:3]"
   ],
   "metadata": {
    "collapsed": false,
    "pycharm": {
     "name": "#%%\n"
    }
   }
  },
  {
   "cell_type": "markdown",
   "source": [
    "## Vectorization"
   ],
   "metadata": {
    "collapsed": false,
    "pycharm": {
     "name": "#%% md\n"
    }
   }
  },
  {
   "cell_type": "code",
   "execution_count": 61,
   "outputs": [
    {
     "data": {
      "text/plain": "['i', 'me', 'my']"
     },
     "execution_count": 61,
     "metadata": {},
     "output_type": "execute_result"
    }
   ],
   "source": [
    "with open('../resources/stopwords_en.txt', encoding='utf-8') as f:\n",
    "    stopwords = [line.rstrip() for line in f]\n",
    "\n",
    "stopwords[:3]"
   ],
   "metadata": {
    "collapsed": false,
    "pycharm": {
     "name": "#%%\n"
    }
   }
  },
  {
   "cell_type": "code",
   "execution_count": 62,
   "outputs": [
    {
     "name": "stdout",
     "output_type": "stream",
     "text": [
      "['aba', 'abandoned', 'abbswinston', 'abc', 'abcnews', 'ability', 'ablaze', 'able', 'about', 'above', 'absolutely', 'abstorm', 'access', 'accident', 'accidentally', 'accidents', 'according', 'account', 'accused', 'acres', 'across', 'act', 'action', 'actions', 'activated', 'activates', 'actual', 'actually', 'add', 'added', 'admits', 'adult', 'advance', 'advisory', 'af', 'affected', 'afghan', 'afghanistan', 'afraid', 'africa', 'after', 'afternoon', 'aftershock', 'again', 'against', 'age', 'ago', 'agree', 'agreed', 'ah', 'ahead', 'aid', 'aim', 'aint', 'air', 'aircraft', 'airlines', 'airplane', 'airport', 'aka', 'al', 'alabama', 'alarm', 'alaska', 'alberta', 'album', 'alcohol', 'alert', 'alive', 'all', 'allah', 'alleged', 'allow', 'allowed', 'allows', 'almost', 'alone', 'along', 'alps', 'already', 'also', 'always', 'am', 'amazing', 'amazon', 'ambulance', 'america', 'american', 'americans', 'americas', 'amid', 'among', 'amongst', 'amp', 'amsterdam', 'an', 'analysis', 'ancient', 'and', 'angel', 'angry', 'animal', 'animalrescue', 'annihilated', 'annihilation', 'anniversary', 'announcement', 'another', 'answer', 'anthrax', 'anti', 'antioch', 'any', 'anymore', 'anyone', 'anything', 'anyway', 'ap', 'apartment', 'apc', 'apocalypse', 'apocalyptic', 'apollo', 'app', 'apparently', 'appears', 'apple', 'apply', 'appreciate', 'approaches', 'ar', 'arabia', 'arabian', 'are', 'area', 'areas', 'arent', 'arianagrande', 'arm', 'armageddon', 'arms', 'army', 'around', 'arrested', 'arrive', 'arrived', 'arson', 'arsonist', 'art', 'article', 'articles', 'as', 'asap', 'ashes', 'ask', 'asked', 'asking', 'ass', 'associated', 'at', 'atomic', 'attack', 'attacked', 'attacking', 'attacks', 'attention', 'auctions', 'audio', 'aug', 'august', 'aussie', 'australia', 'auth', 'automatic', 'av', 'avalanche', 'ave', 'average', 'avoid', 'avoiding', 'aware', 'away', 'awesome', 'awful', 'babies', 'baby', 'back', 'bad', 'bag', 'bagging', 'bags', 'bake', 'ball', 'ban', 'bang', 'bank', 'banned', 'bar', 'bargain', 'base', 'baseball', 'based', 'bat', 'bath', 'bathroom', 'battle', 'battlefield', 'battling', 'bay', 'bayelsa', 'bb', 'bbc', 'bc', 'be', 'beach', 'beam', 'bear', 'bears', 'beat', 'beats', 'beautiful', 'became', 'because', 'become', 'becomes', 'bed', 'bedroom', 'been', 'beer', 'before', 'began', 'begin', 'beginning', 'begins', 'behind', 'being', 'believe', 'bells', 'below', 'ben', 'benefits', 'best', 'bestnaijamade', 'bet', 'better', 'between', 'beyhive', 'beyonce', 'beyond', 'bff', 'bicyclist', 'big', 'bigger', 'biggest', 'bin', 'biological', 'bioterror', 'bioterrorism', 'birthday', 'bit', 'bitch', 'bjp', 'black', 'blackberry', 'blame', 'blamed', 'blast', 'blaze', 'blazing', 'bleeding', 'bless', 'blessed', 'blessings', 'blew', 'blight', 'blind', 'blizzard', 'blk', 'block', 'blocked', 'blocking', 'blog', 'blood', 'bloody', 'blown', 'blows', 'blue', 'bluejays', 'bluetooth', 'blvd', 'board', 'boat', 'bob', 'bodies', 'body', 'bomb', 'bombed', 'bomber', 'bombing', 'bombings', 'bombs', 'book', 'books', 'boot', 'boss', 'boston', 'both', 'bottom', 'bought', 'bound', 'bout', 'box', 'boxer', 'boy', 'boys', 'bp', 'brain', 'brazil', 'break', 'breaking', 'bride', 'bridge', 'bring', 'brings', 'british', 'bro', 'broad', 'broadway', 'broke', 'broken', 'brooklyn', 'brother', 'brothers', 'brought', 'brown', 'browser', 'bruh', 'budget', 'buffalo', 'build', 'building', 'buildings', 'bulletin', 'bullets', 'burn', 'burned', 'burning', 'burns', 'burst', 'bus', 'buses', 'bush', 'business', 'businesses', 'but', 'butter', 'button', 'buy', 'by', 'ca', 'cable', 'cake', 'cakes', 'calgary', 'calif', 'california', 'call', 'called', 'calling', 'calls', 'calm', 'calories', 'came', 'cameroon', 'camp', 'campus', 'can', 'canaanites', 'canada', 'cancel', 'cancer', 'cannot', 'cant', 'canyon', 'capsizes', 'captain', 'captured', 'captures', 'car', 'care', 'career', 'careful', 'carry', 'carrying', 'cars', 'case', 'cases', 'cast', 'casualties', 'casualty', 'cat', 'catastrophe', 'catastrophic', 'catch', 'caught', 'cause', 'caused', 'causes', 'causing', 'cdt', 'cell', 'center', 'central', 'centre', 'ceo', 'certain', 'certainly', 'chance', 'change', 'changes', 'character', 'characters', 'charged', 'charging', 'charity', 'charlie', 'charts', 'check', 'cheese', 'chemical', 'chicago', 'chicagoarea', 'chief', 'child', 'childhood', 'children', 'chile', 'china', 'chinas', 'chinese', 'choice', 'choking', 'christian', 'christians', 'christmas', 'church', 'cia', 'cinema', 'cities', 'city', 'civilian', 'civilians', 'claim', 'claims', 'class', 'classic', 'clean', 'clear', 'cleveland', 'click', 'cliff', 'climate', 'close', 'closed', 'clutch', 'cnbc', 'cnn', 'co', 'coach', 'coaches', 'coast', 'coastal', 'code', 'coffee', 'cofounder', 'cold', 'collapse', 'collapsed', 'collection', 'collide', 'collided', 'collision', 'color', 'colorado', 'colour', 'combined', 'combo', 'come', 'comes', 'coming', 'comment', 'comments', 'common', 'communities', 'community', 'companies', 'company', 'complete', 'completely', 'compliant', 'computer', 'computers', 'concern', 'concerned', 'concert', 'conclusively', 'conditions', 'conference', 'confirm', 'confirmed', 'confirms', 'conflict', 'congress', 'consider', 'considering', 'content', 'continue', 'continued', 'continues', 'control', 'cook', 'cool', 'cop', 'copilot', 'cops', 'cord', 'cost', 'costlier', 'costs', 'cotton', 'could', 'couldnt', 'counselor', 'countries', 'country', 'county', 'couple', 'course', 'court', 'cover', 'covered', 'covers', 'cramer', 'cranes', 'crap', 'crash', 'crashed', 'crater', 'crazy', 'cream', 'create', 'created', 'cree', 'crematoria', 'crews', 'crime', 'criminals', 'crisis', 'cross', 'crossed', 'crowd', 'crush', 'crushed', 'cruz', 'cry', 'crying', 'cum', 'cup', 'curfew', 'currently', 'curved', 'cut', 'cute', 'cuz', 'cyclone', 'da', 'dad', 'daily', 'dallas', 'damage', 'damaged', 'damages', 'damn', 'dan', 'dance', 'danger', 'dangerous', 'dare', 'dark', 'darude', 'dat', 'data', 'date', 'daughter', 'daughters', 'david', 'day', 'days', 'dc', 'de', 'dead', 'deadly', 'deal', 'deals', 'death', 'deaths', 'debate', 'debris', 'debt', 'decided', 'deck', 'declaration', 'declares', 'deep', 'degree', 'degrees', 'delays', 'delivers', 'deluge', 'deluged', 'demand', 'demolish', 'demolished', 'demolition', 'denver', 'department', 'dependency', 'depth', 'derail', 'derailed', 'derailment', 'derails', 'design', 'designs', 'desire', 'desolate', 'desolation', 'destiny', 'destroy', 'destroyed', 'destroys', 'destruction', 'details', 'detectado', 'detonate', 'detonated', 'detonation', 'devastated', 'devastation', 'di', 'dick', 'did', 'didnt', 'die', 'died', 'dies', 'different', 'dinner', 'direction', 'directioners', 'disaster', 'disasters', 'disco', 'discovered', 'discovery', 'disea', 'disease', 'disney', 'disneys', 'displaced', 'disrupts', 'distance', 'diving', 'djicemoon', 'dk', 'dnb', 'do', 'doctor', 'documents', 'does', 'doesnt', 'dog', 'dogs', 'doing', 'dollar', 'don', 'done', 'dont', 'door', 'double', 'down', 'download', 'downtown', 'dozens', 'dr', 'drake', 'dramatic', 'dream', 'drill', 'drink', 'drinking', 'drive', 'driver', 'driving', 'drone', 'drop', 'dropped', 'drought', 'drove', 'drown', 'drowned', 'drowning', 'drug', 'drugs', 'drunk', 'dry', 'dtn', 'dubstep', 'dude', 'due', 'during', 'dust', 'dutch', 'dvd', 'dying', 'each', 'earlier', 'early', 'earners', 'earth', 'earthquake', 'easily', 'east', 'easy', 'eat', 'eating', 'ebay', 'ebola', 'economic', 'economy', 'eden', 'edition', 'edm', 'edt', 'education', 'effect', 'effects', 'effort', 'efforts', 'either', 'el', 'electrical', 'electrocute', 'electrocuted', 'electronic', 'elephant', 'elevated', 'else', 'em', 'emergency', 'emmerdale', 'emotional', 'ems', 'end', 'ended', 'ends', 'enemy', 'energy', 'england', 'engulfed', 'enjoy', 'enough', 'entertainment', 'entire', 'enugu', 'ep', 'epic', 'epicentre', 'episode', 'equal', 'equipment', 'er', 'eruption', 'escape', 'especially', 'estate', 'estimate', 'estimated', 'etc', 'europe', 'evacuate', 'evacuated', 'evacuation', 'even', 'evening', 'event', 'ever', 'every', 'everyday', 'everyone', 'everyones', 'everything', 'everywhere', 'evil', 'examining', 'except', 'exchange', 'exchanging', 'executives', 'exist', 'exit', 'exp', 'expect', 'expected', 'experience', 'expert', 'experts', 'explode', 'exploded', 'exploration', 'explosion', 'explosionproof', 'express', 'external', 'extreme', 'extremely', 'eye', 'eyes', 'eyewitness', 'faan', 'face', 'facebook', 'faced', 'fact', 'failed', 'failure', 'fair', 'fake', 'falcon', 'fall', 'falling', 'falls', 'false', 'families', 'family', 'famine', 'fan', 'fans', 'fantastic', 'fantasy', 'far', 'fashion', 'fast', 'fat', 'fatal', 'fatalities', 'fatality', 'fate', 'father', 'faux', 'fav', 'favorite', 'fbi', 'fear', 'feared', 'fears', 'feat', 'fedex', 'feed', 'feeding', 'feel', 'feeling', 'feelings', 'feels', 'feet', 'fell', 'felt', 'female', 'feminists', 'ferguson', 'fergusons', 'festival', 'fettilootch', 'few', 'field', 'fifth', 'fight', 'fighters', 'fighting', 'fights', 'fill', 'film', 'final', 'finally', 'financial', 'find', 'finds', 'fine', 'finnish', 'fire', 'fired', 'firefighter', 'firefighters', 'fires', 'first', 'five', 'fix', 'flag', 'flames', 'flash', 'flat', 'flattened', 'fleets', 'flight', 'floated', 'flood', 'flooding', 'floods', 'floor', 'florida', 'flying', 'focus', 'fog', 'follow', 'followers', 'following', 'follows', 'food', 'foot', 'footage', 'football', 'for', 'force', 'forced', 'forces', 'forecast', 'forest', 'forever', 'forget', 'former', 'fort', 'found', 'four', 'fox', 'foxnews', 'france', 'freak', 'freakiest', 'free', 'french', 'fresh', 'friday', 'friend', 'friends', 'from', 'front', 'frontline', 'fruit', 'ft', 'fuck', 'fucked', 'fucking', 'fuel', 'fukushima', 'full', 'fully', 'fun', 'funds', 'funny', 'funtenna', 'future', 'fwy', 'gabon', 'gained', 'galactic', 'game', 'games', 'gang', 'garden', 'gas', 'gave', 'gay', 'gaza', 'gbbo', 'geller', 'gems', 'general', 'generation', 'genocide', 'george', 'georgia', 'german', 'germs', 'get', 'gets', 'getting', 'giant', 'gift', 'girl', 'girlfriend', 'girls', 'give', 'given', 'giving', 'glad', 'glass', 'global', 'gm', 'go', 'god', 'gods', 'goes', 'going', 'gold', 'gone', 'gonna', 'good', 'google', 'gop', 'got', 'gotta', 'gotten', 'gov', 'government', 'governor', 'govt', 'grab', 'grace', 'grateful', 'grazed', 'great', 'greatest', 'green', 'grief', 'grill', 'ground', 'group', 'groups', 'grow', 'grows', 'gt', 'gtgt', 'guardian', 'guess', 'guide', 'guillermo', 'gun', 'gunfire', 'gunman', 'guns', 'gusts', 'guy', 'guys', 'had', 'haha', 'hail', 'hailstorm', 'hair', 'half', 'hand', 'handbag', 'handbags', 'hands', 'hang', 'happen', 'happened', 'happening', 'happens', 'happy', 'haram', 'harbor', 'hard', 'harm', 'harry', 'has', 'hasnt', 'hat', 'hate', 'hated', 'have', 'havent', 'having', 'hawaii', 'hazard', 'hazardous', 'he', 'head', 'headed', 'heading', 'headphones', 'heads', 'health', 'hear', 'heard', 'hearing', 'heart', 'hearts', 'heat', 'heavy', 'held', 'helicopter', 'hell', 'hellfire', 'hello', 'help', 'helping', 'her', 'here', 'heres', 'hero', 'heroes', 'hes', 'hey', 'hi', 'hieroglyphics', 'high', 'highest', 'highway', 'hijack', 'hijacker', 'hijacking', 'hilarious', 'hill', 'hills', 'him', 'himself', 'hiring', 'hiroshima', 'his', 'history', 'hit', 'hits', 'hobbit', 'hobo', 'hold', 'holding', 'hole', 'holiday', 'holland', 'hollywood', 'holy', 'home', 'homeless', 'homes', 'honestly', 'honors', 'hope', 'horrible', 'horror', 'horse', 'horses', 'hospital', 'hostage', 'hostages', 'hot', 'hour', 'hours', 'house', 'houses', 'housing', 'houston', 'how', 'httpstcomollvdyd', 'httpstcorqwuoyfm', 'httptcocybksxhfd', 'httptcoencmhzy', 'httptcoksawlyux', 'httptcoqeblokeve', 'httptcoqewcmxd', 'httptcozujwuiomb', 'huffman', 'huge', 'hughes', 'huh', 'human', 'humanity', 'humans', 'humidity', 'hundreds', 'hunt', 'hunters', 'hurricane', 'hurt', 'hurts', 'hwo', 'hwy', 'ian', 'ice', 'icemoon', 'ices', 'id', 'idea', 'ideas', 'idfire', 'idk', 'idp', 'ie', 'if', 'igers', 'ignition', 'ii', 'ill', 'illegal', 'im', 'image', 'images', 'imagine', 'impact', 'in', 'inch', 'incident', 'including', 'increased', 'incredible', 'indeed', 'independent', 'india', 'indian', 'individuals', 'industry', 'info', 'information', 'injured', 'injuries', 'injury', 'inner', 'insane', 'inside', 'instagram', 'instead', 'insurance', 'insurer', 'intensity', 'interested', 'interesting', 'intern', 'internal', 'internally', 'international', 'internet', 'interview', 'into', 'inundated', 'inundation', 'invalid', 'investigating', 'investigation', 'investigators', 'invoices', 'involving', 'iphone', 'ir', 'iran', 'irandeal', 'iranian', 'iraq', 'is', 'isis', 'islam', 'islamic', 'island', 'isnt', 'israel', 'israeli', 'issue', 'issued', 'issues', 'it', 'italian', 'italy', 'itll', 'its', 'itself', 'itunes', 'ive', 'jack', 'jackson', 'jacksonville', 'jam', 'japan', 'japanese', 'japìn', 'jesus', 'jet', 'job', 'jobs', 'joe', 'john', 'join', 'jonathan', 'jordan', 'joy', 'jst', 'judge', 'july', 'just', 'justice', 'justinbieber', 'kaduna', 'kca', 'keep', 'keeps', 'kept', 'kerricktrial', 'kick', 'kicked', 'kid', 'kidnapped', 'kids', 'kill', 'killed', 'killer', 'killing', 'kills', 'kinda', 'kindle', 'king', 'kingdom', 'kit', 'km', 'knee', 'knew', 'knock', 'know', 'known', 'knows', 'kombat', 'ks', 'kurdish', 'la', 'lab', 'lack', 'laden', 'ladies', 'lady', 'lake', 'lamp', 'land', 'landing', 'landslide', 'lane', 'large', 'larger', 'last', 'late', 'later', 'latest', 'laughing', 'lava', 'law', 'laws', 'lead', 'leader', 'leading', 'leads', 'league', 'learn', 'learning', 'least', 'leather', 'leave', 'leaves', 'leaving', 'led', 'left', 'leg', 'legacy', 'legal', 'legionnaires', 'less', 'let', 'lethal', 'lets', 'level', 'levels', 'lez', 'lgbt', 'library', 'libya', 'lie', 'lies', 'life', 'lifted', 'light', 'lightening', 'lightning', 'lights', 'like', 'liked', 'likely', 'lil', 'limited', 'line', 'link', 'linked', 'linkury', 'lion', 'lip', 'list', 'listed', 'listen', 'listening', 'literally', 'little', 'live', 'lives', 'living', 'lmao', 'lmfao', 'loan', 'local', 'location', 'lol', 'london', 'lonely', 'long', 'longer', 'look', 'looked', 'looking', 'looks', 'loose', 'lord', 'lorries', 'lose', 'losing', 'loss', 'losses', 'lost', 'lot', 'lots', 'loud', 'louis', 'love', 'loved', 'lovely', 'loves', 'loving', 'low', 'lower', 'lowly', 'lowndes', 'lt', 'luck', 'lucky', 'lunch', 'mac', 'machine', 'mad', 'made', 'madhya', 'madinah', 'magic', 'mail', 'main', 'major', 'make', 'makes', 'making', 'malaysia', 'malaysian', 'man', 'management', 'manager', 'manchester', 'mansehra', 'mansion', 'manslaughter', 'many', 'map', 'marians', 'market', 'marks', 'mary', 'maryland', 'mass', 'massacre', 'massive', 'match', 'matter', 'max', 'maximum', 'may', 'mayan', 'maybe', 'mayhem', 'md', 'me', 'meals', 'mean', 'means', 'measurement', 'meatloving', 'med', 'media', 'medical', 'mediterran', 'mediterranean', 'meek', 'meet', 'meeting', 'meltdown', 'member', 'members', 'memorial', 'memories', 'memory', 'men', 'mens', 'mental', 'mention', 'mentions', 'mess', 'message', 'metal', 'metro', 'mets', 'mexico', 'mh', 'mhtwfnet', 'mi', 'michael', 'michigan', 'microlight', 'middle', 'might', 'migrant', 'migrants', 'mike', 'mikeparractor', 'mile', 'miles', 'militant', 'militants', 'military', 'mill', 'million', 'millions', 'min', 'mind', 'mine', 'minecraft', 'miners', 'mini', 'mining', 'minister', 'minority', 'minute', 'minutes', 'mishaps', 'miss', 'missed', 'missing', 'mission', 'mix', 'mlb', 'mma', 'mo', 'mod', 'mode', 'modified', 'mom', 'moment', 'moments', 'money', 'monogram', 'month', 'months', 'mood', 'moon', 'mop', 'more', 'morning', 'mortal', 'mosque', 'most', 'mother', 'motor', 'motorcycle', 'motorcyclist', 'mount', 'mountain', 'mourning', 'move', 'moved', 'moves', 'movie', 'moving', 'mp', 'mph', 'mr', 'ms', 'msf', 'mt', 'mtvhottest', 'much', 'mudslide', 'multiplayer', 'multiple', 'mumbai', 'municipal', 'murder', 'murdered', 'murderer', 'murderous', 'muscle', 'music', 'muslim', 'muslims', 'must', 'my', 'myanmar', 'myself', 'mystery', 'nagasaki', 'nah', 'name', 'named', 'nasahurricane', 'nashville', 'nasty', 'nation', 'national', 'natural', 'nature', 'navy', 'nbc', 'nc', 'nd', 'near', 'nearby', 'nearly', 'need', 'needed', 'needs', 'negative', 'neighbours', 'neither', 'network', 'never', 'new', 'newest', 'newlyweds', 'news', 'newyork', 'next', 'nfl', 'nice', 'nicki', 'nigerian', 'nigga', 'niggas', 'night', 'nine', 'no', 'none', 'normal', 'north', 'northern', 'nose', 'not', 'nothing', 'notice', 'notices', 'now', 'nowplaying', 'np', 'nu', 'nuclear', 'nuke', 'number', 'numbers', 'nursing', 'nws', 'ny', 'nyc', 'nytimes', 'obama', 'obliterate', 'obliterated', 'obliteration', 'occasion', 'occurred', 'ocean', 'odeon', 'of', 'off', 'offensive', 'office', 'officer', 'officers', 'official', 'officials', 'offroad', 'oh', 'oil', 'ok', 'okay', 'oklahoma', 'okwx', 'old', 'olympic', 'omg', 'on', 'once', 'one', 'ones', 'online', 'only', 'onto', 'oops', 'open', 'opened', 'opening', 'opens', 'operation', 'oppressions', 'or', 'order', 'orders', 'original', 'other', 'others', 'our', 'out', 'outbreak', 'outdoor', 'outlook', 'outrage', 'outside', 'over', 'overnight', 'own', 'owner', 'owners', 'pacific', 'packs', 'page', 'pain', 'pakistan', 'pakistani', 'palestine', 'palestinian', 'palestinians', 'pamela', 'pandemonium', 'panic', 'panicking', 'pantherattack', 'paper', 'parenthood', 'parents', 'park', 'parleys', 'parole', 'part', 'parts', 'party', 'pass', 'passengers', 'past', 'path', 'pathogens', 'patience', 'patient', 'paul', 'pay', 'pc', 'pcs', 'pdp', 'peace', 'peaceful', 'peanut', 'people', 'percent', 'perfect', 'perhaps', 'person', 'personal', 'persons', 'petition', 'philippines', 'phoenix', 'phone', 'phones', 'photo', 'photography', 'photos', 'pic', 'pick', 'picked', 'picking', 'pics', 'picture', 'piece', 'pile', 'pilot', 'pilots', 'pipe', 'pkk', 'place', 'places', 'plague', 'plains', 'plan', 'plane', 'planet', 'planned', 'plans', 'play', 'played', 'player', 'playing', 'playlist', 'playoffs', 'please', 'plot', 'plug', 'plunging', 'plus', 'pm', 'point', 'points', 'police', 'policy', 'political', 'politics', 'pool', 'poor', 'pop', 'population', 'port', 'positive', 'possible', 'post', 'posts', 'potential', 'potus', 'pov', 'power', 'powerful', 'powerlines', 'ppl', 'practice', 'pradesh', 'pray', 'prebreak', 'precipitation', 'predicted', 'prefer', 'prepare', 'prepared', 'preparedness', 'pres', 'present', 'president', 'press', 'pressure', 'pretty', 'prevent', 'preview', 'previous', 'price', 'prices', 'primary', 'prime', 'prison', 'private', 'probably', 'probe', 'problem', 'problems', 'profile', 'program', 'progress', 'project', 'projected', 'promises', 'prompts', 'property', 'prophet', 'prophetmuhammad', 'prosecuted', 'protect', 'protector', 'providence', 'provoke', 'ps', 'public', 'pull', 'pulls', 'pump', 'purple', 'purse', 'pussy', 'put', 'putin', 'putting', 'quarantine', 'quarantined', 'queen', 'question', 'questions', 'quick', 'quickly', 'quite', 'quiz', 'quran', 'race', 'radar', 'radiation', 'radio', 'rage', 'raid', 'rail', 'rain', 'rains', 'rainstorm', 'ran', 'rapidly', 'rare', 'rate', 'rather', 'ray', 'razed', 'rd', 're', 'rea', 'reaching', 'reactor', 'read', 'reading', 'ready', 'real', 'realise', 'reality', 'realized', 'really', 'rear', 'reason', 'reasons', 'recalls', 'recommend', 'record', 'recount', 'recover', 'recovery', 'red', 'reddit', 'reddits', 'reduce', 'refugees', 'refugio', 'region', 'register', 'regular', 'related', 'relatives', 'relax', 'release', 'released', 'releases', 'relief', 'remain', 'remains', 'remember', 'remembered', 'remembering', 'reminds', 'remove', 'repair', 'repatriated', 'replace', 'report', 'reported', 'reportedly', 'reporting', 'reports', 'republican', 'republicans', 'rescue', 'rescued', 'rescuers', 'research', 'residential', 'residents', 'respect', 'respond', 'responders', 'responds', 'response', 'responsibility', 'responsible', 'rest', 'result', 'resulted', 'results', 'return', 'reunion', 'reuters', 'revealed', 'reveals', 'review', 'reviews', 'reward', 'rexyy', 'richmond', 'ride', 'ridge', 'ridiculous', 'right', 'riot', 'rioting', 'riots', 'rip', 'rise', 'rising', 'risk', 'river', 'rly', 'rn', 'road', 'roads', 'rock', 'rockin', 'rocks', 'rocky', 'rohingya', 'rolling', 'roof', 'room', 'roosevelt', 'root', 'ross', 'round', 'route', 'row', 'rt', 'rubber', 'rubble', 'ruin', 'rule', 'rules', 'run', 'running', 'runs', 'runway', 'russia', 'russian', 'rì', 'sa', 'sad', 'sadly', 'safe', 'safety', 'said', 'saipan', 'sale', 'salem', 'salt', 'same', 'san', 'sanctions', 'sandiego', 'sandstorm', 'santa', 'sarah', 'sat', 'satchel', 'satellite', 'saturday', 'saudi', 'save', 'saved', 'saving', 'saw', 'say', 'saying', 'says', 'scared', 'scary', 'scene', 'schedule', 'scheme', 'school', 'science', 'screamed', 'screaming', 'screams', 'screen', 'se', 'sea', 'search', 'searching', 'season', 'seat', 'seattle', 'second', 'seconds', 'secret', 'secrets', 'security', 'see', 'seeing', 'seek', 'seeks', 'seems', 'seen', 'sees', 'seismic', 'self', 'selfimage', 'senator', 'send', 'senior', 'sense', 'sensor', 'sensorsenso', 'sent', 'sentinel', 'september', 'serial', 'series', 'serious', 'seriously', 'served', 'service', 'services', 'set', 'setting', 'settlement', 'seven', 'several', 'severe', 'sex', 'sexual', 'sh', 'shadow', 'shall', 'shame', 'shape', 'share', 'shares', 'she', 'shelter', 'shepherd', 'shes', 'shift', 'ship', 'shipping', 'ships', 'shit', 'shoes', 'shooting', 'shop', 'short', 'shot', 'shots', 'should', 'shoulder', 'shouldnt', 'show', 'shower', 'shows', 'shut', 'sicily', 'sick', 'side', 'sidelines', 'sign', 'signed', 'signs', 'silence', 'silver', 'simple', 'simulate', 'since', 'singing', 'single', 'sinjar', 'sinkhole', 'sinking', 'sir', 'siren', 'sirens', 'sismo', 'sister', 'sisters', 'sit', 'site', 'sitting', 'sittwe', 'situation', 'sixth', 'size', 'skin', 'sky', 'slanglucci', 'sleep', 'sleeping', 'slide', 'slightly', 'slow', 'small', 'smash', 'smaug', 'smh', 'smoke', 'smoking', 'snow', 'snowstorm', 'so', 'social', 'socialnews', 'solar', 'soldiers', 'solution', 'somalia', 'some', 'somebody', 'somehow', 'someone', 'someones', 'something', 'sometimes', 'son', 'song', 'soon', 'sorry', 'soudelor', 'soul', 'sound', 'soundcloud', 'sounds', 'source', 'sources', 'south', 'southampton', 'sp', 'space', 'spaceship', 'spanish', 'speaker', 'special', 'specially', 'spend', 'spending', 'spent', 'spider', 'spill', 'spirit', 'sport', 'sports', 'spos', 'spot', 'spring', 'springs', 'sprinter', 'squad', 'st', 'stabbing', 'stadium', 'staff', 'stage', 'stand', 'standard', 'standuser', 'star', 'starring', 'stars', 'start', 'started', 'starting', 'starts', 'state', 'states', 'station', 'status', 'stay', 'stealing', 'steel', 'steps', 'stereo', 'steve', 'still', 'stir', 'stock', 'stone', 'stop', 'stopped', 'stops', 'store', 'stories', 'storm', 'storms', 'story', 'straight', 'stranded', 'strange', 'strategicpatience', 'strategy', 'streak', 'stream', 'street', 'streets', 'stretcher', 'strike', 'strong', 'struck', 'structural', 'structure', 'structures', 'struggles', 'stuart', 'stuck', 'student', 'students', 'study', 'stuff', 'stupid', 'style', 'sub', 'subject', 'subreddits', 'subs', 'such', 'sucks', 'sue', 'suffer', 'suicide', 'summer', 'sun', 'sunday', 'sunk', 'sunset', 'super', 'supervisor', 'support', 'supposed', 'sure', 'surface', 'surprise', 'surprised', 'survival', 'survive', 'survived', 'survivors', 'suspect', 'suspected', 'sw', 'swallowed', 'swallows', 'swansea', 'sweet', 'swim', 'swimming', 'syria', 'syrian', 'system', 'table', 'tablet', 'tag', 'taiwan', 'take', 'taken', 'takes', 'taking', 'talk', 'talking', 'tank', 'target', 'targeting', 'tax', 'tcot', 'tea', 'team', 'teams', 'tears', 'tech', 'technology', 'ted', 'teen', 'tell', 'telling', 'tells', 'tempered', 'temple', 'temporary', 'ten', 'tennessee', 'tension', 'tent', 'terrible', 'terror', 'terrorism', 'terrorist', 'terrorists', 'test', 'texas', 'text', 'th', 'than', 'thank', 'thanks', 'that', 'thats', 'theater', 'theatre', 'their', 'them', 'themselves', 'then', 'theory', 'there', 'theres', 'these', 'they', 'theyll', 'theyre', 'theyve', 'thing', 'things', 'think', 'thinking', 'this', 'tho', 'thomas', 'those', 'though', 'thought', 'thoughts', 'thousands', 'threat', 'threatening', 'threatens', 'three', 'thriller', 'through', 'throw', 'thunder', 'thunderstorm', 'thunderstorms', 'thursday', 'thus', 'thx', 'tickets', 'till', 'time', 'times', 'tips', 'tired', 'title', 'to', 'today', 'todays', 'todd', 'toddler', 'together', 'toilet', 'told', 'toll', 'tom', 'tomorrow', 'tongue', 'tonight', 'tonto', 'too', 'took', 'top', 'tornado', 'toronto', 'total', 'totaling', 'totally', 'tote', 'touch', 'tough', 'tour', 'toward', 'towel', 'town', 'township', 'track', 'tracking', 'tracks', 'traffic', 'trafford', 'tragedy', 'trailer', 'train', 'training', 'trains', 'tram', 'transit', 'transport', 'trapmusic', 'trapped', 'trauma', 'traumatised', 'travel', 'treat', 'treatment', 'tree', 'trees', 'trench', 'trent', 'trfc', 'trial', 'tribal', 'tried', 'trip', 'triple', 'trolley', 'troops', 'tropical', 'trouble', 'truck', 'true', 'truly', 'trump', 'trust', 'truth', 'try', 'trying', 'tryna', 'ts', 'tsunami', 'tube', 'turkey', 'turkish', 'turn', 'turned', 'turns', 'tv', 'tweet', 'tweets', 'twelve', 'twice', 'twister', 'twitter', 'two', 'type', 'typhoon', 'typhoondevastated', 'udhampur', 'ugh', 'uk', 'ultimate', 'un', 'unconfirmed', 'under', 'understand', 'union', 'unit', 'united', 'units', 'unless', 'unlocked', 'unsafe', 'until', 'unveiled', 'up', 'update', 'updated', 'updates', 'upheaval', 'upon', 'upset', 'ur', 'us', 'usa', 'usagov', 'usatoday', 'use', 'used', 'users', 'uses', 'usgs', 'using', 'usual', 'usually', 'utc', 'utter', 'va', 'val', 'valley', 'van', 'vehicle', 'vehicles', 'version', 'very', 'veterans', 'vets', 'via', 'victim', 'victims', 'victory', 'video', 'videos', 'vietnam', 'view', 'village', 'villages', 'vinyl', 'violence', 'violent', 'viralspell', 'virgin', 'visit', 'voice', 'volcano', 'vote', 'votejktid', 'vs', 'vuitton', 'vulnerable', 'wa', 'wait', 'waiting', 'wake', 'walk', 'walking', 'wall', 'wanna', 'want', 'wanted', 'wanting', 'wants', 'war', 'warning', 'warnings', 'warns', 'wars', 'warship', 'was', 'wash', 'washington', 'wasnt', 'waste', 'watch', 'watched', 'watching', 'water', 'wave', 'waves', 'waving', 'way', 'ways', 'wd', 'we', 'wealth', 'weapon', 'weapons', 'wearing', 'weather', 'wed', 'wedding', 'wednesday', 'weed', 'week', 'weekend', 'weeks', 'weird', 'welcome', 'well', 'went', 'were', 'werent', 'west', 'western', 'wet', 'weve', 'whao', 'what', 'whats', 'wheavenly', 'when', 'where', 'whether', 'which', 'while', 'whirlwind', 'white', 'who', 'whole', 'whos', 'wht', 'why', 'wicked', 'wife', 'wild', 'wildfire', 'wildfires', 'will', 'win', 'wind', 'window', 'windows', 'winds', 'windstorm', 'wings', 'winter', 'wired', 'wireless', 'wisenews', 'wish', 'with', 'wither', 'within', 'without', 'wmata', 'wo', 'woke', 'woman', 'women', 'womens', 'won', 'wonder', 'wondering', 'wont', 'word', 'words', 'work', 'worked', 'working', 'world', 'worldnews', 'worlds', 'worried', 'worry', 'worse', 'worst', 'worth', 'would', 'wouldnt', 'wouldve', 'wound', 'wounded', 'wounds', 'wow', 'wreck', 'wreckage', 'wrecked', 'write', 'writing', 'written', 'wrong', 'wrought', 'wtf', 'ww', 'wwii', 'wx', 'xd', 'ya', 'yall', 'yay', 'yazidis', 'yea', 'yeah', 'year', 'yearold', 'years', 'yes', 'yesterday', 'yet', 'yo', 'york', 'you', 'youd', 'youll', 'young', 'youngheroesid', 'your', 'youre', 'yours', 'yourself', 'youth', 'youtube', 'youve', 'yr', 'yrs', 'yyc', 'zionist', 'zombie', 'zone', 'ûª', 'ûªm', 'ûªs', 'ûªt', 'ûªve', 'ûïwhen', 'ûò', 'ûó']\n"
     ]
    }
   ],
   "source": [
    "vec = CountVectorizer(min_df=4, max_df=0.3)\n",
    "vec.fit(X_train)\n",
    "X_train_vec = vec.transform(X_train)\n",
    "X_test_vec = vec.transform(X_test)\n",
    "\n",
    "print(vec.get_feature_names())"
   ],
   "metadata": {
    "collapsed": false,
    "pycharm": {
     "name": "#%%\n"
    }
   }
  },
  {
   "cell_type": "code",
   "execution_count": 63,
   "outputs": [
    {
     "data": {
      "text/plain": "SVC()"
     },
     "execution_count": 63,
     "metadata": {},
     "output_type": "execute_result"
    }
   ],
   "source": [
    "svc = SVC()\n",
    "svc.fit(X_train_vec, y_train)"
   ],
   "metadata": {
    "collapsed": false,
    "pycharm": {
     "name": "#%%\n"
    }
   }
  },
  {
   "cell_type": "code",
   "execution_count": 64,
   "outputs": [
    {
     "name": "stdout",
     "output_type": "stream",
     "text": [
      "0.9310344827586207\n",
      "0.8023637557452397\n"
     ]
    }
   ],
   "source": [
    "print(svc.score(X_train_vec, y_train))\n",
    "print(svc.score(X_test_vec, y_test))"
   ],
   "metadata": {
    "collapsed": false,
    "pycharm": {
     "name": "#%%\n"
    }
   }
  },
  {
   "cell_type": "code",
   "execution_count": 65,
   "outputs": [
    {
     "name": "stdout",
     "output_type": "stream",
     "text": [
      "[[798  76]\n",
      " [225 424]]\n",
      "Normalized confusion matrix\n"
     ]
    },
    {
     "data": {
      "text/plain": "<Figure size 432x288 with 2 Axes>",
      "image/png": "[encoded data removed]"
     },
     "metadata": {
      "needs_background": "light"
     },
     "output_type": "display_data"
    }
   ],
   "source": [
    "y_pred_test = svc.predict(X_test_vec)\n",
    "cm = confusion_matrix(y_test, y_pred_test)\n",
    "\n",
    "def plot_confusion_matrix(cm, classes,\n",
    "                          normalize=True,\n",
    "                          title='Confusion matrix for test set',\n",
    "                          cmap=plt.cm.Blues):\n",
    "\n",
    "    \"\"\"\n",
    "    This function prints and plots the confusion matrix.\n",
    "    Normalization can be applied by setting `normalize=True`.print(classification_report(y_test, y_pred_test))\n",
    "    \"\"\"\n",
    "    print(cm)\n",
    "    if normalize:\n",
    "        cm = cm.astype('float') / cm.sum(axis=1)[:, np.newaxis]\n",
    "        print(\"Normalized confusion matrix\")\n",
    "    else:\n",
    "        print('Confusion matrix, without normalization')\n",
    "\n",
    "    plt.imshow(cm, interpolation='nearest', cmap=cmap)\n",
    "    plt.title(title)\n",
    "    plt.colorbar()\n",
    "    tick_marks = np.arange(len(classes))\n",
    "    plt.xticks(tick_marks, classes, rotation=45)\n",
    "    plt.yticks(tick_marks, classes)\n",
    "\n",
    "    fmt = '.2f' if normalize else 'd'\n",
    "    thresh = cm.max() / 2.\n",
    "    for i, j in itertools.product(range(cm.shape[0]), range(cm.shape[1])):\n",
    "        plt.text(j, i, format(cm[i, j], fmt),\n",
    "                 horizontalalignment=\"center\",\n",
    "                 color=\"white\" if cm[i, j] > thresh else \"black\")\n",
    "\n",
    "    plt.ylabel('True label')\n",
    "    plt.xlabel('Predicted label')\n",
    "    plt.tight_layout()\n",
    "\n",
    "\n",
    "plot_confusion_matrix(cm, [False, True])"
   ],
   "metadata": {
    "collapsed": false,
    "pycharm": {
     "name": "#%%\n"
    }
   }
  },
  {
   "cell_type": "code",
   "execution_count": 66,
   "outputs": [
    {
     "name": "stdout",
     "output_type": "stream",
     "text": [
      "              precision    recall  f1-score   support\n",
      "\n",
      "           0       0.78      0.91      0.84       874\n",
      "           1       0.85      0.65      0.74       649\n",
      "\n",
      "    accuracy                           0.80      1523\n",
      "   macro avg       0.81      0.78      0.79      1523\n",
      "weighted avg       0.81      0.80      0.80      1523\n",
      "\n"
     ]
    }
   ],
   "source": [
    "print(classification_report(y_test, y_pred_test))"
   ],
   "metadata": {
    "collapsed": false,
    "pycharm": {
     "name": "#%%\n"
    }
   }
  },
  {
   "cell_type": "markdown",
   "source": [
    "## Cross validation"
   ],
   "metadata": {
    "collapsed": false,
    "pycharm": {
     "name": "#%% md\n"
    }
   }
  },
  {
   "cell_type": "code",
   "execution_count": 67,
   "outputs": [
    {
     "name": "stdout",
     "output_type": "stream",
     "text": [
      "TRAIN: 5709 TEST: 1904\n",
      "CV ACCURACY: 0.928008407777194\n",
      "\n",
      "\n",
      "TRAIN: 5710 TEST: 1903\n",
      "CV ACCURACY: 0.9299474605954466\n",
      "\n",
      "\n",
      "TRAIN: 5710 TEST: 1903\n",
      "CV ACCURACY: 0.9320490367775832\n",
      "\n",
      "\n",
      "TRAIN: 5710 TEST: 1903\n",
      "CV ACCURACY: 0.9264448336252189\n",
      "\n",
      "\n",
      "[[3939  403]\n",
      " [1721 1550]]\n",
      "Normalized confusion matrix\n"
     ]
    },
    {
     "data": {
      "text/plain": "<Figure size 432x288 with 2 Axes>",
      "image/png": "[encoded data removed]"
     },
     "metadata": {
      "needs_background": "light"
     },
     "output_type": "display_data"
    }
   ],
   "source": [
    "X_cv = train_df['text_preproc']\n",
    "y_cv = train_df['target']\n",
    "\n",
    "CONF_MATRIXES = []\n",
    "\n",
    "skf = StratifiedKFold(n_splits=4)\n",
    "for train_idx, test_idx in skf.split(X_cv, y_cv):\n",
    "    print('TRAIN:', len(train_idx), 'TEST:', len(test_idx))\n",
    "    X_train_cv, X_test_cv = X_cv[train_idx], X_cv[test_idx]\n",
    "    y_train_cv, y_test_cv = y_cv[train_idx], y_cv[test_idx]\n",
    "\n",
    "    vec_cv = CountVectorizer(min_df=4, max_df=0.3)\n",
    "    X_train_vec_cv = vec_cv.fit_transform(X_train_cv)\n",
    "    X_test_vec_cv = vec_cv.transform(X_test_cv)\n",
    "\n",
    "    svc_cv = SVC()\n",
    "    svc_cv.fit(X_train_vec_cv, y_train_cv)\n",
    "    accuracy_cv = svc_cv.score(X_train_vec_cv, y_train_cv)\n",
    "\n",
    "    print(f'CV ACCURACY: {accuracy_cv}')\n",
    "    y_pred_cv = svc_cv.predict(X_test_vec_cv)\n",
    "    cm = confusion_matrix(y_test_cv, y_pred_cv)\n",
    "    CONF_MATRIXES.append(cm)\n",
    "    print('\\n')\n",
    "\n",
    "# overall results\n",
    "cm = np.array(CONF_MATRIXES).sum(axis=0)\n",
    "plot_confusion_matrix(cm, [0, 1])"
   ],
   "metadata": {
    "collapsed": false,
    "pycharm": {
     "name": "#%%\n"
    }
   }
  },
  {
   "cell_type": "markdown",
   "source": [
    "## Final model training"
   ],
   "metadata": {
    "collapsed": false,
    "pycharm": {
     "name": "#%% md\n"
    }
   }
  },
  {
   "cell_type": "code",
   "execution_count": 68,
   "outputs": [
    {
     "name": "stdout",
     "output_type": "stream",
     "text": [
      "0.9264416130303428\n",
      "[[4252   90]\n",
      " [ 470 2801]]\n",
      "Normalized confusion matrix\n",
      "              precision    recall  f1-score   support\n",
      "\n",
      "           0       0.90      0.98      0.94      4342\n",
      "           1       0.97      0.86      0.91      3271\n",
      "\n",
      "    accuracy                           0.93      7613\n",
      "   macro avg       0.93      0.92      0.92      7613\n",
      "weighted avg       0.93      0.93      0.93      7613\n",
      "\n"
     ]
    },
    {
     "data": {
      "text/plain": "<Figure size 432x288 with 2 Axes>",
      "image/png": "[encoded data removed]"
     },
     "metadata": {
      "needs_background": "light"
     },
     "output_type": "display_data"
    }
   ],
   "source": [
    "vec = CountVectorizer(min_df=4, max_df=0.3)\n",
    "X_vec = vec.fit_transform(X)\n",
    "\n",
    "svc = SVC()\n",
    "svc.fit(X_vec, y)\n",
    "print(svc.score(X_vec, y))\n",
    "\n",
    "y_pred = svc.predict(X_vec)\n",
    "\n",
    "cm = confusion_matrix(y, svc.predict(X_vec))\n",
    "plot_confusion_matrix(cm, [0, 1])\n",
    "\n",
    "print(classification_report(y, y_pred))"
   ],
   "metadata": {
    "collapsed": false,
    "pycharm": {
     "name": "#%%\n"
    }
   }
  },
  {
   "cell_type": "code",
   "execution_count": 69,
   "outputs": [
    {
     "data": {
      "text/plain": "   id keyword location                                               text\n0   0     NaN      NaN                 Just happened a terrible car crash\n1   2     NaN      NaN  Heard about #earthquake is different cities, s...\n2   3     NaN      NaN  there is a forest fire at spot pond, geese are...",
      "text/html": "<div>\n<style scoped>\n    .dataframe tbody tr th:only-of-type {\n        vertical-align: middle;\n    }\n\n    .dataframe tbody tr th {\n        vertical-align: top;\n    }\n\n    .dataframe thead th {\n        text-align: right;\n    }\n</style>\n<table border=\"1\" class=\"dataframe\">\n  <thead>\n    <tr style=\"text-align: right;\">\n      <th></th>\n      <th>id</th>\n      <th>keyword</th>\n      <th>location</th>\n      <th>text</th>\n    </tr>\n  </thead>\n  <tbody>\n    <tr>\n      <th>0</th>\n      <td>0</td>\n      <td>NaN</td>\n      <td>NaN</td>\n      <td>Just happened a terrible car crash</td>\n    </tr>\n    <tr>\n      <th>1</th>\n      <td>2</td>\n      <td>NaN</td>\n      <td>NaN</td>\n      <td>Heard about #earthquake is different cities, s...</td>\n    </tr>\n    <tr>\n      <th>2</th>\n      <td>3</td>\n      <td>NaN</td>\n      <td>NaN</td>\n      <td>there is a forest fire at spot pond, geese are...</td>\n    </tr>\n  </tbody>\n</table>\n</div>"
     },
     "execution_count": 69,
     "metadata": {},
     "output_type": "execute_result"
    }
   ],
   "source": [
    "test_df[:3]"
   ],
   "metadata": {
    "collapsed": false,
    "pycharm": {
     "name": "#%%\n"
    }
   }
  },
  {
   "cell_type": "code",
   "execution_count": 70,
   "outputs": [
    {
     "data": {
      "text/plain": "0                      just happened a terrible car crash\n1       heard about earthquake is different cities sta...\n2       there is a forest fire at spot pond geese are ...\n3                   apocalypse lighting spokane wildfires\n4             typhoon soudelor kills  in china and taiwan\n                              ...                        \n3258    earthquake safety los angeles ûò safety faste...\n3259    storm in ri worse than last hurricane my citya...\n3260    green line derailment in chicago httptcoutbxlc...\n3261    meg issues hazardous weather outlook hwo httpt...\n3262    cityofcalgary has activated its municipal emer...\nName: text_preproc, Length: 3263, dtype: object"
     },
     "execution_count": 70,
     "metadata": {},
     "output_type": "execute_result"
    }
   ],
   "source": [
    "test_df['text_preproc'] = test_df['text'].apply(_preprocessing)\n",
    "X_out = test_df['text_preproc']\n",
    "X_out"
   ],
   "metadata": {
    "collapsed": false,
    "pycharm": {
     "name": "#%%\n"
    }
   }
  },
  {
   "cell_type": "code",
   "execution_count": 71,
   "outputs": [
    {
     "data": {
      "text/plain": "<3263x3300 sparse matrix of type '<class 'numpy.int64'>'\n\twith 31597 stored elements in Compressed Sparse Row format>"
     },
     "execution_count": 71,
     "metadata": {},
     "output_type": "execute_result"
    }
   ],
   "source": [
    "X_out_vec = vec.transform(X_out)\n",
    "X_out_vec"
   ],
   "metadata": {
    "collapsed": false,
    "pycharm": {
     "name": "#%%\n"
    }
   }
  },
  {
   "cell_type": "code",
   "execution_count": 72,
   "outputs": [
    {
     "data": {
      "text/plain": "array([1, 0, 1, ..., 1, 1, 0], dtype=int64)"
     },
     "execution_count": 72,
     "metadata": {},
     "output_type": "execute_result"
    }
   ],
   "source": [
    "y_out_pred = svc.predict(X_out_vec)\n",
    "y_out_pred"
   ],
   "metadata": {
    "collapsed": false,
    "pycharm": {
     "name": "#%%\n"
    }
   }
  },
  {
   "cell_type": "code",
   "execution_count": 73,
   "outputs": [],
   "source": [
    "file = pd.DataFrame({\n",
    "   'id': test_df['id'],\n",
    "   'target': y_out_pred\n",
    "})\n",
    "\n",
    "file.to_csv('disaster-tweets.csv', index=False)"
   ],
   "metadata": {
    "collapsed": false,
    "pycharm": {
     "name": "#%%\n"
    }
   }
  }
 ],
 "metadata": {
  "kernelspec": {
   "display_name": "Python 3",
   "language": "python",
   "name": "python3"
  },
  "language_info": {
   "codemirror_mode": {
    "name": "ipython",
    "version": 2
   },
   "file_extension": ".py",
   "mimetype": "text/x-python",
   "name": "python",
   "nbconvert_exporter": "python",
   "pygments_lexer": "ipython2",
   "version": "2.7.6"
  }
 },
 "nbformat": 4,
 "nbformat_minor": 0
}
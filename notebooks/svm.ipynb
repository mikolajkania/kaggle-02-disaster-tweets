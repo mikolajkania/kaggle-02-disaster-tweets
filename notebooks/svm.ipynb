{
 "cells": [
  {
   "cell_type": "markdown",
   "source": [
    "## SVM\n",
    "\n",
    "Default LinearSVC achieve worse results than logistic regression. SVC, on the other hand, works good for negative class (0.91) and much worse for positive (0.47), based on averaged cross validation.\n",
    "\n",
    "Replacing CountVectorizer with TfIdfVectorizer improved averaged CV (0.86 / 0.55). From EDA (TruncatedSGD) it can be seen that it helps to distinguish the targets. Accuracy went up.\n",
    "\n",
    "Lemmatization didn't help."
   ],
   "metadata": {
    "collapsed": false,
    "pycharm": {
     "name": "#%% md\n"
    }
   }
  },
  {
   "cell_type": "code",
   "execution_count": 59,
   "metadata": {
    "collapsed": true
   },
   "outputs": [
    {
     "name": "stdout",
     "output_type": "stream",
     "text": [
      "The autoreload extension is already loaded. To reload it, use:\n",
      "  %reload_ext autoreload\n"
     ]
    }
   ],
   "source": [
    "%load_ext autoreload\n",
    "%autoreload 2\n",
    "\n",
    "import re\n",
    "import itertools\n",
    "import spacy\n",
    "\n",
    "import pandas as pd\n",
    "import numpy as np\n",
    "import matplotlib.pyplot as plt\n",
    "\n",
    "from sklearn.feature_extraction.text import CountVectorizer, TfidfVectorizer\n",
    "from sklearn.svm import SVC\n",
    "from sklearn.model_selection import train_test_split\n",
    "from sklearn.metrics import confusion_matrix, classification_report\n",
    "from sklearn.model_selection import StratifiedKFold"
   ]
  },
  {
   "cell_type": "markdown",
   "source": [
    "## Loading data"
   ],
   "metadata": {
    "collapsed": false,
    "pycharm": {
     "name": "#%% md\n"
    }
   }
  },
  {
   "cell_type": "code",
   "execution_count": 60,
   "outputs": [
    {
     "data": {
      "text/plain": "   id keyword location                                               text  \\\n0   1     NaN      NaN  Our Deeds are the Reason of this #earthquake M...   \n1   4     NaN      NaN             Forest fire near La Ronge Sask. Canada   \n2   5     NaN      NaN  All residents asked to 'shelter in place' are ...   \n\n   target  \n0       1  \n1       1  \n2       1  ",
      "text/html": "<div>\n<style scoped>\n    .dataframe tbody tr th:only-of-type {\n        vertical-align: middle;\n    }\n\n    .dataframe tbody tr th {\n        vertical-align: top;\n    }\n\n    .dataframe thead th {\n        text-align: right;\n    }\n</style>\n<table border=\"1\" class=\"dataframe\">\n  <thead>\n    <tr style=\"text-align: right;\">\n      <th></th>\n      <th>id</th>\n      <th>keyword</th>\n      <th>location</th>\n      <th>text</th>\n      <th>target</th>\n    </tr>\n  </thead>\n  <tbody>\n    <tr>\n      <th>0</th>\n      <td>1</td>\n      <td>NaN</td>\n      <td>NaN</td>\n      <td>Our Deeds are the Reason of this #earthquake M...</td>\n      <td>1</td>\n    </tr>\n    <tr>\n      <th>1</th>\n      <td>4</td>\n      <td>NaN</td>\n      <td>NaN</td>\n      <td>Forest fire near La Ronge Sask. Canada</td>\n      <td>1</td>\n    </tr>\n    <tr>\n      <th>2</th>\n      <td>5</td>\n      <td>NaN</td>\n      <td>NaN</td>\n      <td>All residents asked to 'shelter in place' are ...</td>\n      <td>1</td>\n    </tr>\n  </tbody>\n</table>\n</div>"
     },
     "execution_count": 60,
     "metadata": {},
     "output_type": "execute_result"
    }
   ],
   "source": [
    "train_df = pd.read_csv('../data/train.csv', encoding='utf-8', warn_bad_lines=True, error_bad_lines=False)\n",
    "test_df = pd.read_csv('../data/test.csv', encoding='utf-8', warn_bad_lines=True, error_bad_lines=False)\n",
    "\n",
    "train_df[:3]"
   ],
   "metadata": {
    "collapsed": false,
    "pycharm": {
     "name": "#%%\n"
    }
   }
  },
  {
   "cell_type": "markdown",
   "source": [
    "## Preprocessing"
   ],
   "metadata": {
    "collapsed": false,
    "pycharm": {
     "name": "#%% md\n"
    }
   }
  },
  {
   "cell_type": "code",
   "execution_count": 61,
   "outputs": [],
   "source": [
    "EXTENDED_STRIP_REGEX = r'[!\"#$%&()\\*\\+,-\\./:;„”<=>?@\\[\\\\\\]^_`{|}~\\']'\n",
    "REMOVE_NUMERICAL = r'[0-9]'\n",
    "\n",
    "def _preprocessing(txt: str) -> str:\n",
    "    txt = txt.lower()\n",
    "    txt = re.sub(EXTENDED_STRIP_REGEX, '', txt)\n",
    "    txt = re.sub(REMOVE_NUMERICAL, '', txt)\n",
    "    return txt\n",
    "\n",
    "train_df['text_preproc'] = train_df['text'].apply(_preprocessing)\n",
    "\n",
    "nlp = spacy.load('en_core_web_sm')\n",
    "\n",
    "# disable not used parts of pipeline\n",
    "def _lemma(txt: str) -> str:\n",
    "    return ' '.join([d.lemma_ for d in nlp(txt)])\n",
    "\n",
    "train_df['text_preproc'] = train_df['text_preproc'].apply(_lemma)\n",
    "# train_df['text_preproc']"
   ],
   "metadata": {
    "collapsed": false,
    "pycharm": {
     "name": "#%%\n"
    }
   }
  },
  {
   "cell_type": "markdown",
   "source": [
    "## Data split"
   ],
   "metadata": {
    "collapsed": false,
    "pycharm": {
     "name": "#%% md\n"
    }
   }
  },
  {
   "cell_type": "code",
   "execution_count": 62,
   "outputs": [
    {
     "data": {
      "text/plain": "0    our deed be the reason of this earthquake may ...\n1                forest fire near la ronge sask canada\n2    all resident ask to shelter in place be be not...\nName: text_preproc, dtype: object"
     },
     "execution_count": 62,
     "metadata": {},
     "output_type": "execute_result"
    }
   ],
   "source": [
    "X = train_df['text_preproc']\n",
    "y = train_df['target']\n",
    "\n",
    "X[:3]"
   ],
   "metadata": {
    "collapsed": false,
    "pycharm": {
     "name": "#%%\n"
    }
   }
  },
  {
   "cell_type": "code",
   "execution_count": 63,
   "outputs": [
    {
     "data": {
      "text/plain": "4996    courageous and honest analysis of need to use ...\n3263    zachzaidman thescore wld b a shame if that gol...\n4907    tell barackobama to rescind medal of honor giv...\nName: text_preproc, dtype: object"
     },
     "execution_count": 63,
     "metadata": {},
     "output_type": "execute_result"
    }
   ],
   "source": [
    "X_train, X_test, y_train, y_test = train_test_split(X, y, test_size=0.2, random_state=42)\n",
    "\n",
    "X_train[:3]"
   ],
   "metadata": {
    "collapsed": false,
    "pycharm": {
     "name": "#%%\n"
    }
   }
  },
  {
   "cell_type": "markdown",
   "source": [
    "### Parameter center"
   ],
   "metadata": {
    "collapsed": false,
    "pycharm": {
     "name": "#%% md\n"
    }
   }
  },
  {
   "cell_type": "code",
   "execution_count": 64,
   "outputs": [],
   "source": [
    "VECT_MIN=2\n",
    "VECT_MAX=0.4"
   ],
   "metadata": {
    "collapsed": false,
    "pycharm": {
     "name": "#%%\n"
    }
   }
  },
  {
   "cell_type": "markdown",
   "source": [
    "## Vectorization"
   ],
   "metadata": {
    "collapsed": false,
    "pycharm": {
     "name": "#%% md\n"
    }
   }
  },
  {
   "cell_type": "code",
   "execution_count": 65,
   "outputs": [
    {
     "data": {
      "text/plain": "['i', 'me', 'my']"
     },
     "execution_count": 65,
     "metadata": {},
     "output_type": "execute_result"
    }
   ],
   "source": [
    "with open('../resources/stopwords_en.txt', encoding='utf-8') as f:\n",
    "    stopwords = [line.rstrip() for line in f]\n",
    "\n",
    "stopwords[:3]"
   ],
   "metadata": {
    "collapsed": false,
    "pycharm": {
     "name": "#%%\n"
    }
   }
  },
  {
   "cell_type": "code",
   "execution_count": 66,
   "outputs": [
    {
     "name": "stdout",
     "output_type": "stream",
     "text": [
      "['aa', 'ab', 'aba', 'abandon', 'abbott', 'abbswinston', 'abc', 'abcnew', 'abcnews', 'abe', 'ability', 'ablaze', 'able', 'abomb', 'abomination', 'abortion', 'about', 'above', 'absolute', 'absolutely', 'abstorm', 'abuse', 'ac', 'accept', 'access', 'accident', 'accidentally', 'accionempresa', 'accord', 'account', 'accuse', 'accustomed', 'acdelco', 'achieve', 'achimota', 'acid', 'acoustic', 'acquire', 'acquisition', 'acre', 'across', 'act', 'action', 'activate', 'active', 'activity', 'actor', 'actual', 'actually', 'acute', 'ad', 'adam', 'add', 'addition', 'address', 'admin', 'admit', 'adult', 'advance', 'advanced', 'adventure', 'advertise', 'advisory', 'af', 'afc', 'affect', 'affiliation', 'afghan', 'afghanistan', 'afp', 'afraid', 'africa', 'african', 'after', 'afterlife', 'afternoon', 'aftershock', 'aftershockdelo', 'ag', 'again', 'against', 'age', 'agency', 'agent', 'ago', 'agree', 'ah', 'ahead', 'ahh', 'ai', 'aid', 'aim', 'air', 'aircraft', 'airline', 'airplane', 'airport', 'ak', 'aka', 'al', 'alabama', 'alarm', 'alaska', 'albany', 'alberta', 'album', 'alcohol', 'alert', 'alex', 'alien', 'alive', 'all', 'allah', 'allegation', 'allege', 'allegiance', 'alllivesmatter', 'allow', 'alloy', 'ally', 'almost', 'alone', 'along', 'alot', 'alp', 'already', 'alright', 'also', 'alternative', 'although', 'always', 'am', 'amazing', 'amazon', 'ambulance', 'ameenshaikh', 'america', 'american', 'amid', 'amirite', 'among', 'amongst', 'amp', 'amsterdam', 'an', 'analysis', 'anchor', 'anchorage', 'ancient', 'and', 'andor', 'andrew', 'andy', 'anellatulip', 'angel', 'angele', 'anger', 'angry', 'animal', 'animalrescue', 'aniston', 'ankle', 'anna', 'annihilate', 'annihilation', 'anniversary', 'announce', 'announcement', 'annoying', 'annual', 'another', 'answer', 'anthony', 'anthrax', 'anti', 'antioch', 'antonio', 'anxiety', 'any', 'anybody', 'anymore', 'anyone', 'anything', 'anyway', 'anza', 'aom', 'ap', 'apart', 'apartment', 'apc', 'apch', 'apocalypse', 'apocalyptic', 'apollo', 'apollobrown', 'apologize', 'app', 'apparent', 'apparently', 'appear', 'applaud', 'apple', 'application', 'apply', 'appointment', 'appreciate', 'approach', 'approval', 'approve', 'apt', 'ar', 'arabia', 'arabian', 'architect', 'architecture', 'area', 'argue', 'argument', 'ariaahrary', 'arianagrande', 'arizona', 'arm', 'armageddon', 'armed', 'armory', 'army', 'arnhem', 'around', 'arrest', 'arrive', 'arsenal', 'arson', 'arsonist', 'arsonistmusic', 'art', 'article', 'artificial', 'artist', 'artistsunite', 'arwx', 'as', 'asap', 'ash', 'ashe', 'asia', 'asian', 'asics', 'ask', 'asleep', 'aspect', 'ass', 'assembly', 'asshole', 'assist', 'assistance', 'associate', 'associated', 'association', 'assume', 'at', 'atlanta', 'atlantic', 'atm', 'atmosphere', 'atmospheric', 'atomic', 'attack', 'attempt', 'attend', 'attendance', 'attention', 'attitude', 'attraction', 'attractive', 'auction', 'audience', 'audio', 'aug', 'august', 'aunt', 'aussie', 'aust', 'austin', 'australia', 'australian', 'auth', 'authentic', 'author', 'authority', 'auto', 'autobiography', 'automatic', 'automation', 'autumn', 'av', 'available', 'avalanche', 'ave', 'avenger', 'avenue', 'average', 'avert', 'aviation', 'avoid', 'aw', 'await', 'aware', 'away', 'awesome', 'awful', 'awwww', 'ay', 'babe', 'baby', 'back', 'background', 'backyard', 'bad', 'badge', 'bag', 'bagging', 'bail', 'bake', 'bakeofffriend', 'bal', 'balance', 'ball', 'baltimore', 'ban', 'band', 'banerjee', 'bang', 'bangin', 'bangladesh', 'bank', 'banquet', 'bar', 'barackobama', 'bare', 'barely', 'bargain', 'barn', 'barry', 'baruch', 'base', 'baseball', 'basement', 'bash', 'basic', 'basically', 'bass', 'bat', 'bath', 'bathroom', 'batter', 'battery', 'batting', 'battle', 'battlefield', 'battleship', 'bay', 'bayelsa', 'bb', 'bbc', 'bbcnews', 'bbsp', 'bc', 'be', 'beach', 'beam', 'bear', 'beard', 'beat', 'beautiful', 'beauty', 'because', 'beckarnley', 'beclearoncancer', 'become', 'bed', 'bedroom', 'bee', 'been', 'beer', 'before', 'beforeitsnew', 'beg', 'begin', 'beginner', 'beginning', 'behalf', 'behavior', 'behind', 'being', 'belief', 'believe', 'bell', 'belly', 'belong', 'below', 'ben', 'bend', 'beneath', 'benefit', 'bengal', 'bestnaijamade', 'bet', 'bethlehem', 'betray', 'between', 'betz', 'beware', 'beyhive', 'beyonce', 'beyond', 'bff', 'bg', 'bicep', 'bicycle', 'bicyclist', 'bid', 'big', 'bigamist', 'bike', 'biker', 'bill', 'billboard', 'billing', 'billion', 'billionaire', 'bin', 'bind', 'biolab', 'biological', 'bioterror', 'bioterrorism', 'bird', 'birmingham', 'birth', 'birthday', 'bit', 'bitch', 'bitcoin', 'bite', 'bjp', 'black', 'blackberry', 'blacklivesmatter', 'blackpool', 'blake', 'blame', 'blanket', 'blast', 'blaze', 'blazing', 'bleed', 'bleeding', 'bless', 'blessing', 'blight', 'blind', 'blink', 'blizzard', 'blizzarddraco', 'blizzheroe', 'blk', 'blksampwht', 'block', 'blog', 'blonde', 'blood', 'bloody', 'bloomberg', 'blow', 'blowmandyup', 'blue', 'bluedio', 'bluejay', 'blueprint', 'bluetooth', 'blunt', 'blutz', 'blvd', 'bmw', 'bn', 'board', 'boat', 'bob', 'bobcat', 'body', 'bodybagge', 'bodys', 'boeing', 'boko', 'bolster', 'bomb', 'bomber', 'bombing', 'bone', 'book', 'bookboost', 'boom', 'boot', 'border', 'bore', 'bored', 'boss', 'boston', 'both', 'bother', 'bottle', 'bottom', 'bounce', 'bound', 'boundary', 'bounty', 'bout', 'bowl', 'bowling', 'box', 'boxer', 'boy', 'boyfriend', 'bp', 'bradleybrad', 'brady', 'brain', 'brake', 'braking', 'brand', 'brave', 'brazil', 'bread', 'break', 'breaking', 'breakingnew', 'breed', 'brian', 'brick', 'bride', 'bridge', 'brief', 'briefing', 'brigade', 'bright', 'bring', 'british', 'britishbakeoff', 'britney', 'bro', 'broad', 'broadway', 'broken', 'bronx', 'brooklyn', 'brother', 'brown', 'browser', 'bruh', 'bruise', 'brutally', 'bs', 'bts', 'btw', 'btwn', 'buckle', 'buddha', 'buddys', 'budget', 'buff', 'buffalo', 'buffer', 'bug', 'build', 'building', 'bullet', 'bulletin', 'bullseye', 'bully', 'bump', 'bunch', 'bundle', 'burn', 'burning', 'burst', 'bury', 'bus', 'bush', 'business', 'businessman', 'bust', 'busy', 'but', 'butt', 'butter', 'button', 'buy', 'by', 'ca', 'cabin', 'cable', 'cafe', 'cage', 'cairo', 'caitlin', 'cake', 'calamity', 'calgary', 'cali', 'calif', 'california', 'californian', 'californias', 'call', 'calm', 'calorie', 'calumsos', 'cam', 'cameroon', 'camp', 'campaign', 'camper', 'campfire', 'camping', 'campus', 'can', 'canaanite', 'canada', 'canberra', 'cancel', 'cancer', 'candle', 'candy', 'cannon', 'canoe', 'canvas', 'canyon', 'cap', 'capacity', 'cape', 'capital', 'capsize', 'captain', 'capture', 'car', 'card', 'care', 'career', 'careful', 'careless', 'cargo', 'caribbean', 'carr', 'carry', 'carryi', 'cart', 'cartoon', 'case', 'cash', 'casper', 'casperrmg', 'cast', 'castle', 'casual', 'casualty', 'cat', 'catastrophe', 'catastrophic', 'catch', 'catfish', 'cause', 'caution', 'cave', 'cawx', 'cbc', 'cbs', 'cc', 'cd', 'cdc', 'cdcgov', 'cdt', 'celebration', 'cell', 'census', 'center', 'centipede', 'central', 'centre', 'ceo', 'certain', 'certainly', 'certificate', 'certify', 'ch', 'chain', 'chair', 'challenge', 'championship', 'chan', 'chance', 'change', 'channel', 'chaos', 'character', 'charge', 'charger', 'charity', 'charle', 'charlie', 'charlotte', 'chart', 'chase', 'chat', 'chattanooga', 'cheap', 'cheat', 'check', 'cheese', 'chelsea', 'chem', 'chemical', 'chernobyl', 'cherokee', 'chest', 'chesttorso', 'chevy', 'chew', 'chicago', 'chicagoarea', 'chick', 'chicken', 'chief', 'child', 'childhood', 'chile', 'chill', 'china', 'chinese', 'chip', 'chocolate', 'choice', 'choke', 'chonce', 'choose', 'chop', 'chris', 'christ', 'christian', 'christie', 'christmas', 'chronicle', 'chunk', 'church', 'cia', 'cigarette', 'cinema', 'circuit', 'circus', 'cite', 'citizen', 'city', 'cityofcalgary', 'citys', 'civil', 'civilian', 'cladding', 'claim', 'clash', 'class', 'classic', 'claytonbryant', 'clean', 'cleanup', 'clear', 'clearedincident', 'clearly', 'cleric', 'cleveland', 'clever', 'click', 'client', 'cliff', 'climate', 'climb', 'clinton', 'clip', 'close', 'closed', 'closure', 'clothe', 'cloud', 'clown', 'club', 'clutch', 'cm', 'cmon', 'cnbc', 'cnew', 'cnn', 'co', 'coach', 'coal', 'coast', 'coastal', 'coaster', 'coat', 'cocaine', 'cock', 'code', 'coffee', 'cofounder', 'coil', 'coincide', 'cold', 'cole', 'collapse', 'collapsed', 'collection', 'college', 'collide', 'collin', 'collision', 'collisionno', 'collude', 'color', 'colorado', 'colour', 'columbia', 'combat', 'combine', 'combo', 'combust', 'come', 'comedy', 'command', 'comment', 'commercial', 'commit', 'common', 'commonwealth', 'communication', 'community', 'commute', 'company', 'comparison', 'compete', 'complaint', 'complete', 'completely', 'complex', 'compliant', 'complication', 'component', 'computer', 'con', 'concept', 'concern', 'concerned', 'concert', 'conclude', 'conclusively', 'concrete', 'condemn', 'condemnation', 'condition', 'condo', 'condolence', 'conference', 'confirm', 'conflict', 'congress', 'connection', 'connector', 'connectorconnecto', 'consent', 'consequence', 'conservative', 'consider', 'constant', 'constantly', 'construction', 'contain', 'contemplate', 'content', 'context', 'continually', 'continue', 'contract', 'contrast', 'contribute', 'control', 'controller', 'contruction', 'conversation', 'cook', 'cool', 'cop', 'cope', 'copilot', 'copy', 'copycat', 'coral', 'cord', 'corleonedaboss', 'corner', 'corp', 'correct', 'correction', 'correspondent', 'cos', 'cost', 'costlier', 'cotton', 'could', 'counselor', 'count', 'counter', 'countless', 'country', 'countrys', 'county', 'countynew', 'couple', 'course', 'court', 'cousin', 'cover', 'coverage', 'cow', 'cowboy', 'coworker', 'cr', 'crack', 'crackdown', 'cramer', 'crane', 'crap', 'crash', 'crater', 'crazy', 'cream', 'create', 'creativity', 'credit', 'cree', 'crematoria', 'crew', 'cricket', 'crime', 'criminal', 'crisis', 'critical', 'croat', 'croatian', 'cross', 'crosse', 'crowd', 'crown', 'crude', 'cruise', 'crush', 'crusty', 'cruz', 'cry', 'cryptic', 'crystal', 'cs', 'csx', 'ct', 'cta', 'cuban', 'cue', 'cuff', 'cum', 'cunt', 'cup', 'cupcake', 'curb', 'cure', 'curfew', 'curiosity', 'current', 'currently', 'curse', 'curved', 'custom', 'customer', 'cut', 'cute', 'cuz', 'cycle', 'cyclist', 'cyclone', 'cyprus', 'da', 'dad', 'daesh', 'daily', 'dailykos', 'dakota', 'dalla', 'dallas', 'dam', 'damage', 'dame', 'damn', 'dan', 'dance', 'dancer', 'danger', 'dangerous', 'daniel', 'daniels', 'danisnotonfire', 'dannyonpc', 'dante', 'dare', 'dark', 'darkness', 'darude', 'dat', 'data', 'date', 'datum', 'daughter', 'david', 'davidvonderhaar', 'day', 'daytoday', 'db', 'dc', 'de', 'deactivate', 'dead', 'deadly', 'deal', 'dear', 'death', 'debate', 'debatequestionswewanttohear', 'debris', 'debt', 'decade', 'decide', 'decision', 'deck', 'declaration', 'declare', 'decline', 'dedicate', 'deep', 'def', 'defeat', 'defend', 'defense', 'define', 'definitely', 'degree', 'del', 'delay', 'delete', 'deliver', 'deluge', 'deluged', 'dem', 'demand', 'demi', 'demolish', 'demolition', 'demon', 'demonstratio', 'denali', 'denial', 'denmark', 'dental', 'denver', 'deny', 'department', 'dependency', 'deploy', 'dept', 'depth', 'deputy', 'derail', 'derailment', 'derby', 'derivative', 'describe', 'description', 'desert', 'deserve', 'design', 'desire', 'desk', 'desolate', 'desolation', 'despair', 'despite', 'destiny', 'destroy', 'destruction', 'detail', 'detain', 'detectado', 'detonate', 'detonation', 'detroit', 'devalue', 'devastate', 'devastated', 'devastation', 'develop', 'di', 'diablo', 'diamond', 'diamondkesawn', 'diaporama', 'dick', 'die', 'dieplease', 'diet', 'diff', 'different', 'difficult', 'difficulty', 'dig', 'digit', 'digital', 'dignity', 'dijk', 'dinner', 'diplomacy', 'direct', 'direction', 'directioner', 'director', 'dirt', 'dis', 'disappear', 'disappearance', 'disappoint', 'disaster', 'disco', 'discover', 'discovery', 'discuss', 'discussion', 'disea', 'disease', 'disney', 'disorder', 'displace', 'disrupt', 'diss', 'distance', 'distinct', 'distribute', 'district', 'diving', 'division', 'dj', 'djicemoon', 'dk', 'dnb', 'do', 'doc', 'dock', 'doctor', 'document', 'dog', 'doll', 'dollar', 'dolphin', 'domestic', 'don', 'donald', 'donate', 'donation', 'door', 'dorman', 'dorret', 'double', 'doublecup', 'doubt', 'down', 'downfall', 'download', 'downstairs', 'downtown', 'dozen', 'dq', 'dr', 'drag', 'dragon', 'drain', 'drake', 'drama', 'dramatic', 'draw', 'dream', 'dress', 'drift', 'drill', 'drink', 'drinking', 'drive', 'driver', 'driving', 'drone', 'drool', 'drop', 'drought', 'drown', 'drug', 'drum', 'drunk', 'dry', 'dryer', 'ds', 'dtn', 'dual', 'dublin', 'dubstep', 'duck', 'dude', 'due', 'dumb', 'dunbar', 'during', 'dust', 'dutch', 'dvc', 'dvd', 'dw', 'dystopian', 'each', 'ear', 'earbud', 'early', 'earn', 'earner', 'earring', 'earth', 'earthquake', 'easily', 'east', 'eastbound', 'easy', 'eat', 'eb', 'ebay', 'ebola', 'economic', 'economy', 'ed', 'eden', 'edinburgh', 'edit', 'edition', 'editor', 'edm', 'edt', 'education', 'edward', 'ee', 'efak', 'effect', 'effort', 'egg', 'egged', 'egypt', 'eh', 'eight', 'either', 'el', 'elbow', 'election', 'electric', 'electrical', 'electricity', 'electrocute', 'electronic', 'elem', 'elephant', 'elevated', 'elite', 'elizabeth', 'elliott', 'else', 'em', 'email', 'embrace', 'embroider', 'emerg', 'emerge', 'emergency', 'emmerdale', 'emotion', 'emotional', 'emotionally', 'emperor', 'employ', 'emsc', 'en', 'enable', 'encounter', 'encouragement', 'end', 'endanger', 'endorse', 'endure', 'enemy', 'energy', 'engage', 'engine', 'england', 'engulf', 'engvaus', 'enhance', 'enjoy', 'enough', 'enroute', 'enrt', 'ensue', 'ensure', 'enter', 'entertainment', 'entire', 'entrepreneur', 'enugu', 'environment', 'environmental', 'ep', 'epic', 'epicenter', 'epicentre', 'epidemic', 'epilepsy', 'episode', 'eq', 'equal', 'equally', 'equate', 'equipment', 'er', 'era', 'error', 'eruption', 'escape', 'esh', 'esp', 'especially', 'espn', 'estate', 'estimate', 'et', 'etc', 'ethereal', 'eu', 'europe', 'european', 'evacuate', 'evacuation', 'evade', 'even', 'evening', 'event', 'eventually', 'ever', 'every', 'everyday', 'everyone', 'everything', 'everytime', 'everywhere', 'evidence', 'evil', 'evolve', 'ex', 'exactly', 'examine', 'example', 'exc', 'excellent', 'except', 'exchange', 'excited', 'excitement', 'exciting', 'excuse', 'executive', 'exercise', 'exhausted', 'exhibition', 'exist', 'existence', 'exit', 'exp', 'expand', 'expect', 'expensive', 'experience', 'experiment', 'expert', 'explain', 'explode', 'exploration', 'explore', 'explosion', 'explosionproof', 'expose', 'express', 'extend', 'extender', 'extension', 'extensive', 'external', 'extinguish', 'extra', 'extreme', 'extremely', 'eye', 'eyewitness', 'faan', 'fabric', 'face', 'facebook', 'facility', 'fact', 'factor', 'factory', 'fail', 'failure', 'fair', 'faith', 'fake', 'falcon', 'fall', 'fallacy', 'false', 'fam', 'familia', 'family', 'famine', 'famous', 'fan', 'fantastic', 'fantasy', 'far', 'farm', 'farrakhan', 'fart', 'fashion', 'fashionable', 'fast', 'fat', 'fatal', 'fatalitiesxray', 'fatality', 'fatalityus', 'fate', 'father', 'faulty', 'faux', 'fav', 'favor', 'favorite', 'fb', 'fbi', 'fd', 'fear', 'feast', 'feat', 'feature', 'federal', 'fedex', 'fee', 'feed', 'feel', 'feelin', 'feeling', 'feinstein', 'female', 'feminist', 'fence', 'fennovoima', 'ferguson', 'ferrell', 'ferry', 'festival', 'fettilootch', 'fevwarrior', 'few', 'fieg', 'field', 'fierce', 'fifth', 'fight', 'fighter', 'fighting', 'file', 'fill', 'film', 'final', 'finally', 'finance', 'financial', 'find', 'fine', 'finger', 'finish', 'finnish', 'fir', 'fire', 'firefighter', 'firefighting', 'fireman', 'firetruck', 'first', 'fish', 'fishing', 'fit', 'five', 'fix', 'fkn', 'flag', 'flame', 'flash', 'flashback', 'flat', 'flatten', 'flee', 'fleet', 'flight', 'flip', 'float', 'flood', 'flooding', 'floor', 'florida', 'flow', 'flower', 'floyds', 'fluid', 'flush', 'fly', 'fm', 'focus', 'fog', 'fold', 'folk', 'follow', 'follower', 'food', 'foodscare', 'fool', 'foot', 'footage', 'football', 'for', 'forbe', 'force', 'ford', 'forecast', 'forest', 'forever', 'forex', 'forget', 'forgive', 'form', 'formation', 'former', 'forsure', 'fort', 'forth', 'fortune', 'forward', 'foster', 'foul', 'four', 'fourth', 'fox', 'foxnew', 'foxtrot', 'fr', 'fraction', 'fragile', 'fran', 'france', 'frank', 'franklin', 'freak', 'freakiest', 'free', 'freedom', 'freestyle', 'freeway', 'freeze', 'french', 'fresh', 'freshman', 'fresno', 'friday', 'friend', 'friendship', 'friggin', 'frog', 'from', 'front', 'frontline', 'frontpage', 'frozen', 'fruit', 'ft', 'fte', 'fuck', 'fuckin', 'fucking', 'fuel', 'fukushima', 'fukushimatepco', 'full', 'fully', 'fun', 'function', 'fund', 'funny', 'funtenna', 'fur', 'furious', 'fury', 'future', 'fwy', 'fyi', 'ga', 'gabon', 'gadget', 'gain', 'galactic', 'game', 'gameplay', 'gamergate', 'gang', 'garden', 'garfield', 'gary', 'gas', 'gate', 'gateau', 'gawx', 'gay', 'gaza', 'gbbo', 'gd', 'gear', 'gel', 'geller', 'gem', 'general', 'generally', 'generalnew', 'generation', 'genius', 'genocide', 'genuine', 'geometric', 'george', 'georgia', 'gerenciatodo', 'germ', 'german', 'germany', 'get', 'gets', 'gettin', 'getting', 'gf', 'ghost', 'ghostwriter', 'giant', 'gif', 'gift', 'gig', 'gilbert', 'girl', 'girlfriend', 'give', 'glad', 'glass', 'glenn', 'global', 'globe', 'glorious', 'gm', 'gmt', 'go', 'goal', 'goat', 'god', 'godslove', 'gofundme', 'gold', 'goldstein', 'golf', 'gon', 'good', 'goodbye', 'google', 'gop', 'gopdebate', 'gordon', 'got', 'gov', 'government', 'governor', 'govt', 'gpm', 'gps', 'gr', 'grab', 'grabber', 'grace', 'grade', 'grand', 'grandeur', 'grant', 'grass', 'grateful', 'graze', 'great', 'greece', 'greedy', 'greek', 'green', 'greg', 'grenade', 'grey', 'gridlock', 'grief', 'grill', 'groom', 'ground', 'group', 'grove', 'grow', 'growth', 'gt', 'gta', 'gtfo', 'gtgt', 'gtgtgt', 'gtii', 'guarantee', 'guard', 'guardian', 'guess', 'guest', 'guide', 'guillermo', 'guilty', 'gun', 'gunfire', 'gunman', 'gunsense', 'gunshot', 'gust', 'gusty', 'guy', 'habit', 'hack', 'hacker', 'hah', 'haha', 'hahah', 'hahaha', 'hahahaha', 'hail', 'hailstorm', 'hair', 'haiyan', 'half', 'halifax', 'hall', 'hama', 'hamilton', 'hampshire', 'hand', 'handbag', 'handle', 'hang', 'happen', 'happiness', 'happy', 'haram', 'harbor', 'hard', 'hardcore', 'hardline', 'hardy', 'harm', 'harmkid', 'harper', 'harry', 'hashtag', 'hat', 'hatcap', 'hatchet', 'hatchetwielde', 'hate', 'haunt', 'have', 'having', 'hawaii', 'hazard', 'hazardous', 'hd', 'he', 'head', 'headline', 'headphone', 'headset', 'heal', 'health', 'healthcare', 'hear', 'hearing', 'heart', 'heartless', 'heartwarming', 'heat', 'heaven', 'heavenly', 'heavy', 'heel', 'height', 'helen', 'helicopter', 'hell', 'hella', 'hellfire', 'hello', 'help', 'henry', 'her', 'here', 'hero', 'heroin', 'hey', 'hi', 'hide', 'hieroglyphic', 'high', 'highly', 'highway', 'hijack', 'hijacker', 'hijacking', 'hike', 'hiker', 'hilarious', 'hill', 'hillary', 'himself', 'hinton', 'hip', 'hiphop', 'hipster', 'hire', 'hiring', 'hiroshima', 'his', 'historic', 'history', 'hit', 'hmm', 'hmu', 'hoax', 'hobbit', 'hobo', 'hockey', 'hoe', 'hold', 'hole', 'holiday', 'holland', 'hollywood', 'holy', 'home', 'homeland', 'homeless', 'homeowner', 'homie', 'honest', 'honestly', 'honey', 'honor', 'hooligan', 'hop', 'hope', 'hopefully', 'horizon', 'horrible', 'horrific', 'horror', 'horse', 'hospital', 'host', 'hostage', 'hostageamp', 'hot', 'hotel', 'hour', 'house', 'household', 'housing', 'houston', 'how', 'hr', 'hs', 'httpstcodehmymlpk', 'httpstcoedllncvu', 'httpstcoisidcubj', 'httpstcolfkmtzaekk', 'httpstcomollvdyd', 'httpstcorqwuoyfm', 'httpstcowudlkqncx', 'httptcobbdpnjxsx', 'httptcocgffpmr', 'httptcocybksxhfd', 'httptcodydfvzamj', 'httptcoedyfoepu', 'httptcoencmhzy', 'httptcoiikssjgbdn', 'httptcoiokuuguq', 'httptcojhpdssvhve', 'httptcojmkcbkcov', 'httptcojooxk', 'httptcoksawlyux', 'httptcolvlhwawo', 'httptcomfckpvzfv', 'httptcomkxlpkfa', 'httptconjdpgxv', 'httptconmfsgkfza', 'httptconnmqlzo', 'httptcoofcyyr', 'httptcophixznvyn', 'httptcopohycnd', 'httptcopvmrlnva', 'httptcoqeblokeve', 'httptcoqewcmxd', 'httptcoskqpwsnoin', 'httptcosqsyuehyi', 'httptcothoyhrhkfj', 'httptcothyzomvwu', 'httptcotndpm', 'httptcouoozxaus', 'httptcovazwoamzk', 'httptcoviwxyxdyk', 'httptcovvplfqvp', 'httptcowratkajl', 'httptcowvjabgm', 'httptcoxssgedsbh', 'httptcozujwuiomb', 'huffman', 'hug', 'huge', 'hughe', 'huh', 'human', 'humanconsumption', 'humanity', 'humaza', 'humble', 'humidity', 'hundred', 'hunger', 'hungry', 'hunk', 'hunt', 'hunter', 'hurricane', 'hurricanedolce', 'hurry', 'hurt', 'hwo', 'hwy', 'hybrid', 'hype', 'hypocrisy', 'hysteria', 'ian', 'ianhellfire', 'ibooklove', 'ice', 'icemoon', 'ices', 'iconic', 'icymi', 'idc', 'idea', 'idfire', 'idiot', 'idis', 'idk', 'idp', 'idps', 'ie', 'if', 'ig', 'iger', 'ignite', 'ignition', 'ignore', 'ihhen', 'ii', 'iii', 'ik', 'ill', 'illegal', 'illinois', 'illness', 'illusion', 'im', 'image', 'imagine', 'immediately', 'impact', 'impending', 'imperfect', 'import', 'impose', 'impossible', 'impressed', 'imprison', 'improve', 'improvement', 'in', 'incase', 'inch', 'incident', 'incite', 'include', 'increase', 'incredible', 'incredibly', 'indeed', 'independent', 'indi', 'india', 'indian', 'indiannew', 'indie', 'individual', 'indonesia', 'industry', 'inevitable', 'infectious', 'infinity', 'info', 'information', 'initial', 'inj', 'injure', 'injury', 'injuryi', 'ink', 'inmate', 'inner', 'inning', 'innocent', 'innovation', 'insane', 'inside', 'inspection', 'inst', 'instagram', 'installation', 'instant', 'instantly', 'instead', 'institute', 'instruction', 'insult', 'insurance', 'insurer', 'integrity', 'intelligence', 'intend', 'intensifie', 'intensity', 'interest', 'interested', 'interesting', 'intern', 'internal', 'internally', 'international', 'internet', 'interstate', 'interview', 'into', 'inundate', 'inundation', 'invade', 'invalid', 'invasion', 'invest', 'investigate', 'investigation', 'investigator', 'invite', 'invoice', 'involve', 'ipad', 'iphone', 'ipod', 'ir', 'iran', 'irandeal', 'iranian', 'iraq', 'iredell', 'ireland', 'irish', 'iron', 'ironic', 'ironically', 'isil', 'isis', 'islam', 'islamic', 'island', 'israel', 'israeli', 'issue', 'it', 'italian', 'italy', 'item', 'its', 'itself', 'itsjustinstuart', 'itune', 'itunesmusic', 'ivanberroa', 'jack', 'jacket', 'jackson', 'jacksonville', 'jacque', 'jail', 'jam', 'jamaica', 'jamaicaplain', 'jame', 'jan', 'japan', 'japanese', 'japìn', 'jasmine', 'jax', 'jay', 'jazz', 'jealous', 'jean', 'jeb', 'jenner', 'jennifer', 'jerry', 'jersey', 'jesus', 'jet', 'jewelry', 'jewish', 'jim', 'jimmyfallon', 'jkl', 'job', 'joe', 'joel', 'john', 'johnny', 'johns', 'join', 'joke', 'jon', 'jonathan', 'jonathanferrell', 'joneskyle', 'jonvoyage', 'jordan', 'jose', 'journal', 'journalism', 'journalist', 'journey', 'joy', 'jr', 'jst', 'judge', 'juice', 'julie', 'july', 'jump', 'june', 'jupiter', 'juror', 'just', 'justice', 'justify', 'justinbieber', 'justmarrie', 'kaduna', 'kalle', 'kanye', 'karachi', 'karma', 'karymsky', 'katrina', 'katunew', 'kca', 'keegan', 'keep', 'kelly', 'kendall', 'kenya', 'kerricktrial', 'kerry', 'key', 'khan', 'ki', 'kick', 'kid', 'kidnap', 'kiernan', 'kill', 'killer', 'killing', 'kind', 'kinda', 'kindle', 'kindly', 'king', 'kingdom', 'kisii', 'kiss', 'kit', 'kith', 'kitten', 'km', 'knee', 'knife', 'knob', 'knock', 'know', 'knoxville', 'kodiak', 'koinnew', 'koman', 'kombat', 'korea', 'kosciusko', 'kowe', 'kraft', 'ks', 'kurd', 'kurdish', 'kurtschlichter', 'kuwait', 'ky', 'kyle', 'la', 'lab', 'label', 'labour', 'lack', 'laden', 'lady', 'lake', 'lamp', 'lance', 'land', 'landfall', 'landing', 'landslide', 'lane', 'langley', 'language', 'lansdowne', 'laois', 'large', 'las', 'last', 'late', 'lately', 'later', 'latestnew', 'latime', 'latin', 'laugh', 'launch', 'lauren', 'lava', 'lavenderpoetrycafe', 'law', 'lawsuit', 'lawton', 'lay', 'layout', 'lead', 'leader', 'leadership', 'league', 'leak', 'learn', 'least', 'leather', 'leave', 'lebanon', 'lee', 'leed', 'left', 'leg', 'legacy', 'legal', 'legio', 'legion', 'legionnaire', 'legislation', 'legit', 'lego', 'leisure', 'len', 'leo', 'lesbian', 'less', 'lesson', 'let', 'lethal', 'lets', 'letter', 'level', 'lez', 'lgbt', 'lglorg', 'liable', 'library', 'libya', 'lie', 'life', 'lifethreatening', 'lifetime', 'lift', 'light', 'lighten', 'lightening', 'lighting', 'lightning', 'like', 'likely', 'lil', 'limit', 'limited', 'line', 'linerless', 'link', 'linkury', 'lion', 'lionel', 'lip', 'list', 'listen', 'listenbuy', 'listenlive', 'literally', 'little', 'live', 'livelihood', 'liveonline', 'livingsafely', 'lizard', 'll', 'lmao', 'lmfao', 'lmfaoooo', 'lnp', 'load', 'loan', 'lobby', 'local', 'localarsonist', 'locate', 'location', 'lock', 'locker', 'locomotive', 'log', 'logic', 'logistic', 'logo', 'lol', 'lollapalooza', 'london', 'londonfire', 'lone', 'lonely', 'lonewolffur', 'long', 'longterm', 'look', 'loop', 'loose', 'loot', 'looter', 'lord', 'loretta', 'lorry', 'los', 'losdelsonido', 'lose', 'loss', 'lot', 'loud', 'louis', 'love', 'lovedup', 'lovely', 'low', 'lower', 'lowly', 'lownde', 'lrt', 'lt', 'ltlt', 'lubbock', 'luchaunderground', 'luck', 'lucky', 'luis', 'lulgzimbestpict', 'lunch', 'lung', 'lv', 'lyric', 'ma', 'mac', 'machine', 'mad', 'madhya', 'madinah', 'magginoodle', 'magic', 'magister', 'magner', 'magnum', 'mail', 'main', 'maintain', 'maintenance', 'maj', 'major', 'majority', 'make', 'maker', 'maketh', 'making', 'malaysia', 'malaysian', 'male', 'malik', 'mall', 'mama', 'mamata', 'man', 'manage', 'management', 'manager', 'manchester', 'mania', 'manmade', 'mansehra', 'mansion', 'manslaughter', 'manufacture', 'many', 'map', 'march', 'maria', 'mariah', 'marian', 'marijuana', 'marine', 'mark', 'marker', 'market', 'marketing', 'marry', 'martinmj', 'marvel', 'mary', 'maryland', 'mass', 'massacre', 'massive', 'master', 'mat', 'match', 'mate', 'material', 'matter', 'matthew', 'mattson', 'max', 'maximum', 'may', 'mayan', 'maybe', 'mayhem', 'mc', 'mcdonald', 'md', 'meal', 'mean', 'measle', 'measurement', 'meat', 'meatloving', 'mechanical', 'med', 'medal', 'media', 'medic', 'medical', 'medicine', 'mediterran', 'mediterranean', 'medium', 'meek', 'meekmill', 'meet', 'meeting', 'megynkelly', 'melt', 'meltdown', 'member', 'meme', 'memorial', 'memorie', 'memory', 'memphis', 'men', 'mental', 'mentally', 'mention', 'mercado', 'mercury', 'mercy', 'mess', 'message', 'messenger', 'messi', 'met', 'metal', 'meteoearth', 'meter', 'method', 'metlife', 'metric', 'metro', 'metrofmtalk', 'mexico', 'mf', 'mfs', 'mgm', 'mh', 'mhtwfnet', 'mi', 'miami', 'michael', 'michaelsos', 'michigan', 'microlight', 'microsoft', 'mid', 'middle', 'midnight', 'mido', 'might', 'migrant', 'mike', 'mikeparractor', 'mile', 'militant', 'military', 'milk', 'milkshake', 'mill', 'million', 'min', 'minaj', 'mind', 'mine', 'minecraft', 'miner', 'minhazmerchant', 'mini', 'mining', 'minion', 'minister', 'minor', 'minority', 'minute', 'mirage', 'mishap', 'miss', 'mission', 'missionhill', 'mississauga', 'mistake', 'mitigation', 'mitt', 'mix', 'miyagi', 'mkx', 'mlb', 'mm', 'mma', 'mnpdnashville', 'mo', 'mock', 'mod', 'mode', 'model', 'moderate', 'modernize', 'modi', 'modify', 'mom', 'moment', 'monday', 'money', 'monitor', 'monkey', 'monogram', 'monsoon', 'monster', 'montetjwitter', 'montgomery', 'month', 'mood', 'moon', 'moore', 'mooresville', 'mop', 'moral', 'more', 'morgan', 'morning', 'mortal', 'mosque', 'mosquito', 'most', 'moth', 'mother', 'motion', 'motor', 'motorcraft', 'motorcycle', 'motorcyclist', 'mount', 'mountain', 'mountaineering', 'mourn', 'mourning', 'move', 'movement', 'movie', 'mp', 'mph', 'mr', 'ms', 'msf', 'msnbc', 'mt', 'mtvhottest', 'much', 'mud', 'mudslide', 'mufc', 'mukilteo', 'multiplayer', 'multiple', 'mum', 'mumbai', 'municipal', 'murder', 'murderer', 'murderous', 'muscle', 'museum', 'music', 'musician', 'musik', 'muslim', 'must', 'mutant', 'muzzamil', 'mv', 'mx', 'my', 'myanmar', 'myself', 'mystery', 'na', 'nagasaki', 'nah', 'nail', 'najib', 'name', 'nan', 'nasa', 'nasahurricane', 'nashville', 'nasty', 'nation', 'national', 'native', 'nato', 'natural', 'nature', 'navbl', 'nave', 'navigate', 'navy', 'nazi', 'nb', 'nbc', 'nbcnew', 'nc', 'nd', 'nda', 'ne', 'near', 'nearby', 'nearly', 'necessary', 'neck', 'need', 'needle', 'negative', 'negro', 'neighborhood', 'neighbour', 'neither', 'nema', 'nepal', 'nestleindia', 'net', 'network', 'never', 'neverending', 'new', 'newberg', 'newbie', 'newlywed', 'news', 'newsarama', 'newsintweet', 'newswatch', 'newyork', 'newzsacramento', 'next', 'nfl', 'nh', 'nhl', 'niall', 'nice', 'nickcannon', 'nicki', 'niece', 'nigeria', 'nigerian', 'nigga', 'niggas', 'night', 'nightmare', 'nike', 'nikeplus', 'nine', 'nj', 'nm', 'no', 'noaa', 'noahanyname', 'nobody', 'noise', 'non', 'noncompliant', 'none', 'nor', 'normal', 'norman', 'north', 'northern', 'northwest', 'nose', 'nostalgia', 'nosurrender', 'not', 'note', 'nothing', 'notice', 'notley', 'novel', 'november', 'now', 'nowhere', 'nowplaye', 'nowplaying', 'np', 'nri', 'nsfw', 'nt', 'nu', 'nuclear', 'nude', 'nugget', 'nuke', 'number', 'nurse', 'nursing', 'nut', 'nv', 'nw', 'nwo', 'nws', 'ny', 'nyc', 'nyt', 'nytime', 'oak', 'obama', 'obispo', 'object', 'obliterate', 'obliteration', 'obsess', 'oc', 'occasion', 'occupant', 'occur', 'ocean', 'odd', 'odeon', 'of', 'off', 'offensive', 'offensiveåêcontent', 'offer', 'offersgo', 'office', 'officer', 'official', 'officially', 'offr', 'offroad', 'often', 'oh', 'ohh', 'ohio', 'oil', 'ok', 'okanagan', 'okay', 'okinawa', 'oklahoma', 'oklahomaok', 'oks', 'okwx', 'olap', 'old', 'olive', 'oliver', 'olympic', 'omega', 'omfg', 'omg', 'on', 'once', 'one', 'oneself', 'online', 'onlinecommunitie', 'only', 'ontario', 'onto', 'ooh', 'oops', 'op', 'open', 'opening', 'openly', 'oper', 'operation', 'opinion', 'opp', 'opposite', 'oppression', 'option', 'opus', 'or', 'oral', 'orange', 'order', 'oregon', 'organize', 'ori', 'origin', 'original', 'originalfunko', 'ornament', 'osborn', 'oso', 'oth', 'other', 'otherwise', 'otrametlife', 'our', 'ourselves', 'out', 'outbid', 'outbreak', 'outdoor', 'outfit', 'outflow', 'outlook', 'outrage', 'outside', 'outta', 'over', 'overload', 'overlook', 'overnight', 'overtime', 'overturn', 'own', 'owner', 'pa', 'pace', 'pacific', 'pack', 'package', 'page', 'pain', 'paint', 'painting', 'pair', 'pak', 'pakistan', 'pakistani', 'pakistannew', 'palestine', 'palestinian', 'palin', 'palm', 'pam', 'pamela', 'pan', 'pancake', 'pandemonium', 'panel', 'panic', 'pant', 'pantherattack', 'paper', 'paramedic', 'parent', 'parenthood', 'paris', 'park', 'parker', 'parking', 'parley', 'parole', 'part', 'particularly', 'partnership', 'party', 'pass', 'passenger', 'past', 'patch', 'path', 'pathogen', 'patience', 'patient', 'patna', 'patrick', 'patriot', 'pattern', 'paul', 'pave', 'pay', 'pbban', 'pc', 'pcps', 'pdp', 'peace', 'peaceful', 'peacefully', 'peak', 'peanut', 'pedestrian', 'penalty', 'pendleton', 'penn', 'penny', 'people', 'pepper', 'per', 'percent', 'perfect', 'perform', 'performance', 'perhaps', 'period', 'permanent', 'permanently', 'permit', 'person', 'personal', 'personnel', 'perspective', 'pet', 'peterjuke', 'petition', 'petitiontake', 'phantom', 'pharaoh', 'phase', 'phil', 'philadelphia', 'philippine', 'philly', 'phoenix', 'phone', 'photo', 'photograph', 'photographer', 'photography', 'photoset', 'photoshop', 'physical', 'physician', 'pic', 'pick', 'picken', 'picture', 'piece', 'piercing', 'pile', 'pileup', 'pill', 'pilot', 'pin', 'piner', 'pinpoint', 'pipe', 'pipeline', 'pisgah', 'piss', 'pit', 'pitch', 'pitcher', 'pizza', 'pjnet', 'pkk', 'place', 'plague', 'plain', 'plan', 'plane', 'planet', 'plant', 'plastic', 'plate', 'platform', 'play', 'player', 'playing', 'playlist', 'playoff', 'playstation', 'please', 'pleasure', 'pledge', 'plenty', 'pllolz', 'plot', 'pls', 'plug', 'plummet', 'plunge', 'plus', 'pm', 'pmharper', 'pocket', 'poem', 'point', 'pol', 'poland', 'police', 'policerun', 'policy', 'politic', 'political', 'politifiact', 'poll', 'pomo', 'pond', 'pony', 'pool', 'poor', 'poorly', 'pop', 'pope', 'poplar', 'popularmmos', 'population', 'porn', 'port', 'portion', 'portland', 'positive', 'possibility', 'possible', 'possibly', 'post', 'poster', 'pot', 'potential', 'potentially', 'potus', 'pound', 'pour', 'pov', 'poverty', 'power', 'powerful', 'powerline', 'ppl', 'practice', 'pradesh', 'pray', 'prayer', 'pre', 'prebreak', 'precious', 'precipitation', 'predator', 'predict', 'prediction', 'prefer', 'pregnant', 'premature', 'premium', 'premonition', 'preorder', 'prepare', 'prepared', 'preparedness', 'prepper', 'presence', 'present', 'president', 'press', 'pressure', 'pretend', 'pretty', 'prevent', 'prevention', 'preview', 'previous', 'prez', 'price', 'priceless', 'priest', 'primary', 'prime', 'prince', 'print', 'prior', 'priority', 'prison', 'private', 'pro', 'prob', 'probably', 'probe', 'problem', 'procedure', 'proceed', 'prod', 'produce', 'product', 'professional', 'profile', 'profit', 'program', 'programme', 'progress', 'project', 'promise', 'promote', 'prompt', 'prone', 'proper', 'property', 'propertycasualty', 'prophet', 'prophetmuhammad', 'prosecute', 'protect', 'protectdenaliwolve', 'protection', 'protector', 'protest', 'prove', 'provide', 'providence', 'provoke', 'ps', 'psa', 'psalm', 'psychiatric', 'pt', 'ptbo', 'ptsd', 'ptsdchat', 'public', 'publicize', 'publish', 'pull', 'pulwama', 'pump', 'pun', 'punch', 'punish', 'punjab', 'puppy', 'purchase', 'purple', 'purse', 'push', 'pussy', 'put', 'putin', 'quake', 'quality', 'quarantine', 'quarrel', 'quarter', 'queen', 'quest', 'question', 'quick', 'quickly', 'quite', 'quiz', 'quote', 'quran', 'race', 'racist', 'radar', 'radiation', 'radio', 'radioactive', 'rage', 'raid', 'rail', 'railway', 'rain', 'rainier', 'rainstorm', 'raise', 'rally', 'ram', 'ramag', 'random', 'range', 'rank', 'rant', 'rap', 'rapidly', 'rapper', 'rare', 'rate', 'rather', 'rating', 'raw', 'ray', 'raynbowaffair', 'rayner', 'raze', 'raì¼l', 'rb', 'rd', 'rdhorndale', 're', 'rea', 'reach', 'react', 'reactor', 'read', 'reading', 'ready', 'real', 'realdonaldtrump', 'realise', 'reality', 'realization', 'realize', 'really', 'realmandyrain', 'realtime', 'reap', 'rear', 'reason', 'recall', 'recap', 'receive', 'recent', 'recently', 'recipe', 'reckless', 'recognize', 'recommend', 'record', 'recount', 'recover', 'recovery', 'recreate', 'recycle', 'red', 'reddit', 'redesign', 'reduce', 'refer', 'reflect', 'refugee', 'refugio', 'refund', 'refuse', 'regard', 'region', 'regional', 'register', 'regret', 'regular', 'reid', 'reinstate', 'reject', 'relate', 'related', 'relationship', 'relative', 'relax', 'release', 'relief', 'religion', 'relive', 'remain', 'remember', 'remind', 'reminder', 'remix', 'remorse', 'removal', 'remove', 'render', 'rene', 'reno', 'reopen', 'rep', 'repair', 'repatriate', 'repeat', 'replace', 'report', 'reportedly', 'reporting', 'republic', 'republican', 'request', 'require', 'rescue', 'rescuer', 'research', 'reshape', 'resident', 'residential', 'resource', 'respect', 'respond', 'responder', 'response', 'responsibility', 'responsible', 'rest', 'restaurant', 'restive', 'restore', 'restrict', 'result', 'retail', 'retract', 'retro', 'return', 'retweet', 'retweete', 'reunion', 'reuter', 'reveal', 'revelation', 'revenue', 'review', 'revolution', 'reward', 'rexyy', 'rey', 'rice', 'richard', 'richmond', 'rick', 'rickperry', 'rid', 'ride', 'rider', 'ridge', 'ridiculous', 'rifle', 'right', 'ring', 'rio', 'riot', 'rioter', 'rioting', 'rip', 'ripple', 'rise', 'risk', 'river', 'riyadh', 'rly', 'rn', 'road', 'rob', 'robert', 'robinson', 'robot', 'robotrainstorm', 'rock', 'rocket', 'rockin', 'rockstar', 'rocky', 'rockyfire', 'roger', 'rohingya', 'role', 'roll', 'roller', 'rolling', 'romance', 'rome', 'ronaldo', 'ronnie', 'roof', 'room', 'roosevelt', 'root', 'rose', 'ross', 'rossum', 'roster', 'rotation', 'round', 'route', 'routecomplex', 'row', 'royal', 'rs', 'rspca', 'rss', 'rt', 'rtamerica', 'rubber', 'rubble', 'rudd', 'ruebs', 'ruin', 'rule', 'run', 'runway', 'rush', 'russia', 'russian', 'rworldnew', 'rwy', 'ryan', 'rì', 'sa', 'sac', 'sacramento', 'sad', 'saddlebrooke', 'sadly', 'safe', 'safely', 'safety', 'sail', 'saipan', 'sake', 'sale', 'salem', 'salmon', 'salt', 'salty', 'salvador', 'samanthaturne', 'samaritans', 'same', 'samesex', 'sample', 'san', 'sanction', 'sandiego', 'sandstorm', 'sandy', 'santa', 'sarah', 'sassy', 'satan', 'satchel', 'satellite', 'saturday', 'saturn', 'saudi', 'save', 'say', 'sb', 'scale', 'scandal', 'scar', 'scare', 'scared', 'scary', 'scene', 'schedule', 'scheme', 'schiphol', 'school', 'schwarber', 'science', 'scientist', 'score', 'scotland', 'scott', 'scottwalker', 'scout', 'scratch', 'scream', 'screen', 'screenshot', 'screw', 'scuf', 'scwx', 'se', 'sea', 'seagull', 'seal', 'sean', 'search', 'season', 'seat', 'seattle', 'second', 'secret', 'section', 'secure', 'security', 'see', 'seed', 'seek', 'seem', 'seismic', 'seize', 'select', 'selection', 'self', 'selfie', 'selfimage', 'sell', 'senator', 'send', 'senior', 'sense', 'sensor', 'sensorsenso', 'sentinel', 'sep', 'separate', 'sept', 'september', 'serial', 'series', 'serious', 'seriously', 'serve', 'server', 'service', 'session', 'set', 'setlist', 'settlement', 'seven', 'several', 'severe', 'sewer', 'sex', 'sexual', 'sexy', 'sf', 'sg', 'sh', 'shadow', 'shake', 'shaker', 'shall', 'shame', 'shape', 'share', 'sharethis', 'shark', 'sharp', 'shaw', 'she', 'shed', 'sheer', 'sheeran', 'sheet', 'shelby', 'shell', 'shelter', 'shepherd', 'sheriff', 'shift', 'ship', 'shipwreck', 'shirt', 'shit', 'shitty', 'shock', 'shoe', 'shoot', 'shooter', 'shooting', 'shop', 'shore', 'short', 'shot', 'should', 'shoulder', 'shout', 'show', 'showcase', 'shower', 'shut', 'shutdown', 'sible', 'sicily', 'sick', 'side', 'sided', 'sideline', 'sigalert', 'sight', 'sign', 'significant', 'silence', 'silent', 'silver', 'silvergray', 'simon', 'simple', 'simulate', 'simulation', 'simultaneous', 'sin', 'since', 'sing', 'singe', 'singing', 'single', 'sinjar', 'sink', 'sinkhole', 'sinking', 'sir', 'siren', 'sismo', 'sister', 'sit', 'site', 'sitting', 'sittwe', 'situation', 'six', 'sixmeter', 'sixpenceee', 'sixth', 'size', 'sized', 'skanndtyagi', 'sketch', 'skill', 'skim', 'skin', 'skinny', 'skip', 'skirt', 'sky', 'skyline', 'skys', 'slam', 'slanglucci', 'slate', 'slave', 'slay', 'slayer', 'sleep', 'slicker', 'slide', 'slightly', 'slip', 'slow', 'slowly', 'sm', 'small', 'smart', 'smash', 'smaug', 'smell', 'smh', 'smile', 'smithsonian', 'smoke', 'smoky', 'sn', 'snack', 'snap', 'snapchat', 'snd', 'sneak', 'snipe', 'snow', 'snowstorm', 'snuff', 'so', 'soak', 'soccer', 'social', 'socialism', 'socialmedia', 'socialnew', 'society', 'socket', 'soft', 'software', 'solar', 'soldier', 'solicitor', 'solid', 'solo', 'solution', 'solve', 'somalia', 'some', 'somebody', 'somehow', 'someone', 'something', 'sometimes', 'son', 'song', 'sony', 'soon', 'sooo', 'soooo', 'sophie', 'sore', 'sorrow', 'sorry', 'sort', 'sos', 'sosfam', 'soudelor', 'soul', 'sound', 'soundcloud', 'source', 'south', 'southampton', 'southbound', 'southdown', 'southeast', 'southern', 'soviet', 'sp', 'space', 'spaceship', 'spain', 'spanish', 'spark', 'speak', 'speaker', 'spear', 'special', 'specialist', 'specialize', 'specially', 'specie', 'specif', 'specific', 'specimen', 'spectacular', 'speed', 'spell', 'spencer', 'spend', 'spider', 'spill', 'spin', 'spinningbot', 'spirit', 'split', 'spoil', 'sponsor', 'sport', 'sportwatch', 'spos', 'spot', 'spread', 'spring', 'sprinter', 'spur', 'spy', 'squad', 'square', 'squeeze', 'sr', 'ssw', 'st', 'stab', 'stacey', 'stadium', 'staff', 'stage', 'stamp', 'stan', 'stand', 'standard', 'standuser', 'standwithpp', 'star', 'starbuck', 'stark', 'start', 'starter', 'startup', 'starve', 'stat', 'state', 'statement', 'station', 'status', 'stay', 'steak', 'steal', 'steam', 'steel', 'stem', 'step', 'stephen', 'stereo', 'steve', 'stewart', 'stick', 'still', 'stir', 'sto', 'stock', 'stomach', 'stone', 'stop', 'store', 'storm', 'story', 'stout', 'straight', 'strain', 'strand', 'strange', 'strategicpatience', 'strategy', 'streak', 'stream', 'street', 'strengthen', 'stress', 'stressful', 'stretch', 'stretcher', 'stretcherbearer', 'strike', 'striker', 'strikesstrike', 'strip', 'stroke', 'strong', 'structural', 'structure', 'struggle', 'strut', 'stu', 'stuart', 'student', 'studio', 'study', 'stuff', 'stun', 'stupid', 'style', 'stylish', 'sub', 'subject', 'subreddit', 'success', 'such', 'suck', 'suddenly', 'sue', 'suffer', 'suicide', 'suit', 'summary', 'summer', 'summerfate', 'summertime', 'summit', 'summon', 'sun', 'sunday', 'sunny', 'sunset', 'super', 'superhero', 'supernatural', 'supervisor', 'supply', 'support', 'suppose', 'supreme', 'surah', 'sure', 'surely', 'surf', 'surface', 'surfer', 'surge', 'surgery', 'surprise', 'surprised', 'surrender', 'surround', 'suruc', 'survey', 'survival', 'survive', 'survivor', 'suspect', 'suspected', 'suv', 'sw', 'swallow', 'swansea', 'swear', 'sweat', 'sweater', 'sweden', 'sweep', 'sweet', 'swim', 'swing', 'switch', 'sws', 'sx', 'sydney', 'sympathy', 'symphony', 'syndrome', 'syria', 'syrian', 'system', 'ta', 'tab', 'table', 'tablet', 'tag', 'tahoe', 'taiwan', 'tak', 'take', 'tale', 'talent', 'taliban', 'talk', 'tampa', 'tank', 'tanzania', 'tape', 'target', 'tasmanias', 'taste', 'tattoo', 'tax', 'taxiway', 'taylor', 'tb', 'tc', 'tcot', 'tdp', 'te', 'tea', 'teach', 'teacher', 'team', 'tear', 'tech', 'techesback', 'technique', 'technology', 'tee', 'teen', 'telegraph', 'tell', 'temper', 'temperature', 'temple', 'temporary', 'temptation', 'ten', 'tend', 'tennessee', 'tension', 'tent', 'term', 'terrible', 'terrifying', 'terror', 'terrorism', 'terrorist', 'test', 'testify', 'testimony', 'texas', 'text', 'tf', 'tflbusalert', 'th', 'tha', 'than', 'thank', 'thankfully', 'thanku', 'that', 'the', 'theadvocatemag', 'theater', 'theatre', 'thee', 'thegame', 'their', 'theme', 'themselves', 'then', 'theory', 'therapy', 'there', 'these', 'thetawniest', 'they', 'thick', 'thigh', 'thin', 'thing', 'think', 'thinking', 'third', 'thirsty', 'this', 'thisizbwright', 'tho', 'thoma', 'those', 'though', 'thought', 'thousand', 'threat', 'threaten', 'three', 'thriller', 'through', 'throughout', 'throw', 'throwingknife', 'thru', 'thu', 'thuggin', 'thunder', 'thunderstorm', 'thur', 'thursday', 'thus', 'thx', 'thy', 'thyroid', 'ticket', 'tidal', 'tide', 'tie', 'til', 'till', 'tilnow', 'time', 'timeline', 'timkaine', 'tin', 'tinyjecht', 'tip', 'tired', 'titan', 'title', 'tix', 'tlc', 'tmp', 'to', 'today', 'todd', 'toddler', 'toe', 'together', 'toilet', 'tokyo', 'toll', 'tom', 'tomcatart', 'tomorrow', 'ton', 'tongue', 'tonight', 'tonto', 'too', 'tool', 'tooth', 'top', 'torch', 'tornado', 'toronto', 'torture', 'tory', 'total', 'totally', 'tote', 'touch', 'tough', 'tour', 'tournament', 'toward', 'towards', 'towel', 'tower', 'town', 'township', 'tr', 'trace', 'track', 'trading', 'traditional', 'traffic', 'trafford', 'tragedy', 'tragic', 'trailer', 'train', 'training', 'tram', 'transfer', 'transform', 'transformation', 'transit', 'transport', 'trap', 'trapmusic', 'trash', 'trauma', 'traumatise', 'traumatised', 'travel', 'traverse', 'treat', 'treatment', 'tree', 'treeporn', 'tremor', 'trench', 'trend', 'trent', 'trfc', 'trial', 'tribal', 'tribune', 'trick', 'trigger', 'trillion', 'trip', 'triple', 'tripledigit', 'triumph', 'troll', 'trolley', 'troop', 'tropical', 'trouble', 'troubling', 'troy', 'trs', 'trubgme', 'truck', 'true', 'truly', 'trump', 'trunk', 'trust', 'truth', 'try', 'tryna', 'tryout', 'ts', 'tshirt', 'tsunami', 'tsunamiesh', 'tt', 'tube', 'tubestrike', 'tuesday', 'tumblr', 'tune', 'tunein', 'tunnel', 'turbine', 'turkey', 'turkish', 'turn', 'tutorial', 'tv', 'tweet', 'twelve', 'twia', 'twice', 'twin', 'twister', 'twitter', 'two', 'twovehicle', 'ty', 'tyler', 'type', 'typhoon', 'typhoondevastate', 'typical', 'tyre', 'uber', 'ud', 'udhampur', 'uganda', 'ugh', 'ugly', 'uh', 'uk', 'ukraine', 'ultimalucha', 'ultimate', 'un', 'unavoidable', 'unawares', 'uncle', 'unconfirme', 'under', 'undercover', 'understand', 'underwater', 'underway', 'unfold', 'unfortunately', 'unhappiness', 'uniform', 'union', 'unique', 'unit', 'unite', 'united', 'unity', 'universe', 'university', 'unknown', 'unless', 'unlock', 'unnecessary', 'unprecedented', 'unrelenting', 'unsafe', 'unsuckdcmetro', 'until', 'unto', 'unveil', 'up', 'update', 'upgrade', 'upheaval', 'upon', 'upper', 'upset', 'ur', 'uranium', 'urgent', 'uribe', 'usa', 'usagov', 'usatoday', 'use', 'user', 'usg', 'ushanka', 'usual', 'usually', 'ut', 'utc', 'utter', 'utterly', 'utv', 'va', 'vabengal', 'vacant', 'vacation', 'val', 'valley', 'value', 'vampiro', 'van', 'vancouver', 'vanish', 'vantage', 'variety', 'vashon', 'vault', 've', 'vegas', 'vegetable', 'vehicle', 'venezuela', 'verdict', 'vermont', 'versethe', 'version', 'very', 'vet', 'veteran', 'vgbootcamp', 'vi', 'via', 'vice', 'vicinity', 'victim', 'victory', 'vid', 'vida', 'video', 'videoveranomtv', 'vietnam', 'vietnamese', 'view', 'village', 'villager', 'vine', 'vintage', 'vinyl', 'violation', 'violence', 'violent', 'vip', 'viralspell', 'virgil', 'virgin', 'virus', 'visibility', 'visit', 'vital', 'vladimir', 'vocal', 'vod', 'voice', 'volcano', 'volcanoåêinåêrussia', 'volga', 'vote', 'votejktid', 'voter', 'vs', 'vuitton', 'vulnerable', 'wa', 'waimate', 'waist', 'wait', 'wake', 'wale', 'walk', 'wall', 'walmart', 'walter', 'wanna', 'wannabe', 'want', 'war', 'warcraft', 'warfighte', 'warm', 'warn', 'warning', 'warship', 'wash', 'washington', 'washingtonpost', 'waste', 'watch', 'water', 'waterresistant', 'watertown', 'waterway', 'wave', 'way', 'wayne', 'wb', 'wbioterrorismampuse', 'wd', 'we', 'weak', 'weaken', 'weakness', 'wealth', 'weapon', 'wear', 'weather', 'weathernetwork', 'website', 'wedaugth', 'wedding', 'wedn', 'wednesday', 'wee', 'weed', 'week', 'weekend', 'weekold', 'weigh', 'weight', 'weird', 'welcome', 'welfare', 'well', 'west', 'western', 'wet', 'weyreygidi', 'wftv', 'whale', 'whao', 'what', 'wheavenly', 'wheel', 'wheeler', 'when', 'whenever', 'where', 'whether', 'which', 'while', 'whip', 'whirlwind', 'whistle', 'white', 'who', 'whoa', 'whoever', 'whole', 'whomever', 'whoop', 'whose', 'wht', 'why', 'wi', 'wicked', 'wide', 'widespread', 'wife', 'wild', 'wildfire', 'will', 'william', 'willing', 'wilshere', 'win', 'wind', 'window', 'windstorm', 'wing', 'winston', 'winter', 'wipe', 'wipp', 'wire', 'wireless', 'wisenew', 'wish', 'wit', 'witch', 'with', 'wither', 'within', 'without', 'witness', 'witter', 'wmata', 'wnd', 'wo', 'wod', 'wolf', 'wom', 'woman', 'women', 'wonder', 'wonderful', 'wood', 'word', 'wordpressdotcom', 'work', 'worker', 'working', 'workplace', 'world', 'worldnetdaily', 'worldnew', 'worldnews', 'worldwide', 'worried', 'worry', 'worstsummerjob', 'worth', 'would', 'wound', 'wounded', 'wow', 'wowo', 'wpt', 'wrap', 'wrapup', 'wreck', 'wreckage', 'wrist', 'write', 'writer', 'writing', 'wrong', 'wtf', 'wud', 'ww', 'wwi', 'wwii', 'wwwcbplawyer', 'wx', 'wy', 'xb', 'xbox', 'xd', 'xl', 'xoxo', 'xp', 'xxx', 'ya', 'yahoo', 'yahoonew', 'yankee', 'yay', 'yazidi', 'yea', 'yeah', 'year', 'yearold', 'yell', 'yellow', 'yep', 'yes', 'yesterday', 'yet', 'yo', 'yobe', 'yonew', 'york', 'yorker', 'you', 'yougov', 'young', 'youngheroesid', 'your', 'yours', 'yourself', 'youth', 'youtube', 'yr', 'yrs', 'yugvani', 'yyc', 'yycstorm', 'zakbagan', 'zarry', 'zayn', 'zimbabwe', 'zionism', 'zionist', 'zip', 'zombie', 'zone', 'zouma', 'zss', 'åè', 'åê', 'åêdemolition', 'ìñ', 'ûª', 'ûªd', 'ûªll', 'ûªm', 'ûªre', 'ûªs', 'ûªt', 'ûªve', 'ûïa', 'ûïhannaph', 'ûïhatchet', 'ûïrichmond', 'ûïstretcher', 'ûïthe', 'ûïwe', 'ûïwhen', 'ûò', 'ûó']\n"
     ]
    }
   ],
   "source": [
    "vec = TfidfVectorizer(min_df=VECT_MIN, max_df=VECT_MAX)\n",
    "vec.fit(X_train)\n",
    "X_train_vec = vec.transform(X_train)\n",
    "X_test_vec = vec.transform(X_test)\n",
    "\n",
    "print(vec.get_feature_names())"
   ],
   "metadata": {
    "collapsed": false,
    "pycharm": {
     "name": "#%%\n"
    }
   }
  },
  {
   "cell_type": "code",
   "execution_count": 67,
   "outputs": [
    {
     "data": {
      "text/plain": "SVC()"
     },
     "execution_count": 67,
     "metadata": {},
     "output_type": "execute_result"
    }
   ],
   "source": [
    "svc = SVC()\n",
    "svc.fit(X_train_vec, y_train)"
   ],
   "metadata": {
    "collapsed": false,
    "pycharm": {
     "name": "#%%\n"
    }
   }
  },
  {
   "cell_type": "code",
   "execution_count": 68,
   "outputs": [
    {
     "name": "stdout",
     "output_type": "stream",
     "text": [
      "0.9545155993431855\n",
      "0.8069599474720945\n"
     ]
    }
   ],
   "source": [
    "print(svc.score(X_train_vec, y_train))\n",
    "print(svc.score(X_test_vec, y_test))"
   ],
   "metadata": {
    "collapsed": false,
    "pycharm": {
     "name": "#%%\n"
    }
   }
  },
  {
   "cell_type": "code",
   "execution_count": 69,
   "outputs": [
    {
     "name": "stdout",
     "output_type": "stream",
     "text": [
      "[[788  86]\n",
      " [208 441]]\n",
      "Normalized confusion matrix\n"
     ]
    },
    {
     "data": {
      "text/plain": "<Figure size 432x288 with 2 Axes>",
      "image/png": "[encoded data removed]"
     },
     "metadata": {
      "needs_background": "light"
     },
     "output_type": "display_data"
    }
   ],
   "source": [
    "y_pred_test = svc.predict(X_test_vec)\n",
    "cm = confusion_matrix(y_test, y_pred_test)\n",
    "\n",
    "def plot_confusion_matrix(cm, classes,\n",
    "                          normalize=True,\n",
    "                          title='Confusion matrix for test set',\n",
    "                          cmap=plt.cm.Blues):\n",
    "\n",
    "    \"\"\"\n",
    "    This function prints and plots the confusion matrix.\n",
    "    Normalization can be applied by setting `normalize=True`.print(classification_report(y_test, y_pred_test))\n",
    "    \"\"\"\n",
    "    print(cm)\n",
    "    if normalize:\n",
    "        cm = cm.astype('float') / cm.sum(axis=1)[:, np.newaxis]\n",
    "        print(\"Normalized confusion matrix\")\n",
    "    else:\n",
    "        print('Confusion matrix, without normalization')\n",
    "\n",
    "    plt.imshow(cm, interpolation='nearest', cmap=cmap)\n",
    "    plt.title(title)\n",
    "    plt.colorbar()\n",
    "    tick_marks = np.arange(len(classes))\n",
    "    plt.xticks(tick_marks, classes, rotation=45)\n",
    "    plt.yticks(tick_marks, classes)\n",
    "\n",
    "    fmt = '.2f' if normalize else 'd'\n",
    "    thresh = cm.max() / 2.\n",
    "    for i, j in itertools.product(range(cm.shape[0]), range(cm.shape[1])):\n",
    "        plt.text(j, i, format(cm[i, j], fmt),\n",
    "                 horizontalalignment=\"center\",\n",
    "                 color=\"white\" if cm[i, j] > thresh else \"black\")\n",
    "\n",
    "    plt.ylabel('True label')\n",
    "    plt.xlabel('Predicted label')\n",
    "    plt.tight_layout()\n",
    "\n",
    "\n",
    "plot_confusion_matrix(cm, [False, True])"
   ],
   "metadata": {
    "collapsed": false,
    "pycharm": {
     "name": "#%%\n"
    }
   }
  },
  {
   "cell_type": "code",
   "execution_count": 70,
   "outputs": [
    {
     "name": "stdout",
     "output_type": "stream",
     "text": [
      "              precision    recall  f1-score   support\n",
      "\n",
      "           0       0.79      0.90      0.84       874\n",
      "           1       0.84      0.68      0.75       649\n",
      "\n",
      "    accuracy                           0.81      1523\n",
      "   macro avg       0.81      0.79      0.80      1523\n",
      "weighted avg       0.81      0.81      0.80      1523\n",
      "\n"
     ]
    }
   ],
   "source": [
    "print(classification_report(y_test, y_pred_test))"
   ],
   "metadata": {
    "collapsed": false,
    "pycharm": {
     "name": "#%%\n"
    }
   }
  },
  {
   "cell_type": "markdown",
   "source": [
    "## Cross validation"
   ],
   "metadata": {
    "collapsed": false,
    "pycharm": {
     "name": "#%% md\n"
    }
   }
  },
  {
   "cell_type": "code",
   "execution_count": 71,
   "outputs": [
    {
     "name": "stdout",
     "output_type": "stream",
     "text": [
      "TRAIN: 5709 TEST: 1904\n",
      "CV ACCURACY: 0.953757225433526\n",
      "\n",
      "\n",
      "TRAIN: 5710 TEST: 1903\n",
      "CV ACCURACY: 0.9542907180385289\n",
      "\n",
      "\n",
      "TRAIN: 5710 TEST: 1903\n",
      "CV ACCURACY: 0.9562171628721541\n",
      "\n",
      "\n",
      "TRAIN: 5710 TEST: 1903\n",
      "CV ACCURACY: 0.9513134851138354\n",
      "\n",
      "\n",
      "[[3764  578]\n",
      " [1485 1786]]\n",
      "Normalized confusion matrix\n"
     ]
    },
    {
     "data": {
      "text/plain": "<Figure size 432x288 with 2 Axes>",
      "image/png": "[encoded data removed]"
     },
     "metadata": {
      "needs_background": "light"
     },
     "output_type": "display_data"
    }
   ],
   "source": [
    "X_cv = train_df['text_preproc']\n",
    "y_cv = train_df['target']\n",
    "\n",
    "CONF_MATRIXES = []\n",
    "\n",
    "skf = StratifiedKFold(n_splits=4)\n",
    "for train_idx, test_idx in skf.split(X_cv, y_cv):\n",
    "    print('TRAIN:', len(train_idx), 'TEST:', len(test_idx))\n",
    "    X_train_cv, X_test_cv = X_cv[train_idx], X_cv[test_idx]\n",
    "    y_train_cv, y_test_cv = y_cv[train_idx], y_cv[test_idx]\n",
    "\n",
    "    vec_cv = TfidfVectorizer(min_df=VECT_MIN, max_df=VECT_MAX)\n",
    "    X_train_vec_cv = vec_cv.fit_transform(X_train_cv)\n",
    "    X_test_vec_cv = vec_cv.transform(X_test_cv)\n",
    "\n",
    "    svc_cv = SVC()\n",
    "    svc_cv.fit(X_train_vec_cv, y_train_cv)\n",
    "    accuracy_cv = svc_cv.score(X_train_vec_cv, y_train_cv)\n",
    "\n",
    "    print(f'CV ACCURACY: {accuracy_cv}')\n",
    "    y_pred_cv = svc_cv.predict(X_test_vec_cv)\n",
    "    cm = confusion_matrix(y_test_cv, y_pred_cv)\n",
    "    CONF_MATRIXES.append(cm)\n",
    "    print('\\n')\n",
    "\n",
    "# overall results\n",
    "cm = np.array(CONF_MATRIXES).sum(axis=0)\n",
    "plot_confusion_matrix(cm, [0, 1])"
   ],
   "metadata": {
    "collapsed": false,
    "pycharm": {
     "name": "#%%\n"
    }
   }
  },
  {
   "cell_type": "markdown",
   "source": [
    "## Final model training"
   ],
   "metadata": {
    "collapsed": false,
    "pycharm": {
     "name": "#%% md\n"
    }
   }
  },
  {
   "cell_type": "code",
   "execution_count": 72,
   "outputs": [
    {
     "name": "stdout",
     "output_type": "stream",
     "text": [
      "0.9500853802705898\n",
      "[[4280   62]\n",
      " [ 318 2953]]\n",
      "Normalized confusion matrix\n",
      "              precision    recall  f1-score   support\n",
      "\n",
      "           0       0.93      0.99      0.96      4342\n",
      "           1       0.98      0.90      0.94      3271\n",
      "\n",
      "    accuracy                           0.95      7613\n",
      "   macro avg       0.96      0.94      0.95      7613\n",
      "weighted avg       0.95      0.95      0.95      7613\n",
      "\n"
     ]
    },
    {
     "data": {
      "text/plain": "<Figure size 432x288 with 2 Axes>",
      "image/png": "[encoded data removed]"
     },
     "metadata": {
      "needs_background": "light"
     },
     "output_type": "display_data"
    }
   ],
   "source": [
    "vec = TfidfVectorizer(min_df=VECT_MIN, max_df=VECT_MAX)\n",
    "X_vec = vec.fit_transform(X)\n",
    "\n",
    "svc = SVC()\n",
    "svc.fit(X_vec, y)\n",
    "print(svc.score(X_vec, y))\n",
    "\n",
    "y_pred = svc.predict(X_vec)\n",
    "\n",
    "cm = confusion_matrix(y, svc.predict(X_vec))\n",
    "plot_confusion_matrix(cm, [0, 1])\n",
    "\n",
    "print(classification_report(y, y_pred))"
   ],
   "metadata": {
    "collapsed": false,
    "pycharm": {
     "name": "#%%\n"
    }
   }
  },
  {
   "cell_type": "code",
   "execution_count": 73,
   "outputs": [
    {
     "data": {
      "text/plain": "   id keyword location                                               text\n0   0     NaN      NaN                 Just happened a terrible car crash\n1   2     NaN      NaN  Heard about #earthquake is different cities, s...\n2   3     NaN      NaN  there is a forest fire at spot pond, geese are...",
      "text/html": "<div>\n<style scoped>\n    .dataframe tbody tr th:only-of-type {\n        vertical-align: middle;\n    }\n\n    .dataframe tbody tr th {\n        vertical-align: top;\n    }\n\n    .dataframe thead th {\n        text-align: right;\n    }\n</style>\n<table border=\"1\" class=\"dataframe\">\n  <thead>\n    <tr style=\"text-align: right;\">\n      <th></th>\n      <th>id</th>\n      <th>keyword</th>\n      <th>location</th>\n      <th>text</th>\n    </tr>\n  </thead>\n  <tbody>\n    <tr>\n      <th>0</th>\n      <td>0</td>\n      <td>NaN</td>\n      <td>NaN</td>\n      <td>Just happened a terrible car crash</td>\n    </tr>\n    <tr>\n      <th>1</th>\n      <td>2</td>\n      <td>NaN</td>\n      <td>NaN</td>\n      <td>Heard about #earthquake is different cities, s...</td>\n    </tr>\n    <tr>\n      <th>2</th>\n      <td>3</td>\n      <td>NaN</td>\n      <td>NaN</td>\n      <td>there is a forest fire at spot pond, geese are...</td>\n    </tr>\n  </tbody>\n</table>\n</div>"
     },
     "execution_count": 73,
     "metadata": {},
     "output_type": "execute_result"
    }
   ],
   "source": [
    "test_df[:3]"
   ],
   "metadata": {
    "collapsed": false,
    "pycharm": {
     "name": "#%%\n"
    }
   }
  },
  {
   "cell_type": "code",
   "execution_count": 74,
   "outputs": [
    {
     "data": {
      "text/plain": "0                      just happened a terrible car crash\n1       heard about earthquake is different cities sta...\n2       there is a forest fire at spot pond geese are ...\n3                   apocalypse lighting spokane wildfires\n4             typhoon soudelor kills  in china and taiwan\n                              ...                        \n3258    earthquake safety los angeles ûò safety faste...\n3259    storm in ri worse than last hurricane my citya...\n3260    green line derailment in chicago httptcoutbxlc...\n3261    meg issues hazardous weather outlook hwo httpt...\n3262    cityofcalgary has activated its municipal emer...\nName: text_preproc, Length: 3263, dtype: object"
     },
     "execution_count": 74,
     "metadata": {},
     "output_type": "execute_result"
    }
   ],
   "source": [
    "test_df['text_preproc'] = test_df['text'].apply(_preprocessing)\n",
    "X_out = test_df['text_preproc']\n",
    "X_out"
   ],
   "metadata": {
    "collapsed": false,
    "pycharm": {
     "name": "#%%\n"
    }
   }
  },
  {
   "cell_type": "code",
   "execution_count": 75,
   "outputs": [
    {
     "data": {
      "text/plain": "<3263x5423 sparse matrix of type '<class 'numpy.float64'>'\n\twith 29177 stored elements in Compressed Sparse Row format>"
     },
     "execution_count": 75,
     "metadata": {},
     "output_type": "execute_result"
    }
   ],
   "source": [
    "X_out_vec = vec.transform(X_out)\n",
    "X_out_vec"
   ],
   "metadata": {
    "collapsed": false,
    "pycharm": {
     "name": "#%%\n"
    }
   }
  },
  {
   "cell_type": "code",
   "execution_count": 76,
   "outputs": [
    {
     "data": {
      "text/plain": "array([1, 1, 1, ..., 1, 1, 0], dtype=int64)"
     },
     "execution_count": 76,
     "metadata": {},
     "output_type": "execute_result"
    }
   ],
   "source": [
    "y_out_pred = svc.predict(X_out_vec)\n",
    "y_out_pred"
   ],
   "metadata": {
    "collapsed": false,
    "pycharm": {
     "name": "#%%\n"
    }
   }
  },
  {
   "cell_type": "code",
   "execution_count": 77,
   "outputs": [],
   "source": [
    "file = pd.DataFrame({\n",
    "   'id': test_df['id'],\n",
    "   'target': y_out_pred\n",
    "})\n",
    "\n",
    "file.to_csv('disaster-tweets-svm-tfidf-lemma.csv', index=False)"
   ],
   "metadata": {
    "collapsed": false,
    "pycharm": {
     "name": "#%%\n"
    }
   }
  }
 ],
 "metadata": {
  "kernelspec": {
   "display_name": "Python 3",
   "language": "python",
   "name": "python3"
  },
  "language_info": {
   "codemirror_mode": {
    "name": "ipython",
    "version": 2
   },
   "file_extension": ".py",
   "mimetype": "text/x-python",
   "name": "python",
   "nbconvert_exporter": "python",
   "pygments_lexer": "ipython2",
   "version": "2.7.6"
  }
 },
 "nbformat": 4,
 "nbformat_minor": 0
}
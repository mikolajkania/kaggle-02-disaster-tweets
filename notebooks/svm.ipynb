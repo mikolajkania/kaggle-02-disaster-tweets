{
 "cells": [
  {
   "cell_type": "markdown",
   "source": [
    "## SVM\n",
    "\n",
    "Default LinearSVC achieve worse results than logistic regression. SVC, on the other hand, works good for negative class (0.91) and much worse for positive (0.47), based on averaged cross validation.\n",
    "\n",
    "Replacing CountVectorizer with TfIdfVectorizer improved averaged CV (0.86 / 0.55). From EDA (TruncatedSGD) it can be seen that it helps to distinguish the targets. Accuracy went up.\n",
    "\n",
    "Lemmatization didn't help.\n",
    "\n",
    "Bi-grams didn't help with Kaggle results, but slightly improved those from cross validation and final training."
   ],
   "metadata": {
    "collapsed": false,
    "pycharm": {
     "name": "#%% md\n"
    }
   }
  },
  {
   "cell_type": "code",
   "execution_count": 189,
   "metadata": {
    "collapsed": true
   },
   "outputs": [
    {
     "name": "stdout",
     "output_type": "stream",
     "text": [
      "The autoreload extension is already loaded. To reload it, use:\n",
      "  %reload_ext autoreload\n"
     ]
    }
   ],
   "source": [
    "%load_ext autoreload\n",
    "%autoreload 2\n",
    "\n",
    "import re\n",
    "import itertools\n",
    "import spacy\n",
    "\n",
    "import pandas as pd\n",
    "import numpy as np\n",
    "import matplotlib.pyplot as plt\n",
    "\n",
    "from sklearn.feature_extraction.text import CountVectorizer, TfidfVectorizer\n",
    "from sklearn.svm import SVC\n",
    "from sklearn.model_selection import train_test_split\n",
    "from sklearn.metrics import confusion_matrix, classification_report\n",
    "from sklearn.model_selection import StratifiedKFold"
   ]
  },
  {
   "cell_type": "markdown",
   "source": [
    "## Loading data"
   ],
   "metadata": {
    "collapsed": false,
    "pycharm": {
     "name": "#%% md\n"
    }
   }
  },
  {
   "cell_type": "code",
   "execution_count": 190,
   "outputs": [
    {
     "data": {
      "text/plain": "   id keyword location                                               text  \\\n0   1     NaN      NaN  Our Deeds are the Reason of this #earthquake M...   \n1   4     NaN      NaN             Forest fire near La Ronge Sask. Canada   \n2   5     NaN      NaN  All residents asked to 'shelter in place' are ...   \n\n   target  \n0       1  \n1       1  \n2       1  ",
      "text/html": "<div>\n<style scoped>\n    .dataframe tbody tr th:only-of-type {\n        vertical-align: middle;\n    }\n\n    .dataframe tbody tr th {\n        vertical-align: top;\n    }\n\n    .dataframe thead th {\n        text-align: right;\n    }\n</style>\n<table border=\"1\" class=\"dataframe\">\n  <thead>\n    <tr style=\"text-align: right;\">\n      <th></th>\n      <th>id</th>\n      <th>keyword</th>\n      <th>location</th>\n      <th>text</th>\n      <th>target</th>\n    </tr>\n  </thead>\n  <tbody>\n    <tr>\n      <th>0</th>\n      <td>1</td>\n      <td>NaN</td>\n      <td>NaN</td>\n      <td>Our Deeds are the Reason of this #earthquake M...</td>\n      <td>1</td>\n    </tr>\n    <tr>\n      <th>1</th>\n      <td>4</td>\n      <td>NaN</td>\n      <td>NaN</td>\n      <td>Forest fire near La Ronge Sask. Canada</td>\n      <td>1</td>\n    </tr>\n    <tr>\n      <th>2</th>\n      <td>5</td>\n      <td>NaN</td>\n      <td>NaN</td>\n      <td>All residents asked to 'shelter in place' are ...</td>\n      <td>1</td>\n    </tr>\n  </tbody>\n</table>\n</div>"
     },
     "execution_count": 190,
     "metadata": {},
     "output_type": "execute_result"
    }
   ],
   "source": [
    "train_df = pd.read_csv('../data/train.csv', encoding='utf-8', warn_bad_lines=True, error_bad_lines=False)\n",
    "test_df = pd.read_csv('../data/test.csv', encoding='utf-8', warn_bad_lines=True, error_bad_lines=False)\n",
    "\n",
    "train_df[:3]"
   ],
   "metadata": {
    "collapsed": false,
    "pycharm": {
     "name": "#%%\n"
    }
   }
  },
  {
   "cell_type": "markdown",
   "source": [
    "## Preprocessing"
   ],
   "metadata": {
    "collapsed": false,
    "pycharm": {
     "name": "#%% md\n"
    }
   }
  },
  {
   "cell_type": "code",
   "execution_count": 191,
   "outputs": [
    {
     "data": {
      "text/plain": "0       our deeds are the reason of this earthquake ma...\n1                   forest fire near la ronge sask canada\n2       all residents asked to shelter in place are be...\n3        people receive wildfires evacuation orders in...\n4       just got sent this photo from ruby alaska as s...\n                              ...                        \n7608    two giant cranes holding a bridge collapse int...\n7609    ariaahrary thetawniest the out of control wild...\n7610        m  utckm s of volcano hawaii httptcozdtoydebj\n7611    police investigating after an ebike collided w...\n7612    the latest more homes razed by northern califo...\nName: text_preproc, Length: 7613, dtype: object"
     },
     "execution_count": 191,
     "metadata": {},
     "output_type": "execute_result"
    }
   ],
   "source": [
    "EXTENDED_STRIP_REGEX = r'[!\"#$%&()\\*\\+,-\\./:;„”<=>?@\\[\\\\\\]^_`{|}~\\']'\n",
    "REMOVE_NUMERICAL = r'[0-9]'\n",
    "\n",
    "def _preprocessing(txt: str) -> str:\n",
    "    txt = txt.lower()\n",
    "    txt = re.sub(EXTENDED_STRIP_REGEX, '', txt)\n",
    "    txt = re.sub(REMOVE_NUMERICAL, '', txt)\n",
    "    return txt\n",
    "\n",
    "train_df['text_preproc'] = train_df['text'].apply(_preprocessing)\n",
    "\n",
    "nlp = spacy.load('en_core_web_sm')\n",
    "\n",
    "# disable not used parts of pipeline\n",
    "def _lemma(txt: str) -> str:\n",
    "    return ' '.join([d.lemma_ for d in nlp(txt)])\n",
    "\n",
    "# train_df['text_preproc'] = train_df['text_preproc'].apply(_lemma)\n",
    "train_df['text_preproc']"
   ],
   "metadata": {
    "collapsed": false,
    "pycharm": {
     "name": "#%%\n"
    }
   }
  },
  {
   "cell_type": "markdown",
   "source": [
    "## Data split"
   ],
   "metadata": {
    "collapsed": false,
    "pycharm": {
     "name": "#%% md\n"
    }
   }
  },
  {
   "cell_type": "code",
   "execution_count": 192,
   "outputs": [
    {
     "data": {
      "text/plain": "0    our deeds are the reason of this earthquake ma...\n1                forest fire near la ronge sask canada\n2    all residents asked to shelter in place are be...\nName: text_preproc, dtype: object"
     },
     "execution_count": 192,
     "metadata": {},
     "output_type": "execute_result"
    }
   ],
   "source": [
    "X = train_df['text_preproc']\n",
    "y = train_df['target']\n",
    "\n",
    "X[:3]"
   ],
   "metadata": {
    "collapsed": false,
    "pycharm": {
     "name": "#%%\n"
    }
   }
  },
  {
   "cell_type": "code",
   "execution_count": 193,
   "outputs": [
    {
     "data": {
      "text/plain": "4996    courageous and honest analysis of need to use ...\n3263    zachzaidman thescore wld b a shame if that gol...\n4907    tell barackobama to rescind medals of honor gi...\nName: text_preproc, dtype: object"
     },
     "execution_count": 193,
     "metadata": {},
     "output_type": "execute_result"
    }
   ],
   "source": [
    "X_train, X_test, y_train, y_test = train_test_split(X, y, test_size=0.2, random_state=42)\n",
    "\n",
    "X_train[:3]"
   ],
   "metadata": {
    "collapsed": false,
    "pycharm": {
     "name": "#%%\n"
    }
   }
  },
  {
   "cell_type": "markdown",
   "source": [
    "### Parameter center"
   ],
   "metadata": {
    "collapsed": false,
    "pycharm": {
     "name": "#%% md\n"
    }
   }
  },
  {
   "cell_type": "code",
   "execution_count": 194,
   "outputs": [],
   "source": [
    "VECT_MIN=2\n",
    "VECT_MAX=0.4"
   ],
   "metadata": {
    "collapsed": false,
    "pycharm": {
     "name": "#%%\n"
    }
   }
  },
  {
   "cell_type": "markdown",
   "source": [
    "## Vectorization"
   ],
   "metadata": {
    "collapsed": false,
    "pycharm": {
     "name": "#%% md\n"
    }
   }
  },
  {
   "cell_type": "code",
   "execution_count": 195,
   "outputs": [
    {
     "data": {
      "text/plain": "['i', 'me', 'my']"
     },
     "execution_count": 195,
     "metadata": {},
     "output_type": "execute_result"
    }
   ],
   "source": [
    "with open('../resources/stopwords_en.txt', encoding='utf-8') as f:\n",
    "    stopwords = [line.rstrip() for line in f]\n",
    "\n",
    "stopwords[:3]"
   ],
   "metadata": {
    "collapsed": false,
    "pycharm": {
     "name": "#%%\n"
    }
   }
  },
  {
   "cell_type": "code",
   "execution_count": 196,
   "outputs": [
    {
     "name": "stdout",
     "output_type": "stream",
     "text": [
      "['aa', 'aba', 'abandon', 'abandoned', 'abbott', 'abbswinston', 'abc', 'abcnews', 'ability', 'ablaze']\n"
     ]
    }
   ],
   "source": [
    "vec = TfidfVectorizer(min_df=VECT_MIN, max_df=VECT_MAX)\n",
    "vec.fit(X_train)\n",
    "X_train_vec = vec.transform(X_train)\n",
    "X_test_vec = vec.transform(X_test)\n",
    "\n",
    "print(vec.get_feature_names()[:10])"
   ],
   "metadata": {
    "collapsed": false,
    "pycharm": {
     "name": "#%%\n"
    }
   }
  },
  {
   "cell_type": "code",
   "execution_count": 197,
   "outputs": [
    {
     "data": {
      "text/plain": "SVC()"
     },
     "execution_count": 197,
     "metadata": {},
     "output_type": "execute_result"
    }
   ],
   "source": [
    "svc = SVC()\n",
    "svc.fit(X_train_vec, y_train)"
   ],
   "metadata": {
    "collapsed": false,
    "pycharm": {
     "name": "#%%\n"
    }
   }
  },
  {
   "cell_type": "code",
   "execution_count": 198,
   "outputs": [
    {
     "name": "stdout",
     "output_type": "stream",
     "text": [
      "0.954351395730706\n",
      "0.8069599474720945\n"
     ]
    }
   ],
   "source": [
    "print(svc.score(X_train_vec, y_train))\n",
    "print(svc.score(X_test_vec, y_test))"
   ],
   "metadata": {
    "collapsed": false,
    "pycharm": {
     "name": "#%%\n"
    }
   }
  },
  {
   "cell_type": "code",
   "execution_count": 199,
   "outputs": [
    {
     "name": "stdout",
     "output_type": "stream",
     "text": [
      "[[784  90]\n",
      " [204 445]]\n",
      "Normalized confusion matrix\n"
     ]
    },
    {
     "data": {
      "text/plain": "<Figure size 432x288 with 2 Axes>",
      "image/png": "[encoded data removed]"
     },
     "metadata": {
      "needs_background": "light"
     },
     "output_type": "display_data"
    }
   ],
   "source": [
    "y_pred_test = svc.predict(X_test_vec)\n",
    "cm = confusion_matrix(y_test, y_pred_test)\n",
    "\n",
    "def plot_confusion_matrix(cm, classes,\n",
    "                          normalize=True,\n",
    "                          title='Confusion matrix for test set',\n",
    "                          cmap=plt.cm.Blues):\n",
    "\n",
    "    \"\"\"\n",
    "    This function prints and plots the confusion matrix.\n",
    "    Normalization can be applied by setting `normalize=True`.print(classification_report(y_test, y_pred_test))\n",
    "    \"\"\"\n",
    "    print(cm)\n",
    "    if normalize:\n",
    "        cm = cm.astype('float') / cm.sum(axis=1)[:, np.newaxis]\n",
    "        print(\"Normalized confusion matrix\")\n",
    "    else:\n",
    "        print('Confusion matrix, without normalization')\n",
    "\n",
    "    plt.imshow(cm, interpolation='nearest', cmap=cmap)\n",
    "    plt.title(title)\n",
    "    plt.colorbar()\n",
    "    tick_marks = np.arange(len(classes))\n",
    "    plt.xticks(tick_marks, classes, rotation=45)\n",
    "    plt.yticks(tick_marks, classes)\n",
    "\n",
    "    fmt = '.2f' if normalize else 'd'\n",
    "    thresh = cm.max() / 2.\n",
    "    for i, j in itertools.product(range(cm.shape[0]), range(cm.shape[1])):\n",
    "        plt.text(j, i, format(cm[i, j], fmt),\n",
    "                 horizontalalignment=\"center\",\n",
    "                 color=\"white\" if cm[i, j] > thresh else \"black\")\n",
    "\n",
    "    plt.ylabel('True label')\n",
    "    plt.xlabel('Predicted label')\n",
    "    plt.tight_layout()\n",
    "\n",
    "\n",
    "plot_confusion_matrix(cm, [False, True])"
   ],
   "metadata": {
    "collapsed": false,
    "pycharm": {
     "name": "#%%\n"
    }
   }
  },
  {
   "cell_type": "code",
   "execution_count": 200,
   "outputs": [
    {
     "name": "stdout",
     "output_type": "stream",
     "text": [
      "              precision    recall  f1-score   support\n",
      "\n",
      "           0       0.79      0.90      0.84       874\n",
      "           1       0.83      0.69      0.75       649\n",
      "\n",
      "    accuracy                           0.81      1523\n",
      "   macro avg       0.81      0.79      0.80      1523\n",
      "weighted avg       0.81      0.81      0.80      1523\n",
      "\n"
     ]
    }
   ],
   "source": [
    "print(classification_report(y_test, y_pred_test))"
   ],
   "metadata": {
    "collapsed": false,
    "pycharm": {
     "name": "#%%\n"
    }
   }
  },
  {
   "cell_type": "markdown",
   "source": [
    "## Grid search"
   ],
   "metadata": {
    "collapsed": false,
    "pycharm": {
     "name": "#%% md\n"
    }
   }
  },
  {
   "cell_type": "code",
   "execution_count": 201,
   "outputs": [
    {
     "data": {
      "text/plain": "dict_keys(['C', 'break_ties', 'cache_size', 'class_weight', 'coef0', 'decision_function_shape', 'degree', 'gamma', 'kernel', 'max_iter', 'probability', 'random_state', 'shrinking', 'tol', 'verbose'])"
     },
     "execution_count": 201,
     "metadata": {},
     "output_type": "execute_result"
    }
   ],
   "source": [
    "svc.get_params().keys()"
   ],
   "metadata": {
    "collapsed": false,
    "pycharm": {
     "name": "#%%\n"
    }
   }
  },
  {
   "cell_type": "code",
   "execution_count": 204,
   "outputs": [
    {
     "name": "stdout",
     "output_type": "stream",
     "text": [
      "['mean_fit_time', 'mean_score_time', 'mean_test_score', 'param_C', 'param_degree', 'param_kernel', 'param_tol', 'params', 'rank_test_score', 'split0_test_score', 'split1_test_score', 'split2_test_score', 'split3_test_score', 'split4_test_score', 'std_fit_time', 'std_score_time', 'std_test_score']\n",
      "\n",
      "{'mean_fit_time': array([2.82034855, 2.18966188, 2.02713647, 1.82384834, 1.83252578,\n",
      "       1.83596764, 1.90745659, 1.93631167, 1.9343183 , 2.08111253,\n",
      "       2.04609165, 2.09077668, 1.49675426, 1.5568758 , 1.57193727,\n",
      "       1.48013473, 1.56095757, 1.61683202, 2.14934392, 2.2229815 ,\n",
      "       2.31817851, 1.49784784, 1.66260366, 1.81726151, 1.70530396,\n",
      "       2.95868764, 3.41867814, 2.10894818, 2.20791173, 2.17861524,\n",
      "       2.16897159, 2.14956398, 2.11563735, 2.20205021, 2.15382109,\n",
      "       2.17019153, 2.12423134, 2.15911655, 2.23957787, 2.13934402,\n",
      "       2.19753294, 2.1904583 , 2.18396301, 2.24598584, 2.26535692,\n",
      "       2.1273437 , 2.15148134, 2.18557358, 2.07208605, 2.10982156,\n",
      "       2.1635325 , 2.13295536, 2.16476469, 2.23372951]), 'std_fit_time': array([0.7363414 , 0.14913702, 0.02216929, 0.0158697 , 0.04549321,\n",
      "       0.03550602, 0.04066417, 0.03258169, 0.02528568, 0.02848943,\n",
      "       0.02836969, 0.03062892, 0.05266715, 0.03866739, 0.03098347,\n",
      "       0.0245236 , 0.04770321, 0.04517757, 0.02280901, 0.05284757,\n",
      "       0.10375132, 0.03764787, 0.03890898, 0.03806697, 0.09125156,\n",
      "       0.94883843, 0.46279091, 0.10147732, 0.04276802, 0.04454107,\n",
      "       0.03457554, 0.01708184, 0.03718529, 0.03429104, 0.03433273,\n",
      "       0.04562723, 0.07076483, 0.0429935 , 0.07454319, 0.05424898,\n",
      "       0.05979602, 0.01675849, 0.01980573, 0.05316506, 0.0286258 ,\n",
      "       0.04298902, 0.01986411, 0.02334329, 0.0497449 , 0.04754868,\n",
      "       0.02525076, 0.03552413, 0.01027603, 0.03758574]), 'mean_score_time': array([0.63975654, 0.52838507, 0.49513092, 0.39737186, 0.40081129,\n",
      "       0.39580412, 0.43991699, 0.45059056, 0.43173203, 0.46816635,\n",
      "       0.460425  , 0.46720428, 0.30775218, 0.30631413, 0.32200346,\n",
      "       0.31192741, 0.31216521, 0.3081213 , 0.47194281, 0.47022262,\n",
      "       0.47661595, 0.25112729, 0.25125003, 0.24348884, 0.20724111,\n",
      "       0.23239131, 0.21446214, 0.47615685, 0.46223969, 0.47968259,\n",
      "       0.49188128, 0.48835192, 0.46856003, 0.47925758, 0.48594604,\n",
      "       0.48165216, 0.44332318, 0.44066482, 0.4420249 , 0.45564752,\n",
      "       0.45107527, 0.47327547, 0.47187128, 0.46763177, 0.46201391,\n",
      "       0.43689346, 0.4315753 , 0.4500195 , 0.4541801 , 0.44283447,\n",
      "       0.43844609, 0.445191  , 0.45710139, 0.46411057]), 'std_score_time': array([0.13160091, 0.02244038, 0.00209829, 0.01387755, 0.0169247 ,\n",
      "       0.00735532, 0.03260659, 0.04080298, 0.01547928, 0.01882708,\n",
      "       0.00845899, 0.01233449, 0.01612069, 0.0155111 , 0.00917411,\n",
      "       0.01998768, 0.01779475, 0.01292154, 0.02014937, 0.01135571,\n",
      "       0.01413487, 0.01431495, 0.00654722, 0.00591671, 0.00361532,\n",
      "       0.02698869, 0.00934035, 0.03572961, 0.01315521, 0.02452999,\n",
      "       0.0513496 , 0.0271204 , 0.0156676 , 0.00616309, 0.01396325,\n",
      "       0.01363344, 0.01665851, 0.0087111 , 0.01296771, 0.0187729 ,\n",
      "       0.01411853, 0.02260367, 0.03678778, 0.01616641, 0.01182948,\n",
      "       0.01749245, 0.00689991, 0.02124135, 0.03113544, 0.01244167,\n",
      "       0.00419925, 0.00780575, 0.00681284, 0.01619333]), 'param_C': masked_array(data=[0.1, 0.1, 0.1, 0.1, 0.1, 0.1, 0.1, 0.1, 0.1, 1, 1, 1,\n",
      "                   1, 1, 1, 1, 1, 1, 10, 10, 10, 10, 10, 10, 10, 10, 10,\n",
      "                   0.1, 0.1, 0.1, 0.1, 0.1, 0.1, 0.1, 0.1, 0.1, 1, 1, 1,\n",
      "                   1, 1, 1, 1, 1, 1, 10, 10, 10, 10, 10, 10, 10, 10, 10],\n",
      "             mask=[False, False, False, False, False, False, False, False,\n",
      "                   False, False, False, False, False, False, False, False,\n",
      "                   False, False, False, False, False, False, False, False,\n",
      "                   False, False, False, False, False, False, False, False,\n",
      "                   False, False, False, False, False, False, False, False,\n",
      "                   False, False, False, False, False, False, False, False,\n",
      "                   False, False, False, False, False, False],\n",
      "       fill_value='?',\n",
      "            dtype=object), 'param_kernel': masked_array(data=['rbf', 'rbf', 'rbf', 'linear', 'linear', 'linear',\n",
      "                   'sigmoid', 'sigmoid', 'sigmoid', 'rbf', 'rbf', 'rbf',\n",
      "                   'linear', 'linear', 'linear', 'sigmoid', 'sigmoid',\n",
      "                   'sigmoid', 'rbf', 'rbf', 'rbf', 'linear', 'linear',\n",
      "                   'linear', 'sigmoid', 'sigmoid', 'sigmoid', 'poly',\n",
      "                   'poly', 'poly', 'poly', 'poly', 'poly', 'poly', 'poly',\n",
      "                   'poly', 'poly', 'poly', 'poly', 'poly', 'poly', 'poly',\n",
      "                   'poly', 'poly', 'poly', 'poly', 'poly', 'poly', 'poly',\n",
      "                   'poly', 'poly', 'poly', 'poly', 'poly'],\n",
      "             mask=[False, False, False, False, False, False, False, False,\n",
      "                   False, False, False, False, False, False, False, False,\n",
      "                   False, False, False, False, False, False, False, False,\n",
      "                   False, False, False, False, False, False, False, False,\n",
      "                   False, False, False, False, False, False, False, False,\n",
      "                   False, False, False, False, False, False, False, False,\n",
      "                   False, False, False, False, False, False],\n",
      "       fill_value='?',\n",
      "            dtype=object), 'param_tol': masked_array(data=[0.01, 0.001, 0.0001, 0.01, 0.001, 0.0001, 0.01, 0.001,\n",
      "                   0.0001, 0.01, 0.001, 0.0001, 0.01, 0.001, 0.0001, 0.01,\n",
      "                   0.001, 0.0001, 0.01, 0.001, 0.0001, 0.01, 0.001,\n",
      "                   0.0001, 0.01, 0.001, 0.0001, 0.01, 0.001, 0.0001, 0.01,\n",
      "                   0.001, 0.0001, 0.01, 0.001, 0.0001, 0.01, 0.001,\n",
      "                   0.0001, 0.01, 0.001, 0.0001, 0.01, 0.001, 0.0001, 0.01,\n",
      "                   0.001, 0.0001, 0.01, 0.001, 0.0001, 0.01, 0.001,\n",
      "                   0.0001],\n",
      "             mask=[False, False, False, False, False, False, False, False,\n",
      "                   False, False, False, False, False, False, False, False,\n",
      "                   False, False, False, False, False, False, False, False,\n",
      "                   False, False, False, False, False, False, False, False,\n",
      "                   False, False, False, False, False, False, False, False,\n",
      "                   False, False, False, False, False, False, False, False,\n",
      "                   False, False, False, False, False, False],\n",
      "       fill_value='?',\n",
      "            dtype=object), 'param_degree': masked_array(data=[--, --, --, --, --, --, --, --, --, --, --, --, --, --,\n",
      "                   --, --, --, --, --, --, --, --, --, --, --, --, --, 2,\n",
      "                   2, 2, 3, 3, 3, 4, 4, 4, 2, 2, 2, 3, 3, 3, 4, 4, 4, 2,\n",
      "                   2, 2, 3, 3, 3, 4, 4, 4],\n",
      "             mask=[ True,  True,  True,  True,  True,  True,  True,  True,\n",
      "                    True,  True,  True,  True,  True,  True,  True,  True,\n",
      "                    True,  True,  True,  True,  True,  True,  True,  True,\n",
      "                    True,  True,  True, False, False, False, False, False,\n",
      "                   False, False, False, False, False, False, False, False,\n",
      "                   False, False, False, False, False, False, False, False,\n",
      "                   False, False, False, False, False, False],\n",
      "       fill_value='?',\n",
      "            dtype=object), 'params': [{'C': 0.1, 'kernel': 'rbf', 'tol': 0.01}, {'C': 0.1, 'kernel': 'rbf', 'tol': 0.001}, {'C': 0.1, 'kernel': 'rbf', 'tol': 0.0001}, {'C': 0.1, 'kernel': 'linear', 'tol': 0.01}, {'C': 0.1, 'kernel': 'linear', 'tol': 0.001}, {'C': 0.1, 'kernel': 'linear', 'tol': 0.0001}, {'C': 0.1, 'kernel': 'sigmoid', 'tol': 0.01}, {'C': 0.1, 'kernel': 'sigmoid', 'tol': 0.001}, {'C': 0.1, 'kernel': 'sigmoid', 'tol': 0.0001}, {'C': 1, 'kernel': 'rbf', 'tol': 0.01}, {'C': 1, 'kernel': 'rbf', 'tol': 0.001}, {'C': 1, 'kernel': 'rbf', 'tol': 0.0001}, {'C': 1, 'kernel': 'linear', 'tol': 0.01}, {'C': 1, 'kernel': 'linear', 'tol': 0.001}, {'C': 1, 'kernel': 'linear', 'tol': 0.0001}, {'C': 1, 'kernel': 'sigmoid', 'tol': 0.01}, {'C': 1, 'kernel': 'sigmoid', 'tol': 0.001}, {'C': 1, 'kernel': 'sigmoid', 'tol': 0.0001}, {'C': 10, 'kernel': 'rbf', 'tol': 0.01}, {'C': 10, 'kernel': 'rbf', 'tol': 0.001}, {'C': 10, 'kernel': 'rbf', 'tol': 0.0001}, {'C': 10, 'kernel': 'linear', 'tol': 0.01}, {'C': 10, 'kernel': 'linear', 'tol': 0.001}, {'C': 10, 'kernel': 'linear', 'tol': 0.0001}, {'C': 10, 'kernel': 'sigmoid', 'tol': 0.01}, {'C': 10, 'kernel': 'sigmoid', 'tol': 0.001}, {'C': 10, 'kernel': 'sigmoid', 'tol': 0.0001}, {'C': 0.1, 'degree': 2, 'kernel': 'poly', 'tol': 0.01}, {'C': 0.1, 'degree': 2, 'kernel': 'poly', 'tol': 0.001}, {'C': 0.1, 'degree': 2, 'kernel': 'poly', 'tol': 0.0001}, {'C': 0.1, 'degree': 3, 'kernel': 'poly', 'tol': 0.01}, {'C': 0.1, 'degree': 3, 'kernel': 'poly', 'tol': 0.001}, {'C': 0.1, 'degree': 3, 'kernel': 'poly', 'tol': 0.0001}, {'C': 0.1, 'degree': 4, 'kernel': 'poly', 'tol': 0.01}, {'C': 0.1, 'degree': 4, 'kernel': 'poly', 'tol': 0.001}, {'C': 0.1, 'degree': 4, 'kernel': 'poly', 'tol': 0.0001}, {'C': 1, 'degree': 2, 'kernel': 'poly', 'tol': 0.01}, {'C': 1, 'degree': 2, 'kernel': 'poly', 'tol': 0.001}, {'C': 1, 'degree': 2, 'kernel': 'poly', 'tol': 0.0001}, {'C': 1, 'degree': 3, 'kernel': 'poly', 'tol': 0.01}, {'C': 1, 'degree': 3, 'kernel': 'poly', 'tol': 0.001}, {'C': 1, 'degree': 3, 'kernel': 'poly', 'tol': 0.0001}, {'C': 1, 'degree': 4, 'kernel': 'poly', 'tol': 0.01}, {'C': 1, 'degree': 4, 'kernel': 'poly', 'tol': 0.001}, {'C': 1, 'degree': 4, 'kernel': 'poly', 'tol': 0.0001}, {'C': 10, 'degree': 2, 'kernel': 'poly', 'tol': 0.01}, {'C': 10, 'degree': 2, 'kernel': 'poly', 'tol': 0.001}, {'C': 10, 'degree': 2, 'kernel': 'poly', 'tol': 0.0001}, {'C': 10, 'degree': 3, 'kernel': 'poly', 'tol': 0.01}, {'C': 10, 'degree': 3, 'kernel': 'poly', 'tol': 0.001}, {'C': 10, 'degree': 3, 'kernel': 'poly', 'tol': 0.0001}, {'C': 10, 'degree': 4, 'kernel': 'poly', 'tol': 0.01}, {'C': 10, 'degree': 4, 'kernel': 'poly', 'tol': 0.001}, {'C': 10, 'degree': 4, 'kernel': 'poly', 'tol': 0.0001}], 'split0_test_score': array([0.59934319, 0.59934319, 0.59934319, 0.72331691, 0.72331691,\n",
      "       0.72249589, 0.7183908 , 0.71756979, 0.71756979, 0.80623974,\n",
      "       0.80623974, 0.80623974, 0.80049261, 0.80049261, 0.80049261,\n",
      "       0.79802956, 0.79885057, 0.79885057, 0.80541872, 0.80541872,\n",
      "       0.80541872, 0.76026273, 0.76108374, 0.76108374, 0.76436782,\n",
      "       0.76108374, 0.76600985, 0.59688013, 0.59688013, 0.59688013,\n",
      "       0.58702791, 0.58702791, 0.58702791, 0.5862069 , 0.5862069 ,\n",
      "       0.5862069 , 0.78899836, 0.78899836, 0.78899836, 0.70114943,\n",
      "       0.70114943, 0.70114943, 0.67077176, 0.67077176, 0.67077176,\n",
      "       0.78899836, 0.78899836, 0.78899836, 0.71510673, 0.71510673,\n",
      "       0.71510673, 0.67816092, 0.67816092, 0.67816092]), 'split1_test_score': array([0.61001642, 0.61001642, 0.61001642, 0.74876847, 0.74876847,\n",
      "       0.74876847, 0.7454844 , 0.7454844 , 0.7454844 , 0.80377668,\n",
      "       0.80377668, 0.80377668, 0.80952381, 0.81034483, 0.81034483,\n",
      "       0.80541872, 0.80706076, 0.80706076, 0.79802956, 0.79802956,\n",
      "       0.79802956, 0.74137931, 0.74055829, 0.74055829, 0.74712644,\n",
      "       0.74384236, 0.74958949, 0.60344828, 0.60344828, 0.60344828,\n",
      "       0.59031199, 0.59031199, 0.59031199, 0.58456486, 0.58456486,\n",
      "       0.58456486, 0.78817734, 0.78817734, 0.78817734, 0.70853859,\n",
      "       0.70935961, 0.70935961, 0.67980296, 0.67980296, 0.67980296,\n",
      "       0.78899836, 0.78899836, 0.78899836, 0.72495895, 0.72495895,\n",
      "       0.72495895, 0.69047619, 0.69047619, 0.69047619]), 'split2_test_score': array([0.6091954 , 0.6091954 , 0.6091954 , 0.73399015, 0.73399015,\n",
      "       0.73399015, 0.727422  , 0.727422  , 0.727422  , 0.81937603,\n",
      "       0.81937603, 0.81937603, 0.80131363, 0.80131363, 0.80131363,\n",
      "       0.80295567, 0.80295567, 0.80295567, 0.80623974, 0.80623974,\n",
      "       0.80623974, 0.75123153, 0.75205255, 0.75205255, 0.75779967,\n",
      "       0.75123153, 0.75369458, 0.60509031, 0.60509031, 0.60509031,\n",
      "       0.59770115, 0.59770115, 0.59770115, 0.5952381 , 0.5952381 ,\n",
      "       0.5952381 , 0.78899836, 0.78899836, 0.78899836, 0.70361248,\n",
      "       0.70361248, 0.70361248, 0.68555008, 0.68555008, 0.68555008,\n",
      "       0.79638752, 0.79638752, 0.79638752, 0.71674877, 0.71674877,\n",
      "       0.71674877, 0.69211823, 0.69211823, 0.69211823]), 'split3_test_score': array([0.59605911, 0.59605911, 0.59605911, 0.72988506, 0.72988506,\n",
      "       0.72988506, 0.73234811, 0.73152709, 0.73152709, 0.78571429,\n",
      "       0.78571429, 0.78571429, 0.7816092 , 0.7816092 , 0.7816092 ,\n",
      "       0.78489327, 0.78407225, 0.78407225, 0.76847291, 0.76847291,\n",
      "       0.76847291, 0.73973727, 0.73973727, 0.73973727, 0.74630542,\n",
      "       0.74630542, 0.74630542, 0.59277504, 0.59277504, 0.59277504,\n",
      "       0.58374384, 0.58374384, 0.58374384, 0.58045977, 0.58045977,\n",
      "       0.58045977, 0.77504105, 0.77586207, 0.77586207, 0.69129721,\n",
      "       0.69129721, 0.69129721, 0.66584565, 0.66584565, 0.66584565,\n",
      "       0.76929392, 0.76929392, 0.76929392, 0.70361248, 0.70361248,\n",
      "       0.70361248, 0.66666667, 0.66666667, 0.66666667]), 'split4_test_score': array([0.61658456, 0.61658456, 0.61658456, 0.73973727, 0.74055829,\n",
      "       0.74055829, 0.7364532 , 0.73563218, 0.7364532 , 0.78981938,\n",
      "       0.78981938, 0.78981938, 0.79064039, 0.78981938, 0.78981938,\n",
      "       0.79064039, 0.79228243, 0.79228243, 0.79064039, 0.78981938,\n",
      "       0.78981938, 0.74876847, 0.74876847, 0.74876847, 0.74466338,\n",
      "       0.74466338, 0.74876847, 0.60673235, 0.60673235, 0.60673235,\n",
      "       0.59441708, 0.59441708, 0.59441708, 0.59031199, 0.59031199,\n",
      "       0.59031199, 0.77832512, 0.77832512, 0.77832512, 0.71674877,\n",
      "       0.71674877, 0.71674877, 0.69211823, 0.69293924, 0.69293924,\n",
      "       0.78325123, 0.78325123, 0.78243021, 0.72167488, 0.72249589,\n",
      "       0.72249589, 0.70032841, 0.70032841, 0.70032841]), 'mean_test_score': array([0.60623974, 0.60623974, 0.60623974, 0.73513957, 0.73530378,\n",
      "       0.73513957, 0.7320197 , 0.73152709, 0.7316913 , 0.80098522,\n",
      "       0.80098522, 0.80098522, 0.79671593, 0.79671593, 0.79671593,\n",
      "       0.79638752, 0.79704433, 0.79704433, 0.79376026, 0.79359606,\n",
      "       0.79359606, 0.74827586, 0.74844007, 0.74844007, 0.75205255,\n",
      "       0.74942529, 0.75287356, 0.60098522, 0.60098522, 0.60098522,\n",
      "       0.59064039, 0.59064039, 0.59064039, 0.58735632, 0.58735632,\n",
      "       0.58735632, 0.78390805, 0.78407225, 0.78407225, 0.70426929,\n",
      "       0.7044335 , 0.7044335 , 0.67881773, 0.67898194, 0.67898194,\n",
      "       0.78538588, 0.78538588, 0.78522167, 0.71642036, 0.71658456,\n",
      "       0.71658456, 0.68555008, 0.68555008, 0.68555008]), 'std_test_score': array([0.00749963, 0.00749963, 0.00749963, 0.00866709, 0.00875992,\n",
      "       0.0089878 , 0.00903269, 0.00920126, 0.00928005, 0.01209547,\n",
      "       0.01209547, 0.01209547, 0.00963919, 0.0099692 , 0.0099692 ,\n",
      "       0.00764914, 0.00811771, 0.00811771, 0.01384968, 0.0138905 ,\n",
      "       0.0138905 , 0.00739099, 0.00788519, 0.00788519, 0.00770183,\n",
      "       0.00636805, 0.00698589, 0.00529541, 0.00529541, 0.00529541,\n",
      "       0.00499676, 0.00499676, 0.00499676, 0.00505043, 0.00505043,\n",
      "       0.00505043, 0.00599737, 0.00575884, 0.00575884, 0.00839529,\n",
      "       0.00848474, 0.00848474, 0.00955208, 0.00978356, 0.00978356,\n",
      "       0.00906249, 0.00906249, 0.00910701, 0.00729922, 0.00742375,\n",
      "       0.00742375, 0.01180669, 0.01180669, 0.01180669]), 'rank_test_score': array([43, 43, 43, 27, 25, 26, 28, 30, 29,  1,  1,  1,  8,  6,  6,  9,  4,\n",
      "        4, 10, 11, 11, 24, 22, 22, 20, 21, 19, 46, 46, 46, 49, 49, 49, 52,\n",
      "       52, 52, 18, 16, 16, 36, 34, 34, 42, 40, 40, 13, 13, 15, 33, 31, 31,\n",
      "       37, 37, 37])}\n",
      "\n",
      "SVC(C=1, tol=0.01)\n",
      "\n",
      "0.8009852216748768\n",
      "\n",
      "{'C': 1, 'kernel': 'rbf', 'tol': 0.01}\n"
     ]
    }
   ],
   "source": [
    "from sklearn.model_selection import GridSearchCV\n",
    "\n",
    "params = [\n",
    "    {\n",
    "        'C':[0.1, 1, 10],\n",
    "        'kernel' : ['rbf', 'linear', 'sigmoid'],\n",
    "        'tol': [0.01, 0.001, 0.0001]\n",
    "    },\n",
    "    {\n",
    "        'C':[0.1, 1, 10],\n",
    "        'kernel' : ['poly'],\n",
    "        'degree': [2, 3, 4],\n",
    "        'tol': [0.01, 0.001, 0.0001]\n",
    "    }\n",
    " ]\n",
    "\n",
    "svc = SVC()\n",
    "clf = GridSearchCV(svc, params)\n",
    "clf.fit(X_train_vec, y_train)\n",
    "print(sorted(clf.cv_results_.keys()))\n",
    "print()\n",
    "print(clf.cv_results_)\n",
    "print()\n",
    "print(clf.best_estimator_)\n",
    "print()\n",
    "print(clf.best_score_)\n",
    "print()\n",
    "print(clf.best_params_)"
   ],
   "metadata": {
    "collapsed": false,
    "pycharm": {
     "name": "#%%\n"
    }
   }
  },
  {
   "cell_type": "markdown",
   "source": [
    "## Cross validation"
   ],
   "metadata": {
    "collapsed": false
   }
  },
  {
   "cell_type": "code",
   "execution_count": 205,
   "outputs": [
    {
     "name": "stdout",
     "output_type": "stream",
     "text": [
      "TRAIN: 5709 TEST: 1904\n",
      "CV ACCURACY: 0.954983359607637\n",
      "\n",
      "\n",
      "TRAIN: 5710 TEST: 1903\n",
      "CV ACCURACY: 0.9558669001751313\n",
      "\n",
      "\n",
      "TRAIN: 5710 TEST: 1903\n",
      "CV ACCURACY: 0.9574430823117338\n",
      "\n",
      "\n",
      "TRAIN: 5710 TEST: 1903\n",
      "CV ACCURACY: 0.9523642732049037\n",
      "\n",
      "\n",
      "[[3797  545]\n",
      " [1502 1769]]\n",
      "Normalized confusion matrix\n"
     ]
    },
    {
     "data": {
      "text/plain": "<Figure size 432x288 with 2 Axes>",
      "image/png": "[encoded data removed]"
     },
     "metadata": {
      "needs_background": "light"
     },
     "output_type": "display_data"
    }
   ],
   "source": [
    "X_cv = train_df['text_preproc']\n",
    "y_cv = train_df['target']\n",
    "\n",
    "CONF_MATRIXES = []\n",
    "\n",
    "skf = StratifiedKFold(n_splits=4)\n",
    "for train_idx, test_idx in skf.split(X_cv, y_cv):\n",
    "    print('TRAIN:', len(train_idx), 'TEST:', len(test_idx))\n",
    "    X_train_cv, X_test_cv = X_cv[train_idx], X_cv[test_idx]\n",
    "    y_train_cv, y_test_cv = y_cv[train_idx], y_cv[test_idx]\n",
    "\n",
    "    vec_cv = TfidfVectorizer(min_df=VECT_MIN, max_df=VECT_MAX)\n",
    "    X_train_vec_cv = vec_cv.fit_transform(X_train_cv)\n",
    "    X_test_vec_cv = vec_cv.transform(X_test_cv)\n",
    "\n",
    "    svc_cv = SVC(tol=0.01)\n",
    "    svc_cv.fit(X_train_vec_cv, y_train_cv)\n",
    "    accuracy_cv = svc_cv.score(X_train_vec_cv, y_train_cv)\n",
    "\n",
    "    print(f'CV ACCURACY: {accuracy_cv}')\n",
    "    y_pred_cv = svc_cv.predict(X_test_vec_cv)\n",
    "    cm = confusion_matrix(y_test_cv, y_pred_cv)\n",
    "    CONF_MATRIXES.append(cm)\n",
    "    print('\\n')\n",
    "\n",
    "# overall results\n",
    "cm = np.array(CONF_MATRIXES).sum(axis=0)\n",
    "plot_confusion_matrix(cm, [0, 1])"
   ],
   "metadata": {
    "collapsed": false,
    "pycharm": {
     "name": "#%%\n"
    }
   }
  },
  {
   "cell_type": "markdown",
   "source": [
    "## Final model training"
   ],
   "metadata": {
    "collapsed": false,
    "pycharm": {
     "name": "#%% md\n"
    }
   }
  },
  {
   "cell_type": "code",
   "execution_count": 206,
   "outputs": [
    {
     "name": "stdout",
     "output_type": "stream",
     "text": [
      "0.9516616314199395\n",
      "[[4281   61]\n",
      " [ 307 2964]]\n",
      "Normalized confusion matrix\n",
      "              precision    recall  f1-score   support\n",
      "\n",
      "           0       0.93      0.99      0.96      4342\n",
      "           1       0.98      0.91      0.94      3271\n",
      "\n",
      "    accuracy                           0.95      7613\n",
      "   macro avg       0.96      0.95      0.95      7613\n",
      "weighted avg       0.95      0.95      0.95      7613\n",
      "\n"
     ]
    },
    {
     "data": {
      "text/plain": "<Figure size 432x288 with 2 Axes>",
      "image/png": "[encoded data removed]"
     },
     "metadata": {
      "needs_background": "light"
     },
     "output_type": "display_data"
    }
   ],
   "source": [
    "vec = TfidfVectorizer(min_df=VECT_MIN, max_df=VECT_MAX)\n",
    "X_vec = vec.fit_transform(X)\n",
    "\n",
    "svc = SVC(tol=0.01)\n",
    "svc.fit(X_vec, y)\n",
    "print(svc.score(X_vec, y))\n",
    "\n",
    "y_pred = svc.predict(X_vec)\n",
    "\n",
    "cm = confusion_matrix(y, svc.predict(X_vec))\n",
    "plot_confusion_matrix(cm, [0, 1])\n",
    "\n",
    "print(classification_report(y, y_pred))"
   ],
   "metadata": {
    "collapsed": false,
    "pycharm": {
     "name": "#%%\n"
    }
   }
  },
  {
   "cell_type": "code",
   "execution_count": 207,
   "outputs": [
    {
     "data": {
      "text/plain": "   id keyword location                                               text\n0   0     NaN      NaN                 Just happened a terrible car crash\n1   2     NaN      NaN  Heard about #earthquake is different cities, s...\n2   3     NaN      NaN  there is a forest fire at spot pond, geese are...",
      "text/html": "<div>\n<style scoped>\n    .dataframe tbody tr th:only-of-type {\n        vertical-align: middle;\n    }\n\n    .dataframe tbody tr th {\n        vertical-align: top;\n    }\n\n    .dataframe thead th {\n        text-align: right;\n    }\n</style>\n<table border=\"1\" class=\"dataframe\">\n  <thead>\n    <tr style=\"text-align: right;\">\n      <th></th>\n      <th>id</th>\n      <th>keyword</th>\n      <th>location</th>\n      <th>text</th>\n    </tr>\n  </thead>\n  <tbody>\n    <tr>\n      <th>0</th>\n      <td>0</td>\n      <td>NaN</td>\n      <td>NaN</td>\n      <td>Just happened a terrible car crash</td>\n    </tr>\n    <tr>\n      <th>1</th>\n      <td>2</td>\n      <td>NaN</td>\n      <td>NaN</td>\n      <td>Heard about #earthquake is different cities, s...</td>\n    </tr>\n    <tr>\n      <th>2</th>\n      <td>3</td>\n      <td>NaN</td>\n      <td>NaN</td>\n      <td>there is a forest fire at spot pond, geese are...</td>\n    </tr>\n  </tbody>\n</table>\n</div>"
     },
     "execution_count": 207,
     "metadata": {},
     "output_type": "execute_result"
    }
   ],
   "source": [
    "test_df[:3]"
   ],
   "metadata": {
    "collapsed": false,
    "pycharm": {
     "name": "#%%\n"
    }
   }
  },
  {
   "cell_type": "code",
   "execution_count": 208,
   "outputs": [
    {
     "data": {
      "text/plain": "0                      just happened a terrible car crash\n1       heard about earthquake is different cities sta...\n2       there is a forest fire at spot pond geese are ...\n3                   apocalypse lighting spokane wildfires\n4             typhoon soudelor kills  in china and taiwan\n                              ...                        \n3258    earthquake safety los angeles ûò safety faste...\n3259    storm in ri worse than last hurricane my citya...\n3260    green line derailment in chicago httptcoutbxlc...\n3261    meg issues hazardous weather outlook hwo httpt...\n3262    cityofcalgary has activated its municipal emer...\nName: text_preproc, Length: 3263, dtype: object"
     },
     "execution_count": 208,
     "metadata": {},
     "output_type": "execute_result"
    }
   ],
   "source": [
    "test_df['text_preproc'] = test_df['text'].apply(_preprocessing)\n",
    "X_out = test_df['text_preproc']\n",
    "X_out"
   ],
   "metadata": {
    "collapsed": false,
    "pycharm": {
     "name": "#%%\n"
    }
   }
  },
  {
   "cell_type": "code",
   "execution_count": 209,
   "outputs": [
    {
     "data": {
      "text/plain": "<3263x6416 sparse matrix of type '<class 'numpy.float64'>'\n\twith 34983 stored elements in Compressed Sparse Row format>"
     },
     "execution_count": 209,
     "metadata": {},
     "output_type": "execute_result"
    }
   ],
   "source": [
    "X_out_vec = vec.transform(X_out)\n",
    "X_out_vec"
   ],
   "metadata": {
    "collapsed": false,
    "pycharm": {
     "name": "#%%\n"
    }
   }
  },
  {
   "cell_type": "code",
   "execution_count": 210,
   "outputs": [
    {
     "data": {
      "text/plain": "array([1, 0, 1, ..., 1, 1, 0], dtype=int64)"
     },
     "execution_count": 210,
     "metadata": {},
     "output_type": "execute_result"
    }
   ],
   "source": [
    "y_out_pred = svc.predict(X_out_vec)\n",
    "y_out_pred"
   ],
   "metadata": {
    "collapsed": false,
    "pycharm": {
     "name": "#%%\n"
    }
   }
  },
  {
   "cell_type": "code",
   "execution_count": 211,
   "outputs": [],
   "source": [
    "file = pd.DataFrame({\n",
    "   'id': test_df['id'],\n",
    "   'target': y_out_pred\n",
    "})\n",
    "\n",
    "file.to_csv('disaster-tweets-svm-tfidf.csv', index=False)"
   ],
   "metadata": {
    "collapsed": false,
    "pycharm": {
     "name": "#%%\n"
    }
   }
  }
 ],
 "metadata": {
  "kernelspec": {
   "display_name": "Python 3",
   "language": "python",
   "name": "python3"
  },
  "language_info": {
   "codemirror_mode": {
    "name": "ipython",
    "version": 2
   },
   "file_extension": ".py",
   "mimetype": "text/x-python",
   "name": "python",
   "nbconvert_exporter": "python",
   "pygments_lexer": "ipython2",
   "version": "2.7.6"
  }
 },
 "nbformat": 4,
 "nbformat_minor": 0
}
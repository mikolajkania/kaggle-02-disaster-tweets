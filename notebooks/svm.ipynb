{
 "cells": [
  {
   "cell_type": "markdown",
   "source": [
    "## SVM\n",
    "\n",
    "Default LinearSVC achieve worse results than logistic regression. SVC, on the other hand, works good for negative class (0.91) and much worse for positive (0.47), based on averaged cross validation.\n",
    "\n",
    "Replacing CountVectorizer with TfIdfVectorizer improved averaged CV (0.86 / 0.55). From EDA (TruncatedSGD) it can be seen that it helps to distinguish the targets. Accuracy went up.\n",
    "\n",
    "Lemmatization didn't help."
   ],
   "metadata": {
    "collapsed": false,
    "pycharm": {
     "name": "#%% md\n"
    }
   }
  },
  {
   "cell_type": "code",
   "execution_count": 20,
   "metadata": {
    "collapsed": true
   },
   "outputs": [
    {
     "name": "stdout",
     "output_type": "stream",
     "text": [
      "The autoreload extension is already loaded. To reload it, use:\n",
      "  %reload_ext autoreload\n"
     ]
    }
   ],
   "source": [
    "%load_ext autoreload\n",
    "%autoreload 2\n",
    "\n",
    "import re\n",
    "import itertools\n",
    "import spacy\n",
    "\n",
    "import pandas as pd\n",
    "import numpy as np\n",
    "import matplotlib.pyplot as plt\n",
    "\n",
    "from sklearn.feature_extraction.text import CountVectorizer, TfidfVectorizer\n",
    "from sklearn.svm import SVC\n",
    "from sklearn.model_selection import train_test_split\n",
    "from sklearn.metrics import confusion_matrix, classification_report\n",
    "from sklearn.model_selection import StratifiedKFold"
   ]
  },
  {
   "cell_type": "markdown",
   "source": [
    "## Loading data"
   ],
   "metadata": {
    "collapsed": false,
    "pycharm": {
     "name": "#%% md\n"
    }
   }
  },
  {
   "cell_type": "code",
   "execution_count": 21,
   "outputs": [
    {
     "data": {
      "text/plain": "   id keyword location                                               text  \\\n0   1     NaN      NaN  Our Deeds are the Reason of this #earthquake M...   \n1   4     NaN      NaN             Forest fire near La Ronge Sask. Canada   \n2   5     NaN      NaN  All residents asked to 'shelter in place' are ...   \n\n   target  \n0       1  \n1       1  \n2       1  ",
      "text/html": "<div>\n<style scoped>\n    .dataframe tbody tr th:only-of-type {\n        vertical-align: middle;\n    }\n\n    .dataframe tbody tr th {\n        vertical-align: top;\n    }\n\n    .dataframe thead th {\n        text-align: right;\n    }\n</style>\n<table border=\"1\" class=\"dataframe\">\n  <thead>\n    <tr style=\"text-align: right;\">\n      <th></th>\n      <th>id</th>\n      <th>keyword</th>\n      <th>location</th>\n      <th>text</th>\n      <th>target</th>\n    </tr>\n  </thead>\n  <tbody>\n    <tr>\n      <th>0</th>\n      <td>1</td>\n      <td>NaN</td>\n      <td>NaN</td>\n      <td>Our Deeds are the Reason of this #earthquake M...</td>\n      <td>1</td>\n    </tr>\n    <tr>\n      <th>1</th>\n      <td>4</td>\n      <td>NaN</td>\n      <td>NaN</td>\n      <td>Forest fire near La Ronge Sask. Canada</td>\n      <td>1</td>\n    </tr>\n    <tr>\n      <th>2</th>\n      <td>5</td>\n      <td>NaN</td>\n      <td>NaN</td>\n      <td>All residents asked to 'shelter in place' are ...</td>\n      <td>1</td>\n    </tr>\n  </tbody>\n</table>\n</div>"
     },
     "execution_count": 21,
     "metadata": {},
     "output_type": "execute_result"
    }
   ],
   "source": [
    "train_df = pd.read_csv('../data/train.csv', encoding='utf-8', warn_bad_lines=True, error_bad_lines=False)\n",
    "test_df = pd.read_csv('../data/test.csv', encoding='utf-8', warn_bad_lines=True, error_bad_lines=False)\n",
    "\n",
    "train_df[:3]"
   ],
   "metadata": {
    "collapsed": false,
    "pycharm": {
     "name": "#%%\n"
    }
   }
  },
  {
   "cell_type": "markdown",
   "source": [
    "## Preprocessing"
   ],
   "metadata": {
    "collapsed": false,
    "pycharm": {
     "name": "#%% md\n"
    }
   }
  },
  {
   "cell_type": "code",
   "execution_count": 22,
   "outputs": [
    {
     "data": {
      "text/plain": "0       our deeds are the reason of this earthquake ma...\n1                   forest fire near la ronge sask canada\n2       all residents asked to shelter in place are be...\n3        people receive wildfires evacuation orders in...\n4       just got sent this photo from ruby alaska as s...\n                              ...                        \n7608    two giant cranes holding a bridge collapse int...\n7609    ariaahrary thetawniest the out of control wild...\n7610        m  utckm s of volcano hawaii httptcozdtoydebj\n7611    police investigating after an ebike collided w...\n7612    the latest more homes razed by northern califo...\nName: text_preproc, Length: 7613, dtype: object"
     },
     "execution_count": 22,
     "metadata": {},
     "output_type": "execute_result"
    }
   ],
   "source": [
    "EXTENDED_STRIP_REGEX = r'[!\"#$%&()\\*\\+,-\\./:;„”<=>?@\\[\\\\\\]^_`{|}~\\']'\n",
    "REMOVE_NUMERICAL = r'[0-9]'\n",
    "\n",
    "def _preprocessing(txt: str) -> str:\n",
    "    txt = txt.lower()\n",
    "    txt = re.sub(EXTENDED_STRIP_REGEX, '', txt)\n",
    "    txt = re.sub(REMOVE_NUMERICAL, '', txt)\n",
    "    return txt\n",
    "\n",
    "train_df['text_preproc'] = train_df['text'].apply(_preprocessing)\n",
    "\n",
    "nlp = spacy.load('en_core_web_sm')\n",
    "\n",
    "# disable not used parts of pipeline\n",
    "def _lemma(txt: str) -> str:\n",
    "    return ' '.join([d.lemma_ for d in nlp(txt)])\n",
    "\n",
    "# train_df['text_preproc'] = train_df['text_preproc'].apply(_lemma)\n",
    "train_df['text_preproc']"
   ],
   "metadata": {
    "collapsed": false,
    "pycharm": {
     "name": "#%%\n"
    }
   }
  },
  {
   "cell_type": "markdown",
   "source": [
    "## Data split"
   ],
   "metadata": {
    "collapsed": false,
    "pycharm": {
     "name": "#%% md\n"
    }
   }
  },
  {
   "cell_type": "code",
   "execution_count": 23,
   "outputs": [
    {
     "data": {
      "text/plain": "0    our deeds are the reason of this earthquake ma...\n1                forest fire near la ronge sask canada\n2    all residents asked to shelter in place are be...\nName: text_preproc, dtype: object"
     },
     "execution_count": 23,
     "metadata": {},
     "output_type": "execute_result"
    }
   ],
   "source": [
    "X = train_df['text_preproc']\n",
    "y = train_df['target']\n",
    "\n",
    "X[:3]"
   ],
   "metadata": {
    "collapsed": false,
    "pycharm": {
     "name": "#%%\n"
    }
   }
  },
  {
   "cell_type": "code",
   "execution_count": 24,
   "outputs": [
    {
     "data": {
      "text/plain": "4996    courageous and honest analysis of need to use ...\n3263    zachzaidman thescore wld b a shame if that gol...\n4907    tell barackobama to rescind medals of honor gi...\nName: text_preproc, dtype: object"
     },
     "execution_count": 24,
     "metadata": {},
     "output_type": "execute_result"
    }
   ],
   "source": [
    "X_train, X_test, y_train, y_test = train_test_split(X, y, test_size=0.2, random_state=42)\n",
    "\n",
    "X_train[:3]"
   ],
   "metadata": {
    "collapsed": false,
    "pycharm": {
     "name": "#%%\n"
    }
   }
  },
  {
   "cell_type": "markdown",
   "source": [
    "### Parameter center"
   ],
   "metadata": {
    "collapsed": false,
    "pycharm": {
     "name": "#%% md\n"
    }
   }
  },
  {
   "cell_type": "code",
   "execution_count": 25,
   "outputs": [],
   "source": [
    "VECT_MIN=2\n",
    "VECT_MAX=0.4"
   ],
   "metadata": {
    "collapsed": false,
    "pycharm": {
     "name": "#%%\n"
    }
   }
  },
  {
   "cell_type": "markdown",
   "source": [
    "## Vectorization"
   ],
   "metadata": {
    "collapsed": false,
    "pycharm": {
     "name": "#%% md\n"
    }
   }
  },
  {
   "cell_type": "code",
   "execution_count": 26,
   "outputs": [
    {
     "data": {
      "text/plain": "['i', 'me', 'my']"
     },
     "execution_count": 26,
     "metadata": {},
     "output_type": "execute_result"
    }
   ],
   "source": [
    "with open('../resources/stopwords_en.txt', encoding='utf-8') as f:\n",
    "    stopwords = [line.rstrip() for line in f]\n",
    "\n",
    "stopwords[:3]"
   ],
   "metadata": {
    "collapsed": false,
    "pycharm": {
     "name": "#%%\n"
    }
   }
  },
  {
   "cell_type": "code",
   "execution_count": 27,
   "outputs": [
    {
     "name": "stdout",
     "output_type": "stream",
     "text": [
      "['aa', 'aba', 'abandon', 'abandoned', 'abbott', 'abbswinston', 'abc', 'abcnews', 'ability', 'ablaze', 'able', 'abomb', 'abomination', 'abortion', 'about', 'above', 'absolute', 'absolutely', 'abstorm', 'abuse', 'abused', 'abusing', 'ac', 'access', 'accident', 'accidentally', 'accidents', 'accionempresa', 'according', 'account', 'accounts', 'accused', 'accuses', 'accustomed', 'acdelco', 'achimota', 'acid', 'acoustic', 'acquire', 'acquisitions', 'acres', 'across', 'act', 'acted', 'acting', 'action', 'actions', 'activated', 'activates', 'active', 'activities', 'activity', 'actor', 'acts', 'actual', 'actually', 'acute', 'ad', 'adam', 'add', 'added', 'adding', 'addition', 'address', 'admin', 'admit', 'admits', 'adult', 'adults', 'advance', 'advanced', 'adventures', 'advertised', 'advisory', 'af', 'afc', 'affect', 'affected', 'affects', 'affiliation', 'afghan', 'afghanistan', 'afp', 'afraid', 'africa', 'after', 'afterlife', 'afternoon', 'aftershock', 'aftershockdelo', 'ag', 'again', 'against', 'age', 'agency', 'agents', 'ages', 'ago', 'agree', 'agreed', 'ah', 'ahead', 'ahh', 'aid', 'aim', 'aint', 'air', 'aircraft', 'airlines', 'airplane', 'airport', 'ak', 'aka', 'al', 'alabama', 'alarm', 'alarms', 'alaska', 'albany', 'alberta', 'album', 'alcohol', 'alert', 'alex', 'alive', 'all', 'allah', 'allegations', 'alleged', 'allegiance', 'allies', 'alllivesmatter', 'allow', 'allowed', 'allows', 'alloy', 'almost', 'alone', 'along', 'alot', 'alps', 'already', 'alright', 'also', 'alternatives', 'although', 'always', 'am', 'amazing', 'amazon', 'ambulance', 'ambulances', 'ameenshaikh', 'america', 'american', 'americans', 'americas', 'amid', 'amirite', 'among', 'amongst', 'amp', 'amsterdam', 'an', 'analysis', 'anchorage', 'ancient', 'and', 'andor', 'andrew', 'andy', 'anellatulip', 'angel', 'angeles', 'angels', 'anger', 'angry', 'animal', 'animalrescue', 'animals', 'aniston', 'ankle', 'anna', 'annihilated', 'annihilation', 'anniversary', 'announcement', 'annoying', 'annual', 'another', 'answer', 'answers', 'anthrax', 'anti', 'antioch', 'antonio', 'anxiety', 'any', 'anybody', 'anymore', 'anyone', 'anything', 'anyway', 'anza', 'aoms', 'ap', 'apart', 'apartment', 'apartments', 'apc', 'apch', 'apocalypse', 'apocalyptic', 'apollo', 'apollobrown', 'app', 'apparent', 'apparently', 'appears', 'applaud', 'apple', 'applications', 'applies', 'apply', 'appointment', 'appreciate', 'appreciated', 'approaches', 'approval', 'approves', 'apt', 'ar', 'arabia', 'arabian', 'architect', 'architecture', 'are', 'area', 'areas', 'arent', 'argument', 'ariaahrary', 'arianagrande', 'arizona', 'arm', 'armageddon', 'armed', 'armory', 'arms', 'army', 'arnhem', 'around', 'arrest', 'arrested', 'arrive', 'arrived', 'arriving', 'arsenal', 'arson', 'arsonist', 'arsonistmusic', 'art', 'article', 'articles', 'artificial', 'artistsunited', 'arts', 'arwx', 'as', 'asap', 'ashes', 'asia', 'asian', 'asics', 'ask', 'asked', 'asking', 'asks', 'asleep', 'ass', 'assembly', 'asshole', 'assholes', 'assistance', 'assisting', 'associated', 'association', 'at', 'atlanta', 'atlantic', 'atm', 'atmosphere', 'atmospheric', 'atomic', 'attack', 'attacked', 'attacking', 'attacks', 'attempt', 'attempting', 'attendance', 'attention', 'attitude', 'attraction', 'attractive', 'auction', 'auctions', 'audience', 'audio', 'aug', 'august', 'aunt', 'aussie', 'aussies', 'aust', 'austin', 'australia', 'australian', 'australias', 'auth', 'authentic', 'authorities', 'auto', 'autobiography', 'automatic', 'automation', 'autumn', 'av', 'available', 'avalanche', 'ave', 'avengers', 'avenue', 'average', 'averted', 'aviation', 'avoid', 'avoided', 'avoiding', 'aw', 'awaits', 'aware', 'away', 'awesome', 'awful', 'awwww', 'ay', 'babies', 'baby', 'back', 'background', 'backs', 'backyards', 'bad', 'bag', 'bagging', 'bags', 'bake', 'bakeofffriends', 'bal', 'balance', 'ball', 'baltimore', 'ban', 'band', 'bands', 'banerjee', 'bang', 'bangin', 'bangladesh', 'bank', 'banned', 'banquet', 'bar', 'barackobama', 'bare', 'barely', 'bargain', 'barn', 'barry', 'bars', 'baruch', 'base', 'baseball', 'based', 'basement', 'bashes', 'basically', 'bass', 'bat', 'bath', 'bathroom', 'battered', 'batteries', 'batters', 'battery', 'batting', 'battle', 'battlefield', 'battles', 'battleship', 'battling', 'bay', 'bayelsa', 'bb', 'bbc', 'bbcnews', 'bbsp', 'bc', 'be', 'beach', 'beam', 'bear', 'beard', 'bears', 'beat', 'beats', 'beautiful', 'beauty', 'became', 'because', 'beckarnley', 'beclearoncancer', 'become', 'becomes', 'becoming', 'bed', 'bedroom', 'bee', 'been', 'beer', 'bees', 'before', 'beforeitsnews', 'began', 'begging', 'begin', 'beginners', 'beginning', 'begins', 'behalf', 'behind', 'being', 'belief', 'believe', 'bell', 'bells', 'belly', 'belonged', 'belongs', 'below', 'ben', 'bend', 'beneath', 'benefits', 'bengal', 'best', 'bestnaijamade', 'bet', 'bethlehem', 'betrayed', 'better', 'between', 'betz', 'beware', 'beyhive', 'beyonce', 'beyond', 'bff', 'bg', 'bicep', 'bicycle', 'bicyclist', 'bid', 'big', 'bigamist', 'bigger', 'biggest', 'bike', 'biker', 'bill', 'billboard', 'billings', 'billion', 'bills', 'bin', 'biological', 'bioterror', 'bioterrorism', 'birds', 'birmingham', 'birth', 'birthday', 'bit', 'bitch', 'bitches', 'bitcoin', 'bite', 'bites', 'bits', 'bjp', 'black', 'blackberry', 'blacklivesmatter', 'blackpool', 'blake', 'blame', 'blamed', 'blames', 'blanket', 'blast', 'blasts', 'blaze', 'blazing', 'bleeding', 'bless', 'blessed', 'blessings', 'blew', 'blight', 'blind', 'blizzard', 'blizzarddraco', 'blizzheroes', 'blk', 'blksampwhts', 'block', 'blocked', 'blocking', 'blocks', 'blog', 'blonde', 'blood', 'bloody', 'bloomberg', 'blow', 'blowmandyup', 'blown', 'blows', 'blue', 'bluedio', 'bluejays', 'blueprint', 'blues', 'bluetooth', 'blunt', 'blutz', 'blvd', 'bmw', 'bn', 'board', 'boat', 'bob', 'bobcats', 'bodies', 'body', 'bodybagging', 'bodys', 'boeing', 'boko', 'bomb', 'bombed', 'bomber', 'bombing', 'bombings', 'bombs', 'bones', 'book', 'bookboost', 'books', 'boom', 'boot', 'border', 'bore', 'bored', 'born', 'boss', 'boston', 'both', 'bother', 'bottle', 'bottom', 'bought', 'bound', 'boundaries', 'boundary', 'bounds', 'bounty', 'bout', 'bowl', 'bowling', 'box', 'boxer', 'boxing', 'boy', 'boyfriend', 'boys', 'bp', 'bradleybrad', 'brady', 'brain', 'brakes', 'braking', 'brand', 'brave', 'brazil', 'bread', 'break', 'breaking', 'breakingnews', 'breaks', 'brewing', 'brian', 'bride', 'bridge', 'bridges', 'brief', 'briefing', 'brigade', 'bright', 'bring', 'bringing', 'brings', 'british', 'britishbakeoff', 'britney', 'bro', 'broad', 'broadway', 'broke', 'broken', 'bronx', 'brooklyn', 'brother', 'brothers', 'brought', 'brown', 'browser', 'bruh', 'bruise', 'brutally', 'bs', 'bts', 'btw', 'btwn', 'buckle', 'buddys', 'budget', 'buffalo', 'buffer', 'bug', 'build', 'building', 'buildings', 'builds', 'built', 'bullet', 'bulletin', 'bullets', 'bullseye', 'bully', 'bump', 'bunch', 'bundle', 'bundled', 'buried', 'burn', 'burned', 'burning', 'burns', 'burnt', 'burst', 'bus', 'buses', 'bush', 'business', 'businesses', 'busy', 'but', 'butt', 'butter', 'button', 'buy', 'buying', 'by', 'ca', 'cabin', 'cable', 'cables', 'cafe', 'cage', 'cairo', 'caitlin', 'cake', 'cakes', 'calgary', 'cali', 'calif', 'california', 'californias', 'call', 'called', 'calling', 'calls', 'calm', 'calories', 'calumsos', 'cam', 'came', 'cameroon', 'camp', 'campaign', 'campfire', 'camping', 'camps', 'campus', 'can', 'canaanites', 'canada', 'cancel', 'cancelled', 'cancels', 'cancer', 'cancers', 'candle', 'candy', 'cannon', 'cannot', 'canoe', 'cant', 'canvas', 'canyon', 'capacity', 'cape', 'capital', 'caps', 'capsized', 'capsizes', 'captain', 'capture', 'captured', 'captures', 'car', 'card', 'cards', 'care', 'cared', 'career', 'careers', 'careful', 'careless', 'cargo', 'caribbean', 'carr', 'carried', 'carry', 'carryi', 'carrying', 'cars', 'cart', 'cartoon', 'case', 'cases', 'cash', 'casper', 'casperrmg', 'cast', 'castle', 'casual', 'casualties', 'casualty', 'cat', 'catastrophe', 'catastrophic', 'catch', 'catches', 'catching', 'catfish', 'cats', 'caught', 'cause', 'caused', 'causes', 'causing', 'caution', 'cave', 'cawx', 'cbc', 'cbs', 'cc', 'cd', 'cdc', 'cdcgov', 'cdt', 'celebrations', 'cell', 'census', 'center', 'centipede', 'central', 'centre', 'ceo', 'certain', 'certainly', 'certificate', 'certified', 'ch', 'chain', 'chair', 'chairs', 'challenge', 'challenges', 'chan', 'chance', 'chances', 'change', 'changed', 'changes', 'changing', 'channel', 'channels', 'chaos', 'character', 'characters', 'charge', 'charged', 'charger', 'charges', 'charging', 'charity', 'charles', 'charlie', 'charlotte', 'charts', 'chase', 'chat', 'chattanooga', 'cheap', 'cheat', 'check', 'checked', 'cheese', 'chelsea', 'chem', 'chemical', 'chernobyl', 'cherokee', 'chest', 'chesttorso', 'chevy', 'chewing', 'chicago', 'chicagoarea', 'chick', 'chicken', 'chief', 'chiefs', 'child', 'childhood', 'children', 'chile', 'chill', 'chills', 'china', 'chinas', 'chinese', 'chocolate', 'choice', 'choices', 'choking', 'chonce', 'choose', 'chose', 'chosen', 'chris', 'christ', 'christian', 'christians', 'christie', 'christmas', 'chronicle', 'chunks', 'church', 'cia', 'cigarette', 'cinema', 'circuit', 'circus', 'cites', 'cities', 'citizens', 'city', 'cityofcalgary', 'citys', 'civil', 'civilian', 'civilians', 'cladding', 'claim', 'claimed', 'claims', 'clash', 'class', 'classic', 'claytonbryant', 'clean', 'cleanup', 'clear', 'cleared', 'clearedincident', 'clearly', 'cleric', 'cleveland', 'clever', 'click', 'client', 'cliff', 'cliffs', 'climate', 'climb', 'clinton', 'clip', 'close', 'closed', 'closes', 'closest', 'closing', 'closures', 'clothes', 'cloud', 'clouds', 'club', 'clutch', 'cm', 'cmon', 'cnbc', 'cnews', 'cnn', 'co', 'coach', 'coaches', 'coal', 'coast', 'coastal', 'coaster', 'cocaine', 'cock', 'code', 'coffee', 'cofounder', 'coincide', 'cold', 'cole', 'collapse', 'collapsed', 'collapses', 'collection', 'college', 'collide', 'collided', 'collins', 'collision', 'collisionno', 'colluded', 'color', 'colorado', 'colour', 'columbia', 'combat', 'combined', 'combo', 'combust', 'come', 'comedy', 'comes', 'coming', 'command', 'comment', 'comments', 'commercial', 'commit', 'committed', 'common', 'commonwealth', 'communication', 'communities', 'community', 'commute', 'companies', 'company', 'comparison', 'compete', 'complaints', 'complete', 'completed', 'completely', 'complex', 'compliant', 'complications', 'computer', 'computers', 'concept', 'concern', 'concerned', 'concerns', 'concert', 'concluded', 'conclusively', 'concrete', 'condemnation', 'condition', 'conditions', 'condolence', 'condos', 'conference', 'confirm', 'confirmed', 'confirms', 'conflict', 'congress', 'connector', 'connectorconnecto', 'consent', 'consequence', 'consequences', 'conservative', 'consider', 'considering', 'constant', 'constantly', 'construction', 'contain', 'contained', 'contemplating', 'content', 'context', 'continually', 'continue', 'continued', 'continues', 'contract', 'contrast', 'control', 'controlled', 'controllers', 'contruction', 'conversation', 'conversations', 'cook', 'cool', 'cooler', 'cop', 'cope', 'copilot', 'coping', 'cops', 'copycat', 'coral', 'cord', 'corleonedaboss', 'corners', 'corp', 'correction', 'correspondent', 'cos', 'cost', 'costlier', 'costs', 'cotton', 'could', 'couldnt', 'couldve', 'counselor', 'count', 'counter', 'countless', 'countries', 'country', 'countrys', 'county', 'countynews', 'couple', 'couples', 'course', 'coursing', 'court', 'courts', 'cousin', 'cousins', 'cover', 'coverage', 'covered', 'covers', 'cow', 'cowboys', 'cr', 'crack', 'crackdown', 'cracking', 'cramer', 'cranes', 'crap', 'crash', 'crashed', 'crashes', 'crashing', 'crater', 'crazy', 'cream', 'create', 'created', 'creating', 'creativity', 'cree', 'crematoria', 'crew', 'crews', 'cricket', 'crickets', 'cried', 'cries', 'crime', 'crimes', 'criminal', 'criminals', 'crippling', 'crisis', 'critical', 'croat', 'croatian', 'cross', 'crossed', 'crosses', 'crowd', 'crush', 'crushed', 'crusty', 'cruz', 'cry', 'crying', 'cryptic', 'cs', 'csx', 'cta', 'cuban', 'cue', 'cum', 'cunts', 'cup', 'cupcake', 'curb', 'curfew', 'curiosity', 'current', 'currently', 'curved', 'customers', 'cut', 'cute', 'cuz', 'cycling', 'cyclist', 'cyclists', 'cyclone', 'cyprus', 'da', 'dad', 'daesh', 'daily', 'dailykos', 'dakota', 'dallas', 'dam', 'damage', 'damaged', 'damages', 'damaging', 'dame', 'damn', 'dan', 'dance', 'danger', 'dangerous', 'daniel', 'daniels', 'danisnotonfire', 'dannyonpc', 'dante', 'dare', 'dark', 'darkness', 'darude', 'dat', 'data', 'date', 'dating', 'daughter', 'daughters', 'david', 'davidvonderhaar', 'day', 'days', 'daytoday', 'db', 'dc', 'de', 'dead', 'deadly', 'deal', 'deals', 'dear', 'death', 'deaths', 'debate', 'debatequestionswewanttohear', 'debris', 'debt', 'decades', 'decide', 'decided', 'decision', 'decisions', 'deck', 'declaration', 'declared', 'declares', 'declined', 'dedicated', 'deep', 'defend', 'defense', 'definitely', 'degree', 'degrees', 'del', 'delay', 'delays', 'delete', 'deliver', 'delivers', 'deluge', 'deluged', 'dem', 'demand', 'demi', 'demolish', 'demolished', 'demolition', 'demon', 'demons', 'demonstratio', 'dems', 'denali', 'denial', 'denmark', 'dental', 'denver', 'deny', 'department', 'dependency', 'dept', 'depth', 'deputies', 'deputy', 'derail', 'derailed', 'derailment', 'derails', 'derby', 'describes', 'describing', 'description', 'descriptions', 'desert', 'deserve', 'deserves', 'design', 'designed', 'designs', 'desire', 'desires', 'desk', 'desolate', 'desolation', 'despair', 'despite', 'destiny', 'destroy', 'destroyed', 'destroying', 'destroys', 'destruction', 'details', 'detained', 'detectado', 'detonate', 'detonated', 'detonation', 'detroit', 'devalue', 'devastated', 'devastation', 'di', 'diablo', 'diamond', 'diamondkesawn', 'diaporama', 'dick', 'did', 'didnt', 'die', 'died', 'dieplease', 'dies', 'diet', 'diff', 'different', 'difficult', 'digging', 'digital', 'digits', 'dignity', 'dijk', 'dinner', 'diplomacy', 'direction', 'directioners', 'director', 'directors', 'dirt', 'dis', 'disappear', 'disappearance', 'disappoints', 'disaster', 'disasters', 'disco', 'discovered', 'discovery', 'discusses', 'discussion', 'disea', 'disease', 'disney', 'disneys', 'displace', 'displaced', 'disrupts', 'diss', 'distance', 'distinct', 'distributed', 'district', 'diving', 'dj', 'djicemoon', 'dk', 'dnb', 'do', 'doc', 'doctor', 'doctors', 'documents', 'does', 'doesnt', 'dog', 'dogs', 'doing', 'dollar', 'dollars', 'dolphin', 'domestic', 'don', 'donald', 'donate', 'done', 'dont', 'door', 'dorman', 'dorret', 'dorrets', 'double', 'doublecups', 'doubt', 'down', 'downfall', 'download', 'downstairs', 'downtown', 'dozen', 'dozens', 'dq', 'dr', 'drag', 'dragon', 'drake', 'drama', 'dramatic', 'draw', 'drawn', 'dream', 'dreaming', 'dreams', 'dress', 'drew', 'drill', 'drink', 'drinking', 'drinks', 'drive', 'driven', 'driver', 'drivers', 'drives', 'driving', 'drone', 'drones', 'drop', 'dropped', 'dropping', 'drought', 'drove', 'drown', 'drowned', 'drowning', 'drug', 'drugs', 'drum', 'drunk', 'dry', 'dryer', 'ds', 'dtn', 'dual', 'dublin', 'dubstep', 'duck', 'dude', 'dudes', 'due', 'dumb', 'dunbar', 'during', 'dust', 'dutch', 'dvc', 'dvd', 'dw', 'dwarves', 'dying', 'dystopian', 'each', 'earbuds', 'earlier', 'early', 'earned', 'earners', 'earrings', 'ears', 'earth', 'earthquake', 'earthquakes', 'easily', 'east', 'eastbound', 'easy', 'eat', 'eaten', 'eating', 'eb', 'ebay', 'ebola', 'economic', 'economies', 'economy', 'ed', 'eden', 'edinburgh', 'edit', 'edition', 'editor', 'edm', 'edt', 'education', 'edward', 'ee', 'efak', 'effect', 'effects', 'effort', 'efforts', 'egged', 'eggs', 'egypt', 'eh', 'eight', 'either', 'el', 'elbow', 'election', 'electric', 'electrical', 'electricity', 'electrocute', 'electrocuted', 'electronic', 'elem', 'elephant', 'elevated', 'elite', 'elizabeth', 'elliott', 'else', 'em', 'email', 'emails', 'embroidered', 'emerg', 'emergency', 'emerges', 'emmerdale', 'emotional', 'emotionally', 'emotions', 'emperor', 'ems', 'emsc', 'en', 'encounter', 'encouragement', 'end', 'endangered', 'ended', 'ending', 'endorses', 'ends', 'endures', 'enemies', 'enemy', 'energy', 'engage', 'engine', 'england', 'engulfed', 'engvaus', 'enhanced', 'enjoy', 'enjoyed', 'enjoying', 'enough', 'enroute', 'enrt', 'enter', 'entered', 'entertainment', 'entire', 'entrepreneur', 'enugu', 'environment', 'environmental', 'ep', 'epic', 'epicenter', 'epicentre', 'epilepsy', 'episode', 'eq', 'equal', 'equally', 'equate', 'equipment', 'er', 'era', 'error', 'eruption', 'escape', 'escaped', 'esh', 'esp', 'especially', 'espn', 'estate', 'estimate', 'estimated', 'estimates', 'et', 'etc', 'ethereal', 'eu', 'europe', 'european', 'evacuate', 'evacuated', 'evacuation', 'evacuations', 'even', 'evening', 'event', 'events', 'eventually', 'ever', 'every', 'everyday', 'everyone', 'everyones', 'everything', 'everytime', 'everywhere', 'evidence', 'evil', 'evolve', 'ex', 'exacerbated', 'exactly', 'examining', 'example', 'exc', 'excellent', 'except', 'exchange', 'exchanging', 'excited', 'excitement', 'exciting', 'excuse', 'excuses', 'executives', 'exhausted', 'exhibition', 'exist', 'existence', 'exit', 'exited', 'exp', 'expand', 'expect', 'expected', 'expecting', 'expensive', 'experience', 'experienced', 'experiencing', 'experiments', 'expert', 'experts', 'explain', 'explains', 'explode', 'exploded', 'exploration', 'explores', 'explosion', 'explosionproof', 'exposed', 'express', 'extender', 'extends', 'extension', 'extensive', 'external', 'extinguished', 'extra', 'extreme', 'extremely', 'eye', 'eyes', 'eyewitness', 'faan', 'fabric', 'face', 'facebook', 'faced', 'facility', 'fact', 'factors', 'factory', 'facts', 'fail', 'failed', 'failure', 'fair', 'faith', 'fake', 'falcon', 'fall', 'fallacy', 'fallen', 'falling', 'falls', 'false', 'fam', 'familia', 'families', 'family', 'famine', 'famous', 'fan', 'fans', 'fantastic', 'fantasy', 'far', 'farm', 'farrakhan', 'fart', 'fashion', 'fashionable', 'fast', 'faster', 'fat', 'fatal', 'fatalities', 'fatality', 'fatalityus', 'fate', 'father', 'faulty', 'faux', 'fav', 'favor', 'favorite', 'fb', 'fbi', 'fd', 'fear', 'feared', 'fears', 'feast', 'feat', 'featured', 'features', 'fed', 'federal', 'fedex', 'feed', 'feeding', 'feel', 'feelin', 'feeling', 'feelings', 'feels', 'fees', 'feet', 'feinstein', 'fell', 'felt', 'female', 'feminist', 'feminists', 'fennovoima', 'ferguson', 'fergusons', 'ferries', 'festival', 'fettilootch', 'fevwarrior', 'few', 'fieg', 'field', 'fierce', 'fifth', 'fight', 'fighters', 'fighting', 'fights', 'files', 'fill', 'filled', 'film', 'final', 'finally', 'financial', 'financing', 'find', 'finding', 'finds', 'fine', 'finger', 'fingers', 'finish', 'finished', 'finishing', 'finnish', 'fir', 'fire', 'fired', 'firefighter', 'firefighters', 'firefighting', 'fireman', 'firemen', 'fires', 'firetruck', 'first', 'fish', 'fishing', 'fit', 'fits', 'five', 'fix', 'fixed', 'fixing', 'fkn', 'flag', 'flags', 'flames', 'flaming', 'flash', 'flashbacks', 'flat', 'flattened', 'fleeing', 'fleets', 'flew', 'flight', 'float', 'floated', 'flood', 'flooded', 'flooding', 'floods', 'floor', 'florida', 'flow', 'flower', 'floyds', 'fluid', 'fly', 'flying', 'fm', 'focus', 'fog', 'follow', 'follower', 'followers', 'following', 'follows', 'food', 'foodscare', 'foot', 'footage', 'football', 'for', 'forbes', 'force', 'forced', 'forces', 'ford', 'forecast', 'forest', 'forever', 'forex', 'forget', 'forgiven', 'forgot', 'forgotten', 'form', 'formation', 'former', 'forsure', 'fort', 'forth', 'fortune', 'forward', 'foster', 'foul', 'found', 'four', 'fourth', 'fox', 'foxnew', 'foxnews', 'foxtrot', 'fr', 'fraction', 'fragile', 'fran', 'france', 'frank', 'franklin', 'freak', 'freakiest', 'freaking', 'free', 'freedom', 'freeway', 'freezing', 'french', 'fresh', 'freshman', 'fresno', 'friday', 'friend', 'friends', 'friendship', 'friggin', 'frog', 'from', 'front', 'frontline', 'frontlines', 'frontpage', 'frozen', 'fruit', 'fruits', 'ft', 'fte', 'fuck', 'fucked', 'fuckin', 'fucking', 'fuel', 'fuels', 'fukushima', 'fukushimatepco', 'full', 'fully', 'fun', 'function', 'funds', 'funny', 'funtenna', 'fur', 'furious', 'further', 'fury', 'future', 'fwy', 'fyi', 'ga', 'gabon', 'gadgets', 'gain', 'gained', 'gaining', 'galactic', 'game', 'gameplay', 'gamergate', 'games', 'gang', 'garden', 'gardens', 'garfield', 'gary', 'gas', 'gateau', 'gates', 'gave', 'gawx', 'gay', 'gays', 'gaza', 'gbbo', 'gd', 'gear', 'gel', 'geller', 'gems', 'general', 'generally', 'generalnews', 'generation', 'genius', 'genocide', 'genuine', 'geometric', 'george', 'georgia', 'gerenciatodos', 'german', 'germany', 'germs', 'get', 'gets', 'gettin', 'getting', 'gf', 'ghostwriter', 'giant', 'gif', 'gift', 'gig', 'gilbert', 'girl', 'girlfriend', 'girls', 'give', 'given', 'gives', 'giving', 'glad', 'glass', 'glasses', 'glenn', 'global', 'globe', 'glorious', 'gm', 'gmt', 'go', 'goat', 'god', 'gods', 'godslove', 'goes', 'gofundme', 'going', 'gold', 'goldstein', 'golf', 'gon', 'gone', 'gonna', 'good', 'goodbye', 'google', 'gop', 'gopdebate', 'gordon', 'got', 'gotta', 'gotten', 'gov', 'government', 'governor', 'govt', 'gpm', 'gps', 'gr', 'grab', 'grabbers', 'grace', 'grade', 'grand', 'grandeur', 'grass', 'grateful', 'grazed', 'great', 'greatest', 'greece', 'greeces', 'greedy', 'greek', 'green', 'greg', 'grenade', 'grenades', 'grew', 'grey', 'gridlock', 'grief', 'grill', 'grills', 'groom', 'ground', 'grounds', 'group', 'groups', 'grove', 'grow', 'growing', 'grown', 'grows', 'growth', 'gt', 'gta', 'gtfo', 'gtgt', 'gtgtgt', 'gtii', 'guaranteed', 'guard', 'guardian', 'guess', 'guide', 'guided', 'guillermo', 'guilty', 'gun', 'gunfire', 'gunman', 'gunmen', 'guns', 'gunsense', 'gunshot', 'gusts', 'gusty', 'guy', 'guys', 'habits', 'hack', 'hackers', 'had', 'hadnt', 'hah', 'haha', 'hahah', 'hahaha', 'hahahaha', 'hail', 'hailstorm', 'hair', 'haiyan', 'half', 'halifax', 'hall', 'hamas', 'hamilton', 'hampshire', 'hand', 'handbag', 'handbags', 'handling', 'hands', 'hang', 'happen', 'happened', 'happening', 'happens', 'happiness', 'happy', 'haram', 'harbor', 'hard', 'hardcore', 'hardline', 'hardy', 'harm', 'harmkid', 'harms', 'harper', 'harry', 'has', 'hashtag', 'hasnt', 'hat', 'hatcap', 'hatchet', 'hatchetwielding', 'hate', 'hated', 'hating', 'haunting', 'have', 'havent', 'having', 'hawaii', 'hazard', 'hazardous', 'hd', 'he', 'head', 'headed', 'heading', 'headlines', 'headphones', 'heads', 'headset', 'heal', 'health', 'healthcare', 'hear', 'heard', 'hearing', 'heart', 'heartless', 'hearts', 'heartwarming', 'heat', 'heaven', 'heavenly', 'heavy', 'heels', 'heights', 'held', 'helicopter', 'helicopters', 'hell', 'hella', 'hellfire', 'hello', 'help', 'helping', 'helps', 'henry', 'her', 'here', 'heres', 'hero', 'heroes', 'heroin', 'hers', 'hes', 'hey', 'hi', 'hidden', 'hieroglyphics', 'high', 'highest', 'highly', 'highway', 'hijack', 'hijacker', 'hijacking', 'hike', 'hilarious', 'hill', 'hillary', 'hills', 'him', 'himself', 'hinton', 'hip', 'hiphop', 'hiring', 'hiroshima', 'his', 'historic', 'history', 'hit', 'hits', 'hitting', 'hmm', 'hmu', 'hoax', 'hobbit', 'hobo', 'hockey', 'hoes', 'hold', 'holding', 'holds', 'hole', 'holed', 'holiday', 'holland', 'hollywood', 'holy', 'home', 'homeland', 'homeless', 'homeowners', 'homes', 'homie', 'honest', 'honestly', 'honey', 'honors', 'hop', 'hope', 'hopefully', 'hoping', 'horizon', 'horrible', 'horrific', 'horror', 'horrors', 'horse', 'horses', 'hospital', 'hospitals', 'host', 'hostage', 'hostageamp', 'hostages', 'hosting', 'hot', 'hotel', 'hottest', 'hour', 'hours', 'house', 'housed', 'houses', 'housing', 'houston', 'how', 'hr', 'hs', 'httpstcodehmymlpk', 'httpstcoedllncvu', 'httpstcoisidcubj', 'httpstcolfkmtzaekk', 'httpstcomollvdyd', 'httpstcorqwuoyfm', 'httpstcowudlkqncx', 'httptcobbdpnjxsx', 'httptcocgffpmr', 'httptcocybksxhfd', 'httptcodydfvzamj', 'httptcoedyfoepu', 'httptcoencmhzy', 'httptcoiikssjgbdn', 'httptcoiokuuguq', 'httptcojhpdssvhve', 'httptcojmkcbkcov', 'httptcojooxk', 'httptcoksawlyux', 'httptcolvlhwawo', 'httptcomfckpvzfv', 'httptcomkxlpkfa', 'httptconjdpgxv', 'httptconmfsgkfza', 'httptconnmqlzo', 'httptcoofcyyr', 'httptcophixznvyn', 'httptcopohycnd', 'httptcopvmrlnva', 'httptcoqeblokeve', 'httptcoqewcmxd', 'httptcoskqpwsnoin', 'httptcosqsyuehyi', 'httptcothoyhrhkfj', 'httptcothyzomvwu', 'httptcotndpm', 'httptcouoozxaus', 'httptcovazwoamzk', 'httptcoviwxyxdyk', 'httptcovvplfqvp', 'httptcowratkajl', 'httptcowvjabgm', 'httptcoxssgedsbh', 'httptcozujwuiomb', 'huffman', 'huge', 'hughes', 'huh', 'human', 'humanconsumption', 'humanity', 'humans', 'humaza', 'humble', 'humidity', 'hundred', 'hundreds', 'hunger', 'hungry', 'hunk', 'hunt', 'hunters', 'hurricane', 'hurricanedolce', 'hurricanes', 'hurry', 'hurt', 'hurts', 'hwo', 'hwy', 'hybrid', 'hype', 'hypocrisy', 'hysteria', 'ian', 'ianhellfire', 'ibooklove', 'ice', 'icemoon', 'ices', 'iconic', 'icymi', 'id', 'idc', 'idea', 'ideas', 'idfire', 'idiot', 'idis', 'idk', 'idp', 'idps', 'ie', 'if', 'ig', 'igers', 'ignition', 'ignore', 'ihhen', 'ii', 'iii', 'ik', 'ill', 'illegal', 'illinois', 'im', 'ima', 'image', 'images', 'imagine', 'imagined', 'immediately', 'impact', 'impacted', 'impending', 'imperfect', 'imported', 'impossible', 'impressed', 'improve', 'in', 'incase', 'inch', 'incident', 'include', 'including', 'increase', 'increased', 'increasing', 'incredible', 'incredibly', 'indeed', 'independent', 'indi', 'india', 'indian', 'indiannews', 'indie', 'individual', 'individuals', 'indonesia', 'industry', 'inevitable', 'infectious', 'infinity', 'info', 'information', 'initial', 'inj', 'injured', 'injures', 'injuries', 'injury', 'injuryi', 'ink', 'inner', 'inning', 'innocent', 'innovation', 'insane', 'inside', 'inst', 'instagram', 'installation', 'instant', 'instantly', 'instead', 'institute', 'instructions', 'insurance', 'insurer', 'insurers', 'integrity', 'intelligence', 'intensifies', 'intensity', 'interest', 'interested', 'interesting', 'intern', 'internal', 'internally', 'international', 'internet', 'interstate', 'interview', 'interviews', 'into', 'inundated', 'inundation', 'invalid', 'invasion', 'invest', 'investigating', 'investigation', 'investigators', 'investing', 'invited', 'invoices', 'involved', 'involving', 'ipad', 'iphone', 'ipod', 'ir', 'iran', 'irandeal', 'iranian', 'iranians', 'iraq', 'iredell', 'ireland', 'irish', 'ironic', 'ironically', 'is', 'isil', 'isis', 'islam', 'islamic', 'island', 'islands', 'isnt', 'israel', 'israeli', 'issue', 'issued', 'issues', 'it', 'italian', 'italy', 'items', 'itll', 'its', 'itself', 'itsjustinstuart', 'itunes', 'itunesmusic', 'ivanberroa', 'ive', 'jack', 'jacket', 'jackson', 'jacksonville', 'jacque', 'jail', 'jailed', 'jam', 'jamaica', 'jamaicaplain', 'james', 'jams', 'jan', 'japan', 'japanese', 'japans', 'japìn', 'jax', 'jays', 'jazz', 'jealous', 'jeans', 'jeb', 'jenner', 'jennifer', 'jerry', 'jesus', 'jet', 'jewelry', 'jewish', 'jim', 'jimmyfallon', 'jkl', 'job', 'jobs', 'joe', 'joel', 'john', 'johnny', 'johns', 'join', 'joined', 'joke', 'jon', 'jonathan', 'jonathanferrell', 'jones', 'joneskyle', 'jonvoyage', 'jordan', 'jose', 'journal', 'journalism', 'journalist', 'joy', 'jr', 'jst', 'judge', 'juice', 'julie', 'july', 'jumped', 'june', 'jupiters', 'jurors', 'just', 'justice', 'justifying', 'justinbieber', 'justmarried', 'kaduna', 'kalle', 'kanye', 'karachi', 'karma', 'karymsky', 'katrina', 'katunews', 'kca', 'keegan', 'keep', 'keeps', 'kendall', 'kenya', 'kept', 'kerricktrial', 'kerry', 'key', 'ki', 'kick', 'kicked', 'kid', 'kidnapped', 'kids', 'kiernan', 'kill', 'killed', 'killer', 'killers', 'killing', 'killings', 'kills', 'kind', 'kinda', 'kindle', 'kindly', 'king', 'kingdom', 'kings', 'kisii', 'kisses', 'kit', 'kith', 'kittens', 'km', 'knee', 'knew', 'knob', 'knock', 'knocking', 'know', 'knowing', 'known', 'knows', 'knoxville', 'kodiak', 'koinnews', 'kombat', 'komen', 'korea', 'kosciusko', 'kowing', 'kraft', 'ks', 'kurd', 'kurdish', 'kurtschlichter', 'kuwait', 'ky', 'kyle', 'la', 'lab', 'label', 'labour', 'lack', 'laden', 'ladies', 'lady', 'laid', 'lake', 'lakes', 'lamp', 'lance', 'land', 'landfall', 'landing', 'lands', 'landslide', 'lane', 'langley', 'language', 'languages', 'lansdowne', 'laois', 'large', 'larger', 'largest', 'las', 'last', 'lasting', 'late', 'lately', 'later', 'latest', 'latestnews', 'latimes', 'latin', 'laugh', 'laughing', 'launch', 'lauren', 'lava', 'lavenderpoetrycafe', 'law', 'laws', 'lawsuit', 'lawton', 'lay', 'layout', 'lead', 'leader', 'leaders', 'leadership', 'leading', 'leads', 'league', 'leagues', 'leak', 'leaks', 'learn', 'learning', 'least', 'leather', 'leave', 'leaves', 'leaving', 'lebanon', 'led', 'leeds', 'left', 'leg', 'legacy', 'legal', 'legio', 'legion', 'legionnaires', 'legislation', 'legit', 'lego', 'legs', 'leisure', 'len', 'leo', 'lesbian', 'less', 'lessons', 'let', 'lethal', 'lets', 'letters', 'letting', 'level', 'levels', 'lez', 'lgbt', 'lglorg', 'liable', 'library', 'libya', 'lie', 'lies', 'life', 'lifethreatening', 'lifetime', 'lifted', 'lifting', 'light', 'lightening', 'lighting', 'lightning', 'lightningcaused', 'lights', 'like', 'liked', 'likely', 'lil', 'limited', 'line', 'linerless', 'link', 'linked', 'links', 'linkury', 'lion', 'lionel', 'lip', 'list', 'listed', 'listen', 'listenbuy', 'listening', 'listenlive', 'lit', 'literally', 'little', 'live', 'lived', 'liveonline', 'lives', 'living', 'livingsafely', 'lmao', 'lmfao', 'lmfaoooo', 'lnp', 'load', 'loaded', 'loading', 'loan', 'loans', 'local', 'localarsonist', 'located', 'location', 'lock', 'locker', 'log', 'logic', 'logistics', 'logo', 'lol', 'lollapalooza', 'london', 'londonfire', 'lone', 'lonely', 'lonewolffur', 'long', 'longer', 'longest', 'longs', 'longterm', 'look', 'looked', 'looking', 'looks', 'loop', 'looping', 'loose', 'looses', 'looters', 'looting', 'lord', 'loretta', 'lorries', 'los', 'losdelsonido', 'lose', 'loses', 'losing', 'loss', 'losses', 'lost', 'lot', 'lots', 'loud', 'louis', 'love', 'loved', 'lovedup', 'lovely', 'loves', 'loving', 'low', 'lower', 'lowly', 'lowndes', 'lrt', 'lt', 'ltlt', 'lubbock', 'luchaunderground', 'luck', 'lucky', 'luis', 'lulgzimbestpicts', 'lunch', 'lungs', 'lv', 'lying', 'lyrics', 'ma', 'mac', 'machine', 'mad', 'made', 'madhya', 'madinah', 'magginoodle', 'magic', 'magisters', 'magner', 'magnum', 'mail', 'main', 'maintain', 'maintenance', 'maj', 'major', 'majority', 'make', 'maker', 'makes', 'maketh', 'making', 'malaysia', 'malaysian', 'malik', 'mall', 'mama', 'mamata', 'man', 'managed', 'management', 'manager', 'manchester', 'mania', 'manmade', 'mansehra', 'mansion', 'manslaughter', 'manufactured', 'many', 'map', 'march', 'maria', 'mariah', 'marians', 'marijuana', 'marine', 'marines', 'mark', 'marked', 'marker', 'market', 'marketing', 'markets', 'marks', 'married', 'martinmj', 'marvel', 'mary', 'maryland', 'mass', 'massacre', 'massive', 'master', 'match', 'matches', 'mate', 'material', 'materials', 'matter', 'matters', 'matthew', 'mattson', 'max', 'maximum', 'may', 'mayan', 'maybe', 'mayhem', 'mc', 'mcdonalds', 'md', 'me', 'meals', 'mean', 'meaning', 'means', 'meant', 'measles', 'measurement', 'meat', 'meatloving', 'mechanical', 'med', 'medals', 'media', 'medic', 'medical', 'medicine', 'mediterran', 'mediterranean', 'medium', 'meek', 'meekmill', 'meet', 'meeting', 'meets', 'megynkelly', 'melt', 'meltdown', 'member', 'members', 'memes', 'memorial', 'memories', 'memory', 'memphis', 'men', 'mens', 'mental', 'mentally', 'mention', 'mentioned', 'mentions', 'mercados', 'mercury', 'mercy', 'mess', 'message', 'messages', 'messenger', 'messi', 'metal', 'meteoearth', 'method', 'metlife', 'metrics', 'metro', 'metrofmtalk', 'mets', 'mexico', 'mf', 'mfs', 'mgm', 'mh', 'mhtwfnet', 'mi', 'miami', 'michael', 'michaelsos', 'michigan', 'microlight', 'microsoft', 'microsofts', 'mid', 'middle', 'midnight', 'mido', 'might', 'migrant', 'migrants', 'mike', 'mikeparractor', 'mile', 'miles', 'militant', 'militants', 'military', 'milk', 'milkshake', 'mill', 'million', 'millions', 'min', 'minaj', 'mind', 'minds', 'mine', 'minecraft', 'miners', 'minhazmerchant', 'mini', 'mining', 'minions', 'minister', 'ministers', 'minor', 'minority', 'mins', 'minute', 'minutes', 'mirage', 'mishaps', 'miss', 'missed', 'misses', 'missing', 'mission', 'missionhills', 'mississauga', 'mistake', 'mitigation', 'mitt', 'mix', 'miyagi', 'mkx', 'mlb', 'mm', 'mma', 'mnpdnashville', 'mo', 'mock', 'mod', 'mode', 'model', 'models', 'moderate', 'modified', 'mom', 'moment', 'moments', 'moms', 'monday', 'money', 'monitor', 'monkeys', 'monogram', 'monsoon', 'montetjwitter', 'montgomery', 'month', 'months', 'mood', 'moon', 'mooresville', 'mop', 'moral', 'more', 'morgan', 'morning', 'mortal', 'mosque', 'most', 'moth', 'mother', 'motion', 'motor', 'motorcraft', 'motorcycle', 'motorcyclist', 'mount', 'mountain', 'mountaineering', 'mountains', 'mourning', 'mourns', 'move', 'moved', 'movement', 'moves', 'movie', 'movies', 'moving', 'mp', 'mph', 'mr', 'ms', 'msf', 'msnbc', 'mt', 'mtvhottest', 'much', 'mud', 'mudslide', 'mufc', 'mukilteo', 'multiplayer', 'multiple', 'mum', 'mumbai', 'municipal', 'murder', 'murdered', 'murderer', 'murderous', 'murders', 'muscle', 'museum', 'music', 'musician', 'musik', 'muslim', 'muslims', 'must', 'mutant', 'muzzamil', 'mv', 'mx', 'my', 'myanmar', 'myself', 'mystery', 'nagasaki', 'nah', 'nail', 'najib', 'name', 'named', 'names', 'nan', 'nasa', 'nasahurricane', 'nashville', 'nasty', 'nation', 'national', 'nations', 'native', 'nato', 'natural', 'nature', 'navbl', 'naved', 'navy', 'nb', 'nbc', 'nbcnews', 'nc', 'nd', 'nda', 'ne', 'near', 'nearby', 'nearly', 'necessary', 'neck', 'need', 'needed', 'needle', 'needs', 'negative', 'negros', 'neighborhood', 'neighbours', 'neither', 'nema', 'nepal', 'nestleindia', 'net', 'network', 'never', 'neverending', 'new', 'newberg', 'newbie', 'newest', 'newlyweds', 'news', 'newsarama', 'newsintweets', 'newswatch', 'newyork', 'newzsacramento', 'next', 'nfl', 'nh', 'nhl', 'niall', 'nice', 'nickcannon', 'nicki', 'niece', 'nigeria', 'nigerian', 'nigga', 'niggas', 'night', 'nightmare', 'nike', 'nikeplus', 'nine', 'nj', 'nm', 'no', 'noaa', 'noahanyname', 'nobody', 'noise', 'non', 'noncompliant', 'none', 'nor', 'normal', 'norman', 'north', 'northern', 'northwest', 'nose', 'nostalgia', 'nosurrender', 'not', 'note', 'noted', 'nothing', 'notice', 'noticed', 'notices', 'novel', 'november', 'now', 'nowhere', 'nowplaying', 'np', 'nri', 'nsfw', 'nu', 'nuclear', 'nude', 'nuggets', 'nuke', 'number', 'numbered', 'numbers', 'nurse', 'nurses', 'nursing', 'nv', 'nw', 'nwo', 'nws', 'ny', 'nyc', 'nyt', 'nytimes', 'oak', 'obama', 'obispo', 'object', 'objects', 'obliterate', 'obliterated', 'obliteration', 'obsessed', 'oc', 'occasion', 'occupants', 'occurred', 'occurs', 'ocean', 'odd', 'odds', 'odeon', 'of', 'off', 'offensive', 'offensiveåêcontent', 'offer', 'offers', 'offersgo', 'office', 'officer', 'officers', 'offices', 'official', 'officially', 'officials', 'offr', 'offroad', 'often', 'oh', 'ohh', 'ohio', 'oil', 'ok', 'okanagan', 'okay', 'okinawa', 'oklahoma', 'oklahomaok', 'oks', 'okwx', 'olap', 'old', 'older', 'olive', 'olympic', 'omega', 'omfg', 'omg', 'on', 'once', 'one', 'ones', 'oneself', 'online', 'onlinecommunities', 'only', 'ontario', 'onto', 'ooh', 'oops', 'open', 'opened', 'opening', 'openly', 'opens', 'oper', 'operation', 'operations', 'opinion', 'opp', 'opposite', 'oppressions', 'ops', 'option', 'options', 'opus', 'or', 'oral', 'orange', 'order', 'ordered', 'orders', 'oregon', 'ori', 'origin', 'original', 'originalfunko', 'ornament', 'osborn', 'oso', 'oth', 'other', 'others', 'otherwise', 'otrametlife', 'our', 'ourselves', 'out', 'outbid', 'outbreak', 'outdoor', 'outfit', 'outflow', 'outlook', 'outrage', 'outside', 'outta', 'over', 'overload', 'overnight', 'overtime', 'ovofest', 'own', 'owner', 'owners', 'pa', 'pace', 'pacific', 'pack', 'packs', 'page', 'pain', 'paint', 'painting', 'pair', 'pak', 'pakistan', 'pakistani', 'pakistannews', 'palestine', 'palestinian', 'palestinians', 'palin', 'palms', 'pam', 'pamela', 'pan', 'pancakes', 'pandemonium', 'panel', 'panic', 'panicking', 'pantherattack', 'pants', 'paper', 'paramedic', 'parenthood', 'parents', 'paris', 'park', 'parker', 'parking', 'parleys', 'parole', 'part', 'particularly', 'partnerships', 'parts', 'party', 'pass', 'passed', 'passenger', 'passengers', 'passing', 'past', 'patch', 'path', 'pathogen', 'pathogens', 'patience', 'patient', 'patna', 'patrick', 'pattern', 'paul', 'pauls', 'paved', 'pay', 'pays', 'pbban', 'pc', 'pcps', 'pcs', 'pdp', 'peace', 'peaceful', 'peacefully', 'peak', 'peanut', 'pedestrian', 'penalties', 'penalty', 'pendleton', 'penn', 'people', 'peoples', 'pepper', 'per', 'percent', 'perfect', 'performance', 'performing', 'perhaps', 'period', 'permanent', 'permanently', 'permits', 'person', 'personal', 'personnel', 'persons', 'perspectives', 'peterjukes', 'petition', 'petitiontake', 'phantom', 'pharaoh', 'phase', 'phil', 'philadelphia', 'philippines', 'philly', 'phoenix', 'phone', 'phones', 'photo', 'photographer', 'photography', 'photos', 'photoset', 'photoshop', 'physical', 'physicians', 'pic', 'pick', 'picked', 'pickens', 'picking', 'pics', 'picture', 'pictures', 'piece', 'pieces', 'pile', 'pileup', 'piling', 'pill', 'pilot', 'pilots', 'pin', 'piner', 'pinpoint', 'pipe', 'pipeline', 'pisgah', 'pissed', 'pitch', 'pits', 'pizza', 'pjnet', 'pkk', 'place', 'places', 'placing', 'plague', 'plains', 'plan', 'plane', 'planet', 'planned', 'plans', 'plant', 'planted', 'plate', 'platform', 'play', 'played', 'player', 'players', 'playing', 'playlist', 'playoffs', 'plays', 'playstation', 'please', 'pleasure', 'pledge', 'plenty', 'pllolz', 'plot', 'pls', 'plug', 'plummeted', 'plunging', 'plus', 'pm', 'pmharper', 'pocket', 'pockets', 'poem', 'point', 'points', 'pol', 'poland', 'police', 'policerun', 'policy', 'political', 'politics', 'politifiact', 'poll', 'pomo', 'pond', 'pony', 'pool', 'poor', 'poorly', 'pop', 'pope', 'poplar', 'pops', 'popularmmos', 'population', 'porn', 'port', 'portion', 'portland', 'positive', 'possibility', 'possible', 'possibly', 'post', 'posted', 'posters', 'posting', 'posts', 'potential', 'potentially', 'potus', 'pounded', 'pov', 'poverty', 'power', 'powerful', 'powerlines', 'ppl', 'practice', 'pradesh', 'pray', 'prayers', 'pre', 'prebreak', 'precious', 'precipitation', 'predator', 'predict', 'predicted', 'prefer', 'pregnant', 'premature', 'premium', 'premonitions', 'preorder', 'prepare', 'prepared', 'preparedness', 'prepares', 'preparing', 'prepper', 'pres', 'presence', 'present', 'president', 'press', 'pressed', 'pressure', 'pretend', 'pretty', 'prevent', 'prevention', 'preview', 'previous', 'prez', 'price', 'priceless', 'prices', 'primary', 'prime', 'prince', 'print', 'prior', 'priority', 'prison', 'private', 'pro', 'probably', 'probe', 'problem', 'problems', 'procedures', 'proceeds', 'prod', 'produced', 'product', 'professional', 'profile', 'profit', 'program', 'programme', 'progress', 'project', 'projected', 'projects', 'promise', 'promises', 'promote', 'prompted', 'prompts', 'prone', 'proper', 'property', 'propertycasualty', 'prophet', 'prophetmuhammad', 'prosecuted', 'protect', 'protectdenaliwolves', 'protecting', 'protection', 'protector', 'protest', 'protesting', 'protests', 'provide', 'providence', 'provoke', 'ps', 'psa', 'psychiatric', 'pt', 'ptbo', 'ptsd', 'ptsdchat', 'public', 'publicizing', 'pull', 'pulled', 'pulling', 'pulls', 'pulwama', 'pump', 'pun', 'punch', 'punished', 'punjab', 'puppies', 'puppy', 'purchase', 'purchased', 'purple', 'purse', 'pussy', 'put', 'putin', 'putting', 'quake', 'quality', 'quarantine', 'quarantined', 'queen', 'queens', 'quest', 'question', 'questions', 'quick', 'quickly', 'quite', 'quiz', 'quote', 'quran', 'race', 'racing', 'racist', 'radar', 'radiation', 'radio', 'radioactive', 'rage', 'rages', 'raid', 'rail', 'rails', 'rain', 'rained', 'rainier', 'raining', 'rains', 'rainstorm', 'raised', 'rally', 'ramag', 'ran', 'random', 'range', 'rap', 'rapidly', 'rapper', 'rapping', 'rare', 'rate', 'rather', 'rating', 'raw', 'ray', 'raynbowaffair', 'rayner', 'razed', 'raì¼l', 'rb', 'rd', 'rdhorndale', 're', 'rea', 'reach', 'reaches', 'reaching', 'react', 'reacted', 'reactor', 'read', 'reading', 'ready', 'real', 'realdonaldtrump', 'realise', 'realised', 'reality', 'realize', 'realized', 'really', 'realmandyrain', 'realtime', 'reap', 'rear', 'reason', 'reasons', 'recall', 'recalls', 'recap', 'receive', 'recent', 'recently', 'recipes', 'reckless', 'recognize', 'recommend', 'record', 'recorded', 'recording', 'recount', 'recover', 'recovery', 'recreates', 'recycling', 'red', 'reddit', 'reddits', 'reduce', 'reduced', 'reflect', 'refugee', 'refugees', 'refugio', 'refuse', 'refused', 'refuses', 'regard', 'region', 'regional', 'register', 'registered', 'regret', 'regular', 'reid', 'reids', 'reinstate', 'reject', 'rejected', 'rejects', 'related', 'relationship', 'relatives', 'relax', 'release', 'released', 'releases', 'relief', 'religion', 'relive', 'remain', 'remains', 'remember', 'remembered', 'remembering', 'reminds', 'remix', 'remorse', 'removal', 'remove', 'removed', 'rene', 'reno', 'reopening', 'rep', 'repair', 'repatriated', 'repeat', 'replace', 'replacing', 'report', 'reported', 'reportedly', 'reporting', 'reports', 'republic', 'republican', 'republicans', 'request', 'required', 'requiring', 'rescue', 'rescued', 'rescuers', 'research', 'reshapes', 'residential', 'residents', 'resources', 'respect', 'respected', 'respond', 'responded', 'responder', 'responders', 'responding', 'responds', 'response', 'responsibility', 'responsible', 'rest', 'restaurants', 'restive', 'restore', 'restricted', 'result', 'resulted', 'resulting', 'results', 'retail', 'retract', 'retro', 'return', 'returned', 'returns', 'retweet', 'retweeted', 'reunion', 'reuters', 'revealed', 'reveals', 'revelation', 'revenues', 'review', 'reviews', 'revolution', 'reward', 'rexyy', 'rey', 'rice', 'richard', 'richmond', 'rick', 'rickperry', 'rid', 'ride', 'rider', 'riders', 'ridge', 'ridiculous', 'rifles', 'right', 'rights', 'ring', 'rio', 'riot', 'rioters', 'rioting', 'riots', 'rip', 'ripped', 'rise', 'rises', 'rising', 'risk', 'risks', 'river', 'riyadh', 'rly', 'rn', 'road', 'roads', 'rob', 'robert', 'roberts', 'robinson', 'robotrainstorm', 'robots', 'rock', 'rocket', 'rockin', 'rocks', 'rockstar', 'rocky', 'rockyfire', 'roger', 'rohingya', 'roll', 'roller', 'rolling', 'rolls', 'romance', 'rome', 'ronaldo', 'ronnie', 'roof', 'room', 'roosevelt', 'root', 'rose', 'roses', 'ross', 'rossum', 'round', 'route', 'routecomplex', 'row', 'royal', 'royals', 'rs', 'rspca', 'rss', 'rt', 'rtamerica', 'rubber', 'rubble', 'rudd', 'ruebs', 'ruin', 'ruined', 'ruins', 'rule', 'rules', 'run', 'running', 'runs', 'runway', 'rush', 'russia', 'russian', 'rworldnews', 'rwy', 'ryan', 'rì', 'sa', 'sac', 'sacramento', 'sad', 'saddlebrooke', 'sadly', 'safe', 'safely', 'safer', 'safety', 'said', 'sail', 'saipan', 'sake', 'sale', 'salem', 'salmon', 'salt', 'salty', 'samanthaturne', 'samaritans', 'same', 'samesex', 'san', 'sanctions', 'sandiego', 'sandstorm', 'sandy', 'santa', 'sarah', 'sassy', 'sat', 'satan', 'satchel', 'satellite', 'saturday', 'saturn', 'saudi', 'save', 'saved', 'saving', 'saw', 'say', 'saying', 'says', 'sb', 'scale', 'scare', 'scared', 'scariest', 'scars', 'scary', 'scene', 'schedule', 'scheme', 'schiphol', 'school', 'schools', 'schwarber', 'science', 'scientists', 'score', 'scotland', 'scott', 'scottwalker', 'scream', 'screamed', 'screaming', 'screams', 'screen', 'screenshots', 'screw', 'scuf', 'scwx', 'se', 'sea', 'seal', 'sean', 'search', 'searching', 'season', 'seasons', 'seat', 'seattle', 'second', 'seconds', 'secret', 'secrets', 'section', 'security', 'see', 'seeing', 'seek', 'seeks', 'seem', 'seems', 'seen', 'sees', 'seismic', 'selection', 'self', 'selfie', 'selfies', 'selfimage', 'sell', 'senator', 'send', 'sending', 'sends', 'senior', 'sense', 'sensor', 'sensorsenso', 'sent', 'sentinel', 'sep', 'sept', 'september', 'serial', 'series', 'serious', 'seriously', 'served', 'servers', 'service', 'services', 'set', 'setlist', 'sets', 'setting', 'settlement', 'seven', 'several', 'severe', 'sewer', 'sex', 'sexual', 'sexy', 'sf', 'sg', 'sh', 'shadow', 'shaker', 'shaking', 'shall', 'shame', 'shape', 'shaped', 'share', 'shared', 'shares', 'sharethis', 'shark', 'sharp', 'shaw', 'she', 'shed', 'sheer', 'sheeran', 'sheet', 'shelby', 'shell', 'shelter', 'shepherd', 'sheriff', 'shes', 'shift', 'ship', 'shipping', 'ships', 'shipwreck', 'shirt', 'shit', 'shitty', 'shock', 'shoes', 'shook', 'shoot', 'shooter', 'shooting', 'shop', 'shore', 'short', 'shot', 'shots', 'should', 'shoulder', 'shoulders', 'shouldnt', 'shouldve', 'shouting', 'show', 'showcase', 'showed', 'shower', 'shows', 'shut', 'shutdown', 'sibling', 'sicily', 'sick', 'side', 'sided', 'sidelines', 'sides', 'sigalert', 'sight', 'sign', 'signed', 'significant', 'signs', 'silence', 'silent', 'silver', 'silvergray', 'simon', 'simple', 'simulate', 'simulation', 'simultaneous', 'sin', 'since', 'sing', 'singing', 'single', 'singles', 'sinjar', 'sink', 'sinkhole', 'sinking', 'sir', 'siren', 'sirens', 'sismo', 'sister', 'sisters', 'sit', 'site', 'sites', 'sitting', 'sittwe', 'situation', 'six', 'sixmeter', 'sixpenceee', 'sixth', 'size', 'sized', 'skanndtyagi', 'sketch', 'skies', 'skill', 'skills', 'skin', 'skinny', 'skirt', 'sky', 'skyline', 'skys', 'slammed', 'slanglucci', 'slate', 'slayer', 'sleep', 'sleeping', 'slicker', 'slide', 'slides', 'slightly', 'slip', 'slipped', 'slips', 'slow', 'slower', 'slowly', 'sm', 'small', 'smart', 'smash', 'smaug', 'smh', 'smile', 'smiles', 'smiling', 'smithsonian', 'smoke', 'smoking', 'smoky', 'sms', 'sn', 'snacks', 'snap', 'snapchat', 'snd', 'sneak', 'snow', 'snowstorm', 'snuff', 'so', 'soak', 'soccer', 'social', 'socialism', 'socialmedia', 'socialnews', 'society', 'soft', 'software', 'solar', 'sold', 'soldier', 'soldiers', 'solicitor', 'solid', 'solo', 'solution', 'somalia', 'some', 'somebody', 'somehow', 'someone', 'someones', 'something', 'sometimes', 'son', 'song', 'songs', 'sons', 'sony', 'soon', 'sooo', 'soooo', 'sophie', 'sore', 'sorry', 'sort', 'sos', 'sosfam', 'soudelor', 'soudelors', 'soul', 'souls', 'sound', 'soundcloud', 'sounding', 'sounds', 'source', 'sources', 'south', 'southampton', 'southbound', 'southdowns', 'southeast', 'southern', 'soviet', 'sp', 'space', 'spaceship', 'spain', 'spanish', 'sparked', 'speaker', 'speaking', 'spears', 'special', 'specialists', 'specially', 'species', 'specif', 'specific', 'specimens', 'spectacular', 'speed', 'spencers', 'spend', 'spending', 'spent', 'spider', 'spill', 'spinning', 'spinningbot', 'spirit', 'spirits', 'split', 'sponsor', 'sport', 'sports', 'sportwatch', 'spos', 'spot', 'spots', 'spreading', 'spring', 'springs', 'sprinter', 'squad', 'square', 'squeeze', 'sr', 'ssw', 'st', 'stab', 'stabbing', 'stacey', 'stadium', 'staff', 'stage', 'stamp', 'stand', 'standard', 'standards', 'standing', 'stands', 'standuser', 'standwithpp', 'stans', 'star', 'starbucks', 'starring', 'stars', 'start', 'started', 'starter', 'starting', 'starts', 'startup', 'startups', 'starving', 'state', 'statement', 'states', 'station', 'stats', 'status', 'stay', 'steak', 'steal', 'stealing', 'steam', 'steel', 'stephen', 'stepped', 'steps', 'stereo', 'steve', 'stewart', 'stick', 'sticks', 'still', 'stir', 'sto', 'stock', 'stole', 'stomach', 'stone', 'stop', 'stopped', 'stops', 'store', 'stories', 'storm', 'storms', 'story', 'stout', 'straight', 'stranded', 'strange', 'strategicpatience', 'strategy', 'streak', 'stream', 'streaming', 'street', 'streets', 'strengthening', 'stress', 'stressed', 'stressful', 'stretcher', 'strike', 'strikes', 'strikesstrikes', 'stroke', 'strong', 'stronger', 'struck', 'structural', 'structure', 'structures', 'struggles', 'sts', 'stu', 'stuart', 'stuck', 'student', 'students', 'studio', 'study', 'stuff', 'stunned', 'stupid', 'style', 'stylish', 'sub', 'subject', 'subreddits', 'subs', 'success', 'such', 'sucks', 'suddenly', 'sue', 'suffer', 'suffered', 'suffering', 'suicide', 'suicidebombing', 'summary', 'summer', 'summerfate', 'summertime', 'summit', 'sun', 'sunday', 'sunk', 'sunny', 'sunset', 'super', 'superhero', 'supernatural', 'supervisor', 'supply', 'support', 'supports', 'supposed', 'supreme', 'surah', 'sure', 'surely', 'surf', 'surface', 'surfers', 'surge', 'surgery', 'surprise', 'surprised', 'surrender', 'surrounded', 'suruc', 'survey', 'survival', 'survive', 'survived', 'survivor', 'survivors', 'suspect', 'suspected', 'suv', 'sw', 'swallowed', 'swallows', 'swansea', 'swear', 'sweater', 'sweden', 'sweet', 'swim', 'swimming', 'swing', 'sws', 'sx', 'sydney', 'sympathy', 'symphony', 'syndrome', 'syria', 'syrian', 'system', 'systems', 'tab', 'table', 'tablet', 'tag', 'tahoe', 'taiwan', 'tak', 'take', 'taken', 'takes', 'taking', 'talent', 'talibans', 'talk', 'talking', 'tampa', 'tank', 'tanzania', 'tape', 'target', 'targeting', 'targets', 'tasmanias', 'taste', 'tastes', 'tattoo', 'taught', 'tax', 'taxiways', 'taylor', 'tb', 'tc', 'tcot', 'tdp', 'te', 'tea', 'teacher', 'teachers', 'teaching', 'team', 'teams', 'tears', 'tech', 'techesback', 'technique', 'technologies', 'technology', 'ted', 'tee', 'teen', 'teens', 'teeth', 'telegraph', 'tell', 'telling', 'tells', 'temper', 'temperature', 'tempered', 'temple', 'temporary', 'temptation', 'ten', 'tennessee', 'tens', 'tension', 'tent', 'terms', 'terrible', 'terrifying', 'terror', 'terrorism', 'terrorist', 'terrorists', 'test', 'tested', 'testimony', 'tests', 'texas', 'text', 'tf', 'tflbusalerts', 'th', 'tha', 'than', 'thank', 'thankfully', 'thanks', 'thanku', 'that', 'thats', 'the', 'theadvocatemag', 'theater', 'theatre', 'thee', 'thegame', 'their', 'them', 'themed', 'themselves', 'then', 'theory', 'therapies', 'therapy', 'there', 'theres', 'these', 'thetawniest', 'they', 'theyll', 'theyre', 'theyve', 'thick', 'thin', 'thing', 'things', 'think', 'thinking', 'third', 'thirsty', 'this', 'thisizbwright', 'tho', 'thomas', 'those', 'though', 'thought', 'thoughts', 'thousand', 'thousands', 'threat', 'threatening', 'threatens', 'threats', 'three', 'threw', 'thriller', 'through', 'throughout', 'throw', 'throwing', 'throwingknifes', 'thrown', 'thru', 'thu', 'thuggin', 'thunder', 'thunderstorm', 'thunderstorms', 'thurs', 'thursday', 'thus', 'thx', 'thy', 'thyroid', 'ticket', 'tickets', 'tidal', 'tides', 'til', 'till', 'tilnow', 'time', 'timeline', 'times', 'timkaine', 'tin', 'tinyjecht', 'tips', 'tired', 'titan', 'title', 'tix', 'tlc', 'tmp', 'to', 'today', 'todays', 'todd', 'toddler', 'toe', 'together', 'toilet', 'tokyo', 'told', 'toll', 'tom', 'tomcatarts', 'tomorrow', 'tomorrows', 'tongue', 'tonight', 'tonights', 'tons', 'tonto', 'too', 'took', 'tool', 'tools', 'tooth', 'top', 'tops', 'torching', 'tornado', 'tornados', 'toronto', 'torture', 'total', 'totaling', 'totally', 'tote', 'totes', 'touch', 'touched', 'tough', 'tour', 'toward', 'towards', 'towel', 'tower', 'town', 'township', 'tr', 'track', 'tracking', 'tracks', 'trading', 'traditional', 'traffic', 'trafford', 'tragedy', 'tragic', 'trailer', 'train', 'training', 'trains', 'tram', 'transfer', 'transformation', 'transformed', 'transit', 'transport', 'transporting', 'trap', 'trapmusic', 'trapped', 'trauma', 'traumatised', 'travel', 'traveling', 'traverse', 'treat', 'treated', 'treatment', 'tree', 'treeporn', 'trees', 'trench', 'trend', 'trent', 'trfc', 'trial', 'trials', 'tribal', 'tribune', 'trick', 'tried', 'tries', 'triggered', 'trillion', 'trip', 'triple', 'tripledigit', 'troll', 'trolley', 'troops', 'tropical', 'trouble', 'troubling', 'troy', 'trs', 'trubgme', 'truck', 'trucks', 'true', 'truly', 'trump', 'trust', 'trusting', 'truth', 'try', 'trying', 'tryna', 'tryouts', 'ts', 'tsunami', 'tsunamiesh', 'tt', 'tube', 'tubestrike', 'tuesday', 'tumbling', 'tumblr', 'tune', 'tuned', 'tunein', 'tuning', 'tunnel', 'turbine', 'turkey', 'turkish', 'turn', 'turned', 'turning', 'turns', 'tutorial', 'tv', 'tweet', 'tweets', 'twelve', 'twia', 'twice', 'twin', 'twister', 'twitter', 'two', 'twos', 'twovehicle', 'ty', 'tyler', 'type', 'typhoon', 'typhoondevastated', 'typical', 'typos', 'tyre', 'uber', 'ud', 'udhampur', 'uganda', 'ugh', 'ugly', 'uh', 'uk', 'ukraine', 'ultimalucha', 'ultimate', 'un', 'unavoidable', 'unawares', 'uncle', 'unconfirmed', 'under', 'undercover', 'understand', 'understanding', 'underwater', 'underway', 'unfolded', 'unfortunately', 'unhappiness', 'uniform', 'union', 'unions', 'unique', 'unit', 'united', 'units', 'unity', 'universe', 'university', 'unknown', 'unless', 'unlocked', 'unnecessary', 'unprecedented', 'unrelenting', 'unsafe', 'unsuckdcmetro', 'until', 'unto', 'unveiled', 'up', 'update', 'updated', 'updates', 'upgraded', 'upgrading', 'upheaval', 'upon', 'upper', 'upset', 'ur', 'uranium', 'urgent', 'uribe', 'us', 'usa', 'usagov', 'usatoday', 'use', 'used', 'user', 'users', 'uses', 'usgs', 'ushanka', 'using', 'usual', 'usually', 'ut', 'utc', 'utter', 'utterly', 'utv', 'va', 'vabengal', 'vacant', 'vacation', 'val', 'valley', 'value', 'values', 'vampiro', 'van', 'vancouver', 'vantage', 'variety', 'vashon', 'vault', 've', 'vegas', 'vegetable', 'vehicle', 'vehicles', 'venezuela', 'verdict', 'vermont', 'versethe', 'version', 'versions', 'very', 'vet', 'veterans', 'vets', 'vgbootcamp', 'vi', 'via', 'vice', 'vicinity', 'victim', 'victims', 'victory', 'vid', 'vida', 'video', 'videos', 'videoveranomtv', 'vietnam', 'vietnamese', 'view', 'village', 'villagers', 'villages', 'vine', 'vintage', 'vinyl', 'violence', 'violent', 'vip', 'viralspell', 'virgil', 'virgin', 'virus', 'visibility', 'visit', 'visited', 'visits', 'vital', 'vladimir', 'vocal', 'vods', 'voice', 'volcano', 'volcanoes', 'volcanoåêinåêrussia', 'volga', 'vote', 'votejktid', 'voter', 'voting', 'vs', 'vuitton', 'vulnerable', 'wa', 'waimate', 'waist', 'wait', 'waiting', 'waits', 'wake', 'waking', 'walk', 'walked', 'walking', 'wall', 'walls', 'walmart', 'walter', 'wanna', 'wannabe', 'want', 'wanted', 'wanting', 'wants', 'war', 'warcraft', 'warfighting', 'warm', 'warned', 'warning', 'warnings', 'warns', 'wars', 'warship', 'warships', 'was', 'wash', 'washed', 'washington', 'washingtonpost', 'wasnt', 'waste', 'watch', 'watched', 'watching', 'water', 'waterresistant', 'watertown', 'waterways', 'wave', 'waves', 'waving', 'way', 'wayne', 'ways', 'wb', 'wbioterrorismampuse', 'wd', 'we', 'weak', 'weakening', 'wealth', 'weapon', 'weapons', 'wear', 'wearing', 'weather', 'weathernetwork', 'website', 'wed', 'wedaugth', 'wedding', 'wedn', 'wednesday', 'wednesdays', 'wee', 'weed', 'week', 'weekend', 'weekold', 'weeks', 'weight', 'weird', 'welcome', 'welfare', 'well', 'went', 'were', 'werent', 'west', 'western', 'wet', 'weve', 'weyreygidi', 'wftv', 'whales', 'whao', 'what', 'whats', 'wheavenly', 'wheel', 'wheeler', 'when', 'whenever', 'where', 'wheres', 'whether', 'which', 'while', 'whipped', 'whirlwind', 'white', 'who', 'whoa', 'whoever', 'whole', 'whomever', 'whoops', 'whos', 'whose', 'wht', 'why', 'wi', 'wicked', 'wide', 'widespread', 'wife', 'wild', 'wildfire', 'wildfires', 'will', 'william', 'williams', 'willing', 'wilshere', 'win', 'wind', 'window', 'windows', 'winds', 'windstorm', 'wing', 'wings', 'winning', 'wins', 'winston', 'winter', 'wipp', 'wire', 'wired', 'wireless', 'wisenews', 'wish', 'wit', 'with', 'wither', 'within', 'without', 'witness', 'witter', 'wmata', 'wnd', 'wo', 'wod', 'woke', 'wolf', 'wom', 'woman', 'women', 'womens', 'won', 'wonder', 'wonderful', 'wondering', 'wont', 'wood', 'word', 'wordpressdotcom', 'words', 'work', 'worked', 'workers', 'working', 'workplace', 'works', 'world', 'worldnetdaily', 'worldnews', 'worlds', 'worldwide', 'worn', 'worried', 'worries', 'worry', 'worrying', 'worse', 'worst', 'worstsummerjob', 'worth', 'would', 'wouldnt', 'wouldve', 'wound', 'wounded', 'wounds', 'wow', 'wowo', 'wpt', 'wrap', 'wrapup', 'wreck', 'wreckage', 'wrecked', 'wrist', 'write', 'writer', 'writing', 'written', 'wrong', 'wrought', 'wtf', 'wud', 'ww', 'wwi', 'wwii', 'wwwcbplawyers', 'wx', 'wy', 'xb', 'xbox', 'xd', 'xl', 'xoxo', 'xp', 'xxx', 'ya', 'yahoo', 'yahoonews', 'yall', 'yankees', 'yay', 'yazidis', 'yea', 'yeah', 'year', 'yearold', 'years', 'yellow', 'yep', 'yes', 'yesterday', 'yesterdays', 'yet', 'yo', 'yobe', 'yonews', 'york', 'yorker', 'you', 'youd', 'yougov', 'youll', 'young', 'youngheroesid', 'your', 'youre', 'yours', 'yourself', 'youth', 'youtube', 'youve', 'yr', 'yrs', 'yugvani', 'yyc', 'yycstorm', 'zakbagans', 'zarry', 'zayn', 'zimbabwe', 'zionism', 'zionist', 'zombie', 'zone', 'zouma', 'zss', 'åè', 'åê', 'åêdemolition', 'ìñ', 'ûª', 'ûªd', 'ûªll', 'ûªm', 'ûªre', 'ûªs', 'ûªt', 'ûªve', 'ûïa', 'ûïhannaph', 'ûïhatchet', 'ûïrichmond', 'ûïstretcher', 'ûïthe', 'ûïwe', 'ûïwhen', 'ûò', 'ûó']\n"
     ]
    }
   ],
   "source": [
    "vec = TfidfVectorizer(min_df=VECT_MIN, max_df=VECT_MAX)\n",
    "vec.fit(X_train)\n",
    "X_train_vec = vec.transform(X_train)\n",
    "X_test_vec = vec.transform(X_test)\n",
    "\n",
    "print(vec.get_feature_names())"
   ],
   "metadata": {
    "collapsed": false,
    "pycharm": {
     "name": "#%%\n"
    }
   }
  },
  {
   "cell_type": "code",
   "execution_count": 28,
   "outputs": [
    {
     "data": {
      "text/plain": "SVC()"
     },
     "execution_count": 28,
     "metadata": {},
     "output_type": "execute_result"
    }
   ],
   "source": [
    "svc = SVC()\n",
    "svc.fit(X_train_vec, y_train)"
   ],
   "metadata": {
    "collapsed": false,
    "pycharm": {
     "name": "#%%\n"
    }
   }
  },
  {
   "cell_type": "code",
   "execution_count": 29,
   "outputs": [
    {
     "name": "stdout",
     "output_type": "stream",
     "text": [
      "0.954351395730706\n",
      "0.8069599474720945\n"
     ]
    }
   ],
   "source": [
    "print(svc.score(X_train_vec, y_train))\n",
    "print(svc.score(X_test_vec, y_test))"
   ],
   "metadata": {
    "collapsed": false,
    "pycharm": {
     "name": "#%%\n"
    }
   }
  },
  {
   "cell_type": "code",
   "execution_count": 30,
   "outputs": [
    {
     "name": "stdout",
     "output_type": "stream",
     "text": [
      "[[784  90]\n",
      " [204 445]]\n",
      "Normalized confusion matrix\n"
     ]
    },
    {
     "data": {
      "text/plain": "<Figure size 432x288 with 2 Axes>",
      "image/png": "[encoded data removed]"
     },
     "metadata": {
      "needs_background": "light"
     },
     "output_type": "display_data"
    }
   ],
   "source": [
    "y_pred_test = svc.predict(X_test_vec)\n",
    "cm = confusion_matrix(y_test, y_pred_test)\n",
    "\n",
    "def plot_confusion_matrix(cm, classes,\n",
    "                          normalize=True,\n",
    "                          title='Confusion matrix for test set',\n",
    "                          cmap=plt.cm.Blues):\n",
    "\n",
    "    \"\"\"\n",
    "    This function prints and plots the confusion matrix.\n",
    "    Normalization can be applied by setting `normalize=True`.print(classification_report(y_test, y_pred_test))\n",
    "    \"\"\"\n",
    "    print(cm)\n",
    "    if normalize:\n",
    "        cm = cm.astype('float') / cm.sum(axis=1)[:, np.newaxis]\n",
    "        print(\"Normalized confusion matrix\")\n",
    "    else:\n",
    "        print('Confusion matrix, without normalization')\n",
    "\n",
    "    plt.imshow(cm, interpolation='nearest', cmap=cmap)\n",
    "    plt.title(title)\n",
    "    plt.colorbar()\n",
    "    tick_marks = np.arange(len(classes))\n",
    "    plt.xticks(tick_marks, classes, rotation=45)\n",
    "    plt.yticks(tick_marks, classes)\n",
    "\n",
    "    fmt = '.2f' if normalize else 'd'\n",
    "    thresh = cm.max() / 2.\n",
    "    for i, j in itertools.product(range(cm.shape[0]), range(cm.shape[1])):\n",
    "        plt.text(j, i, format(cm[i, j], fmt),\n",
    "                 horizontalalignment=\"center\",\n",
    "                 color=\"white\" if cm[i, j] > thresh else \"black\")\n",
    "\n",
    "    plt.ylabel('True label')\n",
    "    plt.xlabel('Predicted label')\n",
    "    plt.tight_layout()\n",
    "\n",
    "\n",
    "plot_confusion_matrix(cm, [False, True])"
   ],
   "metadata": {
    "collapsed": false,
    "pycharm": {
     "name": "#%%\n"
    }
   }
  },
  {
   "cell_type": "code",
   "execution_count": 31,
   "outputs": [
    {
     "name": "stdout",
     "output_type": "stream",
     "text": [
      "              precision    recall  f1-score   support\n",
      "\n",
      "           0       0.79      0.90      0.84       874\n",
      "           1       0.83      0.69      0.75       649\n",
      "\n",
      "    accuracy                           0.81      1523\n",
      "   macro avg       0.81      0.79      0.80      1523\n",
      "weighted avg       0.81      0.81      0.80      1523\n",
      "\n"
     ]
    }
   ],
   "source": [
    "print(classification_report(y_test, y_pred_test))"
   ],
   "metadata": {
    "collapsed": false,
    "pycharm": {
     "name": "#%%\n"
    }
   }
  },
  {
   "cell_type": "markdown",
   "source": [
    "## Cross validation"
   ],
   "metadata": {
    "collapsed": false,
    "pycharm": {
     "name": "#%% md\n"
    }
   }
  },
  {
   "cell_type": "code",
   "execution_count": 32,
   "outputs": [
    {
     "name": "stdout",
     "output_type": "stream",
     "text": [
      "TRAIN: 5709 TEST: 1904\n",
      "CV ACCURACY: 0.954983359607637\n",
      "\n",
      "\n",
      "TRAIN: 5710 TEST: 1903\n",
      "CV ACCURACY: 0.9558669001751313\n",
      "\n",
      "\n",
      "TRAIN: 5710 TEST: 1903\n",
      "CV ACCURACY: 0.9574430823117338\n",
      "\n",
      "\n",
      "TRAIN: 5710 TEST: 1903\n",
      "CV ACCURACY: 0.9523642732049037\n",
      "\n",
      "\n",
      "[[3797  545]\n",
      " [1499 1772]]\n",
      "Normalized confusion matrix\n"
     ]
    },
    {
     "data": {
      "text/plain": "<Figure size 432x288 with 2 Axes>",
      "image/png": "[encoded data removed]"
     },
     "metadata": {
      "needs_background": "light"
     },
     "output_type": "display_data"
    }
   ],
   "source": [
    "X_cv = train_df['text_preproc']\n",
    "y_cv = train_df['target']\n",
    "\n",
    "CONF_MATRIXES = []\n",
    "\n",
    "skf = StratifiedKFold(n_splits=4)\n",
    "for train_idx, test_idx in skf.split(X_cv, y_cv):\n",
    "    print('TRAIN:', len(train_idx), 'TEST:', len(test_idx))\n",
    "    X_train_cv, X_test_cv = X_cv[train_idx], X_cv[test_idx]\n",
    "    y_train_cv, y_test_cv = y_cv[train_idx], y_cv[test_idx]\n",
    "\n",
    "    vec_cv = TfidfVectorizer(min_df=VECT_MIN, max_df=VECT_MAX)\n",
    "    X_train_vec_cv = vec_cv.fit_transform(X_train_cv)\n",
    "    X_test_vec_cv = vec_cv.transform(X_test_cv)\n",
    "\n",
    "    svc_cv = SVC()\n",
    "    svc_cv.fit(X_train_vec_cv, y_train_cv)\n",
    "    accuracy_cv = svc_cv.score(X_train_vec_cv, y_train_cv)\n",
    "\n",
    "    print(f'CV ACCURACY: {accuracy_cv}')\n",
    "    y_pred_cv = svc_cv.predict(X_test_vec_cv)\n",
    "    cm = confusion_matrix(y_test_cv, y_pred_cv)\n",
    "    CONF_MATRIXES.append(cm)\n",
    "    print('\\n')\n",
    "\n",
    "# overall results\n",
    "cm = np.array(CONF_MATRIXES).sum(axis=0)\n",
    "plot_confusion_matrix(cm, [0, 1])"
   ],
   "metadata": {
    "collapsed": false,
    "pycharm": {
     "name": "#%%\n"
    }
   }
  },
  {
   "cell_type": "markdown",
   "source": [
    "## Final model training"
   ],
   "metadata": {
    "collapsed": false,
    "pycharm": {
     "name": "#%% md\n"
    }
   }
  },
  {
   "cell_type": "code",
   "execution_count": 33,
   "outputs": [
    {
     "name": "stdout",
     "output_type": "stream",
     "text": [
      "0.9515302771574937\n",
      "[[4281   61]\n",
      " [ 308 2963]]\n",
      "Normalized confusion matrix\n",
      "              precision    recall  f1-score   support\n",
      "\n",
      "           0       0.93      0.99      0.96      4342\n",
      "           1       0.98      0.91      0.94      3271\n",
      "\n",
      "    accuracy                           0.95      7613\n",
      "   macro avg       0.96      0.95      0.95      7613\n",
      "weighted avg       0.95      0.95      0.95      7613\n",
      "\n"
     ]
    },
    {
     "data": {
      "text/plain": "<Figure size 432x288 with 2 Axes>",
      "image/png": "[encoded data removed]"
     },
     "metadata": {
      "needs_background": "light"
     },
     "output_type": "display_data"
    }
   ],
   "source": [
    "vec = TfidfVectorizer(min_df=VECT_MIN, max_df=VECT_MAX)\n",
    "X_vec = vec.fit_transform(X)\n",
    "\n",
    "svc = SVC()\n",
    "svc.fit(X_vec, y)\n",
    "print(svc.score(X_vec, y))\n",
    "\n",
    "y_pred = svc.predict(X_vec)\n",
    "\n",
    "cm = confusion_matrix(y, svc.predict(X_vec))\n",
    "plot_confusion_matrix(cm, [0, 1])\n",
    "\n",
    "print(classification_report(y, y_pred))"
   ],
   "metadata": {
    "collapsed": false,
    "pycharm": {
     "name": "#%%\n"
    }
   }
  },
  {
   "cell_type": "code",
   "execution_count": 34,
   "outputs": [
    {
     "data": {
      "text/plain": "   id keyword location                                               text\n0   0     NaN      NaN                 Just happened a terrible car crash\n1   2     NaN      NaN  Heard about #earthquake is different cities, s...\n2   3     NaN      NaN  there is a forest fire at spot pond, geese are...",
      "text/html": "<div>\n<style scoped>\n    .dataframe tbody tr th:only-of-type {\n        vertical-align: middle;\n    }\n\n    .dataframe tbody tr th {\n        vertical-align: top;\n    }\n\n    .dataframe thead th {\n        text-align: right;\n    }\n</style>\n<table border=\"1\" class=\"dataframe\">\n  <thead>\n    <tr style=\"text-align: right;\">\n      <th></th>\n      <th>id</th>\n      <th>keyword</th>\n      <th>location</th>\n      <th>text</th>\n    </tr>\n  </thead>\n  <tbody>\n    <tr>\n      <th>0</th>\n      <td>0</td>\n      <td>NaN</td>\n      <td>NaN</td>\n      <td>Just happened a terrible car crash</td>\n    </tr>\n    <tr>\n      <th>1</th>\n      <td>2</td>\n      <td>NaN</td>\n      <td>NaN</td>\n      <td>Heard about #earthquake is different cities, s...</td>\n    </tr>\n    <tr>\n      <th>2</th>\n      <td>3</td>\n      <td>NaN</td>\n      <td>NaN</td>\n      <td>there is a forest fire at spot pond, geese are...</td>\n    </tr>\n  </tbody>\n</table>\n</div>"
     },
     "execution_count": 34,
     "metadata": {},
     "output_type": "execute_result"
    }
   ],
   "source": [
    "test_df[:3]"
   ],
   "metadata": {
    "collapsed": false,
    "pycharm": {
     "name": "#%%\n"
    }
   }
  },
  {
   "cell_type": "code",
   "execution_count": 35,
   "outputs": [
    {
     "data": {
      "text/plain": "0                      just happened a terrible car crash\n1       heard about earthquake is different cities sta...\n2       there is a forest fire at spot pond geese are ...\n3                   apocalypse lighting spokane wildfires\n4             typhoon soudelor kills  in china and taiwan\n                              ...                        \n3258    earthquake safety los angeles ûò safety faste...\n3259    storm in ri worse than last hurricane my citya...\n3260    green line derailment in chicago httptcoutbxlc...\n3261    meg issues hazardous weather outlook hwo httpt...\n3262    cityofcalgary has activated its municipal emer...\nName: text_preproc, Length: 3263, dtype: object"
     },
     "execution_count": 35,
     "metadata": {},
     "output_type": "execute_result"
    }
   ],
   "source": [
    "test_df['text_preproc'] = test_df['text'].apply(_preprocessing)\n",
    "X_out = test_df['text_preproc']\n",
    "X_out"
   ],
   "metadata": {
    "collapsed": false,
    "pycharm": {
     "name": "#%%\n"
    }
   }
  },
  {
   "cell_type": "code",
   "execution_count": 36,
   "outputs": [
    {
     "data": {
      "text/plain": "<3263x6416 sparse matrix of type '<class 'numpy.float64'>'\n\twith 34983 stored elements in Compressed Sparse Row format>"
     },
     "execution_count": 36,
     "metadata": {},
     "output_type": "execute_result"
    }
   ],
   "source": [
    "X_out_vec = vec.transform(X_out)\n",
    "X_out_vec"
   ],
   "metadata": {
    "collapsed": false,
    "pycharm": {
     "name": "#%%\n"
    }
   }
  },
  {
   "cell_type": "code",
   "execution_count": 37,
   "outputs": [
    {
     "data": {
      "text/plain": "array([1, 0, 1, ..., 1, 1, 0], dtype=int64)"
     },
     "execution_count": 37,
     "metadata": {},
     "output_type": "execute_result"
    }
   ],
   "source": [
    "y_out_pred = svc.predict(X_out_vec)\n",
    "y_out_pred"
   ],
   "metadata": {
    "collapsed": false,
    "pycharm": {
     "name": "#%%\n"
    }
   }
  },
  {
   "cell_type": "code",
   "execution_count": 38,
   "outputs": [],
   "source": [
    "file = pd.DataFrame({\n",
    "   'id': test_df['id'],\n",
    "   'target': y_out_pred\n",
    "})\n",
    "\n",
    "file.to_csv('disaster-tweets-svm-tfidf-lemma.csv', index=False)"
   ],
   "metadata": {
    "collapsed": false,
    "pycharm": {
     "name": "#%%\n"
    }
   }
  }
 ],
 "metadata": {
  "kernelspec": {
   "display_name": "Python 3",
   "language": "python",
   "name": "python3"
  },
  "language_info": {
   "codemirror_mode": {
    "name": "ipython",
    "version": 2
   },
   "file_extension": ".py",
   "mimetype": "text/x-python",
   "name": "python",
   "nbconvert_exporter": "python",
   "pygments_lexer": "ipython2",
   "version": "2.7.6"
  }
 },
 "nbformat": 4,
 "nbformat_minor": 0
}
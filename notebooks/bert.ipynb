{
 "cells": [
  {
   "cell_type": "markdown",
   "metadata": {
    "pycharm": {
     "name": "#%% md\n"
    }
   },
   "source": [
    "## BERT\n",
    "\n",
    "Based on findings from LSTM notebook. Small bert with Tensorflow preprocessing & encoding layers used.\n",
    "As it was trained on Windows, nightly builds were used (look into requirements_bert.txt).\n",
    "\n",
    "Due to small dataset only two sets are present (train & test, no validation set). Only deduplication copied from LSTM preprocessing."
   ]
  },
  {
   "cell_type": "code",
   "execution_count": 1,
   "metadata": {
    "pycharm": {
     "name": "#%%\n"
    }
   },
   "outputs": [
    {
     "name": "stdout",
     "output_type": "stream",
     "text": [
      "INFO:tensorflow:Enabling eager execution\n",
      "INFO:tensorflow:Enabling v2 tensorshape\n",
      "INFO:tensorflow:Enabling resource variables\n",
      "INFO:tensorflow:Enabling tensor equality\n",
      "INFO:tensorflow:Enabling control flow v2\n"
     ]
    },
    {
     "name": "stderr",
     "output_type": "stream",
     "text": [
      "c:\\users\\mikol\\miniconda3\\envs\\kaggle02-bert\\lib\\site-packages\\tensorflow_addons\\utils\\ensure_tf_install.py:37: UserWarning: You are currently using a nightly version of TensorFlow (2.5.0-dev20210326). \n",
      "TensorFlow Addons offers no support for the nightly versions of TensorFlow. Some things might work, some other might not. \n",
      "If you encounter a bug, do not file an issue on GitHub.\n",
      "  warnings.warn(\n"
     ]
    }
   ],
   "source": [
    "%load_ext autoreload\n",
    "%autoreload 2\n",
    "\n",
    "import itertools\n",
    "\n",
    "import numpy as np\n",
    "import pandas as pd\n",
    "import tensorflow as tf\n",
    "import matplotlib.pyplot as plt\n",
    "\n",
    "# text must be loaded for hub to work!\n",
    "import tensorflow_text as text\n",
    "import tensorflow_hub as hub\n",
    "from sklearn.model_selection import train_test_split, StratifiedKFold\n",
    "from sklearn.metrics import confusion_matrix, classification_report\n",
    "from tensorflow.keras import layers\n",
    "from official.nlp import optimization\n",
    "\n",
    "np.random.seed(42)\n",
    "\n",
    "physical_devices = tf.config.list_physical_devices('GPU')"
   ]
  },
  {
   "cell_type": "markdown",
   "metadata": {
    "pycharm": {
     "name": "#%% md\n"
    }
   },
   "source": [
    "## Loading data"
   ]
  },
  {
   "cell_type": "code",
   "execution_count": 2,
   "metadata": {
    "pycharm": {
     "name": "#%%\n"
    }
   },
   "outputs": [
    {
     "data": {
      "text/html": [
       "<div>\n",
       "<style scoped>\n",
       "    .dataframe tbody tr th:only-of-type {\n",
       "        vertical-align: middle;\n",
       "    }\n",
       "\n",
       "    .dataframe tbody tr th {\n",
       "        vertical-align: top;\n",
       "    }\n",
       "\n",
       "    .dataframe thead th {\n",
       "        text-align: right;\n",
       "    }\n",
       "</style>\n",
       "<table border=\"1\" class=\"dataframe\">\n",
       "  <thead>\n",
       "    <tr style=\"text-align: right;\">\n",
       "      <th></th>\n",
       "      <th>id</th>\n",
       "      <th>keyword</th>\n",
       "      <th>location</th>\n",
       "      <th>text</th>\n",
       "      <th>target</th>\n",
       "    </tr>\n",
       "  </thead>\n",
       "  <tbody>\n",
       "    <tr>\n",
       "      <th>0</th>\n",
       "      <td>1</td>\n",
       "      <td>NaN</td>\n",
       "      <td>NaN</td>\n",
       "      <td>Our Deeds are the Reason of this #earthquake M...</td>\n",
       "      <td>1</td>\n",
       "    </tr>\n",
       "    <tr>\n",
       "      <th>1</th>\n",
       "      <td>4</td>\n",
       "      <td>NaN</td>\n",
       "      <td>NaN</td>\n",
       "      <td>Forest fire near La Ronge Sask. Canada</td>\n",
       "      <td>1</td>\n",
       "    </tr>\n",
       "    <tr>\n",
       "      <th>2</th>\n",
       "      <td>5</td>\n",
       "      <td>NaN</td>\n",
       "      <td>NaN</td>\n",
       "      <td>All residents asked to 'shelter in place' are ...</td>\n",
       "      <td>1</td>\n",
       "    </tr>\n",
       "  </tbody>\n",
       "</table>\n",
       "</div>"
      ],
      "text/plain": [
       "   id keyword location                                               text  \\\n",
       "0   1     NaN      NaN  Our Deeds are the Reason of this #earthquake M...   \n",
       "1   4     NaN      NaN             Forest fire near La Ronge Sask. Canada   \n",
       "2   5     NaN      NaN  All residents asked to 'shelter in place' are ...   \n",
       "\n",
       "   target  \n",
       "0       1  \n",
       "1       1  \n",
       "2       1  "
      ]
     },
     "execution_count": 2,
     "metadata": {},
     "output_type": "execute_result"
    }
   ],
   "source": [
    "train_df = pd.read_csv('../data/train.csv', encoding='utf-8', warn_bad_lines=True, error_bad_lines=False)\n",
    "test_df = pd.read_csv('../data/test.csv', encoding='utf-8', warn_bad_lines=True, error_bad_lines=False)\n",
    "\n",
    "train_df[:3]"
   ]
  },
  {
   "cell_type": "code",
   "execution_count": 3,
   "metadata": {
    "pycharm": {
     "name": "#%%\n"
    }
   },
   "outputs": [
    {
     "name": "stdout",
     "output_type": "stream",
     "text": [
      "7613\n"
     ]
    }
   ],
   "source": [
    "print(len(train_df))\n",
    "\n",
    "targets_df = train_df.groupby('text').nunique().sort_values(by='target', ascending=False)\n",
    "mismatched_texts = list(targets_df[targets_df['target'] > 1].index)"
   ]
  },
  {
   "cell_type": "code",
   "execution_count": 4,
   "metadata": {
    "pycharm": {
     "name": "#%%\n"
    }
   },
   "outputs": [
    {
     "data": {
      "text/html": [
       "<div>\n",
       "<style scoped>\n",
       "    .dataframe tbody tr th:only-of-type {\n",
       "        vertical-align: middle;\n",
       "    }\n",
       "\n",
       "    .dataframe tbody tr th {\n",
       "        vertical-align: top;\n",
       "    }\n",
       "\n",
       "    .dataframe thead th {\n",
       "        text-align: right;\n",
       "    }\n",
       "</style>\n",
       "<table border=\"1\" class=\"dataframe\">\n",
       "  <thead>\n",
       "    <tr style=\"text-align: right;\">\n",
       "      <th></th>\n",
       "      <th>id</th>\n",
       "      <th>keyword</th>\n",
       "      <th>location</th>\n",
       "      <th>text</th>\n",
       "      <th>target</th>\n",
       "    </tr>\n",
       "  </thead>\n",
       "  <tbody>\n",
       "    <tr>\n",
       "      <th>610</th>\n",
       "      <td>881</td>\n",
       "      <td>bioterrorism</td>\n",
       "      <td>NaN</td>\n",
       "      <td>To fight bioterrorism sir.</td>\n",
       "      <td>1</td>\n",
       "    </tr>\n",
       "    <tr>\n",
       "      <th>624</th>\n",
       "      <td>898</td>\n",
       "      <td>bioterrorism</td>\n",
       "      <td>NaN</td>\n",
       "      <td>To fight bioterrorism sir.</td>\n",
       "      <td>0</td>\n",
       "    </tr>\n",
       "    <tr>\n",
       "      <th>630</th>\n",
       "      <td>907</td>\n",
       "      <td>bioterrorism</td>\n",
       "      <td>NaN</td>\n",
       "      <td>To fight bioterrorism sir.</td>\n",
       "      <td>1</td>\n",
       "    </tr>\n",
       "    <tr>\n",
       "      <th>634</th>\n",
       "      <td>916</td>\n",
       "      <td>bioterrorism</td>\n",
       "      <td>NaN</td>\n",
       "      <td>To fight bioterrorism sir.</td>\n",
       "      <td>0</td>\n",
       "    </tr>\n",
       "    <tr>\n",
       "      <th>1197</th>\n",
       "      <td>1723</td>\n",
       "      <td>buildings%20burning</td>\n",
       "      <td>Mackay, QLD, Australia</td>\n",
       "      <td>Mmmmmm I'm burning.... I'm burning buildings I...</td>\n",
       "      <td>1</td>\n",
       "    </tr>\n",
       "    <tr>\n",
       "      <th>1214</th>\n",
       "      <td>1752</td>\n",
       "      <td>buildings%20burning</td>\n",
       "      <td>Epic City, BB.</td>\n",
       "      <td>I Pledge Allegiance To The P.O.P.E. And The Bu...</td>\n",
       "      <td>0</td>\n",
       "    </tr>\n",
       "    <tr>\n",
       "      <th>1221</th>\n",
       "      <td>1760</td>\n",
       "      <td>buildings%20burning</td>\n",
       "      <td>dallas</td>\n",
       "      <td>like for the music video I want some real acti...</td>\n",
       "      <td>1</td>\n",
       "    </tr>\n",
       "    <tr>\n",
       "      <th>1331</th>\n",
       "      <td>1922</td>\n",
       "      <td>burning%20buildings</td>\n",
       "      <td>Mackay, QLD, Australia</td>\n",
       "      <td>Mmmmmm I'm burning.... I'm burning buildings I...</td>\n",
       "      <td>0</td>\n",
       "    </tr>\n",
       "    <tr>\n",
       "      <th>1349</th>\n",
       "      <td>1950</td>\n",
       "      <td>burning%20buildings</td>\n",
       "      <td>dallas</td>\n",
       "      <td>like for the music video I want some real acti...</td>\n",
       "      <td>0</td>\n",
       "    </tr>\n",
       "    <tr>\n",
       "      <th>1365</th>\n",
       "      <td>1968</td>\n",
       "      <td>burning%20buildings</td>\n",
       "      <td>Epic City, BB.</td>\n",
       "      <td>I Pledge Allegiance To The P.O.P.E. And The Bu...</td>\n",
       "      <td>1</td>\n",
       "    </tr>\n",
       "    <tr>\n",
       "      <th>2830</th>\n",
       "      <td>4068</td>\n",
       "      <td>displaced</td>\n",
       "      <td>Pedophile hunting ground</td>\n",
       "      <td>.POTUS #StrategicPatience is a strategy for #G...</td>\n",
       "      <td>1</td>\n",
       "    </tr>\n",
       "    <tr>\n",
       "      <th>2831</th>\n",
       "      <td>4072</td>\n",
       "      <td>displaced</td>\n",
       "      <td>Pedophile hunting ground</td>\n",
       "      <td>.POTUS #StrategicPatience is a strategy for #G...</td>\n",
       "      <td>1</td>\n",
       "    </tr>\n",
       "    <tr>\n",
       "      <th>2832</th>\n",
       "      <td>4076</td>\n",
       "      <td>displaced</td>\n",
       "      <td>Pedophile hunting ground</td>\n",
       "      <td>.POTUS #StrategicPatience is a strategy for #G...</td>\n",
       "      <td>0</td>\n",
       "    </tr>\n",
       "    <tr>\n",
       "      <th>2833</th>\n",
       "      <td>4077</td>\n",
       "      <td>displaced</td>\n",
       "      <td>Pedophile hunting ground</td>\n",
       "      <td>.POTUS #StrategicPatience is a strategy for #G...</td>\n",
       "      <td>1</td>\n",
       "    </tr>\n",
       "    <tr>\n",
       "      <th>3240</th>\n",
       "      <td>4656</td>\n",
       "      <td>engulfed</td>\n",
       "      <td>NaN</td>\n",
       "      <td>He came to a land which was engulfed in tribal...</td>\n",
       "      <td>0</td>\n",
       "    </tr>\n",
       "    <tr>\n",
       "      <th>3243</th>\n",
       "      <td>4659</td>\n",
       "      <td>engulfed</td>\n",
       "      <td>Kuwait</td>\n",
       "      <td>He came to a land which was engulfed in tribal...</td>\n",
       "      <td>1</td>\n",
       "    </tr>\n",
       "    <tr>\n",
       "      <th>3248</th>\n",
       "      <td>4669</td>\n",
       "      <td>engulfed</td>\n",
       "      <td>Bahrain</td>\n",
       "      <td>He came to a land which was engulfed in tribal...</td>\n",
       "      <td>1</td>\n",
       "    </tr>\n",
       "    <tr>\n",
       "      <th>3251</th>\n",
       "      <td>4672</td>\n",
       "      <td>engulfed</td>\n",
       "      <td>NaN</td>\n",
       "      <td>He came to a land which was engulfed in tribal...</td>\n",
       "      <td>0</td>\n",
       "    </tr>\n",
       "    <tr>\n",
       "      <th>3261</th>\n",
       "      <td>4684</td>\n",
       "      <td>engulfed</td>\n",
       "      <td>NaN</td>\n",
       "      <td>He came to a land which was engulfed in tribal...</td>\n",
       "      <td>0</td>\n",
       "    </tr>\n",
       "    <tr>\n",
       "      <th>3266</th>\n",
       "      <td>4691</td>\n",
       "      <td>engulfed</td>\n",
       "      <td>NaN</td>\n",
       "      <td>He came to a land which was engulfed in tribal...</td>\n",
       "      <td>0</td>\n",
       "    </tr>\n",
       "    <tr>\n",
       "      <th>3985</th>\n",
       "      <td>5662</td>\n",
       "      <td>floods</td>\n",
       "      <td>NaN</td>\n",
       "      <td>Who is bringing the tornadoes and floods. Who ...</td>\n",
       "      <td>1</td>\n",
       "    </tr>\n",
       "    <tr>\n",
       "      <th>4013</th>\n",
       "      <td>5699</td>\n",
       "      <td>floods</td>\n",
       "      <td>NaN</td>\n",
       "      <td>Who is bringing the tornadoes and floods. Who ...</td>\n",
       "      <td>0</td>\n",
       "    </tr>\n",
       "    <tr>\n",
       "      <th>4019</th>\n",
       "      <td>5710</td>\n",
       "      <td>floods</td>\n",
       "      <td>NaN</td>\n",
       "      <td>Who is bringing the tornadoes and floods. Who ...</td>\n",
       "      <td>0</td>\n",
       "    </tr>\n",
       "    <tr>\n",
       "      <th>4221</th>\n",
       "      <td>5996</td>\n",
       "      <td>hazardous</td>\n",
       "      <td>NaN</td>\n",
       "      <td>#foodscare #offers2go #NestleIndia slips into ...</td>\n",
       "      <td>1</td>\n",
       "    </tr>\n",
       "    <tr>\n",
       "      <th>4232</th>\n",
       "      <td>6012</td>\n",
       "      <td>hazardous</td>\n",
       "      <td>NaN</td>\n",
       "      <td>Caution: breathing may be hazardous to your he...</td>\n",
       "      <td>1</td>\n",
       "    </tr>\n",
       "    <tr>\n",
       "      <th>4235</th>\n",
       "      <td>6017</td>\n",
       "      <td>hazardous</td>\n",
       "      <td>NaN</td>\n",
       "      <td>Caution: breathing may be hazardous to your he...</td>\n",
       "      <td>0</td>\n",
       "    </tr>\n",
       "    <tr>\n",
       "      <th>4239</th>\n",
       "      <td>6023</td>\n",
       "      <td>hazardous</td>\n",
       "      <td>Mysore, Karnataka</td>\n",
       "      <td>#foodscare #offers2go #NestleIndia slips into ...</td>\n",
       "      <td>1</td>\n",
       "    </tr>\n",
       "    <tr>\n",
       "      <th>4244</th>\n",
       "      <td>6031</td>\n",
       "      <td>hazardous</td>\n",
       "      <td>New Delhi, Delhi</td>\n",
       "      <td>#foodscare #offers2go #NestleIndia slips into ...</td>\n",
       "      <td>0</td>\n",
       "    </tr>\n",
       "    <tr>\n",
       "      <th>4284</th>\n",
       "      <td>6087</td>\n",
       "      <td>hellfire</td>\n",
       "      <td>NaN</td>\n",
       "      <td>The Prophet (peace be upon him) said 'Save you...</td>\n",
       "      <td>0</td>\n",
       "    </tr>\n",
       "    <tr>\n",
       "      <th>4285</th>\n",
       "      <td>6088</td>\n",
       "      <td>hellfire</td>\n",
       "      <td>NaN</td>\n",
       "      <td>Hellfire is surrounded by desires so be carefu...</td>\n",
       "      <td>0</td>\n",
       "    </tr>\n",
       "    <tr>\n",
       "      <th>4286</th>\n",
       "      <td>6090</td>\n",
       "      <td>hellfire</td>\n",
       "      <td>Riyadh</td>\n",
       "      <td>The Prophet (peace be upon him) said 'Save you...</td>\n",
       "      <td>0</td>\n",
       "    </tr>\n",
       "    <tr>\n",
       "      <th>4290</th>\n",
       "      <td>6094</td>\n",
       "      <td>hellfire</td>\n",
       "      <td>Jubail IC, Saudi Arabia.</td>\n",
       "      <td>#Allah describes piling up #wealth thinking it...</td>\n",
       "      <td>0</td>\n",
       "    </tr>\n",
       "    <tr>\n",
       "      <th>4292</th>\n",
       "      <td>6097</td>\n",
       "      <td>hellfire</td>\n",
       "      <td>NaN</td>\n",
       "      <td>The Prophet (peace be upon him) said 'Save you...</td>\n",
       "      <td>1</td>\n",
       "    </tr>\n",
       "    <tr>\n",
       "      <th>4299</th>\n",
       "      <td>6105</td>\n",
       "      <td>hellfire</td>\n",
       "      <td>?????? ??? ?????? ????????</td>\n",
       "      <td>#Allah describes piling up #wealth thinking it...</td>\n",
       "      <td>0</td>\n",
       "    </tr>\n",
       "    <tr>\n",
       "      <th>4304</th>\n",
       "      <td>6111</td>\n",
       "      <td>hellfire</td>\n",
       "      <td>NaN</td>\n",
       "      <td>The Prophet (peace be upon him) said 'Save you...</td>\n",
       "      <td>0</td>\n",
       "    </tr>\n",
       "    <tr>\n",
       "      <th>4305</th>\n",
       "      <td>6112</td>\n",
       "      <td>hellfire</td>\n",
       "      <td>NaN</td>\n",
       "      <td>Hellfire is surrounded by desires so be carefu...</td>\n",
       "      <td>1</td>\n",
       "    </tr>\n",
       "    <tr>\n",
       "      <th>4306</th>\n",
       "      <td>6113</td>\n",
       "      <td>hellfire</td>\n",
       "      <td>NaN</td>\n",
       "      <td>Hellfire! We donÛªt even want to think about ...</td>\n",
       "      <td>0</td>\n",
       "    </tr>\n",
       "    <tr>\n",
       "      <th>4309</th>\n",
       "      <td>6118</td>\n",
       "      <td>hellfire</td>\n",
       "      <td>NaN</td>\n",
       "      <td>The Prophet (peace be upon him) said 'Save you...</td>\n",
       "      <td>0</td>\n",
       "    </tr>\n",
       "    <tr>\n",
       "      <th>4312</th>\n",
       "      <td>6123</td>\n",
       "      <td>hellfire</td>\n",
       "      <td>?????? ???? ??????</td>\n",
       "      <td>#Allah describes piling up #wealth thinking it...</td>\n",
       "      <td>1</td>\n",
       "    </tr>\n",
       "    <tr>\n",
       "      <th>4313</th>\n",
       "      <td>6125</td>\n",
       "      <td>hellfire</td>\n",
       "      <td>NaN</td>\n",
       "      <td>Hellfire is surrounded by desires so be carefu...</td>\n",
       "      <td>0</td>\n",
       "    </tr>\n",
       "    <tr>\n",
       "      <th>4318</th>\n",
       "      <td>6132</td>\n",
       "      <td>hellfire</td>\n",
       "      <td>NaN</td>\n",
       "      <td>The Prophet (peace be upon him) said 'Save you...</td>\n",
       "      <td>1</td>\n",
       "    </tr>\n",
       "    <tr>\n",
       "      <th>4320</th>\n",
       "      <td>6134</td>\n",
       "      <td>hellfire</td>\n",
       "      <td>Riyadh ')</td>\n",
       "      <td>Hellfire! We donÛªt even want to think about ...</td>\n",
       "      <td>1</td>\n",
       "    </tr>\n",
       "    <tr>\n",
       "      <th>4379</th>\n",
       "      <td>6220</td>\n",
       "      <td>hijacker</td>\n",
       "      <td>worldwide</td>\n",
       "      <td>RT NotExplained: The only known image of infam...</td>\n",
       "      <td>0</td>\n",
       "    </tr>\n",
       "    <tr>\n",
       "      <th>4381</th>\n",
       "      <td>6223</td>\n",
       "      <td>hijacker</td>\n",
       "      <td>worldwide</td>\n",
       "      <td>RT NotExplained: The only known image of infam...</td>\n",
       "      <td>1</td>\n",
       "    </tr>\n",
       "    <tr>\n",
       "      <th>4597</th>\n",
       "      <td>6537</td>\n",
       "      <td>injury</td>\n",
       "      <td>NaN</td>\n",
       "      <td>CLEARED:incident with injury:I-495  inner loop...</td>\n",
       "      <td>1</td>\n",
       "    </tr>\n",
       "    <tr>\n",
       "      <th>4605</th>\n",
       "      <td>6548</td>\n",
       "      <td>injury</td>\n",
       "      <td>NaN</td>\n",
       "      <td>CLEARED:incident with injury:I-495  inner loop...</td>\n",
       "      <td>1</td>\n",
       "    </tr>\n",
       "    <tr>\n",
       "      <th>4618</th>\n",
       "      <td>6566</td>\n",
       "      <td>injury</td>\n",
       "      <td>NaN</td>\n",
       "      <td>CLEARED:incident with injury:I-495  inner loop...</td>\n",
       "      <td>0</td>\n",
       "    </tr>\n",
       "    <tr>\n",
       "      <th>5620</th>\n",
       "      <td>8018</td>\n",
       "      <td>refugees</td>\n",
       "      <td>NaN</td>\n",
       "      <td>wowo--=== 12000 Nigerian refugees repatriated ...</td>\n",
       "      <td>1</td>\n",
       "    </tr>\n",
       "    <tr>\n",
       "      <th>5641</th>\n",
       "      <td>8044</td>\n",
       "      <td>refugees</td>\n",
       "      <td>NaN</td>\n",
       "      <td>wowo--=== 12000 Nigerian refugees repatriated ...</td>\n",
       "      <td>0</td>\n",
       "    </tr>\n",
       "    <tr>\n",
       "      <th>6091</th>\n",
       "      <td>8698</td>\n",
       "      <td>sinking</td>\n",
       "      <td>Every Where in the World</td>\n",
       "      <td>that horrible sinking feeling when youÛªve be...</td>\n",
       "      <td>1</td>\n",
       "    </tr>\n",
       "    <tr>\n",
       "      <th>6094</th>\n",
       "      <td>8702</td>\n",
       "      <td>sinking</td>\n",
       "      <td>NaN</td>\n",
       "      <td>that horrible sinking feeling when youÛªve be...</td>\n",
       "      <td>0</td>\n",
       "    </tr>\n",
       "    <tr>\n",
       "      <th>6103</th>\n",
       "      <td>8714</td>\n",
       "      <td>sinking</td>\n",
       "      <td>NaN</td>\n",
       "      <td>that horrible sinking feeling when youÛªve be...</td>\n",
       "      <td>0</td>\n",
       "    </tr>\n",
       "    <tr>\n",
       "      <th>6123</th>\n",
       "      <td>8739</td>\n",
       "      <td>sinking</td>\n",
       "      <td>MA</td>\n",
       "      <td>that horrible sinking feeling when youÛªve be...</td>\n",
       "      <td>1</td>\n",
       "    </tr>\n",
       "    <tr>\n",
       "      <th>6614</th>\n",
       "      <td>9470</td>\n",
       "      <td>terrorism</td>\n",
       "      <td>Jeddah_Saudi Arabia.</td>\n",
       "      <td>In #islam saving a person is equal in reward t...</td>\n",
       "      <td>0</td>\n",
       "    </tr>\n",
       "    <tr>\n",
       "      <th>6616</th>\n",
       "      <td>9472</td>\n",
       "      <td>terrorism</td>\n",
       "      <td>Riyadh</td>\n",
       "      <td>In #islam saving a person is equal in reward t...</td>\n",
       "      <td>1</td>\n",
       "    </tr>\n",
       "  </tbody>\n",
       "</table>\n",
       "</div>"
      ],
      "text/plain": [
       "        id              keyword                    location  \\\n",
       "610    881         bioterrorism                         NaN   \n",
       "624    898         bioterrorism                         NaN   \n",
       "630    907         bioterrorism                         NaN   \n",
       "634    916         bioterrorism                         NaN   \n",
       "1197  1723  buildings%20burning      Mackay, QLD, Australia   \n",
       "1214  1752  buildings%20burning              Epic City, BB.   \n",
       "1221  1760  buildings%20burning                      dallas   \n",
       "1331  1922  burning%20buildings      Mackay, QLD, Australia   \n",
       "1349  1950  burning%20buildings                      dallas   \n",
       "1365  1968  burning%20buildings              Epic City, BB.   \n",
       "2830  4068            displaced    Pedophile hunting ground   \n",
       "2831  4072            displaced    Pedophile hunting ground   \n",
       "2832  4076            displaced    Pedophile hunting ground   \n",
       "2833  4077            displaced    Pedophile hunting ground   \n",
       "3240  4656             engulfed                         NaN   \n",
       "3243  4659             engulfed                     Kuwait    \n",
       "3248  4669             engulfed                     Bahrain   \n",
       "3251  4672             engulfed                         NaN   \n",
       "3261  4684             engulfed                         NaN   \n",
       "3266  4691             engulfed                         NaN   \n",
       "3985  5662               floods                         NaN   \n",
       "4013  5699               floods                         NaN   \n",
       "4019  5710               floods                         NaN   \n",
       "4221  5996            hazardous                         NaN   \n",
       "4232  6012            hazardous                         NaN   \n",
       "4235  6017            hazardous                         NaN   \n",
       "4239  6023            hazardous           Mysore, Karnataka   \n",
       "4244  6031            hazardous            New Delhi, Delhi   \n",
       "4284  6087             hellfire                         NaN   \n",
       "4285  6088             hellfire                         NaN   \n",
       "4286  6090             hellfire                      Riyadh   \n",
       "4290  6094             hellfire    Jubail IC, Saudi Arabia.   \n",
       "4292  6097             hellfire                         NaN   \n",
       "4299  6105             hellfire  ?????? ??? ?????? ????????   \n",
       "4304  6111             hellfire                         NaN   \n",
       "4305  6112             hellfire                         NaN   \n",
       "4306  6113             hellfire                         NaN   \n",
       "4309  6118             hellfire                         NaN   \n",
       "4312  6123             hellfire          ?????? ???? ??????   \n",
       "4313  6125             hellfire                         NaN   \n",
       "4318  6132             hellfire                         NaN   \n",
       "4320  6134             hellfire                   Riyadh ')   \n",
       "4379  6220             hijacker                   worldwide   \n",
       "4381  6223             hijacker                   worldwide   \n",
       "4597  6537               injury                         NaN   \n",
       "4605  6548               injury                         NaN   \n",
       "4618  6566               injury                         NaN   \n",
       "5620  8018             refugees                         NaN   \n",
       "5641  8044             refugees                         NaN   \n",
       "6091  8698              sinking    Every Where in the World   \n",
       "6094  8702              sinking                         NaN   \n",
       "6103  8714              sinking                         NaN   \n",
       "6123  8739              sinking                          MA   \n",
       "6614  9470            terrorism        Jeddah_Saudi Arabia.   \n",
       "6616  9472            terrorism                      Riyadh   \n",
       "\n",
       "                                                   text  target  \n",
       "610                          To fight bioterrorism sir.       1  \n",
       "624                          To fight bioterrorism sir.       0  \n",
       "630                          To fight bioterrorism sir.       1  \n",
       "634                          To fight bioterrorism sir.       0  \n",
       "1197  Mmmmmm I'm burning.... I'm burning buildings I...       1  \n",
       "1214  I Pledge Allegiance To The P.O.P.E. And The Bu...       0  \n",
       "1221  like for the music video I want some real acti...       1  \n",
       "1331  Mmmmmm I'm burning.... I'm burning buildings I...       0  \n",
       "1349  like for the music video I want some real acti...       0  \n",
       "1365  I Pledge Allegiance To The P.O.P.E. And The Bu...       1  \n",
       "2830  .POTUS #StrategicPatience is a strategy for #G...       1  \n",
       "2831  .POTUS #StrategicPatience is a strategy for #G...       1  \n",
       "2832  .POTUS #StrategicPatience is a strategy for #G...       0  \n",
       "2833  .POTUS #StrategicPatience is a strategy for #G...       1  \n",
       "3240  He came to a land which was engulfed in tribal...       0  \n",
       "3243  He came to a land which was engulfed in tribal...       1  \n",
       "3248  He came to a land which was engulfed in tribal...       1  \n",
       "3251  He came to a land which was engulfed in tribal...       0  \n",
       "3261  He came to a land which was engulfed in tribal...       0  \n",
       "3266  He came to a land which was engulfed in tribal...       0  \n",
       "3985  Who is bringing the tornadoes and floods. Who ...       1  \n",
       "4013  Who is bringing the tornadoes and floods. Who ...       0  \n",
       "4019  Who is bringing the tornadoes and floods. Who ...       0  \n",
       "4221  #foodscare #offers2go #NestleIndia slips into ...       1  \n",
       "4232  Caution: breathing may be hazardous to your he...       1  \n",
       "4235  Caution: breathing may be hazardous to your he...       0  \n",
       "4239  #foodscare #offers2go #NestleIndia slips into ...       1  \n",
       "4244  #foodscare #offers2go #NestleIndia slips into ...       0  \n",
       "4284  The Prophet (peace be upon him) said 'Save you...       0  \n",
       "4285  Hellfire is surrounded by desires so be carefu...       0  \n",
       "4286  The Prophet (peace be upon him) said 'Save you...       0  \n",
       "4290  #Allah describes piling up #wealth thinking it...       0  \n",
       "4292  The Prophet (peace be upon him) said 'Save you...       1  \n",
       "4299  #Allah describes piling up #wealth thinking it...       0  \n",
       "4304  The Prophet (peace be upon him) said 'Save you...       0  \n",
       "4305  Hellfire is surrounded by desires so be carefu...       1  \n",
       "4306  Hellfire! We donÛªt even want to think about ...       0  \n",
       "4309  The Prophet (peace be upon him) said 'Save you...       0  \n",
       "4312  #Allah describes piling up #wealth thinking it...       1  \n",
       "4313  Hellfire is surrounded by desires so be carefu...       0  \n",
       "4318  The Prophet (peace be upon him) said 'Save you...       1  \n",
       "4320  Hellfire! We donÛªt even want to think about ...       1  \n",
       "4379  RT NotExplained: The only known image of infam...       0  \n",
       "4381  RT NotExplained: The only known image of infam...       1  \n",
       "4597  CLEARED:incident with injury:I-495  inner loop...       1  \n",
       "4605  CLEARED:incident with injury:I-495  inner loop...       1  \n",
       "4618  CLEARED:incident with injury:I-495  inner loop...       0  \n",
       "5620  wowo--=== 12000 Nigerian refugees repatriated ...       1  \n",
       "5641  wowo--=== 12000 Nigerian refugees repatriated ...       0  \n",
       "6091  that horrible sinking feeling when youÛªve be...       1  \n",
       "6094  that horrible sinking feeling when youÛªve be...       0  \n",
       "6103  that horrible sinking feeling when youÛªve be...       0  \n",
       "6123  that horrible sinking feeling when youÛªve be...       1  \n",
       "6614  In #islam saving a person is equal in reward t...       0  \n",
       "6616  In #islam saving a person is equal in reward t...       1  "
      ]
     },
     "execution_count": 4,
     "metadata": {},
     "output_type": "execute_result"
    }
   ],
   "source": [
    "# FIXING duplicates\n",
    "\n",
    "duplicates_df = train_df[train_df['text'].isin(mismatched_texts) == True]\n",
    "duplicates_df"
   ]
  },
  {
   "cell_type": "code",
   "execution_count": 5,
   "metadata": {
    "pycharm": {
     "name": "#%%\n"
    }
   },
   "outputs": [
    {
     "name": "stdout",
     "output_type": "stream",
     "text": [
      "7558\n"
     ]
    },
    {
     "data": {
      "text/html": [
       "<div>\n",
       "<style scoped>\n",
       "    .dataframe tbody tr th:only-of-type {\n",
       "        vertical-align: middle;\n",
       "    }\n",
       "\n",
       "    .dataframe tbody tr th {\n",
       "        vertical-align: top;\n",
       "    }\n",
       "\n",
       "    .dataframe thead th {\n",
       "        text-align: right;\n",
       "    }\n",
       "</style>\n",
       "<table border=\"1\" class=\"dataframe\">\n",
       "  <thead>\n",
       "    <tr style=\"text-align: right;\">\n",
       "      <th></th>\n",
       "      <th>id</th>\n",
       "      <th>keyword</th>\n",
       "      <th>location</th>\n",
       "      <th>text</th>\n",
       "      <th>target</th>\n",
       "      <th>target_relabeled</th>\n",
       "    </tr>\n",
       "  </thead>\n",
       "  <tbody>\n",
       "  </tbody>\n",
       "</table>\n",
       "</div>"
      ],
      "text/plain": [
       "Empty DataFrame\n",
       "Columns: [id, keyword, location, text, target, target_relabeled]\n",
       "Index: []"
      ]
     },
     "execution_count": 5,
     "metadata": {},
     "output_type": "execute_result"
    }
   ],
   "source": [
    "train_df.loc[train_df['text'] == 'To fight bioterrorism sir.', 'target_relabeled'] = 0\n",
    "train_df.loc[train_df['text'] == \"Mmmmmm I'm burning.... I'm burning buildings I'm building.... Oooooohhhh oooh ooh...\", 'target_relabeled'] = 0\n",
    "train_df.loc[train_df['text'] == 'I Pledge Allegiance To The P.O.P.E. And The Burning Buildings of Epic City. ??????', 'target_relabeled'] = 0\n",
    "train_df.loc[train_df['text'] == 'like for the music video I want some real action shit like burning buildings and police chases not some weak ben winston shit', 'target_relabeled'] = 0\n",
    "train_df.loc[train_df['text'] == '.POTUS #StrategicPatience is a strategy for #Genocide; refugees; IDP Internally displaced people; horror; etc. https://t.co/rqWuoy1fm4', 'target_relabeled'] = 1\n",
    "train_df.loc[train_df['text'] == 'He came to a land which was engulfed in tribal war and turned it into a land of peace i.e. Madinah. #ProphetMuhammad #islam', 'target_relabeled'] = 0\n",
    "train_df.loc[train_df['text'] == 'Who is bringing the tornadoes and floods. Who is bringing the climate change. God is after America He is plaguing her\\n \\n#FARRAKHAN #QUOTE', 'target_relabeled'] = 0\n",
    "train_df.loc[train_df['text'] == '#foodscare #offers2go #NestleIndia slips into loss after #Magginoodle #ban unsafe and hazardous for #humanconsumption', 'target_relabeled'] = 0\n",
    "train_df.loc[train_df['text'] == 'Caution: breathing may be hazardous to your health.', 'target_relabeled'] = 1\n",
    "train_df.loc[train_df['text'] == 'Hellfire is surrounded by desires so be careful and donÛªt let your desires control you! #Afterlife', 'target_relabeled'] = 0\n",
    "train_df.loc[train_df['text'] == \"The Prophet (peace be upon him) said 'Save yourself from Hellfire even if it is by giving half a date in charity.'\", 'target_relabeled'] = 0\n",
    "train_df.loc[train_df['text'] == '#Allah describes piling up #wealth thinking it would last #forever as the description of the people of #Hellfire in Surah Humaza. #Reflect', 'target_relabeled'] = 0\n",
    "train_df.loc[train_df['text'] == 'Hellfire! We donÛªt even want to think about it or mention it so letÛªs not do anything that leads to it #islam!', 'target_relabeled'] = 0\n",
    "train_df.loc[train_df['text'] == 'RT NotExplained: The only known image of infamous hijacker D.B. Cooper. http://t.co/JlzK2HdeTG', 'target_relabeled'] = 1\n",
    "train_df.loc[train_df['text'] == 'CLEARED:incident with injury:I-495  inner loop Exit 31 - MD 97/Georgia Ave Silver Spring', 'target_relabeled'] = 1\n",
    "train_df.loc[train_df['text'] == 'wowo--=== 12000 Nigerian refugees repatriated from Cameroon', 'target_relabeled'] = 0\n",
    "train_df.loc[train_df['text'] == 'that horrible sinking feeling when youÛªve been at home on your phone for a while and you realise its been on 3G this whole time', 'target_relabeled'] = 0\n",
    "train_df.loc[train_df['text'] == 'In #islam saving a person is equal in reward to saving all humans! Islam is the opposite of terrorism!', 'target_relabeled'] = 0\n",
    "\n",
    "train_df = train_df[train_df['text'].isin(mismatched_texts) == False]\n",
    "train_df.reset_index(drop=False)\n",
    "print(len(train_df))\n",
    "duplicates_df = train_df[train_df['text'].isin(mismatched_texts) == True]\n",
    "duplicates_df"
   ]
  },
  {
   "cell_type": "code",
   "execution_count": 6,
   "metadata": {
    "pycharm": {
     "name": "#%%\n"
    }
   },
   "outputs": [
    {
     "data": {
      "text/plain": [
       "False"
      ]
     },
     "execution_count": 6,
     "metadata": {},
     "output_type": "execute_result"
    }
   ],
   "source": [
    "train_df['text'].isnull().values.any()"
   ]
  },
  {
   "cell_type": "markdown",
   "metadata": {
    "pycharm": {
     "name": "#%% md\n"
    }
   },
   "source": [
    "## Data split"
   ]
  },
  {
   "cell_type": "code",
   "execution_count": 7,
   "metadata": {
    "pycharm": {
     "name": "#%%\n"
    }
   },
   "outputs": [
    {
     "data": {
      "text/plain": [
       "0    Our Deeds are the Reason of this #earthquake M...\n",
       "1               Forest fire near La Ronge Sask. Canada\n",
       "2    All residents asked to 'shelter in place' are ...\n",
       "Name: text, dtype: object"
      ]
     },
     "execution_count": 7,
     "metadata": {},
     "output_type": "execute_result"
    }
   ],
   "source": [
    "X_all = train_df['text']\n",
    "y_all = train_df['target']\n",
    "\n",
    "X_all[:3]"
   ]
  },
  {
   "cell_type": "code",
   "execution_count": 8,
   "metadata": {
    "pycharm": {
     "name": "#%%\n"
    }
   },
   "outputs": [
    {
     "data": {
      "text/plain": [
       "array(['Our Deeds are the Reason of this #earthquake May ALLAH Forgive us all',\n",
       "       'Forest fire near La Ronge Sask. Canada',\n",
       "       \"All residents asked to 'shelter in place' are being notified by officers. No other evacuation or shelter in place orders are expected\"],\n",
       "      dtype=object)"
      ]
     },
     "execution_count": 8,
     "metadata": {},
     "output_type": "execute_result"
    }
   ],
   "source": [
    "X = X_all.to_numpy()\n",
    "y = y_all.to_numpy()\n",
    "\n",
    "X[:3]"
   ]
  },
  {
   "cell_type": "code",
   "execution_count": 9,
   "metadata": {
    "pycharm": {
     "name": "#%%\n"
    }
   },
   "outputs": [
    {
     "data": {
      "text/plain": [
       "array(['@b24fowler I see that! Crazy how this line blew up.',\n",
       "       'Panic attacks are the worst ????',\n",
       "       \"Retweeted Sarah Silverman (@SarahKSilverman):\\n\\nSoundtrack of my walk starts w Tracey Ullman They Don't Know.  perfect\"],\n",
       "      dtype=object)"
      ]
     },
     "execution_count": 9,
     "metadata": {},
     "output_type": "execute_result"
    }
   ],
   "source": [
    "X_train, X_test, y_train, y_test = train_test_split(X, y, test_size=0.2, random_state=42)\n",
    "\n",
    "X_train[:3]"
   ]
  },
  {
   "cell_type": "code",
   "execution_count": 10,
   "metadata": {},
   "outputs": [
    {
     "data": {
      "text/plain": [
       "<TakeDataset shapes: ((), ()), types: (tf.string, tf.int64)>"
      ]
     },
     "execution_count": 10,
     "metadata": {},
     "output_type": "execute_result"
    }
   ],
   "source": [
    "train_dataset = tf.data.Dataset.from_tensor_slices((X_train, y_train))\n",
    "test_dataset = tf.data.Dataset.from_tensor_slices((X_test, y_test))\n",
    "\n",
    "train_dataset.take(1)"
   ]
  },
  {
   "cell_type": "markdown",
   "metadata": {
    "pycharm": {
     "name": "#%% md\n"
    }
   },
   "source": [
    "## Building model"
   ]
  },
  {
   "cell_type": "code",
   "execution_count": 11,
   "metadata": {},
   "outputs": [],
   "source": [
    "preproces_url = 'https://tfhub.dev/tensorflow/bert_en_uncased_preprocess/3'\n",
    "preprocessor = hub.KerasLayer(preproces_url, name='preprocessing')\n",
    "\n",
    "encoder_url = 'https://tfhub.dev/tensorflow/bert_en_uncased_L-12_H-768_A-12/4'\n",
    "encoder = hub.KerasLayer(encoder_url, trainable=True, name='BERT_encoder')"
   ]
  },
  {
   "cell_type": "code",
   "execution_count": 12,
   "metadata": {
    "pycharm": {
     "name": "#%%\n"
    },
    "scrolled": false
   },
   "outputs": [
    {
     "name": "stdout",
     "output_type": "stream",
     "text": [
      "Model: \"model\"\n",
      "__________________________________________________________________________________________________\n",
      "Layer (type)                    Output Shape         Param #     Connected to                     \n",
      "==================================================================================================\n",
      "text (InputLayer)               [(None,)]            0                                            \n",
      "__________________________________________________________________________________________________\n",
      "preprocessing (KerasLayer)      {'input_mask': (None 0           text[0][0]                       \n",
      "__________________________________________________________________________________________________\n",
      "BERT_encoder (KerasLayer)       {'default': (None, 7 109482241   preprocessing[0][0]              \n",
      "                                                                 preprocessing[0][1]              \n",
      "                                                                 preprocessing[0][2]              \n",
      "__________________________________________________________________________________________________\n",
      "dropout (Dropout)               (None, 768)          0           BERT_encoder[0][13]              \n",
      "__________________________________________________________________________________________________\n",
      "classifier (Dense)              (None, 1)            769         dropout[0][0]                    \n",
      "==================================================================================================\n",
      "Total params: 109,483,010\n",
      "Trainable params: 109,483,009\n",
      "Non-trainable params: 1\n",
      "__________________________________________________________________________________________________\n"
     ]
    }
   ],
   "source": [
    "def build_model(preprocessor, encoder):\n",
    "    text_input = tf.keras.layers.Input(shape=(), dtype=tf.string, name='text')    \n",
    "    encoder_inputs = preprocessor(text_input)    \n",
    "    outputs = encoder(encoder_inputs)\n",
    "    net = outputs['pooled_output']\n",
    "    net = tf.keras.layers.Dropout(0.1)(net)\n",
    "    net = tf.keras.layers.Dense(1, activation='sigmoid', name='classifier')(net)\n",
    "    return tf.keras.Model(text_input, net)\n",
    "\n",
    "model = build_model(preprocessor, encoder)\n",
    "model.summary()"
   ]
  },
  {
   "cell_type": "code",
   "execution_count": 13,
   "metadata": {},
   "outputs": [],
   "source": [
    "BATCH_SIZE = 32\n",
    "epochs = 7\n",
    "\n",
    "def prepare_training_data(train_dataset, test_dataset, epochs):\n",
    "    train_dataset_batched = train_dataset.shuffle(100).batch(BATCH_SIZE)\n",
    "    if test_dataset is not None:\n",
    "        test_dataset_batched = test_dataset.batch(BATCH_SIZE)\n",
    "    else:\n",
    "        test_dataset_batched = None\n",
    "\n",
    "    loss = tf.keras.losses.BinaryCrossentropy(from_logits=True)\n",
    "    metrics = tf.metrics.BinaryAccuracy()\n",
    "    \n",
    "    steps_per_epoch = tf.data.experimental.cardinality(train_dataset_batched).numpy()\n",
    "    num_train_steps = steps_per_epoch * epochs\n",
    "    num_warmup_steps = int(0.1*num_train_steps)\n",
    "\n",
    "    init_lr = 3e-5\n",
    "    optimizer = optimization.create_optimizer(init_lr=init_lr,\n",
    "                                              num_train_steps=num_train_steps,\n",
    "                                              num_warmup_steps=num_warmup_steps,\n",
    "                                              optimizer_type='adamw')\n",
    "    \n",
    "    return train_dataset_batched, test_dataset_batched, optimizer, loss, metrics\n",
    "\n",
    "\n",
    "train_dataset_batched, test_dataset_batched, optimizer, loss, metrics = prepare_training_data(train_dataset, test_dataset, epochs)"
   ]
  },
  {
   "cell_type": "code",
   "execution_count": 14,
   "metadata": {
    "pycharm": {
     "name": "#%%\n"
    },
    "scrolled": false
   },
   "outputs": [
    {
     "name": "stdout",
     "output_type": "stream",
     "text": [
      "Epoch 1/7\n"
     ]
    },
    {
     "name": "stderr",
     "output_type": "stream",
     "text": [
      "c:\\users\\mikol\\miniconda3\\envs\\kaggle02-bert\\lib\\site-packages\\tensorflow\\python\\keras\\backend.py:5016: UserWarning: \"`binary_crossentropy` received `from_logits=True`, but the `output` argument was produced by a sigmoid or softmax activation and thus does not represent logits. Was this intended?\"\n",
      "  warnings.warn(\n"
     ]
    },
    {
     "name": "stdout",
     "output_type": "stream",
     "text": [
      "189/189 [==============================] - 2087s 11s/step - loss: 0.5891 - binary_accuracy: 0.6707 - val_loss: 0.3785 - val_binary_accuracy: 0.8419\n",
      "Epoch 2/7\n",
      "189/189 [==============================] - 2044s 11s/step - loss: 0.3847 - binary_accuracy: 0.8433 - val_loss: 0.3958 - val_binary_accuracy: 0.8492\n",
      "Epoch 3/7\n",
      "189/189 [==============================] - 2037s 11s/step - loss: 0.2805 - binary_accuracy: 0.8966 - val_loss: 0.5113 - val_binary_accuracy: 0.8313\n",
      "Epoch 4/7\n",
      "189/189 [==============================] - 2039s 11s/step - loss: 0.2008 - binary_accuracy: 0.9313 - val_loss: 0.6189 - val_binary_accuracy: 0.8267\n",
      "Epoch 5/7\n",
      "189/189 [==============================] - 2044s 11s/step - loss: 0.1500 - binary_accuracy: 0.9495 - val_loss: 0.8239 - val_binary_accuracy: 0.8036\n",
      "Epoch 6/7\n",
      "189/189 [==============================] - 2035s 11s/step - loss: 0.1008 - binary_accuracy: 0.9669 - val_loss: 0.8138 - val_binary_accuracy: 0.8234\n",
      "Epoch 7/7\n",
      "189/189 [==============================] - 2031s 11s/step - loss: 0.0763 - binary_accuracy: 0.9748 - val_loss: 0.8811 - val_binary_accuracy: 0.8294\n"
     ]
    }
   ],
   "source": [
    "model.compile(optimizer=optimizer,\n",
    "              loss=loss,\n",
    "              metrics=metrics)\n",
    "\n",
    "history = model.fit(x=train_dataset_batched,\n",
    "                    validation_data=test_dataset_batched,\n",
    "                    epochs=epochs)"
   ]
  },
  {
   "cell_type": "code",
   "execution_count": 15,
   "metadata": {
    "pycharm": {
     "name": "#%%\n"
    }
   },
   "outputs": [
    {
     "name": "stdout",
     "output_type": "stream",
     "text": [
      "48/48 [==============================] - 150s 3s/step - loss: 0.8811 - binary_accuracy: 0.8294\n",
      "Loss:  0.8811023235321045\n",
      "Accuracy:  0.829365074634552\n"
     ]
    },
    {
     "data": {
      "image/png": "[encoded data removed]",
      "text/plain": [
       "<Figure size 432x288 with 1 Axes>"
      ]
     },
     "metadata": {
      "needs_background": "light"
     },
     "output_type": "display_data"
    },
    {
     "data": {
      "image/png": "[encoded data removed]",
      "text/plain": [
       "<Figure size 432x288 with 1 Axes>"
      ]
     },
     "metadata": {
      "needs_background": "light"
     },
     "output_type": "display_data"
    }
   ],
   "source": [
    "loss, accuracy = model.evaluate(X_test, y_test) # TODO replace\n",
    "print('Loss: ', loss)\n",
    "print('Accuracy: ', accuracy)\n",
    "\n",
    "history_dict = history.history\n",
    "\n",
    "acc = history_dict['binary_accuracy']\n",
    "val_acc = history_dict['val_binary_accuracy']\n",
    "loss = history_dict['loss']\n",
    "val_loss = history_dict['val_loss']\n",
    "\n",
    "epochs = range(1, len(acc) + 1)\n",
    "\n",
    "# \"bo\" is for \"blue dot\"\n",
    "plt.plot(epochs, loss, 'r', label='Training loss')\n",
    "# b is for \"solid blue line\"\n",
    "plt.plot(epochs, val_loss, 'b', label='Validation loss')\n",
    "plt.title('Training and validation loss')\n",
    "plt.xlabel('Epochs')\n",
    "plt.ylabel('Loss')\n",
    "plt.legend()\n",
    "\n",
    "plt.show()\n",
    "\n",
    "plt.clf()\n",
    "plt.plot(epochs, acc, 'r', label='Training acc')\n",
    "plt.plot(epochs, val_acc, 'b', label='Validation acc')\n",
    "plt.title('Training and validation accuracy')\n",
    "plt.xlabel('Epochs')\n",
    "plt.ylabel('Accuracy')\n",
    "plt.legend(loc='lower right')\n",
    "\n",
    "axes = plt.gca()\n",
    "axes.set_ylim([0.5, 1])\n",
    "\n",
    "max_val_acc = f'{np.max(history_dict[\"val_binary_accuracy\"]):.3f}'\n",
    "mean_val_acc = f'{np.mean(history_dict[\"val_binary_accuracy\"]):.3f}'\n",
    "\n",
    "# plt.savefig(f'lstm_max{max_val_acc}_mean{mean_val_acc}_embdim{embedding_dim}_lstm{lstm_layer_units}'\n",
    "#             f'_dense{hidden_layer_units}_drop{dropout_rate}_batch{batch_size}_{iter_count}.png')\n",
    "\n",
    "plt.show()"
   ]
  },
  {
   "cell_type": "code",
   "execution_count": 16,
   "metadata": {},
   "outputs": [
    {
     "data": {
      "text/plain": [
       "dict_keys(['loss', 'binary_accuracy', 'val_loss', 'val_binary_accuracy'])"
      ]
     },
     "execution_count": 16,
     "metadata": {},
     "output_type": "execute_result"
    }
   ],
   "source": [
    "history_dict.keys()"
   ]
  },
  {
   "cell_type": "code",
   "execution_count": 17,
   "metadata": {},
   "outputs": [],
   "source": [
    "def plot_confusion_matrix(cm, classes,\n",
    "                          normalize=True,\n",
    "                          title='Confusion matrix for test set',\n",
    "                          cmap=plt.cm.Blues):\n",
    "    \"\"\"\n",
    "    This function prints and plots the confusion matrix.\n",
    "    Normalization can be applied by setting `normalize=True`.print(classification_report(y_test, y_pred_test))\n",
    "    \"\"\"\n",
    "    print(cm)\n",
    "    if normalize:\n",
    "        cm = cm.astype('float') / cm.sum(axis=1)[:, np.newaxis]\n",
    "        print(\"Normalized confusion matrix\")\n",
    "    else:\n",
    "        print('Confusion matrix, without normalization')\n",
    "\n",
    "    plt.imshow(cm, interpolation='nearest', cmap=cmap)\n",
    "    plt.title(title)\n",
    "    plt.colorbar()\n",
    "    tick_marks = np.arange(len(classes))\n",
    "    plt.xticks(tick_marks, classes, rotation=45)\n",
    "    plt.yticks(tick_marks, classes)\n",
    "\n",
    "    fmt = '.2f' if normalize else 'd'\n",
    "    thresh = cm.max() / 2.\n",
    "    for i, j in itertools.product(range(cm.shape[0]), range(cm.shape[1])):\n",
    "        plt.text(j, i, format(cm[i, j], fmt),\n",
    "                 horizontalalignment=\"center\",\n",
    "                 color=\"white\" if cm[i, j] > thresh else \"black\")\n",
    "\n",
    "    plt.ylabel('True label')\n",
    "    plt.xlabel('Predicted label')\n",
    "    plt.tight_layout()\n"
   ]
  },
  {
   "cell_type": "code",
   "execution_count": 18,
   "metadata": {
    "pycharm": {
     "name": "#%%\n"
    }
   },
   "outputs": [
    {
     "name": "stdout",
     "output_type": "stream",
     "text": [
      "[[731 136]\n",
      " [122 523]]\n",
      "Normalized confusion matrix\n"
     ]
    },
    {
     "data": {
      "image/png": "[encoded data removed]",
      "text/plain": [
       "<Figure size 432x288 with 2 Axes>"
      ]
     },
     "metadata": {
      "needs_background": "light"
     },
     "output_type": "display_data"
    }
   ],
   "source": [
    "y_pred_test = np.array(model.predict(X_test) > 0.5).astype('int32')\n",
    "cm = confusion_matrix(y_test, y_pred_test)\n",
    "\n",
    "plot_confusion_matrix(cm, [0, 1])"
   ]
  },
  {
   "cell_type": "code",
   "execution_count": 19,
   "metadata": {
    "pycharm": {
     "name": "#%%\n"
    }
   },
   "outputs": [
    {
     "name": "stdout",
     "output_type": "stream",
     "text": [
      "              precision    recall  f1-score   support\n",
      "\n",
      "           0       0.86      0.84      0.85       867\n",
      "           1       0.79      0.81      0.80       645\n",
      "\n",
      "    accuracy                           0.83      1512\n",
      "   macro avg       0.83      0.83      0.83      1512\n",
      "weighted avg       0.83      0.83      0.83      1512\n",
      "\n"
     ]
    }
   ],
   "source": [
    "print(classification_report(y_test, y_pred_test))"
   ]
  },
  {
   "cell_type": "markdown",
   "metadata": {
    "pycharm": {
     "name": "#%% md\n"
    }
   },
   "source": [
    "## Final model training\n",
    "\n"
   ]
  },
  {
   "cell_type": "code",
   "execution_count": 20,
   "metadata": {},
   "outputs": [
    {
     "data": {
      "text/plain": [
       "<TakeDataset shapes: ((), ()), types: (tf.string, tf.int64)>"
      ]
     },
     "execution_count": 20,
     "metadata": {},
     "output_type": "execute_result"
    }
   ],
   "source": [
    "final_preprocessor = hub.KerasLayer(preproces_url, name='preprocessing')\n",
    "final_encoder = hub.KerasLayer(encoder_url, trainable=True, name='BERT_encoder')\n",
    "\n",
    "X_final = X_all.copy().to_numpy()\n",
    "y_final = y_all.copy().to_numpy()\n",
    "\n",
    "final_train_dataset = tf.data.Dataset.from_tensor_slices((X_final, y_final))\n",
    "\n",
    "train_dataset.take(1)"
   ]
  },
  {
   "cell_type": "code",
   "execution_count": 21,
   "metadata": {},
   "outputs": [
    {
     "name": "stdout",
     "output_type": "stream",
     "text": [
      "Epoch 1/3\n"
     ]
    },
    {
     "name": "stderr",
     "output_type": "stream",
     "text": [
      "c:\\users\\mikol\\miniconda3\\envs\\kaggle02-bert\\lib\\site-packages\\tensorflow\\python\\keras\\backend.py:5016: UserWarning: \"`binary_crossentropy` received `from_logits=True`, but the `output` argument was produced by a sigmoid or softmax activation and thus does not represent logits. Was this intended?\"\n",
      "  warnings.warn(\n"
     ]
    },
    {
     "name": "stdout",
     "output_type": "stream",
     "text": [
      "237/237 [==============================] - 2404s 10s/step - loss: 0.5937 - binary_accuracy: 0.6850\n",
      "Epoch 2/3\n",
      "237/237 [==============================] - 2361s 10s/step - loss: 0.3806 - binary_accuracy: 0.8508\n",
      "Epoch 3/3\n",
      "237/237 [==============================] - 2359s 10s/step - loss: 0.2775 - binary_accuracy: 0.8947\n"
     ]
    }
   ],
   "source": [
    "final_epochs = 3\n",
    "\n",
    "final_train_dataset_batched, final_test_dataset_batched_none, final_optimizer, final_loss, final_metrics = prepare_training_data(final_train_dataset, None, final_epochs)\n",
    "\n",
    "final_model = build_model(final_preprocessor, final_encoder)\n",
    "\n",
    "final_model.compile(optimizer=final_optimizer,\n",
    "              loss=final_loss,\n",
    "              metrics=final_metrics)\n",
    "\n",
    "final_history = final_model.fit(x=final_train_dataset_batched, epochs=final_epochs)"
   ]
  },
  {
   "cell_type": "code",
   "execution_count": 22,
   "metadata": {},
   "outputs": [
    {
     "name": "stdout",
     "output_type": "stream",
     "text": [
      "237/237 [==============================] - 751s 3s/step - loss: 0.2016 - binary_accuracy: 0.9321\n",
      "TRAIN LOSS: 0.20160238444805145 / TEST ACCURACY: 0.9321249127388\n",
      "[[4164  149]\n",
      " [ 364 2881]]\n",
      "Normalized confusion matrix\n"
     ]
    },
    {
     "data": {
      "image/png": "[encoded data removed]",
      "text/plain": [
       "<Figure size 432x288 with 2 Axes>"
      ]
     },
     "metadata": {
      "needs_background": "light"
     },
     "output_type": "display_data"
    }
   ],
   "source": [
    "loss_final, accuracy_final = final_model.evaluate(X_final, y_final)\n",
    "print(f'TRAIN LOSS: {loss_final} / TEST ACCURACY: {accuracy_final}')\n",
    "y_pred_final = np.array(final_model.predict(X_final) > 0.5).astype('int32')\n",
    "cm = confusion_matrix(y_final, y_pred_final)\n",
    "plot_confusion_matrix(cm, [0, 1])"
   ]
  },
  {
   "cell_type": "code",
   "execution_count": 23,
   "metadata": {},
   "outputs": [
    {
     "name": "stdout",
     "output_type": "stream",
     "text": [
      "              precision    recall  f1-score   support\n",
      "\n",
      "           0       0.92      0.97      0.94      4313\n",
      "           1       0.95      0.89      0.92      3245\n",
      "\n",
      "    accuracy                           0.93      7558\n",
      "   macro avg       0.94      0.93      0.93      7558\n",
      "weighted avg       0.93      0.93      0.93      7558\n",
      "\n"
     ]
    }
   ],
   "source": [
    "print(classification_report(y_final, y_pred_final))"
   ]
  },
  {
   "cell_type": "code",
   "execution_count": 24,
   "metadata": {},
   "outputs": [
    {
     "data": {
      "text/plain": [
       "array(['Just happened a terrible car crash',\n",
       "       'Heard about #earthquake is different cities, stay safe everyone.',\n",
       "       'there is a forest fire at spot pond, geese are fleeing across the street, I cannot save them all',\n",
       "       ..., 'Green Line derailment in Chicago http://t.co/UtbXLcBIuY',\n",
       "       'MEG issues Hazardous Weather Outlook (HWO) http://t.co/3X6RBQJHn3',\n",
       "       '#CityofCalgary has activated its Municipal Emergency Plan. #yycstorm'],\n",
       "      dtype=object)"
      ]
     },
     "execution_count": 24,
     "metadata": {},
     "output_type": "execute_result"
    }
   ],
   "source": [
    "X_out = test_df['text'].to_numpy()\n",
    "X_out"
   ]
  },
  {
   "cell_type": "code",
   "execution_count": 25,
   "metadata": {},
   "outputs": [
    {
     "data": {
      "text/plain": [
       "array([[1],\n",
       "       [1],\n",
       "       [1],\n",
       "       ...,\n",
       "       [1],\n",
       "       [1],\n",
       "       [1]])"
      ]
     },
     "execution_count": 25,
     "metadata": {},
     "output_type": "execute_result"
    }
   ],
   "source": [
    "y_out_pred = np.array(final_model.predict(X_out) > 0.5).astype('int32')\n",
    "y_out_pred"
   ]
  },
  {
   "cell_type": "code",
   "execution_count": 26,
   "metadata": {},
   "outputs": [],
   "source": [
    "file = pd.DataFrame({\n",
    "    'id': test_df['id'],\n",
    "    'target': [v[0] for v in y_out_pred]\n",
    "})\n",
    "\n",
    "file.to_csv('disaster-tweets-bert.csv', index=False)"
   ]
  }
 ],
 "metadata": {
  "celltoolbar": "Tags",
  "kernelspec": {
   "display_name": "Python 3",
   "language": "python",
   "name": "python3"
  },
  "language_info": {
   "codemirror_mode": {
    "name": "ipython",
    "version": 3
   },
   "file_extension": ".py",
   "mimetype": "text/x-python",
   "name": "python",
   "nbconvert_exporter": "python",
   "pygments_lexer": "ipython3",
   "version": "3.8.8"
  }
 },
 "nbformat": 4,
 "nbformat_minor": 1
}
